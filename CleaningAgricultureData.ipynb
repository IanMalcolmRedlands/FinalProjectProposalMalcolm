{
 "cells": [
  {
   "cell_type": "code",
   "execution_count": 1,
   "id": "504aeca8-e398-4b32-834b-1cc9e97cf9d6",
   "metadata": {},
   "outputs": [],
   "source": [
    "from bs4 import BeautifulSoup\n",
    "import pandas as pd\n",
    "import os\n",
    "import re\n",
    "\n",
    "from itables import show\n",
    "\n",
    "agdir = 'CaUsda'"
   ]
  },
  {
   "cell_type": "markdown",
   "id": "2198d06b-3ef4-4737-8467-a6ce6a18b2f1",
   "metadata": {},
   "source": [
    "## Download and Save Data"
   ]
  },
  {
   "cell_type": "code",
   "execution_count": 3,
   "id": "cd6d4d5b-7d7d-47f7-865d-e814e2d28002",
   "metadata": {
    "scrolled": true
   },
   "outputs": [
    {
     "data": {
      "text/plain": [
       "{'2020': 'https://www.nass.usda.gov/Statistics_by_State/California/Publications/AgComm/2020/main_data_table.csv',\n",
       " '2019': 'https://www.nass.usda.gov/Statistics_by_State/California/Publications/AgComm/2019/201908cropyear.csv',\n",
       " '2018': 'https://www.nass.usda.gov/Statistics_by_State/California/Publications/AgComm/2018/2018cactbsErrata.csv',\n",
       " '2017': 'https://www.nass.usda.gov/Statistics_by_State/California/Publications/AgComm/2017/201708cactb00.csv',\n",
       " '2016': 'https://www.nass.usda.gov/Statistics_by_State/California/Publications/AgComm/2016/2016cropyear.csv',\n",
       " '2015': 'https://www.nass.usda.gov/Statistics_by_State/California/Publications/AgComm/2015/2015cropyear.csv',\n",
       " '2014': 'https://www.nass.usda.gov/Statistics_by_State/California/Publications/AgComm/2014/2014cropyear.csv',\n",
       " '2013': 'https://www.nass.usda.gov/Statistics_by_State/California/Publications/AgComm/2013/2013cropyear.csv',\n",
       " '2012': 'https://www.nass.usda.gov/Statistics_by_State/California/Publications/AgComm/2012/201212cactb00.csv',\n",
       " '2011': 'https://www.nass.usda.gov/Statistics_by_State/California/Publications/AgComm/2011/201112cactb00.csv',\n",
       " '2010': 'https://www.nass.usda.gov/Statistics_by_State/California/Publications/AgComm/2010/201010cactb00.csv',\n",
       " '2009': 'https://www.nass.usda.gov/Statistics_by_State/California/Publications/AgComm/2009/200910cactb00.csv',\n",
       " '2008': 'https://www.nass.usda.gov/Statistics_by_State/California/Publications/AgComm/2008/200810cactb00.csv',\n",
       " '2007': 'https://www.nass.usda.gov/Statistics_by_State/California/Publications/AgComm/2007/200708cactb00.csv',\n",
       " '2006': 'https://www.nass.usda.gov/Statistics_by_State/California/Publications/AgComm/2006/200608cactb00.csv',\n",
       " '2005': 'https://www.nass.usda.gov/Statistics_by_State/California/Publications/AgComm/2005/200508cactb00.csv',\n",
       " '2004': 'https://www.nass.usda.gov/Statistics_by_State/California/Publications/AgComm/2004/200410cactb00.csv',\n",
       " '2003': 'https://www.nass.usda.gov/Statistics_by_State/California/Publications/AgComm/2003/200308cactb00.csv',\n",
       " '2002': 'https://www.nass.usda.gov/Statistics_by_State/California/Publications/AgComm/2002/200208cactb00.csv',\n",
       " '2001': 'https://www.nass.usda.gov/Statistics_by_State/California/Publications/AgComm/2001/200108cactb00.csv',\n",
       " '2000': 'https://www.nass.usda.gov/Statistics_by_State/California/Publications/AgComm/2000/200008cactb00.csv',\n",
       " '1999': 'https://www.nass.usda.gov/Statistics_by_State/California/Publications/AgComm/1990s/199908cactb00.csv',\n",
       " '1998': 'https://www.nass.usda.gov/Statistics_by_State/California/Publications/AgComm/1990s/199808cactb00.csv',\n",
       " '1997': 'https://www.nass.usda.gov/Statistics_by_State/California/Publications/AgComm/1990s/199708cactb00.csv',\n",
       " '1996': 'https://www.nass.usda.gov/Statistics_by_State/California/Publications/AgComm/1990s/199608cactb00.csv',\n",
       " '1995': 'https://www.nass.usda.gov/Statistics_by_State/California/Publications/AgComm/1990s/199508cactb00.csv',\n",
       " '1994': 'https://www.nass.usda.gov/Statistics_by_State/California/Publications/AgComm/1990s/199408cactb00.csv',\n",
       " '1993': 'https://www.nass.usda.gov/Statistics_by_State/California/Publications/AgComm/1990s/199308cactb00.csv',\n",
       " '1992': 'https://www.nass.usda.gov/Statistics_by_State/California/Publications/AgComm/1990s/199208cactb00.csv',\n",
       " '1991': 'https://www.nass.usda.gov/Statistics_by_State/California/Publications/AgComm/1990s/199108cactb00.csv',\n",
       " '1990': 'https://www.nass.usda.gov/Statistics_by_State/California/Publications/AgComm/1990s/199008cactb00.csv',\n",
       " '1989': 'https://www.nass.usda.gov/Statistics_by_State/California/Publications/AgComm/1980s/198908cactb00.csv',\n",
       " '1988': 'https://www.nass.usda.gov/Statistics_by_State/California/Publications/AgComm/1980s/198808cactb00.csv',\n",
       " '1987': 'https://www.nass.usda.gov/Statistics_by_State/California/Publications/AgComm/1980s/198708cactb00.csv',\n",
       " '1986': 'https://www.nass.usda.gov/Statistics_by_State/California/Publications/AgComm/1980s/198608cactb00.csv',\n",
       " '1985': 'https://www.nass.usda.gov/Statistics_by_State/California/Publications/AgComm/1980s/198508cactb00.csv',\n",
       " '1984': 'https://www.nass.usda.gov/Statistics_by_State/California/Publications/AgComm/1980s/198408cactb00.csv',\n",
       " '1983': 'https://www.nass.usda.gov/Statistics_by_State/California/Publications/AgComm/1980s/198308cactb00.csv',\n",
       " '1982': 'https://www.nass.usda.gov/Statistics_by_State/California/Publications/AgComm/1980s/198208cactb00.csv',\n",
       " '1981': 'https://www.nass.usda.gov/Statistics_by_State/California/Publications/AgComm/1980s/198108cactb00.csv',\n",
       " '1980': 'https://www.nass.usda.gov/Statistics_by_State/California/Publications/AgComm/1980s/198008cactb00.csv'}"
      ]
     },
     "execution_count": 3,
     "metadata": {},
     "output_type": "execute_result"
    }
   ],
   "source": [
    "with open(os.path.join(agdir, 'downloads_page.html'), 'r') as f:\n",
    "    soup = BeautifulSoup(f)\n",
    "\n",
    "atags = soup.find_all('a', attrs={'aria-label':re.compile('.*agricultural production in CSV')})\n",
    "\n",
    "links = {}\n",
    "for atag in atags:\n",
    "    links[atag['aria-label'][0:4]] = atag['href']\n",
    "\n",
    "links"
   ]
  },
  {
   "cell_type": "code",
   "execution_count": 4,
   "id": "b5f75153-8bd4-4575-b1eb-e20b50986527",
   "metadata": {
    "scrolled": true
   },
   "outputs": [],
   "source": [
    "tabledir = os.path.join(agdir, 'CaAgCommStats')\n",
    "if not os.path.exists(tabledir):\n",
    "    os.mkdir(tabledir)\n",
    "\n",
    "\n",
    "tables = {}\n",
    "for year, link in links.items():\n",
    "    table = pd.read_csv(link)\n",
    "    fpath = os.path.join(tabledir, year+'_raw.csv')\n",
    "    table.to_csv(fpath, index=False)"
   ]
  },
  {
   "cell_type": "markdown",
   "id": "7f5b8690-d6f7-42b7-918f-8834b1c065a9",
   "metadata": {},
   "source": [
    "## Clean Data"
   ]
  },
  {
   "cell_type": "code",
   "execution_count": 6,
   "id": "2b33d15a-6027-4e5b-b384-a1488819adf9",
   "metadata": {
    "scrolled": true
   },
   "outputs": [
    {
     "data": {
      "text/html": [
       "<table id=\"itables_c87b0318_be01_4f4b_b37e_3e230564ec61\" class=\"display nowrap\" data-quarto-disable-processing=\"true\" style=\"table-layout:auto;width:auto;margin:auto;caption-side:bottom\">\n",
       "<thead>\n",
       "    <tr style=\"text-align: right;\">\n",
       "      \n",
       "      <th>year</th>\n",
       "      <th>commodity</th>\n",
       "      <th>cropname</th>\n",
       "      <th>countycode</th>\n",
       "      <th>county</th>\n",
       "      <th>acres</th>\n",
       "      <th>yield</th>\n",
       "      <th>production</th>\n",
       "      <th>price_per</th>\n",
       "      <th>unit</th>\n",
       "      <th>value</th>\n",
       "    </tr>\n",
       "  </thead><tbody><tr>\n",
       "<td style=\"vertical-align:middle; text-align:left\">\n",
       "<div style=\"float:left; margin-right: 10px;\">\n",
       "<a href=https://mwouts.github.io/itables/><svg class=\"main-svg\" xmlns=\"http://www.w3.org/2000/svg\" xmlns:xlink=\"http://www.w3.org/1999/xlink\"\n",
       "width=\"64\" viewBox=\"0 0 500 400\" style=\"font-family: 'Droid Sans', sans-serif;\">\n",
       "    <g style=\"fill:#d9d7fc\">\n",
       "        <path d=\"M100,400H500V357H100Z\" />\n",
       "        <path d=\"M100,300H400V257H100Z\" />\n",
       "        <path d=\"M0,200H400V157H0Z\" />\n",
       "        <path d=\"M100,100H500V57H100Z\" />\n",
       "        <path d=\"M100,350H500V307H100Z\" />\n",
       "        <path d=\"M100,250H400V207H100Z\" />\n",
       "        <path d=\"M0,150H400V107H0Z\" />\n",
       "        <path d=\"M100,50H500V7H100Z\" />\n",
       "    </g>\n",
       "    <g style=\"fill:#1a1366;stroke:#1a1366;\">\n",
       "   <rect x=\"100\" y=\"7\" width=\"400\" height=\"43\">\n",
       "    <animate\n",
       "      attributeName=\"width\"\n",
       "      values=\"0;400;0\"\n",
       "      dur=\"5s\"\n",
       "      repeatCount=\"indefinite\" />\n",
       "      <animate\n",
       "      attributeName=\"x\"\n",
       "      values=\"100;100;500\"\n",
       "      dur=\"5s\"\n",
       "      repeatCount=\"indefinite\" />\n",
       "  </rect>\n",
       "        <rect x=\"0\" y=\"107\" width=\"400\" height=\"43\">\n",
       "    <animate\n",
       "      attributeName=\"width\"\n",
       "      values=\"0;400;0\"\n",
       "      dur=\"3.5s\"\n",
       "      repeatCount=\"indefinite\" />\n",
       "    <animate\n",
       "      attributeName=\"x\"\n",
       "      values=\"0;0;400\"\n",
       "      dur=\"3.5s\"\n",
       "      repeatCount=\"indefinite\" />\n",
       "  </rect>\n",
       "        <rect x=\"100\" y=\"207\" width=\"300\" height=\"43\">\n",
       "    <animate\n",
       "      attributeName=\"width\"\n",
       "      values=\"0;300;0\"\n",
       "      dur=\"3s\"\n",
       "      repeatCount=\"indefinite\" />\n",
       "    <animate\n",
       "      attributeName=\"x\"\n",
       "      values=\"100;100;400\"\n",
       "      dur=\"3s\"\n",
       "      repeatCount=\"indefinite\" />\n",
       "  </rect>\n",
       "        <rect x=\"100\" y=\"307\" width=\"400\" height=\"43\">\n",
       "    <animate\n",
       "      attributeName=\"width\"\n",
       "      values=\"0;400;0\"\n",
       "      dur=\"4s\"\n",
       "      repeatCount=\"indefinite\" />\n",
       "      <animate\n",
       "      attributeName=\"x\"\n",
       "      values=\"100;100;500\"\n",
       "      dur=\"4s\"\n",
       "      repeatCount=\"indefinite\" />\n",
       "  </rect>\n",
       "        <g style=\"fill:transparent;stroke-width:8; stroke-linejoin:round\" rx=\"5\">\n",
       "            <g transform=\"translate(45 50) rotate(-45)\">\n",
       "                <circle r=\"33\" cx=\"0\" cy=\"0\" />\n",
       "                <rect x=\"-8\" y=\"32\" width=\"16\" height=\"30\" />\n",
       "            </g>\n",
       "\n",
       "            <g transform=\"translate(450 152)\">\n",
       "                <polyline points=\"-15,-20 -35,-20 -35,40 25,40 25,20\" />\n",
       "                <rect x=\"-15\" y=\"-40\" width=\"60\" height=\"60\" />\n",
       "            </g>\n",
       "\n",
       "            <g transform=\"translate(50 352)\">\n",
       "                <polygon points=\"-35,-5 0,-40 35,-5\" />\n",
       "                <polygon points=\"-35,10 0,45 35,10\" />\n",
       "            </g>\n",
       "\n",
       "            <g transform=\"translate(75 250)\">\n",
       "                <polyline points=\"-30,30 -60,0 -30,-30\" />\n",
       "                <polyline points=\"0,30 -30,0 0,-30\" />\n",
       "            </g>\n",
       "\n",
       "            <g transform=\"translate(425 250) rotate(180)\">\n",
       "                <polyline points=\"-30,30 -60,0 -30,-30\" />\n",
       "                <polyline points=\"0,30 -30,0 0,-30\" />\n",
       "            </g>\n",
       "        </g>\n",
       "    </g>\n",
       "</svg>\n",
       "</a>\n",
       "</div>\n",
       "<div>\n",
       "Loading ITables v2.1.4 from the internet...\n",
       "(need <a href=https://mwouts.github.io/itables/troubleshooting.html>help</a>?)</td>\n",
       "</div>\n",
       "</tr></tbody>\n",
       "\n",
       "</table>\n",
       "<link href=\"https://www.unpkg.com/dt_for_itables@2.0.11/dt_bundle.css\" rel=\"stylesheet\">\n",
       "<script type=\"module\">\n",
       "    import {DataTable, jQuery as $} from 'https://www.unpkg.com/dt_for_itables@2.0.11/dt_bundle.js';\n",
       "\n",
       "    document.querySelectorAll(\"#itables_c87b0318_be01_4f4b_b37e_3e230564ec61:not(.dataTable)\").forEach(table => {\n",
       "        // Define the table data\n",
       "        const data = [[2002, 268099, \"ALMOND HULLS \", 7, \"Butte \", \"  \", \"  \", \"39350\", \"70\", \"TON \", 2755000], [2002, 268099, \"ALMOND HULLS \", 11, \"Colusa \", \"  \", \"  \", \"16190\", \"60\", \"TON \", 971000], [2002, 268099, \"ALMOND HULLS \", 19, \"Fresno \", \"  \", \"  \", \"168000\", \"85\", \"TON \", 14280000], [2002, 268099, \"ALMOND HULLS \", 21, \"Glenn \", \"  \", \"  \", \"  \", \"  \", \"  \", 1761000], [2002, 268099, \"ALMOND HULLS \", 29, \"Kern \", \"  \", \"  \", \"230000\", \"66\", \"TON \", 15136000], [2002, 268099, \"ALMOND HULLS \", 31, \"Kings \", \"  \", \"  \", \"5542\", \"79\", \"TON \", 438000], [2002, 268099, \"ALMOND HULLS \", 39, \"Madera \", \"  \", \"  \", \"104530\", \"77\", \"TON \", 8049000], [2002, 268099, \"ALMOND HULLS \", 47, \"Merced \", \"  \", \"  \", \"149669\", \"76\", \"TON \", 11333000], [2002, 268099, \"ALMOND HULLS \", 77, \"San Joaquin \", \"  \", \"  \", \"102100\", \"70\", \"TON \", 7146000], [2002, 268099, \"ALMOND HULLS \", 95, \"Solano \", \"  \", \"  \", \"992\", \"40\", \"TON \", 39700], [2002, 268099, \"ALMOND HULLS \", 99, \"Stanislaus \", \"  \", \"  \", \"99100\", \"70\", \"TON \", 6937000], [2002, 268099, \"ALMOND HULLS \", 101, \"Sutter \", \"  \", \"  \", \"709\", \"60\", \"TON \", 42500], [2002, 268099, \"ALMOND HULLS \", 107, \"Tulare \", \"  \", \"  \", \"39600\", \"85\", \"TON \", 3366000], [2002, 268099, \"ALMOND HULLS \", 115, \"Yuba \", \"  \", \"  \", \"794\", \"50\", \"TON \", 40000], [2002, 268099, \"ALMOND HULLS \", 999, \" State Totals\", \"0\", \"  \", \"956576\", \"74\", \"    \", 72294200], [2002, 261999, \"ALMONDS ALL \", 7, \"Butte \", \"36605\", \"0.86\", \"31480\", \"2089\", \"TON \", 65762000], [2002, 261999, \"ALMONDS ALL \", 11, \"Colusa \", \"21950\", \"0.59\", \"12951\", \"2100\", \"TON \", 27197000], [2002, 261999, \"ALMONDS ALL \", 19, \"Fresno \", \"63450\", \"1.24\", \"78700\", \"2300\", \"TON \", 181010000], [2002, 261999, \"ALMONDS ALL \", 21, \"Glenn \", \"27380\", \"0.75\", \"20450\", \"2285\", \"TON \", 46728000], [2002, 261999, \"ALMONDS ALL \", 29, \"Kern \", \"94067\", \"1.15\", \"108000\", \"2082\", \"TON \", 224862000], [2002, 261999, \"ALMONDS ALL \", 31, \"Kings \", \"7676\", \"0.83\", \"6344\", \"2002\", \"TON \", 12698000], [2002, 261999, \"ALMONDS ALL \", 39, \"Madera \", \"52900\", \"1.04\", \"55016\", \"2093\", \"TON \", 115148000], [2002, 261999, \"ALMONDS ALL \", 47, \"Merced \", \"83535\", \"0.95\", \"79189\", \"2240\", \"TON \", 177383000], [2002, 261999, \"ALMONDS ALL \", 77, \"San Joaquin \", \"43900\", \"0.93\", \"40800\", \"2202\", \"TON \", 89840000], [2002, 261999, \"ALMONDS ALL \", 95, \"Solano \", \"1714\", \"0.46\", \"794\", \"1936\", \"TON \", 1537400], [2002, 261999, \"ALMONDS ALL \", 99, \"Stanislaus \", \"90100\", \"1.14\", \"102700\", \"2100\", \"TON \", 215670000], [2002, 261999, \"ALMONDS ALL \", 101, \"Sutter \", \"4575\", \"0.62\", \"2837\", \"1880\", \"TON \", 5332700], [2002, 261999, \"ALMONDS ALL \", 103, \"Tehama \", \"7205\", \"0.65\", \"4683\", \"2020\", \"TON \", 9459700], [2002, 261999, \"ALMONDS ALL \", 107, \"Tulare \", \"15595\", \"1.03\", \"16100\", \"2020\", \"TON \", 32522000], [2002, 261999, \"ALMONDS ALL \", 113, \"Yolo \", \"5854\", \"0.56\", \"3278\", \"2042\", \"TON \", 6694000], [2002, 261999, \"ALMONDS ALL \", 115, \"Yuba \", \"1024\", \"0.62\", \"635\", \"1550\", \"TON \", 984000], [2002, 261999, \"ALMONDS ALL \", 999, \" State Totals\", \"557530\", \"1.01\", \"563957\", \"2151\", \"    \", 1212827800], [2002, 333999, \"ANISE (FENNEL) \", 53, \"Monterey \", \"595\", \"12.27\", \"7300\", \"451\", \"TON \", 3290000], [2002, 333999, \"ANISE (FENNEL) \", 999, \" State Totals\", \"595\", \"12.27\", \"7300\", \"451\", \"    \", 3290000], [2002, 484999, \"APIARY PRODUCTS BEES NUCLEI \", 89, \"Shasta \", \"  \", \"  \", \"7275\", \"33\", \"EACH \", 240100], [2002, 484999, \"APIARY PRODUCTS BEES NUCLEI \", 999, \" State Totals\", \"0\", \"  \", \"7275\", \"33\", \"    \", 240100], [2002, 483999, \"APIARY PRODUCTS BEES PCKG. \", 11, \"Colusa \", \"  \", \"  \", \"6000\", \"6.50\", \"LBS \", 39000], [2002, 483999, \"APIARY PRODUCTS BEES PCKG. \", 21, \"Glenn \", \"  \", \"  \", \"116000\", \"5.72\", \"LBS \", 663000], [2002, 483999, \"APIARY PRODUCTS BEES PCKG. \", 47, \"Merced \", \"  \", \"  \", \"88300\", \"6.53\", \"LBS \", 577000], [2002, 483999, \"APIARY PRODUCTS BEES PCKG. \", 89, \"Shasta \", \"  \", \"  \", \"19500\", \"6.64\", \"LBS \", 129500], [2002, 483999, \"APIARY PRODUCTS BEES PCKG. \", 95, \"Solano \", \"  \", \"  \", \"  \", \"  \", \"  \", 83700], [2002, 483999, \"APIARY PRODUCTS BEES PCKG. \", 99, \"Stanislaus \", \"  \", \"  \", \"1900\", \"5.16\", \"LBS \", 9800], [2002, 483999, \"APIARY PRODUCTS BEES PCKG. \", 101, \"Sutter \", \"  \", \"  \", \"7227\", \"8.00\", \"LBS \", 57800], [2002, 483999, \"APIARY PRODUCTS BEES PCKG. \", 999, \" State Totals\", \"0\", \"  \", \"238927\", \"6.18\", \"    \", 1559800], [2002, 485999, \"APIARY PRODUCTS BEES QUEEN \", 11, \"Colusa \", \"  \", \"  \", \"24000\", \"8.00\", \"EACH \", 192000], [2002, 485999, \"APIARY PRODUCTS BEES QUEEN \", 21, \"Glenn \", \"  \", \"  \", \"104000\", \"7.88\", \"EACH \", 819000], [2002, 485999, \"APIARY PRODUCTS BEES QUEEN \", 47, \"Merced \", \"  \", \"  \", \"39250\", \"6.52\", \"EACH \", 256000], [2002, 485999, \"APIARY PRODUCTS BEES QUEEN \", 65, \"Riverside \", \"  \", \"  \", \"1200\", \"1.50\", \"EACH \", 1800], [2002, 485999, \"APIARY PRODUCTS BEES QUEEN \", 89, \"Shasta \", \"  \", \"  \", \"124400\", \"7.85\", \"EACH \", 976600], [2002, 485999, \"APIARY PRODUCTS BEES QUEEN \", 95, \"Solano \", \"  \", \"  \", \"16000\", \"8.00\", \"EACH \", 128000], [2002, 485999, \"APIARY PRODUCTS BEES QUEEN \", 99, \"Stanislaus \", \"  \", \"  \", \"3850\", \"6.26\", \"EACH \", 24100], [2002, 485999, \"APIARY PRODUCTS BEES QUEEN \", 101, \"Sutter \", \"  \", \"  \", \"45100\", \"8.80\", \"EACH \", 396900], [2002, 485999, \"APIARY PRODUCTS BEES QUEEN \", 999, \" State Totals\", \"0\", \"  \", \"357800\", \"7.81\", \"    \", 2794400], [2002, 489999, \"APIARY PRODUCTS BEES UNSPEC \", 7, \"Butte \", \"  \", \"  \", \"  \", \"  \", \"  \", 540000], [2002, 489999, \"APIARY PRODUCTS BEES UNSPEC \", 9, \"Calaveras \", \"  \", \"  \", \"  \", \"  \", \"  \", 257000], [2002, 489999, \"APIARY PRODUCTS BEES UNSPEC \", 17, \"El Dorado \", \"  \", \"  \", \"NaN\", \"NaN\", \"NaN\", 180000], [2002, 489999, \"APIARY PRODUCTS BEES UNSPEC \", 29, \"Kern \", \"  \", \"  \", \"NaN\", \"NaN\", \"NaN\", 210000], [2002, 489999, \"APIARY PRODUCTS BEES UNSPEC \", 37, \"Los Angeles \", \"  \", \"  \", \"NaN\", \"NaN\", \"NaN\", 2000], [2002, 489999, \"APIARY PRODUCTS BEES UNSPEC \", 43, \"Mariposa \", \"  \", \"  \", \"NaN\", \"NaN\", \"NaN\", 42000], [2002, 489999, \"APIARY PRODUCTS BEES UNSPEC \", 59, \"Orange \", \"  \", \"  \", \"NaN\", \"NaN\", \"NaN\", 15200], [2002, 489999, \"APIARY PRODUCTS BEES UNSPEC \", 61, \"Placer \", \"  \", \"  \", \"NaN\", \"NaN\", \"NaN\", 150000], [2002, 489999, \"APIARY PRODUCTS BEES UNSPEC \", 67, \"Sacramento \", \"  \", \"  \", \"NaN\", \"NaN\", \"NaN\", 55000], [2002, 489999, \"APIARY PRODUCTS BEES UNSPEC \", 73, \"San Diego \", \"  \", \"  \", \"NaN\", \"NaN\", \"NaN\", 169000], [2002, 489999, \"APIARY PRODUCTS BEES UNSPEC \", 97, \"Sonoma \", \"  \", \"  \", \"NaN\", \"NaN\", \"NaN\", 104700], [2002, 489999, \"APIARY PRODUCTS BEES UNSPEC \", 103, \"Tehama \", \"  \", \"  \", \"NaN\", \"NaN\", \"NaN\", 2325200], [2002, 489999, \"APIARY PRODUCTS BEES UNSPEC \", 109, \"Tuolumne \", \"  \", \"  \", \"NaN\", \"NaN\", \"NaN\", 350900], [2002, 489999, \"APIARY PRODUCTS BEES UNSPEC \", 113, \"Yolo \", \"  \", \"  \", \"NaN\", \"NaN\", \"NaN\", 1128000], [2002, 489999, \"APIARY PRODUCTS BEES UNSPEC \", 115, \"Yuba \", \"  \", \"  \", \"NaN\", \"NaN\", \"NaN\", 47000], [2002, 489999, \"APIARY PRODUCTS BEES UNSPEC \", 999, \" State Totals\", \"0\", \"  \", \"0\", \"NaN\", \"NaN\", 5576000], [2002, 482999, \"APIARY PRODUCTS BEESWAX \", 1, \"Alameda \", \"  \", \"  \", \"500\", \"1.80\", \"LBS \", 900], [2002, 482999, \"APIARY PRODUCTS BEESWAX \", 13, \"Contra Costa \", \"  \", \"  \", \"200\", \"3.50\", \"LBS \", 700], [2002, 482999, \"APIARY PRODUCTS BEESWAX \", 19, \"Fresno \", \"  \", \"  \", \"53400\", \"1.15\", \"LBS \", 61400], [2002, 482999, \"APIARY PRODUCTS BEESWAX \", 21, \"Glenn \", \"  \", \"  \", \"7000\", \"1.14\", \"LBS \", 8000], [2002, 482999, \"APIARY PRODUCTS BEESWAX \", 25, \"Imperial \", \"  \", \"  \", \"58019\", \"1.05\", \"LBS \", 61000], [2002, 482999, \"APIARY PRODUCTS BEESWAX \", 29, \"Kern \", \"  \", \"  \", \"423000\", \"1.32\", \"LBS \", 558000], [2002, 482999, \"APIARY PRODUCTS BEESWAX \", 31, \"Kings \", \"  \", \"  \", \"20432\", \"1.03\", \"LBS \", 21000], [2002, 482999, \"APIARY PRODUCTS BEESWAX \", 37, \"Los Angeles \", \"  \", \"  \", \"22500\", \"3.64\", \"LBS \", 82000], [2002, 482999, \"APIARY PRODUCTS BEESWAX \", 39, \"Madera \", \"  \", \"  \", \"11900\", \"1.01\", \"LBS \", 12000], [2002, 482999, \"APIARY PRODUCTS BEESWAX \", 47, \"Merced \", \"  \", \"  \", \"46792\", \"1.20\", \"LBS \", 56000], [2002, 482999, \"APIARY PRODUCTS BEESWAX \", 53, \"Monterey \", \"  \", \"  \", \"1290\", \"2.25\", \"LBS \", 2900], [2002, 482999, \"APIARY PRODUCTS BEESWAX \", 65, \"Riverside \", \"  \", \"  \", \"47000\", \"1.00\", \"LBS \", 47000], [2002, 482999, \"APIARY PRODUCTS BEESWAX \", 71, \"San Bernardino \", \"  \", \"  \", \"1660\", \"0.48\", \"LBS \", 800], [2002, 482999, \"APIARY PRODUCTS BEESWAX \", 73, \"San Diego \", \"  \", \"  \", \"  \", \"  \", \"  \", 39600], [2002, 482999, \"APIARY PRODUCTS BEESWAX \", 77, \"San Joaquin \", \"  \", \"  \", \"1953\", \"1.33\", \"LBS \", 2600], [2002, 482999, \"APIARY PRODUCTS BEESWAX \", 81, \"San Mateo \", \"  \", \"  \", \"700\", \"2.86\", \"LBS \", 2000], [2002, 482999, \"APIARY PRODUCTS BEESWAX \", 89, \"Shasta \", \"  \", \"  \", \"11200\", \"1.58\", \"LBS \", 17700], [2002, 482999, \"APIARY PRODUCTS BEESWAX \", 99, \"Stanislaus \", \"  \", \"  \", \"5150\", \"1.03\", \"LBS \", 5300], [2002, 482999, \"APIARY PRODUCTS BEESWAX \", 101, \"Sutter \", \"  \", \"  \", \"4601\", \"1.00\", \"LBS \", 4600], [2002, 482999, \"APIARY PRODUCTS BEESWAX \", 107, \"Tulare \", \"  \", \"  \", \"150000\", \"1.16\", \"LBS \", 174000], [2002, 482999, \"APIARY PRODUCTS BEESWAX \", 111, \"Ventura \", \"  \", \"  \", \"10843\", \"1.57\", \"LBS \", 17000], [2002, 482999, \"APIARY PRODUCTS BEESWAX \", 999, \" State Totals\", \"0\", \"  \", \"878140\", \"1.29\", \"    \", 1174500], [2002, 481999, \"APIARY PRODUCTS HONEY \", 1, \"Alameda \", \"  \", \"  \", \"30000\", \"1.40\", \"LBS \", 42000], [2002, 481999, \"APIARY PRODUCTS HONEY \", 11, \"Colusa \", \"  \", \"  \", \"11000\", \"1.27\", \"LBS \", 14000], [2002, 481999, \"APIARY PRODUCTS HONEY \", 13, \"Contra Costa \", \"  \", \"  \", \"37000\", \"3.54\", \"LBS \", 131000], [2002, 481999, \"APIARY PRODUCTS HONEY \", 19, \"Fresno \", \"  \", \"  \", \"2282000\", \"1.26\", \"LBS \", 2875000], [2002, 481999, \"APIARY PRODUCTS HONEY \", 21, \"Glenn \", \"  \", \"  \", \"329000\", \"1.47\", \"LBS \", 484000], [2002, 481999, \"APIARY PRODUCTS HONEY \", 25, \"Imperial \", \"  \", \"  \", \"2289544\", \"1.34\", \"LBS \", 3068000], [2002, 481999, \"APIARY PRODUCTS HONEY \", 27, \"Inyo \", \"  \", \"  \", \"250000\", \"0.96\", \"LBS \", 240000], [2002, 481999, \"APIARY PRODUCTS HONEY \", 29, \"Kern \", \"  \", \"  \", \"3384000\", \"1.29\", \"LBS \", 4365000], [2002, 481999, \"APIARY PRODUCTS HONEY \", 31, \"Kings \", \"  \", \"  \", \"1225928\", \"1.20\", \"LBS \", 1471000], [2002, 481999, \"APIARY PRODUCTS HONEY \", 37, \"Los Angeles \", \"  \", \"  \", \"291000\", \"1.73\", \"LBS \", 503000], [2002, 481999, \"APIARY PRODUCTS HONEY \", 39, \"Madera \", \"  \", \"  \", \"815000\", \"1.24\", \"LBS \", 1011000], [2002, 481999, \"APIARY PRODUCTS HONEY \", 43, \"Mariposa \", \"  \", \"  \", \"126000\", \"1.32\", \"LBS \", 166000], [2002, 481999, \"APIARY PRODUCTS HONEY \", 47, \"Merced \", \"  \", \"  \", \"3041500\", \"1.25\", \"LBS \", 3802000], [2002, 481999, \"APIARY PRODUCTS HONEY \", 53, \"Monterey \", \"  \", \"  \", \"25000\", \"0.75\", \"LBS \", 18800], [2002, 481999, \"APIARY PRODUCTS HONEY \", 59, \"Orange \", \"  \", \"  \", \"114107\", \"1.23\", \"LBS \", 140300], [2002, 481999, \"APIARY PRODUCTS HONEY \", 65, \"Riverside \", \"  \", \"  \", \"1900000\", \"1.05\", \"LBS \", 1995000], [2002, 481999, \"APIARY PRODUCTS HONEY \", 71, \"San Bernardino \", \"  \", \"  \", \"101000\", \"0.82\", \"LBS \", 83000], [2002, 481999, \"APIARY PRODUCTS HONEY \", 73, \"San Diego \", \"  \", \"  \", \"  \", \"  \", \"  \", 2012100], [2002, 481999, \"APIARY PRODUCTS HONEY \", 77, \"San Joaquin \", \"  \", \"  \", \"326000\", \"1.25\", \"LBS \", 407500], [2002, 481999, \"APIARY PRODUCTS HONEY \", 81, \"San Mateo \", \"  \", \"  \", \"50000\", \"1.60\", \"LBS \", 80000], [2002, 481999, \"APIARY PRODUCTS HONEY \", 89, \"Shasta \", \"  \", \"  \", \"406500\", \"1.29\", \"LBS \", 524400], [2002, 481999, \"APIARY PRODUCTS HONEY \", 95, \"Solano \", \"  \", \"  \", \"70000\", \"1.25\", \"LBS \", 87500], [2002, 481999, \"APIARY PRODUCTS HONEY \", 99, \"Stanislaus \", \"  \", \"  \", \"251000\", \"1.30\", \"LBS \", 326000], [2002, 481999, \"APIARY PRODUCTS HONEY \", 101, \"Sutter \", \"  \", \"  \", \"314893\", \"1.29\", \"LBS \", 406200], [2002, 481999, \"APIARY PRODUCTS HONEY \", 107, \"Tulare \", \"  \", \"  \", \"17237000\", \"1.31\", \"LBS \", 22577000], [2002, 481999, \"APIARY PRODUCTS HONEY \", 111, \"Ventura \", \"  \", \"  \", \"476661\", \"1.31\", \"LBS \", 625000], [2002, 481999, \"APIARY PRODUCTS HONEY \", 999, \" State Totals\", \"0\", \"  \", \"35384133\", \"1.28\", \"    \", 47454800], [2002, 486999, \"APIARY PRODUCTS POLLIN. FEES \", 1, \"Alameda \", \"  \", \"  \", \"1400\", \"40\", \"COL \", 56000], [2002, 486999, \"APIARY PRODUCTS POLLIN. FEES \", 7, \"Butte \", \"  \", \"  \", \"40000\", \"43\", \"COL \", 1720000], [2002, 486999, \"APIARY PRODUCTS POLLIN. FEES \", 11, \"Colusa \", \"  \", \"  \", \"43000\", \"37\", \"COL \", 1591000], [2002, 486999, \"APIARY PRODUCTS POLLIN. FEES \", 13, \"Contra Costa \", \"  \", \"  \", \"600\", \"45\", \"COL \", 27000], [2002, 486999, \"APIARY PRODUCTS POLLIN. FEES \", 19, \"Fresno \", \"  \", \"  \", \"201600\", \"41\", \"COL \", 8243000], [2002, 486999, \"APIARY PRODUCTS POLLIN. FEES \", 21, \"Glenn \", \"  \", \"  \", \"  \", \"  \", \"  \", 1990000], [2002, 486999, \"APIARY PRODUCTS POLLIN. FEES \", 25, \"Imperial \", \"  \", \"  \", \"45563\", \"27\", \"COL \", 1215000], [2002, 486999, \"APIARY PRODUCTS POLLIN. FEES \", 29, \"Kern \", \"  \", \"  \", \"210000\", \"45\", \"COL \", 9350000], [2002, 486999, \"APIARY PRODUCTS POLLIN. FEES \", 31, \"Kings \", \"  \", \"  \", \"24506\", \"42\", \"COL \", 1039000], [2002, 486999, \"APIARY PRODUCTS POLLIN. FEES \", 39, \"Madera \", \"  \", \"  \", \"146000\", \"46\", \"COL \", 6701000], [2002, 486999, \"APIARY PRODUCTS POLLIN. FEES \", 47, \"Merced \", \"  \", \"  \", \"175770\", \"46\", \"COL \", 8005000], [2002, 486999, \"APIARY PRODUCTS POLLIN. FEES \", 53, \"Monterey \", \"NaN\", \"  \", \"  \", \"  \", \"COL \", 15200], [2002, 486999, \"APIARY PRODUCTS POLLIN. FEES \", 65, \"Riverside \", \"  \", \"  \", \"20000\", \"38\", \"COL \", 760000], [2002, 486999, \"APIARY PRODUCTS POLLIN. FEES \", 71, \"San Bernardino \", \"  \", \"  \", \"19000\", \"45\", \"COL \", 855000], [2002, 486999, \"APIARY PRODUCTS POLLIN. FEES \", 73, \"San Diego \", \"  \", \"  \", \"  \", \"  \", \"  \", 726500], [2002, 486999, \"APIARY PRODUCTS POLLIN. FEES \", 77, \"San Joaquin \", \"  \", \"  \", \"186250\", \"45\", \"COL \", 8381300], [2002, 486999, \"APIARY PRODUCTS POLLIN. FEES \", 89, \"Shasta \", \"  \", \"  \", \"24600\", \"45\", \"COL \", 1113200], [2002, 486999, \"APIARY PRODUCTS POLLIN. FEES \", 95, \"Solano \", \"  \", \"  \", \"6610\", \"26\", \"COL \", 169800], [2002, 486999, \"APIARY PRODUCTS POLLIN. FEES \", 99, \"Stanislaus \", \"  \", \"  \", \"144000\", \"48\", \"COL \", 6958000], [2002, 486999, \"APIARY PRODUCTS POLLIN. FEES \", 101, \"Sutter \", \"  \", \"  \", \"51609\", \"16\", \"COL \", 833500], [2002, 486999, \"APIARY PRODUCTS POLLIN. FEES \", 103, \"Tehama \", \"  \", \"  \", \"14410\", \"48\", \"COL \", 684500], [2002, 486999, \"APIARY PRODUCTS POLLIN. FEES \", 107, \"Tulare \", \"  \", \"  \", \"145000\", \"41\", \"COL \", 5960000], [2002, 486999, \"APIARY PRODUCTS POLLIN. FEES \", 111, \"Ventura \", \"  \", \"  \", \"  \", \"  \", \"  \", 221000], [2002, 486999, \"APIARY PRODUCTS POLLIN. FEES \", 115, \"Yuba \", \"  \", \"  \", \"5000\", \"34\", \"COL \", 170000], [2002, 486999, \"APIARY PRODUCTS POLLIN. FEES \", 999, \" State Totals\", \"0\", \"  \", \"1504918\", \"42\", \"    \", 66785000], [2002, 211999, \"APPLES ALL \", 7, \"Butte \", \"222\", \"8.00\", \"1776\", \"550\", \"TON \", 977000], [2002, 211999, \"APPLES ALL \", 9, \"Calaveras \", \"140\", \"4.29\", \"600\", \"350\", \"TON \", 210000], [2002, 211999, \"APPLES ALL \", 13, \"Contra Costa \", \"582\", \"9.24\", \"5380\", \"444\", \"TON \", 2390000], [2002, 211999, \"APPLES ALL \", 17, \"El Dorado \", \"835\", \"14.10\", \"11774\", \"565\", \"TON \", 6657900], [2002, 211999, \"APPLES ALL \", 19, \"Fresno \", \"2259\", \"11.72\", \"26470\", \"493\", \"TON \", 13051000], [2002, 211999, \"APPLES ALL \", 29, \"Kern \", \"3107\", \"17.03\", \"52900\", \"518\", \"TON \", 27411000], [2002, 211999, \"APPLES ALL \", 31, \"Kings \", \"255\", \"12.03\", \"3067\", \"353\", \"TON \", 1084000], [2002, 211999, \"APPLES ALL \", 37, \"Los Angeles \", \"71\", \"3.94\", \"280\", \"2000\", \"TON \", 560000], [2002, 211999, \"APPLES ALL \", 39, \"Madera \", \"1670\", \"8.90\", \"14863\", \"236\", \"TON \", 3508000], [2002, 211999, \"APPLES ALL \", 43, \"Mariposa \", \"200\", \"2.02\", \"404\", \"344\", \"TON \", 139000], [2002, 211999, \"APPLES ALL \", 45, \"Mendocino \", \"200\", \"11.96\", \"2391\", \"348\", \"TON \", 832600], [2002, 211999, \"APPLES ALL \", 53, \"Monterey \", \"91\", \"16.48\", \"1500\", \"233\", \"TON \", 349000], [2002, 211999, \"APPLES ALL \", 61, \"Placer \", \"63\", \"5.00\", \"315\", \"391\", \"TON \", 123200], [2002, 211999, \"APPLES ALL \", 65, \"Riverside \", \"67\", \"1.70\", \"114\", \"573\", \"TON \", 65300], [2002, 211999, \"APPLES ALL \", 67, \"Sacramento \", \"298\", \"8.20\", \"2444\", \"255\", \"TON \", 623000], [2002, 211999, \"APPLES ALL \", 69, \"San Benito \", \"490\", \"16.22\", \"7948\", \"230\", \"TON \", 1828000], [2002, 211999, \"APPLES ALL \", 71, \"San Bernardino \", \"320\", \"5.09\", \"1628\", \"1374\", \"TON \", 2236700], [2002, 211999, \"APPLES ALL \", 73, \"San Diego \", \"436\", \"2.10\", \"916\", \"395\", \"TON \", 361700], [2002, 211999, \"APPLES ALL \", 77, \"San Joaquin \", \"5832\", \"9.26\", \"54002\", \"624\", \"TON \", 33715000], [2002, 211999, \"APPLES ALL \", 79, \"San Luis Obispo \", \"1270\", \"6.50\", \"8255\", \"364\", \"TON \", 3005000], [2002, 211999, \"APPLES ALL \", 85, \"Santa Clara \", \"34\", \"8.71\", \"296\", \"193\", \"TON \", 57000], [2002, 211999, \"APPLES ALL \", 87, \"Santa Cruz \", \"2756\", \"14.90\", \"41064\", \"223\", \"TON \", 9157000], [2002, 211999, \"APPLES ALL \", 97, \"Sonoma \", \"2956\", \"9.07\", \"26804\", \"171\", \"TON \", 4585700], [2002, 211999, \"APPLES ALL \", 99, \"Stanislaus \", \"1760\", \"11.80\", \"20770\", \"405\", \"TON \", 8412000], [2002, 211999, \"APPLES ALL \", 101, \"Sutter \", \"319\", \"2.37\", \"756\", \"255\", \"TON \", 192800], [2002, 211999, \"APPLES ALL \", 107, \"Tulare \", \"613\", \"8.52\", \"5220\", \"687\", \"TON \", 3586000], [2002, 211999, \"APPLES ALL \", 999, \" State Totals\", \"26846\", \"10.87\", \"291937\", \"429\", \"    \", 125117900], [2002, 217999, \"APRICOTS ALL \", 13, \"Contra Costa \", \"559\", \"4.92\", \"2750\", \"424\", \"TON \", 1166000], [2002, 217999, \"APRICOTS ALL \", 19, \"Fresno \", \"1349\", \"6.43\", \"8670\", \"896\", \"TON \", 7768000], [2002, 217999, \"APRICOTS ALL \", 29, \"Kern \", \"526\", \"3.99\", \"2100\", \"1478\", \"TON \", 3104000], [2002, 217999, \"APRICOTS ALL \", 31, \"Kings \", \"304\", \"5.22\", \"1587\", \"1091\", \"TON \", 1731000], [2002, 217999, \"APRICOTS ALL \", 47, \"Merced \", \"1740\", \"6.47\", \"11259\", \"306\", \"TON \", 3440000], [2002, 217999, \"APRICOTS ALL \", 69, \"San Benito \", \"1345\", \"3.48\", \"4681\", \"338\", \"TON \", 1582000], [2002, 217999, \"APRICOTS ALL \", 77, \"San Joaquin \", \"2300\", \"8.78\", \"20200\", \"291\", \"TON \", 5870000], [2002, 217999, \"APRICOTS ALL \", 85, \"Santa Clara \", \"402\", \"3.30\", \"1327\", \"323\", \"TON \", 428000], [2002, 217999, \"APRICOTS ALL \", 95, \"Solano \", \"200\", \"0.26\", \"51\", \"1490\", \"TON \", 76000], [2002, 217999, \"APRICOTS ALL \", 99, \"Stanislaus \", \"6400\", \"8.80\", \"56320\", \"405\", \"TON \", 22810000], [2002, 217999, \"APRICOTS ALL \", 107, \"Tulare \", \"600\", \"6.97\", \"4180\", \"689\", \"TON \", 2880000], [2002, 217999, \"APRICOTS ALL \", 999, \" State Totals\", \"15725\", \"7.19\", \"113125\", \"450\", \"    \", 50855000], [2002, 301999, \"ARTICHOKES \", 53, \"Monterey \", \"5735\", \"6.10\", \"35000\", \"1093\", \"TON \", 38265000], [2002, 301999, \"ARTICHOKES \", 59, \"Orange \", \"15\", \"2.47\", \"37\", \"605\", \"TON \", 22400], [2002, 301999, \"ARTICHOKES \", 65, \"Riverside \", \"798\", \"6.83\", \"5451\", \"839\", \"TON \", 4574200], [2002, 301999, \"ARTICHOKES \", 81, \"San Mateo \", \"136\", \"3.56\", \"484\", \"1019\", \"TON \", 493000], [2002, 301999, \"ARTICHOKES \", 999, \" State Totals\", \"6684\", \"6.13\", \"40972\", \"1058\", \"    \", 43354600], [2002, 302199, \"ASPARAGUS FRESH MARKET \", 19, \"Fresno \", \"2200\", \"3.45\", \"7590\", \"1575\", \"TON \", 11954000], [2002, 302199, \"ASPARAGUS FRESH MARKET \", 53, \"Monterey \", \"4854\", \"2.89\", \"14030\", \"1565\", \"TON \", 21956000], [2002, 302199, \"ASPARAGUS FRESH MARKET \", 999, \" State Totals\", \"7054\", \"3.06\", \"21620\", \"1568\", \"    \", 33910000], [2002, 302999, \"ASPARAGUS UNSPECIFIED \", 25, \"Imperial \", \"3429\", \"2.09\", \"7150\", \"2068\", \"TON \", 14785000], [2002, 302999, \"ASPARAGUS UNSPECIFIED \", 77, \"San Joaquin \", \"19000\", \"1.27\", \"24100\", \"1502\", \"TON \", 36195000], [2002, 302999, \"ASPARAGUS UNSPECIFIED \", 999, \" State Totals\", \"22429\", \"1.39\", \"31250\", \"1631\", \"    \", 50980000], [2002, 221999, \"AVOCADOS ALL \", 37, \"Los Angeles \", \"46\", \"3.17\", \"146\", \"849\", \"TON \", 124000], [2002, 221999, \"AVOCADOS ALL \", 53, \"Monterey \", \"135\", \"1.51\", \"204\", \"2397\", \"TON \", 489000], [2002, 221999, \"AVOCADOS ALL \", 59, \"Orange \", \"1746\", \"2.20\", \"3848\", \"2121\", \"TON \", 8161600], [2002, 221999, \"AVOCADOS ALL \", 65, \"Riverside \", \"7199\", \"2.60\", \"18717\", \"1946\", \"TON \", 36426900], [2002, 221999, \"AVOCADOS ALL \", 71, \"San Bernardino \", \"223\", \"4.44\", \"990\", \"2688\", \"TON \", 2661000], [2002, 221999, \"AVOCADOS ALL \", 73, \"San Diego \", \"25729\", \"2.94\", \"75515\", \"2017\", \"TON \", 152277100], [2002, 221999, \"AVOCADOS ALL \", 79, \"San Luis Obispo \", \"1527\", \"3.27\", \"4992\", \"1936\", \"TON \", 9665000], [2002, 221999, \"AVOCADOS ALL \", 83, \"Santa Barbara \", \"8620\", \"2.80\", \"24136\", \"1862\", \"TON \", 44932300], [2002, 221999, \"AVOCADOS ALL \", 107, \"Tulare \", \"367\", \"3.08\", \"1130\", \"1780\", \"TON \", 2011000], [2002, 221999, \"AVOCADOS ALL \", 111, \"Ventura \", \"18588\", \"3.28\", \"60894\", \"1631\", \"TON \", 99341000], [2002, 221999, \"AVOCADOS ALL \", 999, \" State Totals\", \"64180\", \"2.97\", \"190572\", \"1869\", \"    \", 356088900], [2002, 113995, \"BARLEY FEED \", 11, \"Colusa \", \"150\", \"1.00\", \"150\", \"73\", \"TON \", 11000], [2002, 113995, \"BARLEY FEED \", 19, \"Fresno \", \"8600\", \"2.66\", \"22900\", \"96\", \"TON \", 2198000], [2002, 113995, \"BARLEY FEED \", 29, \"Kern \", \"9100\", \"1.80\", \"16400\", \"115\", \"TON \", 1889000], [2002, 113995, \"BARLEY FEED \", 35, \"Lassen \", \"40\", \"1.50\", \"60\", \"113\", \"TON \", 6800], [2002, 113995, \"BARLEY FEED \", 47, \"Merced \", \"2666\", \"2.97\", \"7908\", \"98\", \"TON \", 772000], [2002, 113995, \"BARLEY FEED \", 53, \"Monterey \", \"995\", \"0.76\", \"757\", \"111\", \"TON \", 84000], [2002, 113995, \"BARLEY FEED \", 65, \"Riverside \", \"216\", \"2.45\", \"529\", \"103\", \"TON \", 54700], [2002, 113995, \"BARLEY FEED \", 69, \"San Benito \", \"900\", \"0.96\", \"864\", \"90\", \"TON \", 78000], [2002, 113995, \"BARLEY FEED \", 73, \"San Diego \", \"80\", \"0.85\", \"68\", \"106\", \"TON \", 7200], [2002, 113995, \"BARLEY FEED \", 79, \"San Luis Obispo \", \"15600\", \"1.10\", \"17160\", \"97\", \"TON \", 1665000], [2002, 113995, \"BARLEY FEED \", 93, \"Siskiyou \", \"7050\", \"2.00\", \"14100\", \"92\", \"TON \", 1297200], [2002, 113995, \"BARLEY FEED \", 95, \"Solano \", \"7588\", \"1.50\", \"11355\", \"96\", \"TON \", 1090000], [2002, 113995, \"BARLEY FEED \", 107, \"Tulare \", \"709\", \"2.69\", \"1910\", \"103\", \"TON \", 197000], [2002, 113995, \"BARLEY FEED \", 999, \" State Totals\", \"53694\", \"1.75\", \"94161\", \"99\", \"    \", 9349900], [2002, 113994, \"BARLEY MALTING \", 49, \"Modoc \", \"10437\", \"2.56\", \"26719\", \"114\", \"TON \", 3046000], [2002, 113994, \"BARLEY MALTING \", 93, \"Siskiyou \", \"6200\", \"2.25\", \"13950\", \"120\", \"TON \", 1674000], [2002, 113994, \"BARLEY MALTING \", 999, \" State Totals\", \"16637\", \"2.44\", \"40669\", \"116\", \"    \", 4720000], [2002, 171139, \"BARLEY SEED \", 93, \"Siskiyou \", \"1000\", \"2.25\", \"2250\", \"110\", \"TON \", 247500], [2002, 171139, \"BARLEY SEED \", 999, \" State Totals\", \"1000\", \"2.25\", \"2250\", \"110\", \"    \", 247500], [2002, 113999, \"BARLEY UNSPECIFIED \", 31, \"Kings \", \"611\", \"1.90\", \"1161\", \"98\", \"TON \", 114000], [2002, 113999, \"BARLEY UNSPECIFIED \", 67, \"Sacramento \", \"343\", \"0.99\", \"340\", \"97\", \"TON \", 33000], [2002, 113999, \"BARLEY UNSPECIFIED \", 99, \"Stanislaus \", \"1400\", \"2.77\", \"3880\", \"108\", \"TON \", 419000], [2002, 113999, \"BARLEY UNSPECIFIED \", 999, \" State Totals\", \"2354\", \"2.29\", \"5381\", \"105\", \"    \", 566000], [2002, 161741, \"BEANS BLACKEYE (PEAS) \", 77, \"San Joaquin \", \"1000\", \"0.80\", \"800\", \"640\", \"TON \", 512000], [2002, 161741, \"BEANS BLACKEYE (PEAS) \", 99, \"Stanislaus \", \"4900\", \"1.40\", \"6860\", \"640\", \"TON \", 4390000], [2002, 161741, \"BEANS BLACKEYE (PEAS) \", 101, \"Sutter \", \"819\", \"0.76\", \"622\", \"596\", \"TON \", 370500], [2002, 161741, \"BEANS BLACKEYE (PEAS) \", 999, \" State Totals\", \"6719\", \"1.23\", \"8282\", \"637\", \"    \", 5272500], [2002, 169999, \"BEANS DRY EDIBLE UNSPEC. \", 7, \"Butte \", \"500\", \"1.10\", \"550\", \"664\", \"TON \", 365000], [2002, 169999, \"BEANS DRY EDIBLE UNSPEC. \", 11, \"Colusa \", \"7520\", \"0.98\", \"7370\", \"640\", \"TON \", 4717000], [2002, 169999, \"BEANS DRY EDIBLE UNSPEC. \", 13, \"Contra Costa \", \"283\", \"3.41\", \"965\", \"1022\", \"TON \", 986000], [2002, 169999, \"BEANS DRY EDIBLE UNSPEC. \", 19, \"Fresno \", \"12500\", \"1.20\", \"15000\", \"533\", \"TON \", 7995000], [2002, 169999, \"BEANS DRY EDIBLE UNSPEC. \", 21, \"Glenn \", \"2618\", \"0.90\", \"2356\", \"674\", \"TON \", 1587000], [2002, 169999, \"BEANS DRY EDIBLE UNSPEC. \", 29, \"Kern \", \"4381\", \"1.39\", \"6100\", \"540\", \"TON \", 3291000], [2002, 169999, \"BEANS DRY EDIBLE UNSPEC. \", 31, \"Kings \", \"6501\", \"0.93\", \"6046\", \"400\", \"TON \", 2418000], [2002, 169999, \"BEANS DRY EDIBLE UNSPEC. \", 39, \"Madera \", \"460\", \"1.35\", \"621\", \"617\", \"TON \", 383000], [2002, 169999, \"BEANS DRY EDIBLE UNSPEC. \", 47, \"Merced \", \"2963\", \"0.95\", \"2815\", \"578\", \"TON \", 1628000], [2002, 169999, \"BEANS DRY EDIBLE UNSPEC. \", 53, \"Monterey \", \"73\", \"1.53\", \"112\", \"902\", \"TON \", 101000], [2002, 169999, \"BEANS DRY EDIBLE UNSPEC. \", 59, \"Orange \", \"645\", \"1.00\", \"645\", \"1240\", \"TON \", 799800], [2002, 169999, \"BEANS DRY EDIBLE UNSPEC. \", 67, \"Sacramento \", \"1457\", \"0.80\", \"1170\", \"544\", \"TON \", 636000], [2002, 169999, \"BEANS DRY EDIBLE UNSPEC. \", 81, \"San Mateo \", \"200\", \"0.75\", \"150\", \"2000\", \"TON \", 300000], [2002, 169999, \"BEANS DRY EDIBLE UNSPEC. \", 95, \"Solano \", \"3927\", \"0.83\", \"3259\", \"580\", \"TON \", 1890200], [2002, 169999, \"BEANS DRY EDIBLE UNSPEC. \", 99, \"Stanislaus \", \"1050\", \"1.10\", \"1160\", \"626\", \"TON \", 726000], [2002, 169999, \"BEANS DRY EDIBLE UNSPEC. \", 101, \"Sutter \", \"1824\", \"0.81\", \"1482\", \"648\", \"TON \", 960700], [2002, 169999, \"BEANS DRY EDIBLE UNSPEC. \", 103, \"Tehama \", \"800\", \"0.89\", \"712\", \"625\", \"TON \", 445000], [2002, 169999, \"BEANS DRY EDIBLE UNSPEC. \", 107, \"Tulare \", \"4768\", \"1.48\", \"7060\", \"599\", \"TON \", 4229000], [2002, 169999, \"BEANS DRY EDIBLE UNSPEC. \", 999, \" State Totals\", \"52470\", \"1.10\", \"57573\", \"581\", \"    \", 33457700], [2002, 304399, \"BEANS FRESH UNSPECIFIED \", 59, \"Orange \", \"937\", \"6.00\", \"5622\", \"1100\", \"TON \", 6184200], [2002, 304399, \"BEANS FRESH UNSPECIFIED \", 65, \"Riverside \", \"464\", \"5.10\", \"2365\", \"1138\", \"TON \", 2690500], [2002, 304399, \"BEANS FRESH UNSPECIFIED \", 71, \"San Bernardino \", \"236\", \"8.23\", \"1943\", \"820\", \"TON \", 1593400], [2002, 304399, \"BEANS FRESH UNSPECIFIED \", 99, \"Stanislaus \", \"6120\", \"1.73\", \"10600\", \"453\", \"TON \", 4802000], [2002, 304399, \"BEANS FRESH UNSPECIFIED \", 999, \" State Totals\", \"7757\", \"2.65\", \"20530\", \"744\", \"    \", 15270100], [2002, 161742, \"BEANS GARBANZO \", 77, \"San Joaquin \", \"1200\", \"1.00\", \"1200\", \"480\", \"TON \", 576000], [2002, 161742, \"BEANS GARBANZO \", 79, \"San Luis Obispo \", \"400\", \"0.60\", \"240\", \"442\", \"TON \", 106000], [2002, 161742, \"BEANS GARBANZO \", 999, \" State Totals\", \"1600\", \"0.90\", \"1440\", \"474\", \"    \", 682000], [2002, 161717, \"BEANS KIDNEY RED \", 77, \"San Joaquin \", \"3400\", \"0.99\", \"3373\", \"640\", \"TON \", 2159000], [2002, 161717, \"BEANS KIDNEY RED \", 101, \"Sutter \", \"252\", \"0.80\", \"202\", \"664\", \"TON \", 134100], [2002, 161717, \"BEANS KIDNEY RED \", 999, \" State Totals\", \"3652\", \"0.98\", \"3575\", \"641\", \"    \", 2293100], [2002, 161132, \"BEANS LIMA BABY DRY \", 99, \"Stanislaus \", \"4200\", \"1.35\", \"5670\", \"623\", \"TON \", 3532000], [2002, 161132, \"BEANS LIMA BABY DRY \", 101, \"Sutter \", \"3962\", \"1.23\", \"4873\", \"600\", \"TON \", 2923400], [2002, 161132, \"BEANS LIMA BABY DRY \", 999, \" State Totals\", \"8162\", \"1.29\", \"10543\", \"612\", \"    \", 6455400], [2002, 303999, \"BEANS LIMA GREEN \", 47, \"Merced \", \"1973\", \"1.64\", \"3227\", \"442\", \"TON \", 1426000], [2002, 303999, \"BEANS LIMA GREEN \", 999, \" State Totals\", \"1973\", \"1.64\", \"3227\", \"442\", \"    \", 1426000], [2002, 161131, \"BEANS LIMA LG. DRY \", 47, \"Merced \", \"1255\", \"1.40\", \"1758\", \"770\", \"TON \", 1354000], [2002, 161131, \"BEANS LIMA LG. DRY \", 53, \"Monterey \", \"1582\", \"1.24\", \"1957\", \"1210\", \"TON \", 2368000], [2002, 161131, \"BEANS LIMA LG. DRY \", 99, \"Stanislaus \", \"8300\", \"1.51\", \"12500\", \"813\", \"TON \", 10163000], [2002, 161131, \"BEANS LIMA LG. DRY \", 999, \" State Totals\", \"11137\", \"1.46\", \"16215\", \"856\", \"    \", 13885000], [2002, 161199, \"BEANS LIMA UNSPECIFIED \", 77, \"San Joaquin \", \"5000\", \"1.44\", \"7200\", \"646\", \"TON \", 4648000], [2002, 161199, \"BEANS LIMA UNSPECIFIED \", 83, \"Santa Barbara \", \"4450\", \"0.52\", \"2303\", \"1071\", \"TON \", 2465500], [2002, 161199, \"BEANS LIMA UNSPECIFIED \", 111, \"Ventura \", \"1944\", \"1.65\", \"3201\", \"748\", \"TON \", 2395000], [2002, 161199, \"BEANS LIMA UNSPECIFIED \", 999, \" State Totals\", \"11394\", \"1.11\", \"12704\", \"748\", \"    \", 9508500], [2002, 161721, \"BEANS PINK \", 101, \"Sutter \", \"700\", \"0.66\", \"462\", \"500\", \"TON \", 231000], [2002, 161721, \"BEANS PINK \", 999, \" State Totals\", \"700\", \"0.66\", \"462\", \"500\", \"    \", 231000], [2002, 171619, \"BEANS SEED \", 7, \"Butte \", \"450\", \"1.10\", \"495\", \"661\", \"TON \", 327000], [2002, 171619, \"BEANS SEED \", 11, \"Colusa \", \"770\", \"0.95\", \"732\", \"720\", \"TON \", 527000], [2002, 171619, \"BEANS SEED \", 21, \"Glenn \", \"1330\", \"1.19\", \"1582\", \"609\", \"TON \", 964000], [2002, 171619, \"BEANS SEED \", 53, \"Monterey \", \"3163\", \"0.78\", \"2474\", \"1952\", \"TON \", 4828000], [2002, 171619, \"BEANS SEED \", 77, \"San Joaquin \", \"2100\", \"0.96\", \"2010\", \"720\", \"TON \", 1447000], [2002, 171619, \"BEANS SEED \", 83, \"Santa Barbara \", \"  \", \"  \", \"  \", \"  \", \"  \", 616800], [2002, 171619, \"BEANS SEED \", 95, \"Solano \", \"2211\", \"0.92\", \"2034\", \"740\", \"TON \", 1505100], [2002, 171619, \"BEANS SEED \", 101, \"Sutter \", \"1359\", \"0.69\", \"937\", \"661\", \"TON \", 619300], [2002, 171619, \"BEANS SEED \", 103, \"Tehama \", \"368\", \"1.10\", \"405\", \"700\", \"TON \", 283400], [2002, 171619, \"BEANS SEED \", 999, \" State Totals\", \"11751\", \"0.91\", \"10669\", \"984\", \"    \", 11117600], [2002, 304199, \"BEANS SNAP FRESH MARKET \", 73, \"San Diego \", \"377\", \"5.29\", \"1994\", \"1281\", \"TON \", 2554700], [2002, 304199, \"BEANS SNAP FRESH MARKET \", 79, \"San Luis Obispo \", \"149\", \"5.99\", \"892\", \"739\", \"TON \", 659000], [2002, 304199, \"BEANS SNAP FRESH MARKET \", 107, \"Tulare \", \"667\", \"4.63\", \"3090\", \"2000\", \"TON \", 6180000], [2002, 304199, \"BEANS SNAP FRESH MARKET \", 999, \" State Totals\", \"1193\", \"5.01\", \"5976\", \"1572\", \"    \", 9393700], [2002, 304999, \"BEANS SNAP UNSPECIFIED \", 81, \"San Mateo \", \"195\", \"2.92\", \"569\", \"1093\", \"TON \", 622000], [2002, 304999, \"BEANS SNAP UNSPECIFIED \", 85, \"Santa Clara \", \"429\", \"6.10\", \"2617\", \"720\", \"TON \", 1884000], [2002, 304999, \"BEANS SNAP UNSPECIFIED \", 999, \" State Totals\", \"624\", \"5.11\", \"3186\", \"787\", \"    \", 2506000], [2002, 305999, \"BEETS GARDEN \", 69, \"San Benito \", \"153\", \"6.98\", \"1068\", \"660\", \"TON \", 705000], [2002, 305999, \"BEETS GARDEN \", 71, \"San Bernardino \", \"5\", \"5.00\", \"25\", \"800\", \"TON \", 20000], [2002, 305999, \"BEETS GARDEN \", 999, \" State Totals\", \"158\", \"6.92\", \"1093\", \"663\", \"    \", 725000], [2002, 239999, \"BERRIES BUSHBERRIES UNSPEC. \", 53, \"Monterey \", \"30\", \"9.90\", \"297\", \"4478\", \"TON \", 1330000], [2002, 239999, \"BERRIES BUSHBERRIES UNSPEC. \", 73, \"San Diego \", \"160\", \"6.89\", \"1102\", \"3874\", \"TON \", 4269600], [2002, 239999, \"BERRIES BUSHBERRIES UNSPEC. \", 81, \"San Mateo \", \"29\", \"  \", \"  \", \"  \", \"  \", 348000], [2002, 239999, \"BERRIES BUSHBERRIES UNSPEC. \", 85, \"Santa Clara \", \"24\", \"4.08\", \"98\", \"1653\", \"TON \", 162000], [2002, 239999, \"BERRIES BUSHBERRIES UNSPEC. \", 87, \"Santa Cruz \", \"402\", \"4.40\", \"1769\", \"4439\", \"TON \", 7853000], [2002, 239999, \"BERRIES BUSHBERRIES UNSPEC. \", 999, \" State Totals\", \"645\", \"5.30\", \"3266\", \"4169\", \"    \", 13962600], [2002, 236199, \"BERRIES RASPBERRIES \", 53, \"Monterey \", \"577\", \"13.16\", \"7595\", \"3290\", \"TON \", 24986000], [2002, 236199, \"BERRIES RASPBERRIES \", 87, \"Santa Cruz \", \"1514\", \"6.40\", \"9690\", \"3912\", \"TON \", 37906000], [2002, 236199, \"BERRIES RASPBERRIES \", 111, \"Ventura \", \"268\", \"3.68\", \"986\", \"20246\", \"TON \", 19963000], [2002, 236199, \"BERRIES RASPBERRIES \", 999, \" State Totals\", \"2359\", \"7.75\", \"18271\", \"4535\", \"    \", 82855000], [2002, 237199, \"BERRIES STRAWBERRIES F MKT \", 37, \"Los Angeles \", \"122\", \"22.95\", \"2800\", \"1003\", \"TON \", 2807000], [2002, 237199, \"BERRIES STRAWBERRIES F MKT \", 53, \"Monterey \", \"6725\", \"30.41\", \"204496\", \"1091\", \"TON \", 223044000], [2002, 237199, \"BERRIES STRAWBERRIES F MKT \", 67, \"Sacramento \", \"92\", \"6.50\", \"598\", \"2000\", \"TON \", 1196000], [2002, 237199, \"BERRIES STRAWBERRIES F MKT \", 73, \"San Diego \", \"698\", \"24.30\", \"16961\", \"1370\", \"TON \", 23237100], [2002, 237199, \"BERRIES STRAWBERRIES F MKT \", 79, \"San Luis Obispo \", \"720\", \"21.54\", \"15509\", \"1084\", \"TON \", 16816000], [2002, 237199, \"BERRIES STRAWBERRIES F MKT \", 83, \"Santa Barbara \", \"3725\", \"21.37\", \"79588\", \"1093\", \"TON \", 87015900], [2002, 237199, \"BERRIES STRAWBERRIES F MKT \", 111, \"Ventura \", \"5708\", \"28.27\", \"161356\", \"1516\", \"TON \", 244564000], [2002, 237199, \"BERRIES STRAWBERRIES F MKT \", 999, \" State Totals\", \"17790\", \"27.05\", \"481308\", \"1244\", \"    \", 598680000], [2002, 237299, \"BERRIES STRAWBERRIES PROC. \", 53, \"Monterey \", \"255\", \"30.45\", \"7764\", \"490\", \"TON \", 3805000], [2002, 237299, \"BERRIES STRAWBERRIES PROC. \", 73, \"San Diego \", \"  \", \"  \", \"7120\", \"640\", \"TON \", 4556500], [2002, 237299, \"BERRIES STRAWBERRIES PROC. \", 83, \"Santa Barbara \", \"  \", \"  \", \"42093\", \"684\", \"TON \", 28791600], [2002, 237299, \"BERRIES STRAWBERRIES PROC. \", 111, \"Ventura \", \"2874\", \"28.27\", \"81257\", \"657\", \"TON \", 53360000], [2002, 237299, \"BERRIES STRAWBERRIES PROC. \", 999, \" State Totals\", \"3129\", \"28.45\", \"138234\", \"655\", \"    \", 90513100], [2002, 237999, \"BERRIES STRAWBERRIES UNSPEC \", 47, \"Merced \", \"284\", \"11.00\", \"3124\", \"1024\", \"TON \", 3198000], [2002, 237999, \"BERRIES STRAWBERRIES UNSPEC \", 59, \"Orange \", \"1965\", \"23.10\", \"45392\", \"1159\", \"TON \", 52608700], [2002, 237999, \"BERRIES STRAWBERRIES UNSPEC \", 61, \"Placer \", \"30\", \"  \", \"  \", \"  \", \"  \", 324000], [2002, 237999, \"BERRIES STRAWBERRIES UNSPEC \", 65, \"Riverside \", \"236\", \"9.00\", \"2125\", \"1705\", \"TON \", 3623800], [2002, 237999, \"BERRIES STRAWBERRIES UNSPEC \", 71, \"San Bernardino \", \"184\", \"23.83\", \"4384\", \"930\", \"TON \", 4075600], [2002, 237999, \"BERRIES STRAWBERRIES UNSPEC \", 81, \"San Mateo \", \"16\", \"  \", \"  \", \"  \", \"  \", 297000], [2002, 237999, \"BERRIES STRAWBERRIES UNSPEC \", 85, \"Santa Clara \", \"80\", \"14.46\", \"1157\", \"1277\", \"TON \", 1478000], [2002, 237999, \"BERRIES STRAWBERRIES UNSPEC \", 87, \"Santa Cruz \", \"3586\", \"25.60\", \"91802\", \"1170\", \"TON \", 107408000], [2002, 237999, \"BERRIES STRAWBERRIES UNSPEC \", 999, \" State Totals\", \"6381\", \"23.36\", \"147984\", \"1165\", \"    \", 173013100], [2002, 218889, \"BIOMASS ORCHARD \", 19, \"Fresno \", \"  \", \"  \", \"  \", \"  \", \"  \", 3830000], [2002, 218889, \"BIOMASS ORCHARD \", 23, \"Humboldt \", \"NaN\", \"NaN\", \"NaN\", \"NaN\", \"NaN\", 4407000], [2002, 218889, \"BIOMASS ORCHARD \", 29, \"Kern \", \"  \", \"  \", \"882000\", \"14\", \"TON \", 12113000], [2002, 218889, \"BIOMASS ORCHARD \", 47, \"Merced \", \"  \", \"  \", \"69724\", \"20\", \"TON \", 1389000], [2002, 218889, \"BIOMASS ORCHARD \", 101, \"Sutter \", \"  \", \"  \", \"  \", \"  \", \"  \", 2489600], [2002, 218889, \"BIOMASS ORCHARD \", 107, \"Tulare \", \"  \", \"  \", \"  \", \"  \", \"  \", 1253000], [2002, 218889, \"BIOMASS ORCHARD \", 999, \" State Totals\", \"0\", \"  \", \"951724\", \"14\", \"    \", 25481600], [2002, 307189, \"BROCCOLI FOOD SERVICE \", 53, \"Monterey \", \"8944\", \"6.98\", \"62430\", \"991\", \"TON \", 61855000], [2002, 307189, \"BROCCOLI FOOD SERVICE \", 999, \" State Totals\", \"8944\", \"6.98\", \"62430\", \"991\", \"    \", 61855000], [2002, 307199, \"BROCCOLI FRESH MARKET \", 19, \"Fresno \", \"6700\", \"7.78\", \"52100\", \"442\", \"TON \", 23028000], [2002, 307199, \"BROCCOLI FRESH MARKET \", 25, \"Imperial \", \"6798\", \"5.78\", \"39326\", \"969\", \"TON \", 38116000], [2002, 307199, \"BROCCOLI FRESH MARKET \", 53, \"Monterey \", \"43753\", \"6.98\", \"305310\", \"650\", \"TON \", 198473000], [2002, 307199, \"BROCCOLI FRESH MARKET \", 83, \"Santa Barbara \", \"25163\", \"7.00\", \"176112\", \"565\", \"TON \", 99583500], [2002, 307199, \"BROCCOLI FRESH MARKET \", 107, \"Tulare \", \"1628\", \"5.69\", \"9260\", \"430\", \"TON \", 3982000], [2002, 307199, \"BROCCOLI FRESH MARKET \", 999, \" State Totals\", \"84042\", \"6.93\", \"582108\", \"624\", \"    \", 363182500], [2002, 307299, \"BROCCOLI PROCESSING \", 53, \"Monterey \", \"2428\", \"6.98\", \"16950\", \"327\", \"TON \", 5539000], [2002, 307299, \"BROCCOLI PROCESSING \", 999, \" State Totals\", \"2428\", \"6.98\", \"16950\", \"327\", \"    \", 5539000], [2002, 307919, \"BROCCOLI UNSPECIFIED \", 65, \"Riverside \", \"2815\", \"6.27\", \"17643\", \"802\", \"TON \", 14145100], [2002, 307919, \"BROCCOLI UNSPECIFIED \", 69, \"San Benito \", \"877\", \"7.12\", \"6244\", \"443\", \"TON \", 2766000], [2002, 307919, \"BROCCOLI UNSPECIFIED \", 79, \"San Luis Obispo \", \"10988\", \"7.59\", \"83399\", \"537\", \"TON \", 44818000], [2002, 307919, \"BROCCOLI UNSPECIFIED \", 85, \"Santa Clara \", \"535\", \"5.40\", \"2889\", \"570\", \"TON \", 1647000], [2002, 307919, \"BROCCOLI UNSPECIFIED \", 87, \"Santa Cruz \", \"321\", \"8.20\", \"2632\", \"606\", \"TON \", 1595000], [2002, 307919, \"BROCCOLI UNSPECIFIED \", 99, \"Stanislaus \", \"4120\", \"3.83\", \"15800\", \"448\", \"TON \", 7078000], [2002, 307919, \"BROCCOLI UNSPECIFIED \", 111, \"Ventura \", \"2799\", \"7.43\", \"20784\", \"639\", \"TON \", 13277000], [2002, 307919, \"BROCCOLI UNSPECIFIED \", 999, \" State Totals\", \"22455\", \"6.65\", \"149391\", \"571\", \"    \", 85326100], [2002, 308999, \"BRUSSELS SPROUTS \", 81, \"San Mateo \", \"611\", \"10.12\", \"6183\", \"580\", \"TON \", 3586000], [2002, 308999, \"BRUSSELS SPROUTS \", 87, \"Santa Cruz \", \"1023\", \"10.00\", \"10230\", \"550\", \"TON \", 5627000], [2002, 308999, \"BRUSSELS SPROUTS \", 999, \" State Totals\", \"1634\", \"10.04\", \"16413\", \"561\", \"    \", 9213000], [2002, 309999, \"CABBAGE CH. & SPECIALTY \", 53, \"Monterey \", \"664\", \"23.64\", \"15700\", \"310\", \"TON \", 4865000], [2002, 309999, \"CABBAGE CH. & SPECIALTY \", 71, \"San Bernardino \", \"3479\", \"6.56\", \"22825\", \"339\", \"TON \", 7730600], [2002, 309999, \"CABBAGE CH. & SPECIALTY \", 999, \" State Totals\", \"4143\", \"9.30\", \"38525\", \"327\", \"    \", 12595600], [2002, 310999, \"CABBAGE HEAD \", 25, \"Imperial \", \"981\", \"14.62\", \"14347\", \"229\", \"TON \", 3290000], [2002, 310999, \"CABBAGE HEAD \", 53, \"Monterey \", \"1862\", \"20.41\", \"38000\", \"212\", \"TON \", 8073000], [2002, 310999, \"CABBAGE HEAD \", 59, \"Orange \", \"42\", \"20.31\", \"853\", \"219\", \"TON \", 186700], [2002, 310999, \"CABBAGE HEAD \", 65, \"Riverside \", \"295\", \"13.67\", \"4034\", \"188\", \"TON \", 756800], [2002, 310999, \"CABBAGE HEAD \", 69, \"San Benito \", \"914\", \"18.30\", \"16726\", \"144\", \"TON \", 2409000], [2002, 310999, \"CABBAGE HEAD \", 71, \"San Bernardino \", \"14\", \"8.00\", \"112\", \"240\", \"TON \", 26900], [2002, 310999, \"CABBAGE HEAD \", 79, \"San Luis Obispo \", \"1269\", \"18.36\", \"23299\", \"296\", \"TON \", 6907000], [2002, 310999, \"CABBAGE HEAD \", 83, \"Santa Barbara \", \"1918\", \"20.61\", \"39522\", \"249\", \"TON \", 9833000], [2002, 310999, \"CABBAGE HEAD \", 85, \"Santa Clara \", \"263\", \"12.00\", \"3156\", \"190\", \"TON \", 600000], [2002, 310999, \"CABBAGE HEAD \", 111, \"Ventura \", \"2067\", \"26.74\", \"55277\", \"193\", \"TON \", 10650000], [2002, 310999, \"CABBAGE HEAD \", 999, \" State Totals\", \"9625\", \"20.29\", \"195326\", \"219\", \"    \", 42732400], [2002, 313189, \"CARROTS FOOD SERVICE \", 53, \"Monterey \", \"812\", \"17.59\", \"14280\", \"821\", \"TON \", 11717000], [2002, 313189, \"CARROTS FOOD SERVICE \", 999, \" State Totals\", \"812\", \"17.59\", \"14280\", \"821\", \"    \", 11717000], [2002, 158269, \"SAFFLOWER \", 67, \"Sacramento \", \"6319\", \"1.20\", \"7580\", \"238\", \"TON \", 1805000], [2002, 158269, \"SAFFLOWER \", 77, \"San Joaquin \", \"8200\", \"1.49\", \"12200\", \"247\", \"TON \", 3010000], [2002, 158269, \"SAFFLOWER \", 79, \"San Luis Obispo \", \"700\", \"0.37\", \"259\", \"151\", \"TON \", 39000], [2002, 158269, \"SAFFLOWER \", 95, \"Solano \", \"6017\", \"0.85\", \"5114\", \"229\", \"TON \", 1171100], [2002, 158269, \"SAFFLOWER \", 101, \"Sutter \", \"13556\", \"1.35\", \"18301\", \"228\", \"TON \", 4181600], [2002, 158269, \"SAFFLOWER \", 103, \"Tehama \", \"150\", \"1.00\", \"150\", \"240\", \"TON \", 36000], [2002, 158269, \"SAFFLOWER \", 113, \"Yolo \", \"20765\", \"1.30\", \"26995\", \"248\", \"TON \", 6697000], [2002, 158269, \"SAFFLOWER \", 999, \" State Totals\", \"79163\", \"1.23\", \"97740\", \"241\", \"    \", 23536700], [2002, 171582, \"SAFFLOWER SEED PLANTING \", 101, \"Sutter \", \"1493\", \"1.07\", \"1595\", \"240\", \"TON \", 382900], [2002, 171582, \"SAFFLOWER SEED PLANTING \", 999, \" State Totals\", \"1493\", \"1.07\", \"1595\", \"240\", \"    \", 382900], [2002, 394199, \"SALAD GREENS NEC. \", 25, \"Imperial \", \"859\", \"2.70\", \"2319\", \"2000\", \"TON \", 4639000], [2002, 394199, \"SALAD GREENS NEC. \", 53, \"Monterey \", \"18152\", \"24.83\", \"450680\", \"949\", \"TON \", 427700000], [2002, 394199, \"SALAD GREENS NEC. \", 999, \" State Totals\", \"19011\", \"23.83\", \"452999\", \"954\", \"    \", 432339000], [2002, 172119, \"SEED ALFALFA \", 19, \"Fresno \", \"5960\", \"0.41\", \"2432\", \"2660\", \"TON \", 6468000], [2002, 172119, \"SEED ALFALFA \", 25, \"Imperial \", \"12559\", \"0.20\", \"2462\", \"1880\", \"TON \", 4628000], [2002, 172119, \"SEED ALFALFA \", 35, \"Lassen \", \"120\", \"0.10\", \"12\", \"2800\", \"TON \", 33600], [2002, 172119, \"SEED ALFALFA \", 999, \" State Totals\", \"18639\", \"0.26\", \"4906\", \"2269\", \"    \", 11129600], [2002, 173079, \"SEED BERMUDA GRASS \", 25, \"Imperial \", \"35244\", \"0.26\", \"9058\", \"2960\", \"TON \", 26811000], [2002, 173079, \"SEED BERMUDA GRASS \", 65, \"Riverside \", \"1029\", \"0.25\", \"259\", \"2998\", \"TON \", 776400], [2002, 173079, \"SEED BERMUDA GRASS \", 999, \" State Totals\", \"36273\", \"0.26\", \"9317\", \"2961\", \"    \", 27587400], [2002, 172289, \"SEED CLOVER UNSPECIFIED \", 21, \"Glenn \", \"1424\", \"0.13\", \"182\", \"2599\", \"TON \", 473000], [2002, 172289, \"SEED CLOVER UNSPECIFIED \", 67, \"Sacramento \", \"608\", \"0.22\", \"131\", \"2466\", \"TON \", 323000], [2002, 172289, \"SEED CLOVER UNSPECIFIED \", 999, \" State Totals\", \"2032\", \"0.15\", \"313\", \"2543\", \"    \", 796000], [2002, 173999, \"SEED GRASS UNSPECIFIED \", 113, \"Yolo \", \"2019\", \"  \", \"  \", \"  \", \"  \", 2754000], [2002, 173999, \"SEED GRASS UNSPECIFIED \", 999, \" State Totals\", \"2019\", \"  \", \"0\", \"  \", \"    \", 2754000], [2002, 178999, \"SEED OTHER (NO FLOWERS) \", 113, \"Yolo \", \"5871\", \"  \", \"  \", \"  \", \"  \", 4930000], [2002, 178999, \"SEED OTHER (NO FLOWERS) \", 999, \" State Totals\", \"5871\", \"  \", \"0\", \"  \", \"    \", 4930000], [2002, 173669, \"SEED SUDAN GRASS \", 67, \"Sacramento \", \"3000\", \"1.38\", \"4125\", \"380\", \"TON \", 1568000], [2002, 173669, \"SEED SUDAN GRASS \", 999, \" State Totals\", \"3000\", \"1.38\", \"4125\", \"380\", \"    \", 1568000], [2002, 171959, \"SEED VEG & VINECROP \", 11, \"Colusa \", \"6977\", \"0.12\", \"810\", \"13922\", \"TON \", 11277000], [2002, 171959, \"SEED VEG & VINECROP \", 19, \"Fresno \", \"720\", \"  \", \"  \", \"  \", \"  \", 2178000], [2002, 171959, \"SEED VEG & VINECROP \", 21, \"Glenn \", \"1058\", \"  \", \"  \", \"  \", \"  \", 1403000], [2002, 171959, \"SEED VEG & VINECROP \", 25, \"Imperial \", \"1043\", \"0.15\", \"152\", \"12520\", \"TON \", 1903000], [2002, 171959, \"SEED VEG & VINECROP \", 29, \"Kern \", \"724\", \"1.63\", \"1180\", \"2576\", \"TON \", 3040000], [2002, 171959, \"SEED VEG & VINECROP \", 35, \"Lassen \", \"233\", \"7.00\", \"1631\", \"240\", \"TON \", 391400], [2002, 171959, \"SEED VEG & VINECROP \", 53, \"Monterey \", \"72\", \"0.08\", \"6\", \"72000\", \"TON \", 432000], [2002, 171959, \"SEED VEG & VINECROP \", 77, \"San Joaquin \", \"655\", \"  \", \"  \", \"  \", \"  \", 2211000], [2002, 171959, \"SEED VEG & VINECROP \", 83, \"Santa Barbara \", \"  \", \"  \", \"  \", \"  \", \"  \", 1872100], [2002, 171959, \"SEED VEG & VINECROP \", 95, \"Solano \", \"634\", \"0.16\", \"99\", \"8658\", \"TON \", 857100], [2002, 171959, \"SEED VEG & VINECROP \", 99, \"Stanislaus \", \"120\", \"  \", \"  \", \"  \", \"  \", 264000], [2002, 171959, \"SEED VEG & VINECROP \", 101, \"Sutter \", \"1725\", \"0.15\", \"267\", \"10012\", \"TON \", 2673100], [2002, 171959, \"SEED VEG & VINECROP \", 113, \"Yolo \", \"1179\", \"  \", \"  \", \"  \", \"  \", 2725000], [2002, 171959, \"SEED VEG & VINECROP \", 999, \" State Totals\", \"15140\", \"0.36\", \"4145\", \"4963\", \"    \", 31226700], [2002, 411999, \"SHEEP \", 93, \"Siskiyou \", \"  \", \"  \", \"  \", \"  \", \"  \", 39400], [2002, 411999, \"SHEEP \", 115, \"Yuba \", \"  \", \"  \", \"  \", \"  \", \"  \", 15000], [2002, 411999, \"SHEEP \", 999, \" State Totals\", \"0\", \"  \", \"0\", \"  \", \"    \", 54400], [2002, 419999, \"SHEEP & LAMBS UNSPECIFIED \", 5, \"Amador \", \"  \", \"  \", \"  \", \"  \", \"  \", 243300], [2002, 419999, \"SHEEP & LAMBS UNSPECIFIED \", 7, \"Butte \", \"  \", \"  \", \"  \", \"  \", \"  \", 130000], [2002, 419999, \"SHEEP & LAMBS UNSPECIFIED \", 9, \"Calaveras \", \"  \", \"  \", \"  \", \"  \", \"  \", 90000], [2002, 419999, \"SHEEP & LAMBS UNSPECIFIED \", 11, \"Colusa \", \"  \", \"  \", \"  \", \"  \", \"  \", 307000], [2002, 419999, \"SHEEP & LAMBS UNSPECIFIED \", 15, \"Del Norte \", \"  \", \"  \", \"  \", \"  \", \"  \", 15300], [2002, 419999, \"SHEEP & LAMBS UNSPECIFIED \", 17, \"El Dorado \", \"  \", \"  \", \"  \", \"  \", \"  \", 33300], [2002, 419999, \"SHEEP & LAMBS UNSPECIFIED \", 21, \"Glenn \", \"  \", \"  \", \"  \", \"  \", \"  \", 507000], [2002, 419999, \"SHEEP & LAMBS UNSPECIFIED \", 23, \"Humboldt \", \"  \", \"  \", \"  \", \"  \", \"  \", 366000], [2002, 419999, \"SHEEP & LAMBS UNSPECIFIED \", 27, \"Inyo \", \"  \", \"  \", \"  \", \"  \", \"  \", 186500], [2002, 419999, \"SHEEP & LAMBS UNSPECIFIED \", 29, \"Kern \", \"  \", \"  \", \"  \", \"  \", \"  \", 10867000], [2002, 419999, \"SHEEP & LAMBS UNSPECIFIED \", 31, \"Kings \", \"  \", \"  \", \"  \", \"  \", \"  \", 936000], [2002, 419999, \"SHEEP & LAMBS UNSPECIFIED \", 35, \"Lassen \", \"  \", \"  \", \"  \", \"  \", \"  \", 331200], [2002, 419999, \"SHEEP & LAMBS UNSPECIFIED \", 41, \"Marin \", \"  \", \"  \", \"  \", \"  \", \"  \", 596900], [2002, 419999, \"SHEEP & LAMBS UNSPECIFIED \", 43, \"Mariposa \", \"  \", \"  \", \"  \", \"  \", \"  \", 160400], [2002, 419999, \"SHEEP & LAMBS UNSPECIFIED \", 47, \"Merced \", \"  \", \"  \", \"  \", \"  \", \"  \", 3064000], [2002, 419999, \"SHEEP & LAMBS UNSPECIFIED \", 49, \"Modoc \", \"  \", \"  \", \"  \", \"  \", \"  \", 346200], [2002, 419999, \"SHEEP & LAMBS UNSPECIFIED \", 51, \"Mono \", \"  \", \"  \", \"  \", \"  \", \"  \", 999000], [2002, 419999, \"SHEEP & LAMBS UNSPECIFIED \", 53, \"Monterey \", \"  \", \"  \", \"  \", \"  \", \"  \", 238000], [2002, 419999, \"SHEEP & LAMBS UNSPECIFIED \", 55, \"Napa \", \"  \", \"  \", \"  \", \"  \", \"  \", 104000], [2002, 419999, \"SHEEP & LAMBS UNSPECIFIED \", 57, \"Nevada \", \"  \", \"  \", \"  \", \"  \", \"  \", 119100], [2002, 419999, \"SHEEP & LAMBS UNSPECIFIED \", 61, \"Placer \", \"  \", \"  \", \"  \", \"  \", \"  \", 640000], [2002, 419999, \"SHEEP & LAMBS UNSPECIFIED \", 65, \"Riverside \", \"  \", \"  \", \"  \", \"  \", \"  \", 4435200], [2002, 419999, \"SHEEP & LAMBS UNSPECIFIED \", 67, \"Sacramento \", \"  \", \"  \", \"  \", \"  \", \"  \", 110000], [2002, 419999, \"SHEEP & LAMBS UNSPECIFIED \", 73, \"San Diego \", \"  \", \"  \", \"  \", \"  \", \"  \", 38200], [2002, 419999, \"SHEEP & LAMBS UNSPECIFIED \", 77, \"San Joaquin \", \"  \", \"  \", \"  \", \"  \", \"  \", 1109000], [2002, 419999, \"SHEEP & LAMBS UNSPECIFIED \", 79, \"San Luis Obispo \", \"  \", \"  \", \"  \", \"  \", \"  \", 697000], [2002, 419999, \"SHEEP & LAMBS UNSPECIFIED \", 81, \"San Mateo \", \"  \", \"  \", \"  \", \"  \", \"  \", 82000], [2002, 419999, \"SHEEP & LAMBS UNSPECIFIED \", 89, \"Shasta \", \"  \", \"  \", \"  \", \"  \", \"  \", 164800], [2002, 419999, \"SHEEP & LAMBS UNSPECIFIED \", 97, \"Sonoma \", \"  \", \"  \", \"  \", \"  \", \"  \", 1257800], [2002, 419999, \"SHEEP & LAMBS UNSPECIFIED \", 99, \"Stanislaus \", \"  \", \"  \", \"  \", \"  \", \"  \", 196000], [2002, 419999, \"SHEEP & LAMBS UNSPECIFIED \", 101, \"Sutter \", \"  \", \"  \", \"  \", \"  \", \"  \", 1145400], [2002, 419999, \"SHEEP & LAMBS UNSPECIFIED \", 103, \"Tehama \", \"  \", \"  \", \"  \", \"  \", \"  \", 342000], [2002, 419999, \"SHEEP & LAMBS UNSPECIFIED \", 109, \"Tuolumne \", \"  \", \"  \", \"  \", \"  \", \"  \", 69400], [2002, 419999, \"SHEEP & LAMBS UNSPECIFIED \", 999, \" State Totals\", \"0\", \"  \", \"0\", \"  \", \"    \", 29927000], [2002, 414199, \"SHEEP BREEDING STOCK \", 95, \"Solano \", \"  \", \"  \", \"  \", \"  \", \"  \", 2007500], [2002, 414199, \"SHEEP BREEDING STOCK \", 999, \" State Totals\", \"0\", \"  \", \"0\", \"  \", \"    \", 2007500], [2002, 414299, \"SHEEP EWES CULL \", 19, \"Fresno \", \"  \", \"  \", \"  \", \"  \", \"  \", 438000], [2002, 414299, \"SHEEP EWES CULL \", 999, \" State Totals\", \"0\", \"  \", \"0\", \"  \", \"    \", 438000], [2002, 412999, \"SHEEP LAMBS \", 45, \"Mendocino \", \"  \", \"  \", \"  \", \"  \", \"  \", 131100], [2002, 412999, \"SHEEP LAMBS \", 93, \"Siskiyou \", \"  \", \"  \", \"  \", \"  \", \"  \", 356400], [2002, 412999, \"SHEEP LAMBS \", 107, \"Tulare \", \"  \", \"  \", \"  \", \"  \", \"  \", 878000], [2002, 412999, \"SHEEP LAMBS \", 113, \"Yolo \", \"  \", \"  \", \"  \", \"  \", \"  \", 1461000], [2002, 412999, \"SHEEP LAMBS \", 115, \"Yuba \", \"  \", \"  \", \"  \", \"  \", \"  \", 87000], [2002, 412999, \"SHEEP LAMBS \", 999, \" State Totals\", \"0\", \"  \", \"0\", \"  \", \"    \", 2913500], [2002, 414499, \"SHEEP LAMBS FEEDLOT FAT \", 19, \"Fresno \", \"  \", \"  \", \"  \", \"  \", \"  \", 3959000], [2002, 414499, \"SHEEP LAMBS FEEDLOT FAT \", 25, \"Imperial \", \"  \", \"  \", \"  \", \"  \", \"  \", 3700000], [2002, 414499, \"SHEEP LAMBS FEEDLOT FAT \", 95, \"Solano \", \"  \", \"  \", \"  \", \"  \", \"  \", 8375700], [2002, 414499, \"SHEEP LAMBS FEEDLOT FAT \", 999, \" State Totals\", \"0\", \"  \", \"0\", \"  \", \"    \", 16034700], [2002, 195199, \"SILAGE \", 23, \"Humboldt \", \"870\", \"27.00\", \"23490\", \"35\", \"TON \", 822200], [2002, 195199, \"SILAGE \", 29, \"Kern \", \"58500\", \"24.29\", \"1421000\", \"20\", \"TON \", 27929000], [2002, 195199, \"SILAGE \", 39, \"Madera \", \"17800\", \"17.06\", \"303644\", \"20\", \"TON \", 5926000], [2002, 195199, \"SILAGE \", 41, \"Marin \", \"2794\", \"11.00\", \"30734\", \"27\", \"TON \", 829800], [2002, 195199, \"SILAGE \", 47, \"Merced \", \"70194\", \"10.44\", \"733057\", \"21\", \"TON \", 15441000], [2002, 195199, \"SILAGE \", 71, \"San Bernardino \", \"640\", \"15.00\", \"9600\", \"33\", \"TON \", 316800], [2002, 195199, \"SILAGE \", 73, \"San Diego \", \"30\", \"12.67\", \"380\", \"26\", \"TON \", 9700], [2002, 195199, \"SILAGE \", 83, \"Santa Barbara \", \"701\", \"13.96\", \"9786\", \"22\", \"TON \", 212000], [2002, 195199, \"SILAGE \", 97, \"Sonoma \", \"2140\", \"11.31\", \"24203\", \"27\", \"TON \", 656700], [2002, 195199, \"SILAGE \", 99, \"Stanislaus \", \"39500\", \"12.71\", \"502000\", \"20\", \"TON \", 9990000], [2002, 195199, \"SILAGE \", 103, \"Tehama \", \"1000\", \"32.00\", \"32000\", \"24\", \"TON \", 768000], [2002, 195199, \"SILAGE \", 107, \"Tulare \", \"79010\", \"17.50\", \"1383000\", \"20\", \"TON \", 26968000], [2002, 195199, \"SILAGE \", 999, \" State Totals\", \"273179\", \"16.37\", \"4472894\", \"20\", \"    \", 89869200], [2002, 114991, \"SORGHUM GRAIN \", 21, \"Glenn \", \"160\", \"2.80\", \"448\", \"80\", \"TON \", 36000], [2002, 114991, \"SORGHUM GRAIN \", 65, \"Riverside \", \"332\", \"2.00\", \"664\", \"101\", \"TON \", 67100], [2002, 114991, \"SORGHUM GRAIN \", 67, \"Sacramento \", \"620\", \"2.00\", \"1240\", \"102\", \"TON \", 127000], [2002, 114991, \"SORGHUM GRAIN \", 95, \"Solano \", \"6403\", \"2.28\", \"14599\", \"99\", \"TON \", 1445300], [2002, 114991, \"SORGHUM GRAIN \", 101, \"Sutter \", \"501\", \"2.78\", \"1393\", \"99\", \"TON \", 137700], [2002, 114991, \"SORGHUM GRAIN \", 107, \"Tulare \", \"3000\", \"2.20\", \"6600\", \"75\", \"TON \", 495000], [2002, 114991, \"SORGHUM GRAIN \", 999, \" State Totals\", \"11016\", \"2.26\", \"24944\", \"93\", \"    \", 2308100], [2002, 114992, \"SORGHUM SILAGE \", 71, \"San Bernardino \", \"455\", \"20.90\", \"9510\", \"50\", \"TON \", 475500], [2002, 114992, \"SORGHUM SILAGE \", 999, \" State Totals\", \"455\", \"20.90\", \"9510\", \"50\", \"    \", 475500], [2002, 398599, \"SPICES AND HERBS \", 37, \"Los Angeles \", \"297\", \"  \", \"  \", \"  \", \"  \", 4550000], [2002, 398599, \"SPICES AND HERBS \", 53, \"Monterey \", \"81\", \"NaN\", \"NaN\", \"NaN\", \"NaN\", 1269000], [2002, 398599, \"SPICES AND HERBS \", 71, \"San Bernardino \", \"58\", \"2.62\", \"152\", \"5157\", \"TON \", 783800], [2002, 398599, \"SPICES AND HERBS \", 73, \"San Diego \", \"487\", \"17.98\", \"8756\", \"2584\", \"TON \", 22626300], [2002, 398599, \"SPICES AND HERBS \", 99, \"Stanislaus \", \"4300\", \"9.51\", \"40900\", \"295\", \"TON \", 12066000], [2002, 398599, \"SPICES AND HERBS \", 999, \" State Totals\", \"5223\", \"44.42\", \"218808\", \"168\", \"    \", 41295100], [2002, 374189, \"SPINACH FOOD SERVICE \", 53, \"Monterey \", \"7268\", \"7.53\", \"54730\", \"1746\", \"TON \", 95554000], [2002, 374189, \"SPINACH FOOD SERVICE \", 999, \" State Totals\", \"7268\", \"7.53\", \"54730\", \"1746\", \"    \", 95554000], [2002, 374199, \"SPINACH FRESH MARKET \", 53, \"Monterey \", \"6250\", \"7.53\", \"47060\", \"669\", \"TON \", 31492000], [2002, 374199, \"SPINACH FRESH MARKET \", 79, \"San Luis Obispo \", \"335\", \"8.37\", \"2804\", \"634\", \"TON \", 1778000], [2002, 374199, \"SPINACH FRESH MARKET \", 83, \"Santa Barbara \", \"1104\", \"8.03\", \"8863\", \"641\", \"TON \", 5681100], [2002, 374199, \"SPINACH FRESH MARKET \", 999, \" State Totals\", \"7689\", \"7.64\", \"58727\", \"663\", \"    \", 38951100], [2002, 374299, \"SPINACH PROCESSING \", 53, \"Monterey \", \"2688\", \"7.53\", \"20240\", \"116\", \"TON \", 2352000], [2002, 374299, \"SPINACH PROCESSING \", 999, \" State Totals\", \"2688\", \"7.53\", \"20240\", \"116\", \"    \", 2352000], [2002, 374999, \"SPINACH UNSPECIFIED \", 25, \"Imperial \", \"1265\", \"4.25\", \"5376\", \"1800\", \"TON \", 9677000], [2002, 374999, \"SPINACH UNSPECIFIED \", 65, \"Riverside \", \"1125\", \"16.50\", \"18563\", \"529\", \"TON \", 9813400], [2002, 374999, \"SPINACH UNSPECIFIED \", 69, \"San Benito \", \"1203\", \"2.63\", \"3164\", \"2024\", \"TON \", 6404000], [2002, 374999, \"SPINACH UNSPECIFIED \", 85, \"Santa Clara \", \"411\", \"6.20\", \"2548\", \"670\", \"TON \", 1707000], [2002, 374999, \"SPINACH UNSPECIFIED \", 99, \"Stanislaus \", \"3430\", \"8.69\", \"29800\", \"95\", \"TON \", 2831000], [2002, 374999, \"SPINACH UNSPECIFIED \", 111, \"Ventura \", \"956\", \"8.07\", \"7711\", \"708\", \"TON \", 5463000], [2002, 374999, \"SPINACH UNSPECIFIED \", 999, \" State Totals\", \"8390\", \"8.01\", \"67162\", \"534\", \"    \", 35895400], [2002, 375999, \"SQUASH \", 13, \"Contra Costa \", \"21\", \"4.33\", \"91\", \"626\", \"TON \", 57000], [2002, 375999, \"SQUASH \", 19, \"Fresno \", \"915\", \"8.70\", \"7960\", \"534\", \"TON \", 4251000], [2002, 375999, \"SQUASH \", 53, \"Monterey \", \"211\", \"10.66\", \"2250\", \"454\", \"TON \", 1021000], [2002, 375999, \"SQUASH \", 59, \"Orange \", \"26\", \"10.00\", \"260\", \"500\", \"TON \", 130000], [2002, 375999, \"SQUASH \", 65, \"Riverside \", \"446\", \"10.22\", \"4557\", \"447\", \"TON \", 2035900], [2002, 375999, \"SQUASH \", 69, \"San Benito \", \"109\", \"6.51\", \"710\", \"814\", \"TON \", 578000], [2002, 375999, \"SQUASH \", 71, \"San Bernardino \", \"66\", \"9.30\", \"614\", \"444\", \"TON \", 272900], [2002, 375999, \"SQUASH \", 73, \"San Diego \", \"301\", \"11.99\", \"3609\", \"438\", \"TON \", 1580700], [2002, 375999, \"SQUASH \", 79, \"San Luis Obispo \", \"323\", \"14.37\", \"4642\", \"401\", \"TON \", 1863000], [2002, 375999, \"SQUASH \", 83, \"Santa Barbara \", \"1487\", \"7.82\", \"11628\", \"418\", \"TON \", 4866000], [2002, 375999, \"SQUASH \", 85, \"Santa Clara \", \"205\", \"8.50\", \"1743\", \"553\", \"TON \", 964000], [2002, 375999, \"SQUASH \", 99, \"Stanislaus \", \"230\", \"16.09\", \"3700\", \"203\", \"TON \", 751000], [2002, 375999, \"SQUASH \", 999, \" State Totals\", \"4340\", \"9.62\", \"41764\", \"440\", \"    \", 18370500], [2002, 195399, \"STRAW \", 25, \"Imperial \", \"  \", \"  \", \"102626\", \"36\", \"TON \", 3722000], [2002, 195399, \"STRAW \", 35, \"Lassen \", \"150\", \"1.00\", \"150\", \"50\", \"TON \", 7500], [2002, 195399, \"STRAW \", 47, \"Merced \", \"  \", \"  \", \"2002\", \"47\", \"TON \", 94000], [2002, 195399, \"STRAW \", 97, \"Sonoma \", \"  \", \"  \", \"  \", \"  \", \"  \", 91400], [2002, 195399, \"STRAW \", 999, \" State Totals\", \"150\", \"1.00\", \"104778\", \"36\", \"    \", 3914900], [2002, 132999, \"SUGAR BEETS \", 19, \"Fresno \", \"11900\", \"37.14\", \"442000\", \"37\", \"TON \", 16354000], [2002, 132999, \"SUGAR BEETS \", 25, \"Imperial \", \"24712\", \"40.82\", \"1008744\", \"41\", \"TON \", 41005000], [2002, 132999, \"SUGAR BEETS \", 29, \"Kern \", \"3251\", \"38.76\", \"126000\", \"37\", \"TON \", 4696000], [2002, 132999, \"SUGAR BEETS \", 31, \"Kings \", \"2725\", \"31.27\", \"85211\", \"34\", \"TON \", 2930000], [2002, 132999, \"SUGAR BEETS \", 39, \"Madera \", \"300\", \"33.00\", \"9900\", \"37\", \"TON \", 366000], [2002, 132999, \"SUGAR BEETS \", 47, \"Merced \", \"4386\", \"36.90\", \"161850\", \"30\", \"TON \", 4858000], [2002, 132999, \"SUGAR BEETS \", 107, \"Tulare \", \"1334\", \"48.43\", \"64600\", \"32\", \"TON \", 2067000], [2002, 132999, \"SUGAR BEETS \", 999, \" State Totals\", \"48608\", \"39.05\", \"1898305\", \"38\", \"    \", 72276000], [2002, 158316, \"SUNFLOWER SEED PLANTING \", 11, \"Colusa \", \"390\", \"0.40\", \"157\", \"1401\", \"TON \", 220000], [2002, 158316, \"SUNFLOWER SEED PLANTING \", 21, \"Glenn \", \"4772\", \"0.47\", \"2256\", \"942\", \"TON \", 2125000], [2002, 158316, \"SUNFLOWER SEED PLANTING \", 95, \"Solano \", \"1246\", \"0.54\", \"673\", \"1080\", \"TON \", 726800], [2002, 158316, \"SUNFLOWER SEED PLANTING \", 101, \"Sutter \", \"2103\", \"0.46\", \"969\", \"1101\", \"TON \", 1066400], [2002, 158316, \"SUNFLOWER SEED PLANTING \", 113, \"Yolo \", \"3372\", \"  \", \"  \", \"  \", \"  \", 2463000], [2002, 158316, \"SUNFLOWER SEED PLANTING \", 999, \" State Totals\", \"11883\", \"0.48\", \"4055\", \"1021\", \"    \", 6601200], [2002, 376999, \"SWISS CHARD \", 53, \"Monterey \", \"671\", \"6.72\", \"4510\", \"617\", \"TON \", 2781000], [2002, 376999, \"SWISS CHARD \", 999, \" State Totals\", \"671\", \"6.72\", \"4510\", \"617\", \"    \", 2781000], [2002, 206999, \"TANGELOS \", 29, \"Kern \", \"2311\", \"9.13\", \"21100\", \"757\", \"TON \", 15971000], [2002, 206999, \"TANGELOS \", 65, \"Riverside \", \"319\", \"4.61\", \"1469\", \"529\", \"TON \", 776600], [2002, 206999, \"TANGELOS \", 999, \" State Totals\", \"2630\", \"8.58\", \"22569\", \"742\", \"    \", 16747600], [2002, 203999, \"TANGERINES & MANDARINS \", 25, \"Imperial \", \"404\", \"3.98\", \"1608\", \"882\", \"TON \", 1419000], [2002, 203999, \"TANGERINES & MANDARINS \", 61, \"Placer \", \"127\", \"5.00\", \"635\", \"2867\", \"TON \", 1820500], [2002, 203999, \"TANGERINES & MANDARINS \", 65, \"Riverside \", \"1690\", \"8.04\", \"13590\", \"607\", \"TON \", 8246300], [2002, 203999, \"TANGERINES & MANDARINS \", 73, \"San Diego \", \"845\", \"8.59\", \"7259\", \"505\", \"TON \", 3665600], [2002, 203999, \"TANGERINES & MANDARINS \", 107, \"Tulare \", \"2616\", \"7.72\", \"20200\", \"1280\", \"TON \", 25856000], [2002, 203999, \"TANGERINES & MANDARINS \", 999, \" State Totals\", \"5682\", \"7.62\", \"43292\", \"947\", \"    \", 41007400], [2002, 398499, \"TOMATILLO \", 71, \"San Bernardino \", \"100\", \"1.01\", \"101\", \"1400\", \"TON \", 141400], [2002, 398499, \"TOMATILLO \", 999, \" State Totals\", \"100\", \"1.01\", \"101\", \"1400\", \"    \", 141400], [2002, 398399, \"TOMATOES CHERRY \", 19, \"Fresno \", \"170\", \"11.35\", \"1930\", \"711\", \"TON \", 1372000], [2002, 398399, \"TOMATOES CHERRY \", 73, \"San Diego \", \"75\", \"18.63\", \"1397\", \"749\", \"TON \", 1046000], [2002, 398399, \"TOMATOES CHERRY \", 999, \" State Totals\", \"245\", \"13.58\", \"3327\", \"727\", \"    \", 2418000], [2002, 378199, \"TOMATOES FRESH MARKET \", 13, \"Contra Costa \", \"65\", \"16.00\", \"1040\", \"1175\", \"TON \", 1222000], [2002, 378199, \"TOMATOES FRESH MARKET \", 19, \"Fresno \", \"4500\", \"20.89\", \"94000\", \"401\", \"TON \", 37694000], [2002, 378199, \"TOMATOES FRESH MARKET \", 31, \"Kings \", \"784\", \"31.31\", \"24547\", \"124\", \"TON \", 3053000], [2002, 378199, \"TOMATOES FRESH MARKET \", 47, \"Merced \", \"10460\", \"13.83\", \"144636\", \"388\", \"TON \", 56093000], [2002, 378199, \"TOMATOES FRESH MARKET \", 67, \"Sacramento \", \"824\", \"20.40\", \"16810\", \"352\", \"TON \", 5917000], [2002, 378199, \"TOMATOES FRESH MARKET \", 69, \"San Benito \", \"299\", \"9.53\", \"2849\", \"587\", \"TON \", 1672000], [2002, 378199, \"TOMATOES FRESH MARKET \", 73, \"San Diego \", \"2281\", \"23.89\", \"54493\", \"551\", \"TON \", 30025700], [2002, 378199, \"TOMATOES FRESH MARKET \", 77, \"San Joaquin \", \"11000\", \"9.15\", \"100700\", \"440\", \"TON \", 44286000], [2002, 378199, \"TOMATOES FRESH MARKET \", 85, \"Santa Clara \", \"414\", \"12.10\", \"5009\", \"373\", \"TON \", 1869000], [2002, 378199, \"TOMATOES FRESH MARKET \", 99, \"Stanislaus \", \"1920\", \"22.40\", \"43000\", \"453\", \"TON \", 19479000], [2002, 378199, \"TOMATOES FRESH MARKET \", 107, \"Tulare \", \"89\", \"9.44\", \"840\", \"520\", \"TON \", 437000], [2002, 378199, \"TOMATOES FRESH MARKET \", 999, \" State Totals\", \"32636\", \"14.95\", \"487924\", \"413\", \"    \", 201747700], [2002, 378299, \"TOMATOES PROCESSING \", 11, \"Colusa \", \"18900\", \"40.80\", \"771120\", \"51\", \"TON \", 39481000], [2002, 378299, \"TOMATOES PROCESSING \", 13, \"Contra Costa \", \"1024\", \"40.72\", \"41700\", \"49\", \"TON \", 2042000], [2002, 378299, \"TOMATOES PROCESSING \", 19, \"Fresno \", \"115000\", \"40.25\", \"4629000\", \"49\", \"TON \", 226821000], [2002, 378299, \"TOMATOES PROCESSING \", 29, \"Kern \", \"12400\", \"34.60\", \"429000\", \"50\", \"TON \", 21581000], [2002, 378299, \"TOMATOES PROCESSING \", 31, \"Kings \", \"16108\", \"32.33\", \"520772\", \"50\", \"TON \", 25992000], [2002, 378299, \"TOMATOES PROCESSING \", 47, \"Merced \", \"18200\", \"37.11\", \"675367\", \"49\", \"TON \", 33022000], [2002, 378299, \"TOMATOES PROCESSING \", 67, \"Sacramento \", \"5717\", \"34.90\", \"199523\", \"48\", \"TON \", 9497000], [2002, 378299, \"TOMATOES PROCESSING \", 69, \"San Benito \", \"1174\", \"56.75\", \"66625\", \"52\", \"TON \", 3465000], [2002, 378299, \"TOMATOES PROCESSING \", 77, \"San Joaquin \", \"32600\", \"37.00\", \"1206200\", \"51\", \"TON \", 61516000], [2002, 378299, \"TOMATOES PROCESSING \", 85, \"Santa Clara \", \"623\", \"49.70\", \"30963\", \"49\", \"TON \", 1517000], [2002, 378299, \"TOMATOES PROCESSING \", 95, \"Solano \", \"14626\", \"37.00\", \"541162\", \"48\", \"TON \", 25975800], [2002, 378299, \"TOMATOES PROCESSING \", 99, \"Stanislaus \", \"16600\", \"36.70\", \"609200\", \"49\", \"TON \", 29851000], [2002, 378299, \"TOMATOES PROCESSING \", 101, \"Sutter \", \"9100\", \"36.89\", \"335699\", \"49\", \"TON \", 16499600], [2002, 378299, \"TOMATOES PROCESSING \", 113, \"Yolo \", \"42812\", \"36.81\", \"1576000\", \"47\", \"TON \", 74135000], [2002, 378299, \"TOMATOES PROCESSING \", 999, \" State Totals\", \"304884\", \"38.15\", \"11632331\", \"49\", \"    \", 571395400], [2002, 378999, \"TOMATOES UNSPECIFIED \", 53, \"Monterey \", \"1805\", \"19.45\", \"35110\", \"274\", \"TON \", 9607000], [2002, 378999, \"TOMATOES UNSPECIFIED \", 59, \"Orange \", \"855\", \"40.00\", \"34200\", \"760\", \"TON \", 25992000], [2002, 378999, \"TOMATOES UNSPECIFIED \", 65, \"Riverside \", \"281\", \"14.58\", \"4097\", \"562\", \"TON \", 2302500], [2002, 378999, \"TOMATOES UNSPECIFIED \", 71, \"San Bernardino \", \"12\", \"10.67\", \"128\", \"586\", \"TON \", 75000], [2002, 378999, \"TOMATOES UNSPECIFIED \", 79, \"San Luis Obispo \", \"27\", \"25.96\", \"701\", \"1529\", \"TON \", 1072000], [2002, 378999, \"TOMATOES UNSPECIFIED \", 111, \"Ventura \", \"201\", \"138.95\", \"27929\", \"1351\", \"TON \", 37720000], [2002, 378999, \"TOMATOES UNSPECIFIED \", 999, \" State Totals\", \"3181\", \"32.12\", \"102165\", \"751\", \"    \", 76768500], [2002, 612999, \"TURKEYS POULTS \", 99, \"Stanislaus \", \"  \", \"  \", \"  \", \"  \", \"  \", 11722000], [2002, 612999, \"TURKEYS POULTS \", 999, \" State Totals\", \"0\", \"  \", \"0\", \"  \", \"    \", 11722000], [2002, 619999, \"TURKEYS UNSPECIFIED \", 19, \"Fresno \", \"  \", \"  \", \"  \", \"  \", \"  \", 43401000], [2002, 619999, \"TURKEYS UNSPECIFIED \", 31, \"Kings \", \"  \", \"  \", \"  \", \"  \", \"  \", 33388000], [2002, 619999, \"TURKEYS UNSPECIFIED \", 47, \"Merced \", \"  \", \"  \", \"  \", \"  \", \"  \", 40048000], [2002, 619999, \"TURKEYS UNSPECIFIED \", 77, \"San Joaquin \", \"  \", \"  \", \"  \", \"  \", \"  \", 2119000], [2002, 619999, \"TURKEYS UNSPECIFIED \", 99, \"Stanislaus \", \"  \", \"  \", \"  \", \"  \", \"  \", 25407000], [2002, 619999, \"TURKEYS UNSPECIFIED \", 107, \"Tulare \", \"  \", \"  \", \"  \", \"  \", \"  \", 7665000], [2002, 619999, \"TURKEYS UNSPECIFIED \", 999, \" State Totals\", \"0\", \"  \", \"0\", \"  \", \"    \", 152028000], [2002, 380999, \"TURNIPS ALL \", 71, \"San Bernardino \", \"3\", \"2.00\", \"6\", \"667\", \"TON \", 4000], [2002, 380999, \"TURNIPS ALL \", 999, \" State Totals\", \"3\", \"2.00\", \"6\", \"667\", \"    \", 4000], [2002, 395999, \"VEGETABLES ORIENTAL ALL \", 19, \"Fresno \", \"1250\", \"11.60\", \"14500\", \"504\", \"TON \", 7308000], [2002, 395999, \"VEGETABLES ORIENTAL ALL \", 53, \"Monterey \", \"508\", \"24.13\", \"12260\", \"264\", \"TON \", 3232000], [2002, 395999, \"VEGETABLES ORIENTAL ALL \", 65, \"Riverside \", \"1343\", \"14.92\", \"20043\", \"672\", \"TON \", 13471700], [2002, 395999, \"VEGETABLES ORIENTAL ALL \", 71, \"San Bernardino \", \"1123\", \"5.24\", \"5879\", \"460\", \"TON \", 2702500], [2002, 395999, \"VEGETABLES ORIENTAL ALL \", 73, \"San Diego \", \"101\", \"5.20\", \"525\", \"957\", \"TON \", 502600], [2002, 395999, \"VEGETABLES ORIENTAL ALL \", 79, \"San Luis Obispo \", \"1543\", \"32.24\", \"49746\", \"215\", \"TON \", 10683000], [2002, 395999, \"VEGETABLES ORIENTAL ALL \", 85, \"Santa Clara \", \"703\", \"21.30\", \"14974\", \"410\", \"TON \", 6139000], [2002, 395999, \"VEGETABLES ORIENTAL ALL \", 111, \"Ventura \", \"773\", \"8.48\", \"6556\", \"453\", \"TON \", 2968000], [2002, 395999, \"VEGETABLES ORIENTAL ALL \", 999, \" State Totals\", \"7344\", \"16.95\", \"124483\", \"378\", \"    \", 47006800], [2002, 398999, \"VEGETABLES UNSPECIFIED \", 1, \"Alameda \", \"  \", \"  \", \"  \", \"  \", \"  \", 865000], [2002, 398999, \"VEGETABLES UNSPECIFIED \", 5, \"Amador \", \"  \", \"  \", \"  \", \"  \", \"  \", 122600], [2002, 398999, \"VEGETABLES UNSPECIFIED \", 7, \"Butte \", \"675\", \"  \", \"  \", \"  \", \"  \", 490000], [2002, 398999, \"VEGETABLES UNSPECIFIED \", 9, \"Calaveras \", \"  \", \"  \", \"  \", \"  \", \"  \", 170000], [2002, 398999, \"VEGETABLES UNSPECIFIED \", 11, \"Colusa \", \"57\", \"  \", \"  \", \"  \", \"  \", 84000], [2002, 398999, \"VEGETABLES UNSPECIFIED \", 13, \"Contra Costa \", \"1520\", \"  \", \"  \", \"  \", \"  \", 3738000], [2002, 398999, \"VEGETABLES UNSPECIFIED \", 15, \"Del Norte \", \"  \", \"  \", \"  \", \"  \", \"  \", 64900], [2002, 398999, \"VEGETABLES UNSPECIFIED \", 19, \"Fresno \", \"10100\", \"  \", \"  \", \"  \", \"  \", 32029000], [2002, 398999, \"VEGETABLES UNSPECIFIED \", 21, \"Glenn \", \"949\", \"  \", \"  \", \"  \", \"  \", 1682000], [2002, 398999, \"VEGETABLES UNSPECIFIED \", 23, \"Humboldt \", \"  \", \"  \", \"  \", \"  \", \"  \", 987800], [2002, 398999, \"VEGETABLES UNSPECIFIED \", 25, \"Imperial \", \"5616\", \"  \", \"  \", \"  \", \"  \", 30580000], [2002, 398999, \"VEGETABLES UNSPECIFIED \", 27, \"Inyo \", \"10\", \"  \", \"  \", \"  \", \"  \", 50000], [2002, 398999, \"VEGETABLES UNSPECIFIED \", 29, \"Kern \", \"40000\", \"NaN\", \"NaN\", \"NaN\", \"NaN\", 317528000], [2002, 398999, \"VEGETABLES UNSPECIFIED \", 31, \"Kings \", \"7067\", \"NaN\", \"NaN\", \"NaN\", \"NaN\", 98874000], [2002, 398999, \"VEGETABLES UNSPECIFIED \", 33, \"Lake \", \"73\", \"NaN\", \"NaN\", \"NaN\", \"NaN\", 240600], [2002, 398999, \"VEGETABLES UNSPECIFIED \", 35, \"Lassen \", \"  \", \"NaN\", \"NaN\", \"NaN\", \"NaN\", 1000000], [2002, 398999, \"VEGETABLES UNSPECIFIED \", 37, \"Los Angeles \", \"10917\", \"NaN\", \"NaN\", \"NaN\", \"NaN\", 49056000], [2002, 398999, \"VEGETABLES UNSPECIFIED \", 39, \"Madera \", \"3700\", \"NaN\", \"NaN\", \"NaN\", \"NaN\", 25763000], [2002, 398999, \"VEGETABLES UNSPECIFIED \", 41, \"Marin \", \"175\", \"NaN\", \"NaN\", \"NaN\", \"NaN\", 1314200], [2002, 398999, \"VEGETABLES UNSPECIFIED \", 45, \"Mendocino \", \"  \", \"NaN\", \"NaN\", \"NaN\", \"NaN\", 1050000], [2002, 398999, \"VEGETABLES UNSPECIFIED \", 47, \"Merced \", \"2716\", \"NaN\", \"NaN\", \"NaN\", \"NaN\", 12158000], [2002, 398999, \"VEGETABLES UNSPECIFIED \", 49, \"Modoc \", \"3500\", \"NaN\", \"NaN\", \"NaN\", \"NaN\", 7620900], [2002, 398999, \"VEGETABLES UNSPECIFIED \", 53, \"Monterey \", \"23320\", \"NaN\", \"NaN\", \"NaN\", \"NaN\", 138411000], [2002, 398999, \"VEGETABLES UNSPECIFIED \", 55, \"Napa \", \"  \", \"NaN\", \"NaN\", \"NaN\", \"NaN\", 172000], [2002, 398999, \"VEGETABLES UNSPECIFIED \", 59, \"Orange \", \"150\", \"NaN\", \"NaN\", \"NaN\", \"NaN\", 533900], [2002, 398999, \"VEGETABLES UNSPECIFIED \", 61, \"Placer \", \"  \", \"NaN\", \"NaN\", \"NaN\", \"NaN\", 292500], [2002, 398999, \"VEGETABLES UNSPECIFIED \", 65, \"Riverside \", \"1493\", \"NaN\", \"NaN\", \"NaN\", \"NaN\", 7689500], [2002, 398999, \"VEGETABLES UNSPECIFIED \", 67, \"Sacramento \", \"1054\", \"  \", \"  \", \"  \", \"  \", 2141000], [2002, 398999, \"VEGETABLES UNSPECIFIED \", 69, \"San Benito \", \"3103\", \"  \", \"  \", \"  \", \"  \", 17701000], [2002, 398999, \"VEGETABLES UNSPECIFIED \", 71, \"San Bernardino \", \"168\", \"  \", \"  \", \"  \", \"  \", 8419800], [2002, 398999, \"VEGETABLES UNSPECIFIED \", 73, \"San Diego \", \"1059\", \"  \", \"  \", \"  \", \"  \", 19609000], [2002, 398999, \"VEGETABLES UNSPECIFIED \", 75, \"San Francisco \", \"  \", \"  \", \"  \", \"  \", \"  \", 1032000], [2002, 398999, \"VEGETABLES UNSPECIFIED \", 77, \"San Joaquin \", \"5490\", \"  \", \"  \", \"  \", \"  \", 19980000], [2002, 398999, \"VEGETABLES UNSPECIFIED \", 79, \"San Luis Obispo \", \"3000\", \"  \", \"  \", \"  \", \"  \", 13905000], [2002, 398999, \"VEGETABLES UNSPECIFIED \", 81, \"San Mateo \", \"609\", \"  \", \"  \", \"  \", \"  \", 4091000], [2002, 398999, \"VEGETABLES UNSPECIFIED \", 83, \"Santa Barbara \", \"10276\", \"  \", \"  \", \"  \", \"  \", 51583800], [2002, 398999, \"VEGETABLES UNSPECIFIED \", 85, \"Santa Clara \", \"550\", \"  \", \"  \", \"  \", \"  \", 2617000], [2002, 398999, \"VEGETABLES UNSPECIFIED \", 87, \"Santa Cruz \", \"2973\", \"  \", \"  \", \"  \", \"  \", 14865000], [2002, 398999, \"VEGETABLES UNSPECIFIED \", 93, \"Siskiyou \", \"  \", \"  \", \"  \", \"  \", \"  \", 950000], [2002, 398999, \"VEGETABLES UNSPECIFIED \", 95, \"Solano \", \"1320\", \"  \", \"  \", \"  \", \"  \", 9683400], [2002, 398999, \"VEGETABLES UNSPECIFIED \", 97, \"Sonoma \", \"562\", \"  \", \"  \", \"  \", \"  \", 10131400], [2002, 398999, \"VEGETABLES UNSPECIFIED \", 99, \"Stanislaus \", \"5200\", \"  \", \"  \", \"  \", \"  \", 8840000], [2002, 398999, \"VEGETABLES UNSPECIFIED \", 101, \"Sutter \", \"696\", \"NaN\", \"NaN\", \"NaN\", \"NaN\", 2588600], [2002, 398999, \"VEGETABLES UNSPECIFIED \", 103, \"Tehama \", \"52\", \"NaN\", \"NaN\", \"NaN\", \"NaN\", 160000], [2002, 398999, \"VEGETABLES UNSPECIFIED \", 107, \"Tulare \", \"3211\", \"NaN\", \"NaN\", \"NaN\", \"NaN\", 14500000], [2002, 398999, \"VEGETABLES UNSPECIFIED \", 111, \"Ventura \", \"1478\", \"NaN\", \"NaN\", \"NaN\", \"NaN\", 28662000], [2002, 398999, \"VEGETABLES UNSPECIFIED \", 113, \"Yolo \", \"7166\", \"NaN\", \"NaN\", \"NaN\", \"NaN\", 13704000], [2002, 398999, \"VEGETABLES UNSPECIFIED \", 999, \" State Totals\", \"160005\", \"NaN\", \"0\", \"NaN\", \"NaN\", 977730900], [2002, 265999, \"WALNUTS BLACK \", 101, \"Sutter \", \"71\", \"0.06\", \"4\", \"175\", \"TON \", 700], [2002, 265999, \"WALNUTS BLACK \", 999, \" State Totals\", \"71\", \"0.06\", \"4\", \"175\", \"    \", 700], [2002, 263999, \"WALNUTS ENGLISH \", 5, \"Amador \", \"427\", \"1.00\", \"427\", \"1000\", \"TON \", 427000], [2002, 263999, \"WALNUTS ENGLISH \", 7, \"Butte \", \"20113\", \"1.90\", \"38214\", \"1179\", \"TON \", 45055000], [2002, 263999, \"WALNUTS ENGLISH \", 9, \"Calaveras \", \"650\", \"1.08\", \"700\", \"930\", \"TON \", 651000], [2002, 263999, \"WALNUTS ENGLISH \", 11, \"Colusa \", \"4400\", \"1.40\", \"6160\", \"1060\", \"TON \", 6530000], [2002, 263999, \"WALNUTS ENGLISH \", 13, \"Contra Costa \", \"856\", \"1.21\", \"1040\", \"1041\", \"TON \", 1083000], [2002, 263999, \"WALNUTS ENGLISH \", 17, \"El Dorado \", \"253\", \"0.55\", \"139\", \"1060\", \"TON \", 147300], [2002, 263999, \"WALNUTS ENGLISH \", 19, \"Fresno \", \"3639\", \"1.78\", \"6480\", \"1180\", \"TON \", 7646000], [2002, 263999, \"WALNUTS ENGLISH \", 21, \"Glenn \", \"9200\", \"1.27\", \"11673\", \"1080\", \"TON \", 12607000], [2002, 263999, \"WALNUTS ENGLISH \", 29, \"Kern \", \"1464\", \"1.37\", \"2010\", \"1004\", \"TON \", 2018000], [2002, 263999, \"WALNUTS ENGLISH \", 31, \"Kings \", \"9893\", \"1.30\", \"12861\", \"1110\", \"TON \", 14272000], [2002, 263999, \"WALNUTS ENGLISH \", 33, \"Lake \", \"2799\", \"0.70\", \"1959\", \"960\", \"TON\", 1880700], [2002, 263999, \"WALNUTS ENGLISH \", 39, \"Madera \", \"940\", \"1.25\", \"1175\", \"1126\", \"TON \", 1323000], [2002, 263999, \"WALNUTS ENGLISH \", 47, \"Merced \", \"5726\", \"1.21\", \"6940\", \"1148\", \"TON \", 7967000], [2002, 263999, \"WALNUTS ENGLISH \", 53, \"Monterey \", \"450\", \"0.60\", \"268\", \"1194\", \"TON \", 320000], [2002, 263999, \"WALNUTS ENGLISH \", 55, \"Napa \", \"111\", \"0.31\", \"34\", \"912\", \"TON \", 31000], [2002, 263999, \"WALNUTS ENGLISH \", 69, \"San Benito \", \"1915\", \"0.85\", \"1628\", \"1219\", \"TON \", 1985000], [2002, 263999, \"WALNUTS ENGLISH \", 77, \"San Joaquin \", \"45000\", \"1.50\", \"67500\", \"1120\", \"TON \", 75600000], [2002, 263999, \"WALNUTS ENGLISH \", 79, \"San Luis Obispo \", \"2638\", \"0.37\", \"976\", \"920\", \"TON \", 898000], [2002, 263999, \"WALNUTS ENGLISH \", 85, \"Santa Clara \", \"290\", \"0.70\", \"203\", \"966\", \"TON \", 196000], [2002, 263999, \"WALNUTS ENGLISH \", 89, \"Shasta \", \"675\", \"1.60\", \"1080\", \"1000\", \"TON \", 1080000], [2002, 263999, \"WALNUTS ENGLISH \", 95, \"Solano \", \"6898\", \"0.77\", \"5332\", \"1084\", \"TON \", 5779900], [2002, 263999, \"WALNUTS ENGLISH \", 97, \"Sonoma \", \"188\", \"0.27\", \"50\", \"1132\", \"TON \", 56600], [2002, 263999, \"WALNUTS ENGLISH \", 99, \"Stanislaus \", \"25900\", \"1.50\", \"38900\", \"1305\", \"TON \", 50765000], [2002, 263999, \"WALNUTS ENGLISH \", 101, \"Sutter \", \"15431\", \"1.71\", \"26387\", \"1124\", \"TON \", 29668000], [2002, 263999, \"WALNUTS ENGLISH \", 103, \"Tehama \", \"13413\", \"1.80\", \"24143\", \"1040\", \"TON \", 25108700], [2002, 263999, \"WALNUTS ENGLISH \", 107, \"Tulare \", \"31466\", \"1.01\", \"31780\", \"1000\", \"TON \", 31780000], [2002, 263999, \"WALNUTS ENGLISH \", 113, \"Yolo \", \"9080\", \"1.25\", \"11350\", \"1010\", \"TON \", 11465000], [2002, 263999, \"WALNUTS ENGLISH \", 115, \"Yuba \", \"9200\", \"1.49\", \"13708\", \"1080\", \"TON \", 14805000], [2002, 263999, \"WALNUTS ENGLISH \", 999, \" State Totals\", \"223015\", \"1.40\", \"313117\", \"1121\", \"    \", 351145200], [2002, 101999, \"WHEAT ALL \", 7, \"Butte \", \"4000\", \"1.96\", \"7840\", \"90\", \"TON \", 706000], [2002, 101999, \"WHEAT ALL \", 11, \"Colusa \", \"21400\", \"2.30\", \"49220\", \"95\", \"TON \", 4676000], [2002, 101999, \"WHEAT ALL \", 13, \"Contra Costa \", \"1430\", \"2.10\", \"3010\", \"108\", \"TON \", 325000], [2002, 101999, \"WHEAT ALL \", 19, \"Fresno \", \"61000\", \"3.21\", \"196000\", \"126\", \"TON \", 24696000], [2002, 101999, \"WHEAT ALL \", 21, \"Glenn \", \"14006\", \"2.60\", \"36416\", \"93\", \"TON \", 3387000], [2002, 101999, \"WHEAT ALL \", 25, \"Imperial \", \"48148\", \"3.23\", \"155518\", \"138\", \"TON \", 21488000], [2002, 101999, \"WHEAT ALL \", 29, \"Kern \", \"74000\", \"3.16\", \"234000\", \"110\", \"TON \", 25674000], [2002, 101999, \"WHEAT ALL \", 31, \"Kings \", \"85622\", \"2.76\", \"236317\", \"123\", \"TON \", 29039000], [2002, 101999, \"WHEAT ALL \", 35, \"Lassen \", \"2000\", \"1.95\", \"3900\", \"140\", \"TON \", 546000], [2002, 101999, \"WHEAT ALL \", 39, \"Madera \", \"5900\", \"2.85\", \"16815\", \"113\", \"TON \", 1900000], [2002, 101999, \"WHEAT ALL \", 47, \"Merced \", \"14419\", \"2.28\", \"32820\", \"112\", \"TON \", 3665000], [2002, 101999, \"WHEAT ALL \", 49, \"Modoc \", \"4577\", \"3.20\", \"14646\", \"140\", \"TON \", 2050400], [2002, 101999, \"WHEAT ALL \", 65, \"Riverside \", \"5727\", \"3.00\", \"17181\", \"135\", \"TON \", 2319400], [2002, 101999, \"WHEAT ALL \", 67, \"Sacramento \", \"9730\", \"2.50\", \"24330\", \"102\", \"TON \", 2482000], [2002, 101999, \"WHEAT ALL \", 69, \"San Benito \", \"1000\", \"1.50\", \"1500\", \"95\", \"TON \", 143000], [2002, 101999, \"WHEAT ALL \", 73, \"San Diego \", \"150\", \"1.01\", \"152\", \"141\", \"TON \", 21500], [2002, 101999, \"WHEAT ALL \", 77, \"San Joaquin \", \"30700\", \"2.68\", \"82200\", \"106\", \"TON \", 8717000], [2002, 101999, \"WHEAT ALL \", 89, \"Shasta \", \"635\", \"1.00\", \"635\", \"70\", \"TON \", 44500], [2002, 101999, \"WHEAT ALL \", 93, \"Siskiyou \", \"10371\", \"2.29\", \"23766\", \"131\", \"TON \", 3106900], [2002, 101999, \"WHEAT ALL \", 95, \"Solano \", \"34516\", \"2.19\", \"75627\", \"99\", \"TON \", 7487000], [2002, 101999, \"WHEAT ALL \", 99, \"Stanislaus \", \"4000\", \"2.69\", \"10760\", \"113\", \"TON \", 1216000], [2002, 101999, \"WHEAT ALL \", 101, \"Sutter \", \"10331\", \"2.72\", \"28100\", \"98\", \"TON \", 2740600], [2002, 101999, \"WHEAT ALL \", 103, \"Tehama \", \"2000\", \"2.00\", \"4000\", \"85\", \"TON \", 340000], [2002, 101999, \"WHEAT ALL \", 107, \"Tulare \", \"51958\", \"2.14\", \"111000\", \"98\", \"TON \", 10911000], [2002, 101999, \"WHEAT ALL \", 113, \"Yolo \", \"33076\", \"2.60\", \"85998\", \"99\", \"TON \", 8537000], [2002, 101999, \"WHEAT ALL \", 999, \" State Totals\", \"530696\", \"2.74\", \"1451751\", \"115\", \"    \", 166218300], [2002, 171019, \"WHEAT SEED \", 11, \"Colusa \", \"2150\", \"2.20\", \"4730\", \"100\", \"TON \", 473000], [2002, 171019, \"WHEAT SEED \", 93, \"Siskiyou \", \"600\", \"2.50\", \"1500\", \"140\", \"TON \", 210000], [2002, 171019, \"WHEAT SEED \", 95, \"Solano \", \"696\", \"2.50\", \"1740\", \"100\", \"TON \", 174000], [2002, 171019, \"WHEAT SEED \", 101, \"Sutter \", \"740\", \"2.75\", \"2035\", \"100\", \"TON \", 203500], [2002, 171019, \"WHEAT SEED \", 999, \" State Totals\", \"4186\", \"2.39\", \"10005\", \"106\", \"    \", 1060500], [2002, 472999, \"WOOL \", 19, \"Fresno \", \"  \", \"  \", \"558000\", \"0.41\", \"LBS \", 229000], [2002, 472999, \"WOOL \", 21, \"Glenn \", \"  \", \"  \", \"71791\", \"0.53\", \"LBS \", 38000], [2002, 472999, \"WOOL \", 23, \"Humboldt \", \"  \", \"  \", \"  \", \"  \", \"  \", 144400], [2002, 472999, \"WOOL \", 25, \"Imperial \", \"  \", \"  \", \"  \", \"  \", \"  \", 68000], [2002, 472999, \"WOOL \", 29, \"Kern \", \"  \", \"  \", \"1171000\", \"0.70\", \"LBS \", 820000], [2002, 472999, \"WOOL \", 31, \"Kings \", \"  \", \"  \", \"91061\", \"0.65\", \"LBS \", 59000], [2002, 472999, \"WOOL \", 41, \"Marin \", \"  \", \"  \", \"71400\", \"0.25\", \"LBS \", 17900], [2002, 472999, \"WOOL \", 43, \"Mariposa \", \"  \", \"  \", \"20300\", \"0.45\", \"LBS \", 9100], [2002, 472999, \"WOOL \", 45, \"Mendocino \", \"  \", \"  \", \"32360\", \"0.76\", \"LBS \", 24600], [2002, 472999, \"WOOL \", 47, \"Merced \", \"  \", \"  \", \"140000\", \"0.65\", \"LBS \", 91000], [2002, 472999, \"WOOL \", 49, \"Modoc \", \"  \", \"  \", \"15000\", \"0.30\", \"LBS \", 4500], [2002, 472999, \"WOOL \", 51, \"Mono \", \"  \", \"  \", \"110000\", \"0.68\", \"LBS \", 74800], [2002, 472999, \"WOOL \", 53, \"Monterey \", \"  \", \"  \", \"16560\", \"0.15\", \"LBS \", 2500], [2002, 472999, \"WOOL \", 67, \"Sacramento \", \"  \", \"  \", \"16157\", \"0.37\", \"LBS \", 6000], [2002, 472999, \"WOOL \", 77, \"San Joaquin \", \"  \", \"  \", \"79000\", \"0.46\", \"LBS \", 36000], [2002, 472999, \"WOOL \", 93, \"Siskiyou \", \"  \", \"  \", \"10000\", \"0.25\", \"LBS \", 2500], [2002, 472999, \"WOOL \", 95, \"Solano \", \"  \", \"  \", \"449952\", \"0.56\", \"LBS \", 252000], [2002, 472999, \"WOOL \", 97, \"Sonoma \", \"  \", \"  \", \"91734\", \"0.40\", \"LBS \", 36700], [2002, 472999, \"WOOL \", 99, \"Stanislaus \", \"  \", \"  \", \"16800\", \"0.37\", \"LBS \", 6200], [2002, 472999, \"WOOL \", 101, \"Sutter \", \"  \", \"  \", \"87780\", \"0.18\", \"LBS \", 15800], [2002, 472999, \"WOOL \", 103, \"Tehama \", \"  \", \"  \", \"35000\", \"0.50\", \"LBS \", 17500], [2002, 472999, \"WOOL \", 115, \"Yuba \", \"  \", \"  \", \"23117\", \"0.26\", \"LBS \", 6000], [2002, 472999, \"WOOL \", 999, \" State Totals\", \"0\", \"  \", \"3107012\", \"0.56\", \"    \", 1961500]];\n",
       "\n",
       "        // Define the dt_args\n",
       "        let dt_args = {\"layout\": {\"topStart\": \"pageLength\", \"topEnd\": \"search\", \"bottomStart\": \"info\", \"bottomEnd\": \"paging\"}, \"order\": [], \"fnInfoCallback\": function (oSettings, iStart, iEnd, iMax, iTotal, sPre) { return sPre + ' (<a href=\"https://mwouts.github.io/itables/downsampling.html\">downsampled</a> from 2,314x11 to 744x11 as maxBytes=64KB)'; }};\n",
       "        dt_args[\"data\"] = data;\n",
       "\n",
       "        \n",
       "        new DataTable(table, dt_args);\n",
       "    });\n",
       "</script>\n"
      ],
      "text/plain": [
       "<IPython.core.display.HTML object>"
      ]
     },
     "metadata": {},
     "output_type": "display_data"
    }
   ],
   "source": [
    "for _,_,fnames in os.walk(tabledir):\n",
    "    break\n",
    "\n",
    "tables = {}\n",
    "for fname in fnames:\n",
    "    if fname.endswith('raw.csv'):\n",
    "        fpath = os.path.join(tabledir, fname)\n",
    "        tables[fname[0:4]] = pd.read_csv(fpath)\n",
    "\n",
    "show(tables['2002'])"
   ]
  },
  {
   "cell_type": "markdown",
   "id": "84175464-8240-4bef-a5b4-013b5254626d",
   "metadata": {},
   "source": [
    "#### Match column names and concat"
   ]
  },
  {
   "cell_type": "code",
   "execution_count": 8,
   "id": "a5f68ddd-0024-4468-87e2-1a2c14c8c76b",
   "metadata": {
    "scrolled": true
   },
   "outputs": [
    {
     "name": "stdout",
     "output_type": "stream",
     "text": [
      "1987\n",
      "['Year', 'Commodity Code', 'Crop Name', 'County Code', 'County', 'Harvested Acres', 'Yield', 'Production', 'Price Per Unit', 'Unit', 'Value']\n",
      "1985\n",
      "['Year', 'Commodity Code', 'Crop Name', 'County Code', 'County', 'Harvested Acres', 'Yield', 'Production', 'Price Per Unit', 'Unit', 'Value']\n",
      "2004\n",
      "['Year', 'Commodity Code', 'Crop Name', 'County Code', 'County', 'Harvested Acres', 'Yield', 'Production', 'Price Per Unit', 'Unit', 'Value']\n",
      "2006\n",
      "['Year', 'Commodity Code', 'Crop Name', 'County Code', 'County', 'Harvested Acres', 'Yield', 'Production', 'Price Per Unit', 'Unit', 'Value']\n",
      "2013\n",
      "['Year', 'Commodity Code', 'Crop Name', 'County Code', 'County', 'Harvested Acres', 'Yield', 'Production', 'Price Per Unit', 'Unit', 'Value']\n",
      "2009\n",
      "['Year', 'Commodity Code', 'Crop Name', 'County Code', 'County', 'Harvested Acres', 'Yield', 'Production', 'Price Per Unit', 'Unit', 'Value']\n",
      "1980\n",
      "['Year', 'Commodity Code', 'Crop Name', 'County Code', 'County', 'Harvested Acres', 'Yield', 'Production', 'Price Per Unit', 'Unit', 'Value']\n",
      "2019\n",
      "['Year', 'Commodity Code', 'Crop Name', 'County Code', 'County', 'Harvested Acres', 'Yield', 'Production', 'Price Per Unit', 'Unit', 'Value']\n",
      "1991\n",
      "['Year', 'Commodity Code', 'Crop Name', 'County Code', 'County', 'Harvested Acres', 'Yield', 'Production', 'Price Per Unit', 'Unit', 'Value']\n",
      "2001\n",
      "['Year', 'Commodity Code', 'Crop Name', 'County Code', 'County', 'Harvested Acres', 'Yield', 'Production', 'Price Per Unit', 'Unit', 'Value']\n",
      "1989\n",
      "['Year', 'Commodity Code', 'Crop Name', 'County Code', 'County', 'Harvested Acres', 'Yield', 'Production', 'Price Per Unit', 'Unit', 'Value']\n",
      "1988\n",
      "['Year', 'Commodity Code', 'Crop Name', 'County Code', 'County', 'Harvested Acres', 'Yield', 'Production', 'Price Per Unit', 'Unit', 'Value']\n",
      "2011\n",
      "['Year', 'Commodity Code', 'Crop Name', 'County Code', 'County', 'Harvested Acres', 'Yield', 'Production', 'Price Per Unit', 'Unit', 'Value']\n",
      "2016\n",
      "['Year', 'Commodity Code', 'Crop Name', 'County Code', 'County', 'Harvested Acres', 'Yield', 'Production', 'Price Per Unit', 'Unit', 'Value']\n",
      "1990\n",
      "['Year', 'Commodity Code', 'Crop Name', 'County Code', 'County', 'Harvested Acres', 'Yield', 'Production', 'Price Per Unit', 'Unit', 'Value']\n",
      "1986\n",
      "['Year', 'Commodity Code', 'Crop Name', 'County Code', 'County', 'Harvested Acres', 'Yield', 'Production', 'Price Per Unit', 'Unit', 'Value']\n",
      "2002\n",
      "['Year', 'Commodity Code', 'Crop Name', 'County Code', 'County', 'Harvested Acres', 'Yield', 'Production', 'Price Per Unit', 'Unit', 'Value']\n",
      "1982\n",
      "['Year', 'Commodity Code', 'Crop Name', 'County Code', 'County', 'Harvested Acres', 'Yield', 'Production', 'Price Per Unit', 'Unit', 'Value']\n",
      "1993\n",
      "['Year', 'Commodity Code', 'Crop Name', 'County Code', 'County', 'Harvested Acres', 'Yield', 'Production', 'Price Per Unit', 'Unit', 'Value']\n",
      "2015\n",
      "['Year', 'Commodity Code', 'Crop Name', 'County Code', 'County', 'Harvested Acres', 'Yield', 'Production', 'Price Per Unit', 'Unit', 'Value']\n",
      "2005\n",
      "['Year', 'Commodity Code', 'Crop Name', 'County Code', 'County', 'Harvested Acres', 'Yield', 'Production', 'Price Per Unit', 'Unit', 'Value']\n",
      "1981\n",
      "['Year', 'Commodity Code', 'Crop Name', 'County Code', 'County', 'Harvested Acres', 'Yield', 'Production', 'Price Per Unit', 'Unit', 'Value']\n",
      "2000\n",
      "['Year', 'Commodity Code', 'Crop Name', 'County Code', 'County', 'Harvested Acres', 'Yield', 'Production', 'Price Per Unit', 'Unit', 'Value']\n",
      "2017\n",
      "['Year', 'Commodity Code', 'Crop Name', 'County Code', 'County', 'Harvested Acres', 'Yield', 'Production', 'Price Per Unit', 'Unit', 'Value']\n",
      "2020\n",
      "['Year', 'Commodity Code', 'Crop Name', 'County Code', 'County', 'Harvested Acres', 'Yield', 'Production', 'Price Per Unit', 'Unit', 'Value']\n",
      "1995\n",
      "['Year', 'Commodity Code', 'Crop Name', 'County Code', 'County', 'Harvested Acres', 'Yield', 'Production', 'Price Per Unit', 'Unit', 'Value']\n",
      "1984\n",
      "['Year', 'Commodity Code', 'Crop Name', 'County Code', 'County', 'Harvested Acres', 'Yield', 'Production', 'Price Per Unit', 'Unit', 'Value']\n",
      "1999\n",
      "['Year', 'Commodity Code', 'Crop Name', 'County Code', 'County', 'Harvested Acres', 'Yield', 'Production', 'Price Per Unit', 'Unit', 'Value']\n",
      "1996\n",
      "['Year', 'Commodity Code', 'Crop Name', 'County Code', 'County', 'Harvested Acres', 'Yield', 'Production', 'Price Per Unit', 'Unit', 'Value']\n",
      "1992\n",
      "['Year', 'Commodity Code', 'Crop Name', 'County Code', 'County', 'Harvested Acres', 'Yield', 'Production', 'Price Per Unit', 'Unit', 'Value']\n",
      "2003\n",
      "['Year', 'Commodity Code', 'Crop Name', 'County Code', 'County', 'Harvested Acres', 'Yield', 'Production', 'Price Per Unit', 'Unit', 'Value']\n",
      "2010\n",
      "['Year', 'Commodity Code', 'Crop Name', 'County Code', 'County', 'Harvested Acres', 'Yield', 'Production', 'Price Per Unit', 'Unit', 'Value']\n",
      "2008\n",
      "['Year', 'Commodity Code', 'Crop Name', 'County Code', 'County', 'Harvested Acres', 'Yield', 'Production', 'Price Per Unit', 'Unit', 'Value']\n",
      "2007\n",
      "['Year', 'Commodity Code', 'Crop Name', 'County Code', 'County', 'Harvested Acres', 'Yield', 'Production', 'Price Per Unit', 'Unit', 'Value']\n",
      "1998\n",
      "['Year', 'Commodity Code', 'Crop Name', 'County Code', 'County', 'Harvested Acres', 'Yield', 'Production', 'Price Per Unit', 'Unit', 'Value']\n",
      "2018\n",
      "['Year', 'Commodity Code', 'Crop Name', 'County Code', 'County', 'Harvested Acres', 'Yield', 'Production', 'Price Per Unit', 'Unit', 'Value']\n",
      "1994\n",
      "['Year', 'Commodity Code', 'Crop Name', 'County Code', 'County', 'Harvested Acres', 'Yield', 'Production', 'Price Per Unit', 'Unit', 'Value']\n",
      "2012\n",
      "['Year', 'Commodity Code', 'Crop Name', 'County Code', 'County', 'Harvested Acres', 'Yield', 'Production', 'Price Per Unit', 'Unit', 'Value']\n",
      "1997\n",
      "['Year', 'Commodity Code', 'Crop Name', 'County Code', 'County', 'Harvested Acres', 'Yield', 'Production', 'Price Per Unit', 'Unit', 'Value']\n",
      "1983\n",
      "['Year', 'Commodity Code', 'Crop Name', 'County Code', 'County', 'Harvested Acres', 'Yield', 'Production', 'Price Per Unit', 'Unit', 'Value']\n",
      "2014\n",
      "['Year', 'Commodity Code', 'Crop Name', 'County Code', 'County', 'Harvested Acres', 'Yield', 'Production', 'Price Per Unit', 'Unit', 'Value']\n"
     ]
    },
    {
     "data": {
      "text/plain": [
       "Index(['Year', 'Commodity Code', 'Crop Name', 'County Code', 'County',\n",
       "       'Harvested Acres', 'Yield', 'Production', 'Price Per Unit', 'Unit',\n",
       "       'Value'],\n",
       "      dtype='object')"
      ]
     },
     "execution_count": 8,
     "metadata": {},
     "output_type": "execute_result"
    }
   ],
   "source": [
    "from copy import copy\n",
    "\n",
    "colremaps = {\n",
    "    'yield (unit/acre)': 'Yield',\n",
    "    'current item name': 'Item Name',\n",
    "    'cropname': 'Crop Name',\n",
    "    'crop name': 'Crop Name',\n",
    "    'harvested acres': 'Harvested Acres',\n",
    "    'price p/u': 'Price Per Unit',\n",
    "    'price per unit': 'Price Per Unit',\n",
    "    'price (dollars/unit)': 'Price Per Unit',\n",
    "    'price_per': 'Price Per Unit',\n",
    "    'value (dollars)': 'Value',\n",
    "    'commodity': 'Commodity Code',\n",
    "    'commodity code': 'Commodity Code',\n",
    "    'county code': 'County Code',\n",
    "    'countycode': 'County Code',\n",
    "    'acres': 'Harvested Acres'\n",
    "}\n",
    "\n",
    "for year, table in tables.items():\n",
    "    print(year)\n",
    "    tcols = list(table.columns)\n",
    "    for i in range(len(tcols)):\n",
    "        ncol = copy(tcols[i])\n",
    "\n",
    "        ncol = ncol.strip().lower()\n",
    "\n",
    "        if ncol in colremaps:\n",
    "            ncol = colremaps[ncol]\n",
    "        else:\n",
    "            ncol = ncol.capitalize()\n",
    "\n",
    "        table[ncol] = table[tcols[i]]\n",
    "        tcols[i] = ncol\n",
    "\n",
    "    table = table[tcols]\n",
    "    tables[year] = table\n",
    "    print(tcols)\n",
    "\n",
    "\n",
    "tables['2002'].columns"
   ]
  },
  {
   "cell_type": "code",
   "execution_count": 9,
   "id": "1838165a-b92d-40fa-a021-fa1fc838bbc3",
   "metadata": {},
   "outputs": [
    {
     "data": {
      "text/html": [
       "<table id=\"itables_732b712f_2715_4584_938f_81380370b631\" class=\"display nowrap\" data-quarto-disable-processing=\"true\" style=\"table-layout:auto;width:auto;margin:auto;caption-side:bottom\">\n",
       "<thead>\n",
       "    <tr style=\"text-align: right;\">\n",
       "      <th></th>\n",
       "      <th>Year</th>\n",
       "      <th>Commodity Code</th>\n",
       "      <th>Crop Name</th>\n",
       "      <th>County Code</th>\n",
       "      <th>County</th>\n",
       "      <th>Harvested Acres</th>\n",
       "      <th>Yield</th>\n",
       "      <th>Production</th>\n",
       "      <th>Price Per Unit</th>\n",
       "      <th>Unit</th>\n",
       "      <th>Value</th>\n",
       "    </tr>\n",
       "  </thead><tbody><tr>\n",
       "<td style=\"vertical-align:middle; text-align:left\">\n",
       "<div style=\"float:left; margin-right: 10px;\">\n",
       "<a href=https://mwouts.github.io/itables/><svg class=\"main-svg\" xmlns=\"http://www.w3.org/2000/svg\" xmlns:xlink=\"http://www.w3.org/1999/xlink\"\n",
       "width=\"64\" viewBox=\"0 0 500 400\" style=\"font-family: 'Droid Sans', sans-serif;\">\n",
       "    <g style=\"fill:#d9d7fc\">\n",
       "        <path d=\"M100,400H500V357H100Z\" />\n",
       "        <path d=\"M100,300H400V257H100Z\" />\n",
       "        <path d=\"M0,200H400V157H0Z\" />\n",
       "        <path d=\"M100,100H500V57H100Z\" />\n",
       "        <path d=\"M100,350H500V307H100Z\" />\n",
       "        <path d=\"M100,250H400V207H100Z\" />\n",
       "        <path d=\"M0,150H400V107H0Z\" />\n",
       "        <path d=\"M100,50H500V7H100Z\" />\n",
       "    </g>\n",
       "    <g style=\"fill:#1a1366;stroke:#1a1366;\">\n",
       "   <rect x=\"100\" y=\"7\" width=\"400\" height=\"43\">\n",
       "    <animate\n",
       "      attributeName=\"width\"\n",
       "      values=\"0;400;0\"\n",
       "      dur=\"5s\"\n",
       "      repeatCount=\"indefinite\" />\n",
       "      <animate\n",
       "      attributeName=\"x\"\n",
       "      values=\"100;100;500\"\n",
       "      dur=\"5s\"\n",
       "      repeatCount=\"indefinite\" />\n",
       "  </rect>\n",
       "        <rect x=\"0\" y=\"107\" width=\"400\" height=\"43\">\n",
       "    <animate\n",
       "      attributeName=\"width\"\n",
       "      values=\"0;400;0\"\n",
       "      dur=\"3.5s\"\n",
       "      repeatCount=\"indefinite\" />\n",
       "    <animate\n",
       "      attributeName=\"x\"\n",
       "      values=\"0;0;400\"\n",
       "      dur=\"3.5s\"\n",
       "      repeatCount=\"indefinite\" />\n",
       "  </rect>\n",
       "        <rect x=\"100\" y=\"207\" width=\"300\" height=\"43\">\n",
       "    <animate\n",
       "      attributeName=\"width\"\n",
       "      values=\"0;300;0\"\n",
       "      dur=\"3s\"\n",
       "      repeatCount=\"indefinite\" />\n",
       "    <animate\n",
       "      attributeName=\"x\"\n",
       "      values=\"100;100;400\"\n",
       "      dur=\"3s\"\n",
       "      repeatCount=\"indefinite\" />\n",
       "  </rect>\n",
       "        <rect x=\"100\" y=\"307\" width=\"400\" height=\"43\">\n",
       "    <animate\n",
       "      attributeName=\"width\"\n",
       "      values=\"0;400;0\"\n",
       "      dur=\"4s\"\n",
       "      repeatCount=\"indefinite\" />\n",
       "      <animate\n",
       "      attributeName=\"x\"\n",
       "      values=\"100;100;500\"\n",
       "      dur=\"4s\"\n",
       "      repeatCount=\"indefinite\" />\n",
       "  </rect>\n",
       "        <g style=\"fill:transparent;stroke-width:8; stroke-linejoin:round\" rx=\"5\">\n",
       "            <g transform=\"translate(45 50) rotate(-45)\">\n",
       "                <circle r=\"33\" cx=\"0\" cy=\"0\" />\n",
       "                <rect x=\"-8\" y=\"32\" width=\"16\" height=\"30\" />\n",
       "            </g>\n",
       "\n",
       "            <g transform=\"translate(450 152)\">\n",
       "                <polyline points=\"-15,-20 -35,-20 -35,40 25,40 25,20\" />\n",
       "                <rect x=\"-15\" y=\"-40\" width=\"60\" height=\"60\" />\n",
       "            </g>\n",
       "\n",
       "            <g transform=\"translate(50 352)\">\n",
       "                <polygon points=\"-35,-5 0,-40 35,-5\" />\n",
       "                <polygon points=\"-35,10 0,45 35,10\" />\n",
       "            </g>\n",
       "\n",
       "            <g transform=\"translate(75 250)\">\n",
       "                <polyline points=\"-30,30 -60,0 -30,-30\" />\n",
       "                <polyline points=\"0,30 -30,0 0,-30\" />\n",
       "            </g>\n",
       "\n",
       "            <g transform=\"translate(425 250) rotate(180)\">\n",
       "                <polyline points=\"-30,30 -60,0 -30,-30\" />\n",
       "                <polyline points=\"0,30 -30,0 0,-30\" />\n",
       "            </g>\n",
       "        </g>\n",
       "    </g>\n",
       "</svg>\n",
       "</a>\n",
       "</div>\n",
       "<div>\n",
       "Loading ITables v2.1.4 from the internet...\n",
       "(need <a href=https://mwouts.github.io/itables/troubleshooting.html>help</a>?)</td>\n",
       "</div>\n",
       "</tr></tbody>\n",
       "\n",
       "</table>\n",
       "<link href=\"https://www.unpkg.com/dt_for_itables@2.0.11/dt_bundle.css\" rel=\"stylesheet\">\n",
       "<script type=\"module\">\n",
       "    import {DataTable, jQuery as $} from 'https://www.unpkg.com/dt_for_itables@2.0.11/dt_bundle.js';\n",
       "\n",
       "    document.querySelectorAll(\"#itables_732b712f_2715_4584_938f_81380370b631:not(.dataTable)\").forEach(table => {\n",
       "        // Define the table data\n",
       "        const data = [[0, \"1987\", \"172299\", \"  \", \"7\", \"Butte \", \"  \", \"  \", \"  \", \"  \", \"  \", \" \"], [1, \"1987\", \"172299\", \"  \", \"19\", \"Fresno \", \"  \", \"  \", \"  \", \"  \", \"  \", \" \"], [2, \"1987\", \"172299\", \"  \", \"21\", \"Glenn \", \"5293 \", \"0.20 \", \"1052 \", \"2701 \", \"TONS \", \"2841000\"], [3, \"1987\", \"172299\", \"  \", \"67\", \"Sacramento \", \"  \", \"  \", \"  \", \"  \", \"  \", \" \"], [4, \"1987\", \"172299\", \"  \", \"93\", \"Siskiyou \", \"  \", \"  \", \"  \", \"  \", \"  \", \" \"], [5, \"1987\", \"172299\", \"  \", \"999\", \" State Totals\", \"5293 \", \"0.20 \", \"1052 \", \"2701 \", \"    \", \"2841000\"], [6, \"1987\", \"268099\", \"ALMOND HULLS \", \"7\", \"Butte \", \"  \", \"  \", \"36567 \", \"30 \", \"TONS \", \"1097000\"], [7, \"1987\", \"268099\", \"ALMOND HULLS \", \"11\", \"Colusa \", \"  \", \"  \", \"10220 \", \"30 \", \"TONS \", \"306000\"], [8, \"1987\", \"268099\", \"ALMOND HULLS \", \"19\", \"Fresno \", \"  \", \"  \", \"58800 \", \"40 \", \"TONS \", \"2352000\"], [9, \"1987\", \"268099\", \"ALMOND HULLS \", \"21\", \"Glenn \", \"  \", \"  \", \"10651 \", \"30 \", \"TONS \", \"320000\"], [10, \"1987\", \"268099\", \"ALMOND HULLS \", \"29\", \"Kern \", \"  \", \"  \", \"141100 \", \"41 \", \"TONS \", \"5765000\"], [11, \"1987\", \"268099\", \"ALMOND HULLS \", \"31\", \"Kings \", \"  \", \"  \", \"1258 \", \"38 \", \"TONS \", \"48000\"], [12, \"1987\", \"268099\", \"ALMOND HULLS \", \"39\", \"Madera \", \"  \", \"  \", \"56700 \", \"37 \", \"TONS \", \"2098000\"], [13, \"1987\", \"268099\", \"ALMOND HULLS \", \"47\", \"Merced \", \"  \", \"  \", \"147000 \", \"33 \", \"TONS \", \"4792000\"], [14, \"1987\", \"268099\", \"ALMOND HULLS \", \"77\", \"San Joaquin \", \"  \", \"  \", \"59200 \", \"37 \", \"TONS \", \"2219000\"], [15, \"1987\", \"268099\", \"ALMOND HULLS \", \"95\", \"Solano \", \"  \", \"  \", \"1059 \", \"20 \", \"TONS \", \"21200\"], [16, \"1987\", \"268099\", \"ALMOND HULLS \", \"99\", \"Stanislaus \", \"  \", \"  \", \"117198 \", \"32 \", \"TONS \", \"3750000\"], [17, \"1987\", \"268099\", \"ALMOND HULLS \", \"101\", \"Sutter \", \"  \", \"  \", \"575 \", \"20 \", \"TONS \", \"11500\"], [18, \"1987\", \"268099\", \"ALMOND HULLS \", \"103\", \"Tehama \", \"  \", \"  \", \"  \", \"  \", \"  \", \" \"], [19, \"1987\", \"268099\", \"ALMOND HULLS \", \"107\", \"Tulare \", \"  \", \"  \", \"20500 \", \"45 \", \"TONS \", \"922000\"], [20, \"1987\", \"268099\", \"ALMOND HULLS \", \"113\", \"Yolo \", \"  \", \"  \", \"  \", \"  \", \"  \", \" \"], [21, \"1987\", \"268099\", \"ALMOND HULLS \", \"115\", \"Yuba \", \"  \", \"  \", \"2384 \", \"25 \", \"TONS \", \"59600\"], [22, \"1987\", \"268099\", \"ALMOND HULLS \", \"999\", \" State Totals\", \"0 \", \"  \", \"663212 \", \"36 \", \"    \", \"23761300\"], [23, \"1987\", \"261999\", \"ALMONDS ALL \", \"7\", \"Butte \", \"38484 \", \"0.76 \", \"29248 \", \"2000 \", \"TONS \", \"58496000\"], [24, \"1987\", \"261999\", \"ALMONDS ALL \", \"9\", \"Calaveras \", \"  \", \"  \", \"14 \", \"2100 \", \"TONS \", \"29400\"], [25, \"1987\", \"261999\", \"ALMONDS ALL \", \"11\", \"Colusa \", \"16350 \", \"0.50 \", \"8175 \", \"2000 \", \"TONS \", \"16350000\"], [26, \"1987\", \"261999\", \"ALMONDS ALL \", \"13\", \"Contra Costa \", \"1746 \", \"0.05 \", \"84 \", \"2012 \", \"TONS \", \"169000\"], [27, \"1987\", \"261999\", \"ALMONDS ALL \", \"19\", \"Fresno \", \"30648 \", \"0.96 \", \"29400 \", \"2000 \", \"TONS \", \"58800000\"], [28, \"1987\", \"261999\", \"ALMONDS ALL \", \"21\", \"Glenn \", \"14368 \", \"0.59 \", \"8521 \", \"2200 \", \"TONS \", \"18746000\"], [29, \"1987\", \"261999\", \"ALMONDS ALL \", \"29\", \"Kern \", \"74157 \", \"0.93 \", \"69000 \", \"2020 \", \"TONS \", \"139380000\"], [30, \"1987\", \"261999\", \"ALMONDS ALL \", \"31\", \"Kings \", \"3208 \", \"0.74 \", \"2374 \", \"1980 \", \"TONS \", \"4701000\"], [31, \"1987\", \"261999\", \"ALMONDS ALL \", \"33\", \"Lake \", \"80 \", \"0.10 \", \"8 \", \"1615 \", \"TONS \", \"12920\"], [32, \"1987\", \"261999\", \"ALMONDS ALL \", \"39\", \"Madera \", \"32968 \", \"0.82 \", \"27034 \", \"2000 \", \"TONS \", \"54068000\"], [33, \"1987\", \"261999\", \"ALMONDS ALL \", \"43\", \"Mariposa \", \"  \", \"  \", \"  \", \"  \", \"  \", \" \"], [34, \"1987\", \"261999\", \"ALMONDS ALL \", \"47\", \"Merced \", \"64532 \", \"0.88 \", \"56800 \", \"2100 \", \"TONS \", \"119280000\"], [35, \"1987\", \"261999\", \"ALMONDS ALL \", \"53\", \"Monterey \", \"  \", \"  \", \"  \", \"  \", \"  \", \" \"], [36, \"1987\", \"261999\", \"ALMONDS ALL \", \"61\", \"Placer \", \"  \", \"  \", \"  \", \"  \", \"  \", \" \"], [37, \"1987\", \"261999\", \"ALMONDS ALL \", \"67\", \"Sacramento \", \"  \", \"  \", \"  \", \"  \", \"  \", \" \"], [38, \"1987\", \"261999\", \"ALMONDS ALL \", \"69\", \"San Benito \", \"  \", \"  \", \"  \", \"  \", \"  \", \" \"], [39, \"1987\", \"261999\", \"ALMONDS ALL \", \"77\", \"San Joaquin \", \"36200 \", \"0.82 \", \"29700 \", \"2049 \", \"TONS \", \"60849000\"], [40, \"1987\", \"261999\", \"ALMONDS ALL \", \"79\", \"San Luis Obispo \", \"4911 \", \"0.02 \", \"122 \", \"2820 \", \"TONS \", \"344000\"], [41, \"1987\", \"261999\", \"ALMONDS ALL \", \"95\", \"Solano \", \"2325 \", \"0.36 \", \"847 \", \"2100 \", \"TONS \", \"1778700\"], [42, \"1987\", \"261999\", \"ALMONDS ALL \", \"99\", \"Stanislaus \", \"65417 \", \"0.99 \", \"64894 \", \"2000 \", \"TONS \", \"129787000\"], [43, \"1987\", \"261999\", \"ALMONDS ALL \", \"101\", \"Sutter \", \"4550 \", \"0.51 \", \"2299 \", \"2000 \", \"TONS \", \"4597700\"], [44, \"1987\", \"261999\", \"ALMONDS ALL \", \"103\", \"Tehama \", \"6886 \", \"0.46 \", \"3170 \", \"2000 \", \"TONS \", \"6340000\"], [45, \"1987\", \"261999\", \"ALMONDS ALL \", \"107\", \"Tulare \", \"9735 \", \"0.83 \", \"8080 \", \"2020 \", \"TONS \", \"16322000\"], [46, \"1987\", \"261999\", \"ALMONDS ALL \", \"113\", \"Yolo \", \"7700 \", \"0.64 \", \"4900 \", \"1908 \", \"TONS \", \"9349000\"], [47, \"1987\", \"261999\", \"ALMONDS ALL \", \"115\", \"Yuba \", \"1907 \", \"0.80 \", \"1526 \", \"1899 \", \"TONS \", \"2898600\"], [48, \"1987\", \"261999\", \"ALMONDS ALL \", \"999\", \" State Totals\", \"416172 \", \"0.83 \", \"346196 \", \"2029 \", \"    \", \"702298320\"], [49, \"1987\", \"333999\", \"ANISE (FENNEL) \", \"53\", \"Monterey \", \"215 \", \"11.91 \", \"2560 \", \"411 \", \"TONS \", \"1052000\"], [50, \"1987\", \"333999\", \"ANISE (FENNEL) \", \"79\", \"San Luis Obispo \", \"  \", \"  \", \"  \", \"  \", \"  \", \" \"], [51, \"1987\", \"333999\", \"ANISE (FENNEL) \", \"83\", \"Santa Barbara \", \"  \", \"  \", \"  \", \"  \", \"  \", \" \"], [52, \"1987\", \"333999\", \"ANISE (FENNEL) \", \"87\", \"Santa Cruz \", \"  \", \"  \", \"  \", \"  \", \"  \", \" \"], [53, \"1987\", \"333999\", \"ANISE (FENNEL) \", \"999\", \" State Totals\", \"215 \", \"11.91 \", \"2560 \", \"411 \", \"    \", \"1052000\"], [54, \"1987\", \"484999\", \"APIARY PRODUCTS BEES NUCLEI \", \"7\", \"Butte \", \"  \", \"  \", \"1500 \", \"20 \", \"EACH \", \"30000\"], [55, \"1987\", \"484999\", \"APIARY PRODUCTS BEES NUCLEI \", \"39\", \"Madera \", \"  \", \"  \", \"  \", \"  \", \"  \", \" \"], [56, \"1987\", \"484999\", \"APIARY PRODUCTS BEES NUCLEI \", \"71\", \"San Bernardino \", \"  \", \"  \", \"3700 \", \"26 \", \"EACH \", \"96200\"], [57, \"1987\", \"484999\", \"APIARY PRODUCTS BEES NUCLEI \", \"89\", \"Shasta \", \"  \", \"  \", \"3000 \", \"25 \", \"EACH \", \"73500\"], [58, \"1987\", \"484999\", \"APIARY PRODUCTS BEES NUCLEI \", \"999\", \" State Totals\", \"0 \", \"  \", \"8200 \", \"24 \", \"    \", \"199700\"], [59, \"1987\", \"483999\", \"APIARY PRODUCTS BEES PCKG. \", \"7\", \"Butte \", \"  \", \"  \", \"62308 \", \"5 \", \"PKG \", \"324000\"], [60, \"1987\", \"483999\", \"APIARY PRODUCTS BEES PCKG. \", \"11\", \"Colusa \", \"  \", \"  \", \"11500 \", \"8 \", \"LBS \", \"92000\"], [61, \"1987\", \"483999\", \"APIARY PRODUCTS BEES PCKG. \", \"17\", \"El Dorado \", \"  \", \"  \", \"  \", \"  \", \"  \", \" \"], [62, \"1987\", \"483999\", \"APIARY PRODUCTS BEES PCKG. \", \"21\", \"Glenn \", \"  \", \"  \", \"152000 \", \"5 \", \"PKG \", \"750000\"], [63, \"1987\", \"483999\", \"APIARY PRODUCTS BEES PCKG. \", \"39\", \"Madera \", \"  \", \"  \", \"  \", \"  \", \"  \", \" \"], [64, \"1987\", \"483999\", \"APIARY PRODUCTS BEES PCKG. \", \"43\", \"Mariposa \", \"  \", \"  \", \"  \", \"  \", \"  \", \" \"], [65, \"1987\", \"483999\", \"APIARY PRODUCTS BEES PCKG. \", \"47\", \"Merced \", \"  \", \"  \", \"7000 \", \"4 \", \"LBS \", \"28000\"], [66, \"1987\", \"483999\", \"APIARY PRODUCTS BEES PCKG. \", \"61\", \"Placer \", \"  \", \"  \", \"30000 \", \"5 \", \"LBS \", \"150000\"], [67, \"1987\", \"483999\", \"APIARY PRODUCTS BEES PCKG. \", \"67\", \"Sacramento \", \"  \", \"  \", \"  \", \"  \", \"  \", \" \"], [68, \"1987\", \"483999\", \"APIARY PRODUCTS BEES PCKG. \", \"73\", \"San Diego \", \"  \", \"  \", \"  \", \"  \", \"  \", \"73000\"], [69, \"1987\", \"483999\", \"APIARY PRODUCTS BEES PCKG. \", \"77\", \"San Joaquin \", \"  \", \"  \", \"  \", \"  \", \"  \", \" \"], [70, \"1987\", \"483999\", \"APIARY PRODUCTS BEES PCKG. \", \"89\", \"Shasta \", \"  \", \"  \", \"105750 \", \"5 \", \"LBS \", \"483300\"], [71, \"1987\", \"483999\", \"APIARY PRODUCTS BEES PCKG. \", \"95\", \"Solano \", \"  \", \"  \", \"2195 \", \"15 \", \"PKG \", \"32900\"], [72, \"1987\", \"483999\", \"APIARY PRODUCTS BEES PCKG. \", \"97\", \"Sonoma \", \"  \", \"  \", \"2700 \", \"6 \", \"LBS \", \"16600\"], [73, \"1987\", \"483999\", \"APIARY PRODUCTS BEES PCKG. \", \"99\", \"Stanislaus \", \"  \", \"  \", \"30000 \", \"4 \", \"LBS \", \"120000\"], [74, \"1987\", \"483999\", \"APIARY PRODUCTS BEES PCKG. \", \"101\", \"Sutter \", \"  \", \"  \", \"52436 \", \"6 \", \"LBS \", \"293300\"], [75, \"1987\", \"483999\", \"APIARY PRODUCTS BEES PCKG. \", \"103\", \"Tehama \", \"  \", \"  \", \"55600 \", \"5 \", \"PKG \", \"278000\"], [76, \"1987\", \"483999\", \"APIARY PRODUCTS BEES PCKG. \", \"113\", \"Yolo \", \"  \", \"  \", \"11000 \", \"5 \", \"LBS \", \"55000\"], [77, \"1987\", \"483999\", \"APIARY PRODUCTS BEES PCKG. \", \"115\", \"Yuba \", \"  \", \"  \", \"20000 \", \"5 \", \"LBS \", \"100000\"], [78, \"1987\", \"483999\", \"APIARY PRODUCTS BEES PCKG. \", \"999\", \" State Totals\", \"0 \", \"  \", \"542489 \", \"5 \", \"    \", \"2796100\"], [79, \"1987\", \"485999\", \"APIARY PRODUCTS BEES QUEEN \", \"7\", \"Butte \", \"  \", \"  \", \"51400 \", \"5 \", \"EACH \", \"260000\"], [80, \"1987\", \"485999\", \"APIARY PRODUCTS BEES QUEEN \", \"9\", \"Calaveras \", \"  \", \"  \", \"  \", \"  \", \"  \", \" \"], [81, \"1987\", \"485999\", \"APIARY PRODUCTS BEES QUEEN \", \"11\", \"Colusa \", \"  \", \"  \", \"20500 \", \"5 \", \"EACH \", \"103000\"], [82, \"1987\", \"485999\", \"APIARY PRODUCTS BEES QUEEN \", \"21\", \"Glenn \", \"  \", \"  \", \"111000 \", \"5 \", \"EACH \", \"571000\"], [83, \"1987\", \"485999\", \"APIARY PRODUCTS BEES QUEEN \", \"39\", \"Madera \", \"  \", \"  \", \"  \", \"  \", \"  \", \" \"], [84, \"1987\", \"485999\", \"APIARY PRODUCTS BEES QUEEN \", \"47\", \"Merced \", \"  \", \"  \", \"6600 \", \"5 \", \"EACH \", \"36000\"], [85, \"1987\", \"485999\", \"APIARY PRODUCTS BEES QUEEN \", \"61\", \"Placer \", \"  \", \"  \", \"4200 \", \"5 \", \"EACH \", \"21000\"], [86, \"1987\", \"485999\", \"APIARY PRODUCTS BEES QUEEN \", \"65\", \"Riverside \", \"  \", \"  \", \"12000 \", \"6 \", \"EACH \", \"72000\"], [87, \"1987\", \"485999\", \"APIARY PRODUCTS BEES QUEEN \", \"67\", \"Sacramento \", \"  \", \"  \", \"  \", \"  \", \"  \", \" \"], [88, \"1987\", \"485999\", \"APIARY PRODUCTS BEES QUEEN \", \"77\", \"San Joaquin \", \"  \", \"  \", \"  \", \"  \", \"  \", \" \"], [89, \"1987\", \"485999\", \"APIARY PRODUCTS BEES QUEEN \", \"89\", \"Shasta \", \"  \", \"  \", \"152800 \", \"5 \", \"EACH \", \"753300\"], [90, \"1987\", \"485999\", \"APIARY PRODUCTS BEES QUEEN \", \"95\", \"Solano \", \"  \", \"  \", \"23000 \", \"7 \", \"EACH \", \"166800\"], [91, \"1987\", \"485999\", \"APIARY PRODUCTS BEES QUEEN \", \"99\", \"Stanislaus \", \"  \", \"  \", \"15000 \", \"5 \", \"EACH \", \"71250\"], [92, \"1987\", \"485999\", \"APIARY PRODUCTS BEES QUEEN \", \"101\", \"Sutter \", \"  \", \"  \", \"62500 \", \"5 \", \"EACH \", \"312500\"], [93, \"1987\", \"485999\", \"APIARY PRODUCTS BEES QUEEN \", \"103\", \"Tehama \", \"  \", \"  \", \"40400 \", \"5 \", \"EACH \", \"210000\"], [94, \"1987\", \"485999\", \"APIARY PRODUCTS BEES QUEEN \", \"113\", \"Yolo \", \"  \", \"  \", \"12000 \", \"5 \", \"EACH \", \"63000\"], [95, \"1987\", \"485999\", \"APIARY PRODUCTS BEES QUEEN \", \"115\", \"Yuba \", \"  \", \"  \", \"10000 \", \"5 \", \"EACH \", \"50000\"], [96, \"1987\", \"485999\", \"APIARY PRODUCTS BEES QUEEN \", \"999\", \" State Totals\", \"0 \", \"  \", \"521400 \", \"5 \", \"    \", \"2689850\"], [97, \"1987\", \"489999\", \"APIARY PRODUCTS BEES UNSPEC \", \"5\", \"Amador \", \"  \", \"  \", \"  \", \"  \", \"  \", \" \"], [98, \"1987\", \"489999\", \"APIARY PRODUCTS BEES UNSPEC \", \"9\", \"Calaveras \", \"  \", \"  \", \"  \", \"  \", \"  \", \"413000\"], [99, \"1987\", \"489999\", \"APIARY PRODUCTS BEES UNSPEC \", \"17\", \"El Dorado \", \"  \", \"  \", \"  \", \"  \", \"  \", \"380200\"], [100, \"1987\", \"489999\", \"APIARY PRODUCTS BEES UNSPEC \", \"39\", \"Madera \", \"  \", \"  \", \"  \", \"  \", \"  \", \"25000\"], [101, \"1987\", \"489999\", \"APIARY PRODUCTS BEES UNSPEC \", \"43\", \"Mariposa \", \"  \", \"  \", \"  \", \"  \", \"  \", \"125000\"], [102, \"1987\", \"489999\", \"APIARY PRODUCTS BEES UNSPEC \", \"45\", \"Mendocino \", \"  \", \"  \", \"  \", \"  \", \"  \", \" \"], [103, \"1987\", \"489999\", \"APIARY PRODUCTS BEES UNSPEC \", \"57\", \"Nevada \", \"  \", \"  \", \"  \", \"  \", \"  \", \" \"], [104, \"1987\", \"489999\", \"APIARY PRODUCTS BEES UNSPEC \", \"59\", \"Orange \", \"  \", \"  \", \"  \", \"  \", \"  \", \"4200\"], [105, \"1987\", \"489999\", \"APIARY PRODUCTS BEES UNSPEC \", \"63\", \"Plumas \", \"  \", \"  \", \"  \", \"  \", \"  \", \" \"], [106, \"1987\", \"489999\", \"APIARY PRODUCTS BEES UNSPEC \", \"67\", \"Sacramento \", \"  \", \"  \", \"  \", \"  \", \"  \", \"95000\"], [107, \"1987\", \"489999\", \"APIARY PRODUCTS BEES UNSPEC \", \"73\", \"San Diego \", \"  \", \"  \", \"  \", \"  \", \"  \", \"40500\"], [108, \"1987\", \"489999\", \"APIARY PRODUCTS BEES UNSPEC \", \"77\", \"San Joaquin \", \"  \", \"  \", \"  \", \"  \", \"  \", \"12000\"], [109, \"1987\", \"489999\", \"APIARY PRODUCTS BEES UNSPEC \", \"83\", \"Santa Barbara \", \"  \", \"  \", \"  \", \"  \", \"  \", \"165242\"], [110, \"1987\", \"489999\", \"APIARY PRODUCTS BEES UNSPEC \", \"87\", \"Santa Cruz \", \"  \", \"  \", \"  \", \"  \", \"  \", \"150000\"], [111, \"1987\", \"489999\", \"APIARY PRODUCTS BEES UNSPEC \", \"91\", \"Sierra \", \"  \", \"  \", \"  \", \"  \", \"  \", \" \"], [112, \"1987\", \"489999\", \"APIARY PRODUCTS BEES UNSPEC \", \"103\", \"Tehama \", \"  \", \"  \", \"  \", \"  \", \"  \", \"14000\"], [113, \"1987\", \"489999\", \"APIARY PRODUCTS BEES UNSPEC \", \"109\", \"Tuolumne \", \"  \", \"  \", \"  \", \"  \", \"  \", \"169000\"], [114, \"1987\", \"489999\", \"APIARY PRODUCTS BEES UNSPEC \", \"999\", \" State Totals\", \"0 \", \"  \", \"0 \", \"  \", \"    \", \"1593142\"], [115, \"1987\", \"482999\", \"APIARY PRODUCTS BEESWAX \", \"1\", \"Alameda \", \"  \", \"  \", \"6000 \", \"1 \", \"LBS \", \"8400\"], [116, \"1987\", \"482999\", \"APIARY PRODUCTS BEESWAX \", \"7\", \"Butte \", \"  \", \"  \", \"2300 \", \"1 \", \"LBS \", \"2300\"], [117, \"1987\", \"482999\", \"APIARY PRODUCTS BEESWAX \", \"9\", \"Calaveras \", \"  \", \"  \", \"  \", \"  \", \"  \", \" \"], [118, \"1987\", \"482999\", \"APIARY PRODUCTS BEESWAX \", \"13\", \"Contra Costa \", \"  \", \"  \", \"1000 \", \"1 \", \"LBS \", \"680\"], [119, \"1987\", \"482999\", \"APIARY PRODUCTS BEESWAX \", \"17\", \"El Dorado \", \"  \", \"  \", \"  \", \"  \", \"  \", \" \"], [120, \"1987\", \"482999\", \"APIARY PRODUCTS BEESWAX \", \"19\", \"Fresno \", \"  \", \"  \", \"24500 \", \"1 \", \"LBS \", \"21000\"], [121, \"1987\", \"482999\", \"APIARY PRODUCTS BEESWAX \", \"21\", \"Glenn \", \"  \", \"  \", \"3000 \", \"1 \", \"LBS \", \"2000\"], [122, \"1987\", \"482999\", \"APIARY PRODUCTS BEESWAX \", \"23\", \"Humboldt \", \"  \", \"  \", \"  \", \"  \", \"  \", \" \"], [123, \"1987\", \"482999\", \"APIARY PRODUCTS BEESWAX \", \"25\", \"Imperial \", \"92002 \", \"0.66 \", \"60721 \", \"1 \", \"LBS \", \"87000\"], [124, \"1987\", \"482999\", \"APIARY PRODUCTS BEESWAX \", \"29\", \"Kern \", \"  \", \"  \", \"20700 \", \"1 \", \"LBS \", \"17600\"], [125, \"1987\", \"482999\", \"APIARY PRODUCTS BEESWAX \", \"31\", \"Kings \", \"  \", \"  \", \"47058 \", \"1 \", \"LBS \", \"45000\"], [126, \"1987\", \"482999\", \"APIARY PRODUCTS BEESWAX \", \"37\", \"Los Angeles \", \"  \", \"  \", \"4100 \", \"1 \", \"LBS \", \"4100\"], [127, \"1987\", \"482999\", \"APIARY PRODUCTS BEESWAX \", \"39\", \"Madera \", \"  \", \"  \", \"  \", \"  \", \"  \", \" \"], [128, \"1987\", \"482999\", \"APIARY PRODUCTS BEESWAX \", \"43\", \"Mariposa \", \"  \", \"  \", \"  \", \"  \", \"  \", \" \"], [129, \"1987\", \"482999\", \"APIARY PRODUCTS BEESWAX \", \"47\", \"Merced \", \"  \", \"  \", \"20500 \", \"1 \", \"LBS \", \"15000\"], [130, \"1987\", \"482999\", \"APIARY PRODUCTS BEESWAX \", \"53\", \"Monterey \", \"  \", \"  \", \"1785 \", \"1 \", \"LBS \", \"1600\"], [131, \"1987\", \"482999\", \"APIARY PRODUCTS BEESWAX \", \"59\", \"Orange \", \"  \", \"  \", \"  \", \"  \", \"  \", \" \"], [132, \"1987\", \"482999\", \"APIARY PRODUCTS BEESWAX \", \"61\", \"Placer \", \"  \", \"  \", \"500 \", \"1 \", \"LBS \", \"500\"], [133, \"1987\", \"482999\", \"APIARY PRODUCTS BEESWAX \", \"65\", \"Riverside \", \"  \", \"  \", \"12750 \", \"1 \", \"LBS \", \"15300\"], [134, \"1987\", \"482999\", \"APIARY PRODUCTS BEESWAX \", \"67\", \"Sacramento \", \"  \", \"  \", \"  \", \"  \", \"  \", \" \"], [135, \"1987\", \"482999\", \"APIARY PRODUCTS BEESWAX \", \"71\", \"San Bernardino \", \"  \", \"  \", \"4900 \", \"1 \", \"LB \", \"3900\"], [136, \"1987\", \"482999\", \"APIARY PRODUCTS BEESWAX \", \"73\", \"San Diego \", \"  \", \"  \", \"  \", \"  \", \"  \", \"17000\"], [137, \"1987\", \"482999\", \"APIARY PRODUCTS BEESWAX \", \"81\", \"San Mateo \", \"  \", \"  \", \"450 \", \"2 \", \"LBS \", \"800\"], [138, \"1987\", \"482999\", \"APIARY PRODUCTS BEESWAX \", \"85\", \"Santa Clara \", \"  \", \"  \", \"1150 \", \"1 \", \"LBS \", \"805\"], [139, \"1987\", \"482999\", \"APIARY PRODUCTS BEESWAX \", \"89\", \"Shasta \", \"  \", \"  \", \"19300 \", \"1 \", \"LBS \", \"18100\"], [140, \"1987\", \"482999\", \"APIARY PRODUCTS BEESWAX \", \"95\", \"Solano \", \"  \", \"  \", \"165 \", \"1 \", \"LBS \", \"100\"], [141, \"1987\", \"482999\", \"APIARY PRODUCTS BEESWAX \", \"97\", \"Sonoma \", \"  \", \"  \", \"923 \", \"2 \", \"LBS \", \"1700\"], [142, \"1987\", \"482999\", \"APIARY PRODUCTS BEESWAX \", \"99\", \"Stanislaus \", \"  \", \"  \", \"10500 \", \"1 \", \"LBS \", \"9980\"], [143, \"1987\", \"482999\", \"APIARY PRODUCTS BEESWAX \", \"101\", \"Sutter \", \"  \", \"  \", \"4000 \", \"1 \", \"LBS \", \"3300\"], [144, \"1987\", \"482999\", \"APIARY PRODUCTS BEESWAX \", \"103\", \"Tehama \", \"  \", \"  \", \"  \", \"  \", \"  \", \" \"], [145, \"1987\", \"482999\", \"APIARY PRODUCTS BEESWAX \", \"107\", \"Tulare \", \"  \", \"  \", \"99300 \", \"1 \", \"LBS \", \"114000\"], [146, \"1987\", \"482999\", \"APIARY PRODUCTS BEESWAX \", \"111\", \"Ventura \", \"  \", \"  \", \"18000 \", \"1 \", \"LBS \", \"20000\"], [147, \"1987\", \"482999\", \"APIARY PRODUCTS BEESWAX \", \"113\", \"Yolo \", \"  \", \"  \", \"  \", \"  \", \"  \", \" \"], [148, \"1987\", \"482999\", \"APIARY PRODUCTS BEESWAX \", \"115\", \"Yuba \", \"  \", \"  \", \"1180 \", \"1 \", \"LBS \", \"1400\"], [149, \"1987\", \"482999\", \"APIARY PRODUCTS BEESWAX \", \"999\", \" State Totals\", \"92002 \", \"0.66 \", \"364782 \", \"1 \", \"    \", \"411565\"], [150, \"1987\", \"481999\", \"APIARY PRODUCTS HONEY \", \"1\", \"Alameda \", \"  \", \"  \", \"100000 \", \"1 \", \"LBS \", \"54000\"], [151, \"1987\", \"481999\", \"APIARY PRODUCTS HONEY \", \"7\", \"Butte \", \"  \", \"  \", \"79420 \", \"1 \", \"LBS \", \"48000\"], [152, \"1987\", \"481999\", \"APIARY PRODUCTS HONEY \", \"9\", \"Calaveras \", \"  \", \"  \", \"  \", \"  \", \"  \", \" \"], [153, \"1987\", \"481999\", \"APIARY PRODUCTS HONEY \", \"11\", \"Colusa \", \"  \", \"  \", \"48000 \", \"1 \", \"LBS \", \"25500\"], [154, \"1987\", \"481999\", \"APIARY PRODUCTS HONEY \", \"13\", \"Contra Costa \", \"  \", \"  \", \"28000 \", \"1 \", \"LBS \", \"19320\"], [155, \"1987\", \"481999\", \"APIARY PRODUCTS HONEY \", \"15\", \"Del Norte \", \"  \", \"  \", \"  \", \"  \", \"  \", \" \"], [156, \"1987\", \"481999\", \"APIARY PRODUCTS HONEY \", \"17\", \"El Dorado \", \"  \", \"  \", \"  \", \"  \", \"  \", \" \"], [157, \"1987\", \"481999\", \"APIARY PRODUCTS HONEY \", \"19\", \"Fresno \", \"  \", \"  \", \"1578000 \", \"1 \", \"LBS \", \"915000\"], [158, \"1987\", \"481999\", \"APIARY PRODUCTS HONEY \", \"21\", \"Glenn \", \"  \", \"  \", \"9000 \", \"0 \", \"LBS \", \"4000\"], [159, \"1987\", \"481999\", \"APIARY PRODUCTS HONEY \", \"23\", \"Humboldt \", \"  \", \"  \", \"  \", \"  \", \"  \", \"9000\"], [160, \"1987\", \"481999\", \"APIARY PRODUCTS HONEY \", \"25\", \"Imperial \", \"92002 \", \"48.89 \", \"4497978 \", \"1 \", \"LBS \", \"2474000\"], [161, \"1987\", \"481999\", \"APIARY PRODUCTS HONEY \", \"27\", \"Inyo \", \"  \", \"  \", \"63000 \", \"1 \", \"LBS \", \"32760\"], [162, \"1987\", \"481999\", \"APIARY PRODUCTS HONEY \", \"29\", \"Kern \", \"  \", \"  \", \"723000 \", \"1 \", \"LBS \", \"390400\"], [163, \"1987\", \"481999\", \"APIARY PRODUCTS HONEY \", \"31\", \"Kings \", \"  \", \"  \", \"2823492 \", \"1 \", \"LBS \", \"1807000\"], [164, \"1987\", \"481999\", \"APIARY PRODUCTS HONEY \", \"33\", \"Lake \", \"  \", \"  \", \"48300 \", \"1 \", \"  \", \"39605\"], [165, \"1987\", \"481999\", \"APIARY PRODUCTS HONEY \", \"35\", \"Lassen \", \"  \", \"  \", \"  \", \"  \", \"  \", \"28000\"], [166, \"1987\", \"481999\", \"APIARY PRODUCTS HONEY \", \"37\", \"Los Angeles \", \"  \", \"  \", \"320600 \", \"1 \", \"LBS \", \"195600\"], [167, \"1987\", \"481999\", \"APIARY PRODUCTS HONEY \", \"39\", \"Madera \", \"  \", \"  \", \"490000 \", \"1 \", \"LBS \", \"284000\"], [168, \"1987\", \"481999\", \"APIARY PRODUCTS HONEY \", \"43\", \"Mariposa \", \"  \", \"  \", \"20500 \", \"1 \", \"LBS \", \"10400\"], [169, \"1987\", \"481999\", \"APIARY PRODUCTS HONEY \", \"47\", \"Merced \", \"  \", \"  \", \"1060000 \", \"0 \", \"LBS \", \"392000\"], [170, \"1987\", \"481999\", \"APIARY PRODUCTS HONEY \", \"53\", \"Monterey \", \"  \", \"  \", \"71300 \", \"1 \", \"LBS \", \"42100\"], [171, \"1987\", \"481999\", \"APIARY PRODUCTS HONEY \", \"59\", \"Orange \", \"  \", \"  \", \"222673 \", \"1 \", \"LBS \", \"124700\"], [172, \"1987\", \"481999\", \"APIARY PRODUCTS HONEY \", \"61\", \"Placer \", \"  \", \"  \", \"39600 \", \"1 \", \"LBS \", \"23800\"], [173, \"1987\", \"481999\", \"APIARY PRODUCTS HONEY \", \"65\", \"Riverside \", \"  \", \"  \", \"510000 \", \"1 \", \"LBS \", \"311100\"], [174, \"1987\", \"481999\", \"APIARY PRODUCTS HONEY \", \"67\", \"Sacramento \", \"  \", \"  \", \"  \", \"  \", \"  \", \" \"], [175, \"1987\", \"481999\", \"APIARY PRODUCTS HONEY \", \"71\", \"San Bernardino \", \"  \", \"  \", \"282300 \", \"0 \", \"LB \", \"113000\"], [176, \"1987\", \"481999\", \"APIARY PRODUCTS HONEY \", \"73\", \"San Diego \", \"  \", \"  \", \"  \", \"  \", \"  \", \"500000\"], [177, \"1987\", \"481999\", \"APIARY PRODUCTS HONEY \", \"77\", \"San Joaquin \", \"  \", \"  \", \"250000 \", \"1 \", \"LBS \", \"125000\"], [178, \"1987\", \"481999\", \"APIARY PRODUCTS HONEY \", \"79\", \"San Luis Obispo \", \"  \", \"  \", \"131323 \", \"1 \", \"LBS \", \"89000\"], [179, \"1987\", \"481999\", \"APIARY PRODUCTS HONEY \", \"81\", \"San Mateo \", \"  \", \"  \", \"35000 \", \"1 \", \"LBS \", \"26250\"], [180, \"1987\", \"481999\", \"APIARY PRODUCTS HONEY \", \"85\", \"Santa Clara \", \"  \", \"  \", \"46000 \", \"1 \", \"LBS \", \"34500\"], [181, \"1987\", \"481999\", \"APIARY PRODUCTS HONEY \", \"89\", \"Shasta \", \"  \", \"  \", \"539000 \", \"1 \", \"LBS \", \"323400\"], [182, \"1987\", \"481999\", \"APIARY PRODUCTS HONEY \", \"95\", \"Solano \", \"  \", \"  \", \"10488 \", \"1 \", \"LBS \", \"6800\"], [183, \"1987\", \"481999\", \"APIARY PRODUCTS HONEY \", \"97\", \"Sonoma \", \"  \", \"  \", \"74230 \", \"1 \", \"LBS \", \"46900\"], [184, \"1987\", \"481999\", \"APIARY PRODUCTS HONEY \", \"99\", \"Stanislaus \", \"  \", \"  \", \"330000 \", \"1 \", \"LBS \", \"165000\"], [185, \"1987\", \"481999\", \"APIARY PRODUCTS HONEY \", \"101\", \"Sutter \", \"  \", \"  \", \"220900 \", \"1 \", \"LBS \", \"119800\"], [186, \"1987\", \"481999\", \"APIARY PRODUCTS HONEY \", \"105\", \"Trinity \", \"  \", \"  \", \"  \", \"  \", \"  \", \" \"], [187, \"1987\", \"481999\", \"APIARY PRODUCTS HONEY \", \"107\", \"Tulare \", \"  \", \"  \", \"2888000 \", \"1 \", \"LBS \", \"1761000\"], [188, \"1987\", \"481999\", \"APIARY PRODUCTS HONEY \", \"111\", \"Ventura \", \"  \", \"  \", \"900000 \", \"1 \", \"LBS \", \"495000\"], [189, \"1987\", \"481999\", \"APIARY PRODUCTS HONEY \", \"115\", \"Yuba \", \"  \", \"  \", \"47180 \", \"1 \", \"LBS \", \"26900\"], [190, \"1987\", \"481999\", \"APIARY PRODUCTS HONEY \", \"999\", \" State Totals\", \"92002 \", \"48.89 \", \"18487284 \", \"1 \", \"    \", \"11062835\"], [191, \"1987\", \"486999\", \"APIARY PRODUCTS POLLIN. FEES \", \"1\", \"Alameda \", \"  \", \"  \", \"2500 \", \"23 \", \"COL \", \"57500\"], [192, \"1987\", \"486999\", \"APIARY PRODUCTS POLLIN. FEES \", \"7\", \"Butte \", \"  \", \"  \", \"47316 \", \"22 \", \"COL \", \"1031700\"], [193, \"1987\", \"486999\", \"APIARY PRODUCTS POLLIN. FEES \", \"9\", \"Calaveras \", \"  \", \"  \", \"  \", \"  \", \"  \", \" \"], [194, \"1987\", \"486999\", \"APIARY PRODUCTS POLLIN. FEES \", \"11\", \"Colusa \", \"  \", \"  \", \"32800 \", \"17 \", \"COL \", \"561000\"], [195, \"1987\", \"486999\", \"APIARY PRODUCTS POLLIN. FEES \", \"13\", \"Contra Costa \", \"  \", \"  \", \"400 \", \"12 \", \"COL \", \"4800\"], [196, \"1987\", \"486999\", \"APIARY PRODUCTS POLLIN. FEES \", \"17\", \"El Dorado \", \"  \", \"  \", \"  \", \"  \", \"  \", \" \"], [197, \"1987\", \"486999\", \"APIARY PRODUCTS POLLIN. FEES \", \"19\", \"Fresno \", \"  \", \"  \", \"307000 \", \"20 \", \"COL \", \"6085000\"], [198, \"1987\", \"486999\", \"APIARY PRODUCTS POLLIN. FEES \", \"21\", \"Glenn \", \"  \", \"  \", \"  \", \"  \", \"  \", \"505000\"], [199, \"1987\", \"486999\", \"APIARY PRODUCTS POLLIN. FEES \", \"25\", \"Imperial \", \"  \", \"  \", \"122669 \", \"18 \", \"COL \", \"2217000\"], [200, \"1987\", \"486999\", \"APIARY PRODUCTS POLLIN. FEES \", \"29\", \"Kern \", \"  \", \"  \", \"217000 \", \"23 \", \"COL \", \"4913000\"], [201, \"1987\", \"486999\", \"APIARY PRODUCTS POLLIN. FEES \", \"31\", \"Kings \", \"  \", \"  \", \"67226 \", \"19 \", \"COL \", \"1277000\"], [202, \"1987\", \"486999\", \"APIARY PRODUCTS POLLIN. FEES \", \"37\", \"Los Angeles \", \"  \", \"  \", \"21000 \", \"24 \", \"COL \", \"504000\"], [203, \"1987\", \"486999\", \"APIARY PRODUCTS POLLIN. FEES \", \"39\", \"Madera \", \"  \", \"  \", \"100200 \", \"23 \", \"COL \", \"2305000\"], [204, \"1987\", \"486999\", \"APIARY PRODUCTS POLLIN. FEES \", \"43\", \"Mariposa \", \"  \", \"  \", \"  \", \"  \", \"  \", \" \"], [205, \"1987\", \"486999\", \"APIARY PRODUCTS POLLIN. FEES \", \"47\", \"Merced \", \"  \", \"  \", \"129500 \", \"23 \", \"COL \", \"2914000\"], [206, \"1987\", \"486999\", \"APIARY PRODUCTS POLLIN. FEES \", \"53\", \"Monterey \", \"  \", \"  \", \"1480 \", \"21 \", \"COL \", \"31100\"], [207, \"1987\", \"486999\", \"APIARY PRODUCTS POLLIN. FEES \", \"61\", \"Placer \", \"  \", \"  \", \"12000 \", \"23 \", \"COL \", \"276000\"], [208, \"1987\", \"486999\", \"APIARY PRODUCTS POLLIN. FEES \", \"65\", \"Riverside \", \"  \", \"  \", \"30000 \", \"21 \", \"COL \", \"630000\"], [209, \"1987\", \"486999\", \"APIARY PRODUCTS POLLIN. FEES \", \"71\", \"San Bernardino \", \"  \", \"  \", \"15100 \", \"23 \", \"COL \", \"347000\"], [210, \"1987\", \"486999\", \"APIARY PRODUCTS POLLIN. FEES \", \"77\", \"San Joaquin \", \"  \", \"  \", \"79300 \", \"21 \", \"COL \", \"1701000\"], [211, \"1987\", \"486999\", \"APIARY PRODUCTS POLLIN. FEES \", \"89\", \"Shasta \", \"  \", \"  \", \"16000 \", \"22 \", \"COL \", \"356000\"], [212, \"1987\", \"486999\", \"APIARY PRODUCTS POLLIN. FEES \", \"95\", \"Solano \", \"  \", \"  \", \"5885 \", \"19 \", \"COL \", \"111800\"], [213, \"1987\", \"486999\", \"APIARY PRODUCTS POLLIN. FEES \", \"97\", \"Sonoma \", \"  \", \"  \", \"  \", \"  \", \"  \", \"45500\"], [214, \"1987\", \"486999\", \"APIARY PRODUCTS POLLIN. FEES \", \"99\", \"Stanislaus \", \"  \", \"  \", \"142000 \", \"25 \", \"COL \", \"3479000\"], [215, \"1987\", \"486999\", \"APIARY PRODUCTS POLLIN. FEES \", \"101\", \"Sutter \", \"  \", \"  \", \"18606 \", \"12 \", \"COL \", \"226200\"], [216, \"1987\", \"486999\", \"APIARY PRODUCTS POLLIN. FEES \", \"103\", \"Tehama \", \"  \", \"  \", \"16100 \", \"19 \", \"COL \", \"298000\"], [217, \"1987\", \"486999\", \"APIARY PRODUCTS POLLIN. FEES \", \"107\", \"Tulare \", \"  \", \"  \", \"34900 \", \"21 \", \"COL \", \"740000\"], [218, \"1987\", \"486999\", \"APIARY PRODUCTS POLLIN. FEES \", \"111\", \"Ventura \", \"  \", \"  \", \"  \", \"  \", \"  \", \"370000\"], [219, \"1987\", \"486999\", \"APIARY PRODUCTS POLLIN. FEES \", \"113\", \"Yolo \", \"  \", \"  \", \"41400 \", \"15 \", \"COL \", \"617000\"], [220, \"1987\", \"486999\", \"APIARY PRODUCTS POLLIN. FEES \", \"115\", \"Yuba \", \"  \", \"  \", \"4436 \", \"10 \", \"COL \", \"43500\"], [221, \"1987\", \"486999\", \"APIARY PRODUCTS POLLIN. FEES \", \"999\", \" State Totals\", \"0 \", \"  \", \"1464818 \", \"21 \", \"    \", \"31647100\"], [222, \"1987\", \"211999\", \"APPLES ALL \", \"5\", \"Amador \", \"  \", \"  \", \"  \", \"  \", \"  \", \" \"], [223, \"1987\", \"211999\", \"APPLES ALL \", \"7\", \"Butte \", \"191 \", \"9.80 \", \"1872 \", \"398 \", \"TONS \", \"745000\"], [224, \"1987\", \"211999\", \"APPLES ALL \", \"9\", \"Calaveras \", \"140 \", \"2.14 \", \"300 \", \"280 \", \"TONS \", \"84000\"], [225, \"1987\", \"211999\", \"APPLES ALL \", \"11\", \"Colusa \", \"  \", \"  \", \"  \", \"  \", \"  \", \" \"], [226, \"1987\", \"211999\", \"APPLES ALL \", \"13\", \"Contra Costa \", \"  \", \"  \", \"  \", \"  \", \"  \", \" \"], [227, \"1987\", \"211999\", \"APPLES ALL \", \"17\", \"El Dorado \", \"722 \", \"22.75 \", \"16425 \", \"252 \", \"TONS \", \"4138300\"], [228, \"1987\", \"211999\", \"APPLES ALL \", \"19\", \"Fresno \", \"  \", \"  \", \"  \", \"  \", \"  \", \" \"], [229, \"1987\", \"211999\", \"APPLES ALL \", \"23\", \"Humboldt \", \"69 \", \"3.12 \", \"215 \", \"395 \", \"TONS \", \"85000\"], [230, \"1987\", \"211999\", \"APPLES ALL \", \"29\", \"Kern \", \"2908 \", \"13.93 \", \"40500 \", \"334 \", \"TONS \", \"13530000\"], [231, \"1987\", \"211999\", \"APPLES ALL \", \"31\", \"Kings \", \"  \", \"  \", \"  \", \"  \", \"  \", \" \"], [232, \"1987\", \"211999\", \"APPLES ALL \", \"33\", \"Lake \", \"24 \", \"2.04 \", \"49 \", \"377 \", \"TONS \", \"18455\"], [233, \"1987\", \"211999\", \"APPLES ALL \", \"35\", \"Lassen \", \"  \", \"  \", \"  \", \"  \", \"  \", \" \"], [234, \"1987\", \"211999\", \"APPLES ALL \", \"39\", \"Madera \", \"775 \", \"14.00 \", \"10850 \", \"425 \", \"TONS \", \"4611000\"], [235, \"1987\", \"211999\", \"APPLES ALL \", \"43\", \"Mariposa \", \"205 \", \"3.07 \", \"630 \", \"206 \", \"TONS \", \"130000\"], [236, \"1987\", \"211999\", \"APPLES ALL \", \"45\", \"Mendocino \", \"646 \", \"13.24 \", \"8554 \", \"203 \", \"TONS \", \"1738700\"], [237, \"1987\", \"211999\", \"APPLES ALL \", \"47\", \"Merced \", \"  \", \"  \", \"  \", \"  \", \"  \", \" \"], [238, \"1987\", \"211999\", \"APPLES ALL \", \"53\", \"Monterey \", \"442 \", \"16.63 \", \"7350 \", \"129 \", \"TONS \", \"945000\"], [239, \"1987\", \"211999\", \"APPLES ALL \", \"55\", \"Napa \", \"  \", \"  \", \"  \", \"  \", \"  \", \" \"], [240, \"1987\", \"211999\", \"APPLES ALL \", \"57\", \"Nevada \", \"73 \", \"4.93 \", \"360 \", \"338 \", \"TONS \", \"121800\"], [241, \"1987\", \"211999\", \"APPLES ALL \", \"61\", \"Placer \", \"73 \", \"5.34 \", \"390 \", \"400 \", \"TONS \", \"156000\"], [242, \"1987\", \"211999\", \"APPLES ALL \", \"63\", \"Plumas \", \"  \", \"  \", \"  \", \"  \", \"  \", \" \"], [243, \"1987\", \"211999\", \"APPLES ALL \", \"65\", \"Riverside \", \"99 \", \"1.08 \", \"107 \", \"719 \", \"TONS \", \"76900\"], [244, \"1987\", \"211999\", \"APPLES ALL \", \"67\", \"Sacramento \", \"  \", \"  \", \"  \", \"  \", \"  \", \" \"], [245, \"1987\", \"211999\", \"APPLES ALL \", \"69\", \"San Benito \", \"498 \", \"15.70 \", \"7818 \", \"142 \", \"TONS \", \"1110000\"], [246, \"1987\", \"211999\", \"APPLES ALL \", \"71\", \"San Bernardino \", \"310 \", \"4.26 \", \"1320 \", \"482 \", \"TONS \", \"636000\"], [247, \"1987\", \"211999\", \"APPLES ALL \", \"73\", \"San Diego \", \"357 \", \"1.10 \", \"393 \", \"428 \", \"TONS \", \"168154\"], [248, \"1987\", \"211999\", \"APPLES ALL \", \"77\", \"San Joaquin \", \"1400 \", \"13.79 \", \"19300 \", \"335 \", \"TONS \", \"6458000\"], [249, \"1987\", \"211999\", \"APPLES ALL \", \"79\", \"San Luis Obispo \", \"430 \", \"10.50 \", \"4515 \", \"240 \", \"TONS \", \"1084000\"], [250, \"1987\", \"211999\", \"APPLES ALL \", \"83\", \"Santa Barbara \", \"  \", \"  \", \"  \", \"  \", \"  \", \" \"], [251, \"1987\", \"211999\", \"APPLES ALL \", \"85\", \"Santa Clara \", \"  \", \"  \", \"  \", \"  \", \"  \", \" \"], [252, \"1987\", \"211999\", \"APPLES ALL \", \"87\", \"Santa Cruz \", \"5200 \", \"13.52 \", \"70300 \", \"142 \", \"TONS \", \"9947450\"], [253, \"1987\", \"211999\", \"APPLES ALL \", \"89\", \"Shasta \", \"  \", \"  \", \"  \", \"  \", \"  \", \" \"], [254, \"1987\", \"211999\", \"APPLES ALL \", \"93\", \"Siskiyou \", \"79 \", \"1.03 \", \"81 \", \"506 \", \"TONS \", \"41000\"], [255, \"1987\", \"211999\", \"APPLES ALL \", \"95\", \"Solano \", \"  \", \"  \", \"  \", \"  \", \"  \", \" \"], [256, \"1987\", \"211999\", \"APPLES ALL \", \"97\", \"Sonoma \", \"5661 \", \"14.43 \", \"81684 \", \"107 \", \"TONS \", \"8705600\"], [257, \"1987\", \"211999\", \"APPLES ALL \", \"99\", \"Stanislaus \", \"610 \", \"7.87 \", \"4800 \", \"304 \", \"TONS \", \"1459000\"], [258, \"1987\", \"211999\", \"APPLES ALL \", \"101\", \"Sutter \", \"215 \", \"20.40 \", \"4385 \", \"396 \", \"TONS \", \"1736600\"], [259, \"1987\", \"211999\", \"APPLES ALL \", \"103\", \"Tehama \", \"  \", \"  \", \"  \", \"  \", \"  \", \" \"], [260, \"1987\", \"211999\", \"APPLES ALL \", \"107\", \"Tulare \", \"195 \", \"9.08 \", \"1770 \", \"516 \", \"TONS \", \"913000\"], [261, \"1987\", \"211999\", \"APPLES ALL \", \"109\", \"Tuolumne \", \"109 \", \"4.34 \", \"473 \", \"252 \", \"TONS \", \"119000\"], [262, \"1987\", \"211999\", \"APPLES ALL \", \"111\", \"Ventura \", \"  \", \"  \", \"  \", \"  \", \"  \", \" \"], [263, \"1987\", \"211999\", \"APPLES ALL \", \"113\", \"Yolo \", \"  \", \"  \", \"  \", \"  \", \"  \", \" \"], [264, \"1987\", \"211999\", \"APPLES ALL \", \"115\", \"Yuba \", \"  \", \"  \", \"  \", \"  \", \"  \", \" \"], [265, \"1987\", \"211999\", \"APPLES ALL \", \"999\", \" State Totals\", \"21431 \", \"13.27 \", \"284441 \", \"207 \", \"    \", \"58757959\"], [266, \"1987\", \"217999\", \"APRICOTS ALL \", \"1\", \"Alameda \", \"  \", \"  \", \"  \", \"  \", \"  \", \" \"], [267, \"1987\", \"217999\", \"APRICOTS ALL \", \"7\", \"Butte \", \"  \", \"  \", \"  \", \"  \", \"  \", \" \"], [268, \"1987\", \"217999\", \"APRICOTS ALL \", \"11\", \"Colusa \", \"  \", \"  \", \"  \", \"  \", \"  \", \" \"], [269, \"1987\", \"217999\", \"APRICOTS ALL \", \"13\", \"Contra Costa \", \"1060 \", \"5.40 \", \"5720 \", \"281 \", \"TONS \", \"1610000\"], [270, \"1987\", \"217999\", \"APRICOTS ALL \", \"19\", \"Fresno \", \"485 \", \"6.85 \", \"3320 \", \"990 \", \"TONS \", \"3287000\"], [271, \"1987\", \"217999\", \"APRICOTS ALL \", \"29\", \"Kern \", \"454 \", \"7.49 \", \"3400 \", \"1200 \", \"TONS \", \"4080000\"], [272, \"1987\", \"217999\", \"APRICOTS ALL \", \"31\", \"Kings \", \"235 \", \"8.94 \", \"2101 \", \"500 \", \"TONS \", \"1050000\"], [273, \"1987\", \"217999\", \"APRICOTS ALL \", \"39\", \"Madera \", \"  \", \"  \", \"  \", \"  \", \"  \", \" \"], [274, \"1987\", \"217999\", \"APRICOTS ALL \", \"43\", \"Mariposa \", \"  \", \"  \", \"  \", \"  \", \"  \", \" \"], [275, \"1987\", \"217999\", \"APRICOTS ALL \", \"47\", \"Merced \", \"1411 \", \"8.22 \", \"11600 \", \"318 \", \"TONS \", \"3689000\"], [276, \"1987\", \"217999\", \"APRICOTS ALL \", \"53\", \"Monterey \", \"  \", \"  \", \"  \", \"  \", \"  \", \" \"], [277, \"1987\", \"217999\", \"APRICOTS ALL \", \"61\", \"Placer \", \"  \", \"  \", \"  \", \"  \", \"  \", \" \"], [278, \"1987\", \"217999\", \"APRICOTS ALL \", \"65\", \"Riverside \", \"102 \", \"2.00 \", \"204 \", \"600 \", \"TONS \", \"122400\"], [279, \"1987\", \"217999\", \"APRICOTS ALL \", \"69\", \"San Benito \", \"2460 \", \"5.20 \", \"12792 \", \"350 \", \"TONS \", \"4477000\"], [280, \"1987\", \"217999\", \"APRICOTS ALL \", \"71\", \"San Bernardino \", \"  \", \"  \", \"  \", \"  \", \"  \", \" \"], [281, \"1987\", \"217999\", \"APRICOTS ALL \", \"73\", \"San Diego \", \"  \", \"  \", \"  \", \"  \", \"  \", \" \"], [282, \"1987\", \"217999\", \"APRICOTS ALL \", \"77\", \"San Joaquin \", \"2940 \", \"6.05 \", \"17800 \", \"296 \", \"TONS \", \"5264000\"], [283, \"1987\", \"217999\", \"APRICOTS ALL \", \"79\", \"San Luis Obispo \", \"  \", \"  \", \"  \", \"  \", \"  \", \" \"], [284, \"1987\", \"217999\", \"APRICOTS ALL \", \"83\", \"Santa Barbara \", \"  \", \"  \", \"  \", \"  \", \"  \", \" \"], [285, \"1987\", \"217999\", \"APRICOTS ALL \", \"85\", \"Santa Clara \", \"725 \", \"1.30 \", \"943 \", \"750 \", \"TONS \", \"707000\"], [286, \"1987\", \"217999\", \"APRICOTS ALL \", \"87\", \"Santa Cruz \", \"  \", \"  \", \"  \", \"  \", \"  \", \" \"], [287, \"1987\", \"217999\", \"APRICOTS ALL \", \"95\", \"Solano \", \"1063 \", \"2.13 \", \"2259 \", \"429 \", \"TONS \", \"968700\"], [288, \"1987\", \"217999\", \"APRICOTS ALL \", \"99\", \"Stanislaus \", \"8777 \", \"8.22 \", \"72150 \", \"295 \", \"TONS \", \"21284000\"], [289, \"1987\", \"217999\", \"APRICOTS ALL \", \"101\", \"Sutter \", \"  \", \"  \", \"  \", \"  \", \"  \", \" \"], [290, \"1987\", \"217999\", \"APRICOTS ALL \", \"103\", \"Tehama \", \"  \", \"  \", \"  \", \"  \", \"  \", \" \"], [291, \"1987\", \"217999\", \"APRICOTS ALL \", \"107\", \"Tulare \", \"395 \", \"7.87 \", \"3110 \", \"1050 \", \"TONS \", \"3266000\"], [292, \"1987\", \"217999\", \"APRICOTS ALL \", \"111\", \"Ventura \", \"  \", \"  \", \"  \", \"  \", \"  \", \" \"], [293, \"1987\", \"217999\", \"APRICOTS ALL \", \"113\", \"Yolo \", \"685 \", \"2.69 \", \"1842 \", \"643 \", \"TONS \", \"1184000\"], [294, \"1987\", \"217999\", \"APRICOTS ALL \", \"115\", \"Yuba \", \"  \", \"  \", \"  \", \"  \", \"  \", \" \"], [295, \"1987\", \"217999\", \"APRICOTS ALL \", \"999\", \" State Totals\", \"20792 \", \"6.60 \", \"137241 \", \"372 \", \"    \", \"50989100\"], [296, \"1987\", \"301999\", \"ARTICHOKES \", \"25\", \"Imperial \", \"  \", \"  \", \"  \", \"  \", \"  \", \" \"], [297, \"1987\", \"301999\", \"ARTICHOKES \", \"53\", \"Monterey \", \"7660 \", \"6.14 \", \"47035 \", \"593 \", \"TONS \", \"27880500\"], [298, \"1987\", \"301999\", \"ARTICHOKES \", \"71\", \"San Bernardino \", \"  \", \"  \", \"  \", \"  \", \"  \", \" \"], [299, \"1987\", \"301999\", \"ARTICHOKES \", \"79\", \"San Luis Obispo \", \"  \", \"  \", \"  \", \"  \", \"  \", \" \"], [300, \"1987\", \"301999\", \"ARTICHOKES \", \"81\", \"San Mateo \", \"1150 \", \"2.00 \", \"2300 \", \"1100 \", \"TONS \", \"2530000\"], [301, \"1987\", \"301999\", \"ARTICHOKES \", \"83\", \"Santa Barbara \", \"1009 \", \"6.08 \", \"6137 \", \"602 \", \"TONS \", \"3696921\"], [302, \"1987\", \"301999\", \"ARTICHOKES \", \"87\", \"Santa Cruz \", \"1307 \", \"4.10 \", \"5358 \", \"487 \", \"TONS \", \"2609000\"], [303, \"1987\", \"301999\", \"ARTICHOKES \", \"999\", \" State Totals\", \"11126 \", \"5.47 \", \"60830 \", \"604 \", \"    \", \"36716421\"], [304, \"1987\", \"302199\", \"ASPARAGUS FRESH MARKET \", \"13\", \"Contra Costa \", \"2340 \", \"0.97 \", \"2270 \", \"1270 \", \"TONS \", \"2883000\"], [305, \"1987\", \"302199\", \"ASPARAGUS FRESH MARKET \", \"53\", \"Monterey \", \"4140 \", \"3.17 \", \"13135 \", \"1105 \", \"TONS \", \"14516000\"], [306, \"1987\", \"302199\", \"ASPARAGUS FRESH MARKET \", \"77\", \"San Joaquin \", \"17500 \", \"1.17 \", \"20500 \", \"918 \", \"TONS \", \"18817000\"], [307, \"1987\", \"302199\", \"ASPARAGUS FRESH MARKET \", \"999\", \" State Totals\", \"23980 \", \"1.50 \", \"35905 \", \"1009 \", \"    \", \"36216000\"], [308, \"1987\", \"302299\", \"ASPARAGUS PROCESSING \", \"13\", \"Contra Costa \", \"  \", \"  \", \"420 \", \"719 \", \"TONS \", \"302000\"], [309, \"1987\", \"302299\", \"ASPARAGUS PROCESSING \", \"77\", \"San Joaquin \", \"  \", \"  \", \"5780 \", \"719 \", \"TONS \", \"4158000\"], [310, \"1987\", \"302299\", \"ASPARAGUS PROCESSING \", \"999\", \" State Totals\", \"0 \", \"  \", \"6200 \", \"719 \", \"    \", \"4460000\"], [311, \"1987\", \"302999\", \"ASPARAGUS UNSPECIFIED \", \"7\", \"Butte \", \"  \", \"  \", \"  \", \"  \", \"  \", \" \"], [312, \"1987\", \"302999\", \"ASPARAGUS UNSPECIFIED \", \"9\", \"Calaveras \", \"  \", \"  \", \"  \", \"  \", \"  \", \" \"], [313, \"1987\", \"302999\", \"ASPARAGUS UNSPECIFIED \", \"19\", \"Fresno \", \"  \", \"  \", \"  \", \"  \", \"  \", \" \"], [314, \"1987\", \"302999\", \"ASPARAGUS UNSPECIFIED \", \"25\", \"Imperial \", \"3821 \", \"1.77 \", \"6776 \", \"1893 \", \"TONS \", \"12829000\"], [315, \"1987\", \"302999\", \"ASPARAGUS UNSPECIFIED \", \"29\", \"Kern \", \"1466 \", \"1.30 \", \"1910 \", \"1112 \", \"TONS \", \"2124000\"], [316, \"1987\", \"302999\", \"ASPARAGUS UNSPECIFIED \", \"31\", \"Kings \", \"  \", \"  \", \"  \", \"  \", \"  \", \" \"], [317, \"1987\", \"302999\", \"ASPARAGUS UNSPECIFIED \", \"35\", \"Lassen \", \"  \", \"  \", \"  \", \"  \", \"  \", \" \"], [318, \"1987\", \"302999\", \"ASPARAGUS UNSPECIFIED \", \"59\", \"Orange \", \"781 \", \"2.96 \", \"2312 \", \"1332 \", \"TONS \", \"3079800\"], [319, \"1987\", \"302999\", \"ASPARAGUS UNSPECIFIED \", \"65\", \"Riverside \", \"5912 \", \"1.43 \", \"8425 \", \"2115 \", \"TONS \", \"17815200\"], [320, \"1987\", \"302999\", \"ASPARAGUS UNSPECIFIED \", \"67\", \"Sacramento \", \"1360 \", \"1.00 \", \"1360 \", \"1200 \", \"TONS \", \"1632000\"], [321, \"1987\", \"302999\", \"ASPARAGUS UNSPECIFIED \", \"71\", \"San Bernardino \", \"  \", \"  \", \"  \", \"  \", \"  \", \" \"], [322, \"1987\", \"302999\", \"ASPARAGUS UNSPECIFIED \", \"95\", \"Solano \", \"  \", \"  \", \"  \", \"  \", \"  \", \" \"], [323, \"1987\", \"302999\", \"ASPARAGUS UNSPECIFIED \", \"101\", \"Sutter \", \"  \", \"  \", \"  \", \"  \", \"  \", \" \"], [324, \"1987\", \"302999\", \"ASPARAGUS UNSPECIFIED \", \"107\", \"Tulare \", \"  \", \"  \", \"  \", \"  \", \"  \", \" \"], [325, \"1987\", \"302999\", \"ASPARAGUS UNSPECIFIED \", \"113\", \"Yolo \", \"785 \", \"1.24 \", \"973 \", \"1174 \", \"TONS \", \"1142000\"], [326, \"1987\", \"302999\", \"ASPARAGUS UNSPECIFIED \", \"999\", \" State Totals\", \"14125 \", \"1.54 \", \"21756 \", \"1775 \", \"    \", \"38622000\"], [327, \"1987\", \"221999\", \"AVOCADOS ALL \", \"7\", \"Butte \", \"  \", \"  \", \"  \", \"  \", \"  \", \" \"], [328, \"1987\", \"221999\", \"AVOCADOS ALL \", \"19\", \"Fresno \", \"  \", \"  \", \"  \", \"  \", \"  \", \" \"], [329, \"1987\", \"221999\", \"AVOCADOS ALL \", \"37\", \"Los Angeles \", \"273 \", \"0.85 \", \"233 \", \"720 \", \"TONS \", \"167800\"], [330, \"1987\", \"221999\", \"AVOCADOS ALL \", \"53\", \"Monterey \", \"55 \", \"1.40 \", \"77 \", \"429 \", \"TONS \", \"33000\"], [331, \"1987\", \"221999\", \"AVOCADOS ALL \", \"59\", \"Orange \", \"1642 \", \"6.14 \", \"10082 \", \"600 \", \"TONS \", \"6049200\"], [332, \"1987\", \"221999\", \"AVOCADOS ALL \", \"65\", \"Riverside \", \"8554 \", \"3.71 \", \"31693 \", \"798 \", \"TONS \", \"25305300\"], [333, \"1987\", \"221999\", \"AVOCADOS ALL \", \"69\", \"San Benito \", \"  \", \"  \", \"  \", \"  \", \"  \", \" \"], [334, \"1987\", \"221999\", \"AVOCADOS ALL \", \"71\", \"San Bernardino \", \"197 \", \"1.52 \", \"300 \", \"163 \", \"TONS \", \"49000\"], [335, \"1987\", \"221999\", \"AVOCADOS ALL \", \"73\", \"San Diego \", \"36360 \", \"3.80 \", \"138168 \", \"540 \", \"TONS \", \"74610720\"], [336, \"1987\", \"221999\", \"AVOCADOS ALL \", \"79\", \"San Luis Obispo \", \"1300 \", \"1.70 \", \"2210 \", \"525 \", \"TONS \", \"1160000\"], [337, \"1987\", \"221999\", \"AVOCADOS ALL \", \"83\", \"Santa Barbara \", \"9131 \", \"6.00 \", \"54786 \", \"398 \", \"TONS \", \"21804828\"], [338, \"1987\", \"221999\", \"AVOCADOS ALL \", \"87\", \"Santa Cruz \", \"85 \", \"2.00 \", \"170 \", \"700 \", \"TONS \", \"119000\"], [339, \"1987\", \"221999\", \"AVOCADOS ALL \", \"99\", \"Stanislaus \", \"  \", \"  \", \"  \", \"  \", \"  \", \" \"], [340, \"1987\", \"221999\", \"AVOCADOS ALL \", \"107\", \"Tulare \", \"1397 \", \"5.03 \", \"7030 \", \"571 \", \"TONS \", \"4014000\"], [341, \"1987\", \"221999\", \"AVOCADOS ALL \", \"111\", \"Ventura \", \"16303 \", \"2.37 \", \"38564 \", \"543 \", \"TONS \", \"20947000\"], [342, \"1987\", \"221999\", \"AVOCADOS ALL \", \"999\", \" State Totals\", \"75297 \", \"3.76 \", \"283313 \", \"544 \", \"    \", \"154259848\"], [343, \"1987\", \"113995\", \"BARLEY FEED \", \"49\", \"Modoc \", \"10100 \", \"2.00 \", \"20200 \", \"80 \", \"TONS \", \"1616000\"], [344, \"1987\", \"113995\", \"BARLEY FEED \", \"73\", \"San Diego \", \"1920 \", \"0.80 \", \"1536 \", \"75 \", \"TONS \", \"115200\"], [345, \"1987\", \"113995\", \"BARLEY FEED \", \"81\", \"San Mateo \", \"100 \", \"1.22 \", \"122 \", \"103 \", \"TONS \", \"12550\"], [346, \"1987\", \"113995\", \"BARLEY FEED \", \"93\", \"Siskiyou \", \"29340 \", \"2.30 \", \"67482 \", \"82 \", \"TONS \", \"5534000\"], [347, \"1987\", \"113995\", \"BARLEY FEED \", \"999\", \" State Totals\", \"41460 \", \"2.15 \", \"89340 \", \"81 \", \"    \", \"7277750\"], [348, \"1987\", \"113994\", \"BARLEY MALTING \", \"49\", \"Modoc \", \"4700 \", \"2.35 \", \"11045 \", \"88 \", \"TONS \", \"972000\"], [349, \"1987\", \"113994\", \"BARLEY MALTING \", \"93\", \"Siskiyou \", \"8287 \", \"2.30 \", \"19060 \", \"88 \", \"TONS \", \"1677000\"], [350, \"1987\", \"113994\", \"BARLEY MALTING \", \"999\", \" State Totals\", \"12987 \", \"2.32 \", \"30105 \", \"88 \", \"    \", \"2649000\"], [351, \"1987\", \"171139\", \"BARLEY SEED \", \"7\", \"Butte \", \"  \", \"  \", \"  \", \"  \", \"  \", \" \"], [352, \"1987\", \"171139\", \"BARLEY SEED \", \"19\", \"Fresno \", \"2850 \", \"1.96 \", \"5574 \", \"93 \", \"TONS \", \"519000\"], [353, \"1987\", \"171139\", \"BARLEY SEED \", \"29\", \"Kern \", \"  \", \"  \", \"  \", \"  \", \"  \", \" \"], [354, \"1987\", \"171139\", \"BARLEY SEED \", \"31\", \"Kings \", \"3077 \", \"1.69 \", \"5200 \", \"100 \", \"TONS \", \"520000\"], [355, \"1987\", \"171139\", \"BARLEY SEED \", \"39\", \"Madera \", \"  \", \"  \", \"  \", \"  \", \"  \", \" \"], [356, \"1987\", \"171139\", \"BARLEY SEED \", \"47\", \"Merced \", \"  \", \"  \", \"  \", \"  \", \"  \", \" \"], [357, \"1987\", \"171139\", \"BARLEY SEED \", \"53\", \"Monterey \", \"800 \", \"1.38 \", \"1100 \", \"86 \", \"TONS \", \"95000\"], [358, \"1987\", \"171139\", \"BARLEY SEED \", \"69\", \"San Benito \", \"  \", \"  \", \"  \", \"  \", \"  \", \" \"], [359, \"1987\", \"171139\", \"BARLEY SEED \", \"71\", \"San Bernardino \", \"  \", \"  \", \"  \", \"  \", \"  \", \" \"], [360, \"1987\", \"171139\", \"BARLEY SEED \", \"79\", \"San Luis Obispo \", \"934 \", \"  \", \"  \", \"  \", \"  \", \"196100\"], [361, \"1987\", \"171139\", \"BARLEY SEED \", \"83\", \"Santa Barbara \", \"  \", \"  \", \"  \", \"  \", \"  \", \" \"], [362, \"1987\", \"171139\", \"BARLEY SEED \", \"93\", \"Siskiyou \", \"1800 \", \"2.30 \", \"4140 \", \"100 \", \"TONS \", \"414000\"], [363, \"1987\", \"171139\", \"BARLEY SEED \", \"107\", \"Tulare \", \"  \", \"  \", \"  \", \"  \", \"  \", \" \"], [364, \"1987\", \"171139\", \"BARLEY SEED \", \"999\", \" State Totals\", \"9461 \", \"1.88 \", \"16014 \", \"97 \", \"    \", \"1744100\"], [365, \"1987\", \"113999\", \"BARLEY UNSPECIFIED \", \"1\", \"Alameda \", \"400 \", \"0.70 \", \"280 \", \"82 \", \"TONS \", \"23000\"], [366, \"1987\", \"113999\", \"BARLEY UNSPECIFIED \", \"5\", \"Amador \", \"90 \", \"1.00 \", \"90 \", \"85 \", \"TONS \", \"7650\"], [367, \"1987\", \"113999\", \"BARLEY UNSPECIFIED \", \"7\", \"Butte \", \"3500 \", \"1.30 \", \"4550 \", \"93 \", \"TONS \", \"423000\"], [368, \"1987\", \"113999\", \"BARLEY UNSPECIFIED \", \"11\", \"Colusa \", \"1800 \", \"1.10 \", \"1980 \", \"84 \", \"TONS \", \"166000\"], [369, \"1987\", \"113999\", \"BARLEY UNSPECIFIED \", \"13\", \"Contra Costa \", \"537 \", \"1.43 \", \"768 \", \"87 \", \"TONS \", \"66900\"], [370, \"1987\", \"113999\", \"BARLEY UNSPECIFIED \", \"19\", \"Fresno \", \"42000 \", \"1.57 \", \"65900 \", \"88 \", \"TONS \", \"5799000\"], [371, \"1987\", \"113999\", \"BARLEY UNSPECIFIED \", \"21\", \"Glenn \", \"4000 \", \"0.50 \", \"2000 \", \"94 \", \"TONS \", \"187000\"], [1799, \"2014\", \"198199\", \"RICE WILD\", \"35\", \"Lassen\", \" 1710.0\", \" 0.67\", \" 1150.0\", \" 1444.35\", \"Tons\", \"1661000\"], [1800, \"2014\", \"198199\", \"RICE WILD\", \"89\", \"Shasta\", \" 5600.0\", \" 0.76\", \" 4230.0\", \" 1639.24\", \"Tons\", \"6934000\"], [1801, \"2014\", \"198199\", \"RICE WILD\", \"101\", \"Sutter\", \" 1150.0\", \" 1.08\", \" 1240.0\", \" 1843.55\", \"Tons\", \"2286000\"], [1802, \"2014\", \"198199\", \"RICE WILD\", \"999\", \"State Total\", \" 8460.0\", \" 0.78\", \" 6620.0\", \" 1643.66\", \"NaN\", \"10881000\"], [1803, \"2014\", \"370999\", \"RUTABAGAS\", \"991\", \"Sum of Others\", \" 36.0\", \" 10.33\", \" 372.0\", \" 520.43\", \"Tons\", \"193600\"], [1804, \"2014\", \"370999\", \"RUTABAGAS\", \"999\", \"State Total\", \" 36.0\", \" 10.33\", \" 372.0\", \" 520.43\", \"NaN\", \"193600\"], [1805, \"2014\", \"104999\", \"RYE GRAIN\", \"67\", \"Sacramento\", \" 4860.0\", \" 1.8\", \" 8740.0\", \" 126.77\", \"Tons\", \"1108000\"], [1806, \"2014\", \"104999\", \"RYE GRAIN\", \"93\", \"Siskiyou\", \" 3660.0\", \" 0.75\", \" 2750.0\", \" 349.45\", \"Tons\", \"961000\"], [1807, \"2014\", \"104999\", \"RYE GRAIN\", \"991\", \"Sum of Others\", \" 600.0\", \" 3.97\", \" 2380.0\", \" 277.31\", \"Tons\", \"660000\"], [1808, \"2014\", \"104999\", \"RYE GRAIN\", \"999\", \"State Total\", \" 9120.0\", \" 1.52\", \" 13870.0\", \" 196.76\", \"NaN\", \"2729000\"], [1809, \"2014\", \"171049\", \"RYE SEED\", \"93\", \"Siskiyou\", \" 175.0\", \" 1.5\", \" 263.0\", \" 299.62\", \"Tons\", \"78800\"], [1810, \"2014\", \"171049\", \"RYE SEED\", \"999\", \"State Total\", \" 175.0\", \" 1.5\", \" 263.0\", \" 299.62\", \"NaN\", \"78800\"], [1811, \"2014\", \"158269\", \"SAFFLOWER\", \"7\", \"Butte\", \" 92.0\", \" 1.1\", \" 101.0\", \" 490.1\", \"Tons\", \"49500\"], [1812, \"2014\", \"158269\", \"SAFFLOWER\", \"11\", \"Colusa\", \" 1060.0\", \" 1.18\", \" 1250.0\", \" 496.0\", \"Tons\", \"620000\"], [1813, \"2014\", \"158269\", \"SAFFLOWER\", \"67\", \"Sacramento\", \" 1590.0\", \" 1.4\", \" 2230.0\", \" 493.27\", \"Tons\", \"1100000\"], [1814, \"2014\", \"158269\", \"SAFFLOWER\", \"77\", \"San Joaquin\", \" 3170.0\", \" 1.57\", \" 4980.0\", \" 520.08\", \"Tons\", \"2590000\"], [1815, \"2014\", \"158269\", \"SAFFLOWER\", \"95\", \"Solano\", \" 2640.0\", \" 0.97\", \" 2560.0\", \" 521.09\", \"Tons\", \"1334000\"], [1816, \"2014\", \"158269\", \"SAFFLOWER\", \"101\", \"Sutter\", \" 2120.0\", \" 1.18\", \" 2500.0\", \" 498.0\", \"Tons\", \"1245000\"], [1817, \"2014\", \"158269\", \"SAFFLOWER\", \"113\", \"Yolo\", \" 7170.0\", \" 1.0\", \" 7170.0\", \" 505.58\", \"Tons\", \"3625000\"], [1818, \"2014\", \"158269\", \"SAFFLOWER\", \"991\", \"Sum of Others\", \" 5963.0\", \" 1.59\", \" 9508.0\", \" 485.45\", \"Tons\", \"4615630\"], [1819, \"2014\", \"158269\", \"SAFFLOWER\", \"999\", \"State Total\", \" 23805.0\", \" 1.27\", \" 30299.0\", \" 500.98\", \"NaN\", \"15179130\"], [1820, \"2014\", \"171582\", \"SAFFLOWER SEED PLANTING\", \"101\", \"Sutter\", \" 455.0\", \" 0.9\", \" 410.0\", \" 539.02\", \"Tons\", \"221000\"], [1821, \"2014\", \"171582\", \"SAFFLOWER SEED PLANTING\", \"999\", \"State Total\", \" 455.0\", \" 0.9\", \" 410.0\", \" 539.02\", \"NaN\", \"221000\"], [1822, \"2014\", \"394199\", \"SALAD GREENS MISC.\", \"25\", \"Imperial\", \" 3230.0\", \" 3.25\", \" 10500.0\", \" 1229.52\", \"Tons\", \"12910000\"], [1823, \"2014\", \"394199\", \"SALAD GREENS MISC.\", \"53\", \"Monterey\", \" 8060.0\", \" 9.78\", \" 78800.0\", \" 1120.0\", \"Tons\", \"88256000\"], [1824, \"2014\", \"394199\", \"SALAD GREENS MISC.\", \"85\", \"Santa Clara\", \" 620.0\", \" 5.81\", \" 3600.0\", \" 1322.5\", \"Tons\", \"4761000\"], [1825, \"2014\", \"394199\", \"SALAD GREENS MISC.\", \"991\", \"Sum of Others\", \" 1127.0\", \" 5.31\", \" 5982.0\", \" 2212.5\", \"Tons\", \"13235200\"], [1826, \"2014\", \"394199\", \"SALAD GREENS MISC.\", \"999\", \"State Total\", \" 13037.0\", \" 7.58\", \" 98882.0\", \" 1205.09\", \"NaN\", \"119162200\"], [1827, \"2014\", \"172119\", \"SEED ALFALFA\", \"19\", \"Fresno\", \" 7930.0\", \" 0.38\", \" 3040.0\", \" 6233.88\", \"Tons\", \"18951000\"], [1828, \"2014\", \"172119\", \"SEED ALFALFA\", \"25\", \"Imperial\", \" 32300.0\", \" 0.26\", \" 8510.0\", \" 6021.03\", \"Tons\", \"51239000\"], [1829, \"2014\", \"172119\", \"SEED ALFALFA\", \"35\", \"Lassen\", \" 203.0\", \" 0.2\", \" 40.0\", \" 437.5\", \"Tons\", \"17500\"], [1830, \"2014\", \"172119\", \"SEED ALFALFA\", \"991\", \"Sum of Others\", \" 840.0\", \" 0.39\", \" 331.0\", \" 5425.98\", \"Tons\", \"1796000\"], [1831, \"2014\", \"172119\", \"SEED ALFALFA\", \"999\", \"State Total\", \" 41273.0\", \" 0.29\", \" 11921.0\", \" 6040.06\", \"NaN\", \"72003500\"], [1832, \"2014\", \"173079\", \"SEED BERMUDA GRASS\", \"25\", \"Imperial\", \" 19000.0\", \" 0.22\", \" 4160.0\", \" 7672.36\", \"Tons\", \"31917000\"], [1833, \"2014\", \"173079\", \"SEED BERMUDA GRASS\", \"999\", \"State Total\", \" 19000.0\", \" 0.22\", \" 4160.0\", \" 7672.36\", \"NaN\", \"31917000\"], [1834, \"2014\", \"172289\", \"SEED CLOVER UNSPECIFIED\", \"67\", \"Sacramento\", \" 1270.0\", \" 0.27\", \" 343.0\", \" 3994.17\", \"NaN\", \"1370000\"], [1835, \"2014\", \"172289\", \"SEED CLOVER UNSPECIFIED\", \"999\", \"State Total\", \" 1270.0\", \" 0.27\", \" 343.0\", \" 3994.17\", \"NaN\", \"1370000\"], [1836, \"2014\", \"173999\", \"SEED GRASS UNSPECIFIED\", \"113\", \"Yolo\", \" 699.0\", \"NaN\", \"NaN\", \"NaN\", \"NaN\", \"5653000\"], [1837, \"2014\", \"173999\", \"SEED GRASS UNSPECIFIED\", \"999\", \"State Total\", \" 699.0\", \"NaN\", \"NaN\", \"NaN\", \"NaN\", \"5653000\"], [1838, \"2014\", \"178999\", \"SEED OTHER (NO FLOWERS)\", \"113\", \"Yolo\", \" 6890.0\", \"NaN\", \"NaN\", \"NaN\", \"NaN\", \"21039000\"], [1839, \"2014\", \"178999\", \"SEED OTHER (NO FLOWERS)\", \"999\", \"State Total\", \" 6890.0\", \"NaN\", \"NaN\", \"NaN\", \"NaN\", \"21039000\"], [1840, \"2014\", \"173669\", \"SEED SUDAN GRASS\", \"67\", \"Sacramento\", \" 923.0\", \" 1.17\", \" 1080.0\", \" 1037.96\", \"Tons\", \"1121000\"], [1841, \"2014\", \"173669\", \"SEED SUDAN GRASS\", \"991\", \"Sum of Others\", \" 758.0\", \"NaN\", \"NaN\", \"NaN\", \"Tons\", \"200000\"], [1842, \"2014\", \"173669\", \"SEED SUDAN GRASS\", \"999\", \"State Total\", \" 1681.0\", \" 1.17\", \" 1080.0\", \" 1037.96\", \"NaN\", \"1321000\"], [1843, \"2014\", \"171959\", \"SEED VEGETABLE & VINECROP\", \"11\", \"Colusa\", \" 7230.0\", \"NaN\", \"NaN\", \"NaN\", \"NaN\", \"18072000\"], [1844, \"2014\", \"171959\", \"SEED VEGETABLE & VINECROP\", \"19\", \"Fresno\", \" 1570.0\", \"NaN\", \"NaN\", \"NaN\", \"NaN\", \"10426000\"], [1845, \"2014\", \"171959\", \"SEED VEGETABLE & VINECROP\", \"21\", \"Glenn\", \" 1670.0\", \"NaN\", \"NaN\", \"NaN\", \"NaN\", \"13372000\"], [1846, \"2014\", \"171959\", \"SEED VEGETABLE & VINECROP\", \"25\", \"Imperial\", \" 696.0\", \"NaN\", \"NaN\", \"NaN\", \"NaN\", \"4346000\"], [1847, \"2014\", \"171959\", \"SEED VEGETABLE & VINECROP\", \"29\", \"Kern\", \" 1030.0\", \"NaN\", \"NaN\", \"NaN\", \"NaN\", \"6266000\"], [1848, \"2014\", \"171959\", \"SEED VEGETABLE & VINECROP\", \"83\", \"Santa Barbara\", \" 668.0\", \"NaN\", \"NaN\", \"NaN\", \"NaN\", \"2872000\"], [1849, \"2014\", \"171959\", \"SEED VEGETABLE & VINECROP\", \"85\", \"Santa Clara\", \" 442.0\", \"NaN\", \"NaN\", \"NaN\", \"NaN\", \"707000\"], [1850, \"2014\", \"171959\", \"SEED VEGETABLE & VINECROP\", \"95\", \"Solano\", \" 218.0\", \"NaN\", \"NaN\", \"NaN\", \"NaN\", \"268000\"], [1851, \"2014\", \"171959\", \"SEED VEGETABLE & VINECROP\", \"101\", \"Sutter\", \" 1950.0\", \"NaN\", \"NaN\", \"NaN\", \"NaN\", \"7575000\"], [1852, \"2014\", \"171959\", \"SEED VEGETABLE & VINECROP\", \"991\", \"Sum of Others\", \" 873.0\", \"NaN\", \"NaN\", \"NaN\", \"NaN\", \"2309400\"], [1853, \"2014\", \"171959\", \"SEED VEGETABLE & VINECROP\", \"999\", \"State Total\", \" 16347.0\", \"NaN\", \"NaN\", \"NaN\", \"NaN\", \"66213400\"], [1854, \"2014\", \"174699\", \"SEED VETCH\", \"991\", \"Sum of Others\", \" 2520.0\", \" 0.17\", \" 428.0\", \" 747.66\", \"Tons\", \"320000\"], [1855, \"2014\", \"174699\", \"SEED VETCH\", \"999\", \"State Total\", \" 2520.0\", \" 0.17\", \" 428.0\", \" 747.66\", \"NaN\", \"320000\"], [1856, \"2014\", \"411999\", \"SHEEP\", \"59\", \"Orange\", \"NaN\", \"NaN\", \"NaN\", \"NaN\", \"NaN\", \"46000\"], [1857, \"2014\", \"411999\", \"SHEEP\", \"63\", \"Plumas\", \"NaN\", \"NaN\", \"NaN\", \"NaN\", \"NaN\", \"59000\"], [1858, \"2014\", \"411999\", \"SHEEP\", \"93\", \"Siskiyou\", \"NaN\", \"NaN\", \"NaN\", \"NaN\", \"NaN\", \"144000\"], [1859, \"2014\", \"411999\", \"SHEEP\", \"991\", \"Sum of Others\", \"NaN\", \"NaN\", \"NaN\", \"NaN\", \"NaN\", \"63000\"], [1860, \"2014\", \"411999\", \"SHEEP\", \"999\", \"State Total\", \"NaN\", \"NaN\", \"NaN\", \"NaN\", \"NaN\", \"312000\"], [1861, \"2014\", \"419999\", \"SHEEP & LAMBS UNSPECIFIED\", \"5\", \"Amador\", \"NaN\", \"NaN\", \"NaN\", \"NaN\", \"NaN\", \"349000\"], [1862, \"2014\", \"419999\", \"SHEEP & LAMBS UNSPECIFIED\", \"7\", \"Butte\", \"NaN\", \"NaN\", \"NaN\", \"NaN\", \"NaN\", \"348000\"], [1863, \"2014\", \"419999\", \"SHEEP & LAMBS UNSPECIFIED\", \"9\", \"Calaveras\", \"NaN\", \"NaN\", \"NaN\", \"NaN\", \"NaN\", \"230000\"], [1864, \"2014\", \"419999\", \"SHEEP & LAMBS UNSPECIFIED\", \"11\", \"Colusa\", \"NaN\", \"NaN\", \"NaN\", \"NaN\", \"NaN\", \"248000\"], [1865, \"2014\", \"419999\", \"SHEEP & LAMBS UNSPECIFIED\", \"15\", \"Del Norte\", \"NaN\", \"NaN\", \"NaN\", \"NaN\", \"NaN\", \"48600\"], [1866, \"2014\", \"419999\", \"SHEEP & LAMBS UNSPECIFIED\", \"21\", \"Glenn\", \"NaN\", \"NaN\", \"NaN\", \"NaN\", \"NaN\", \"874000\"], [1867, \"2014\", \"419999\", \"SHEEP & LAMBS UNSPECIFIED\", \"23\", \"Humboldt\", \"NaN\", \"NaN\", \"NaN\", \"NaN\", \"NaN\", \"300000\"], [1868, \"2014\", \"419999\", \"SHEEP & LAMBS UNSPECIFIED\", \"27\", \"Inyo\", \"NaN\", \"NaN\", \"NaN\", \"NaN\", \"NaN\", \"496000\"], [1869, \"2014\", \"419999\", \"SHEEP & LAMBS UNSPECIFIED\", \"29\", \"Kern\", \"NaN\", \"NaN\", \"NaN\", \"NaN\", \"NaN\", \"13500000\"], [1870, \"2014\", \"419999\", \"SHEEP & LAMBS UNSPECIFIED\", \"35\", \"Lassen\", \"NaN\", \"NaN\", \"NaN\", \"NaN\", \"NaN\", \"1333000\"], [1871, \"2014\", \"419999\", \"SHEEP & LAMBS UNSPECIFIED\", \"41\", \"Marin\", \"NaN\", \"NaN\", \"NaN\", \"NaN\", \"NaN\", \"1982000\"], [1872, \"2014\", \"419999\", \"SHEEP & LAMBS UNSPECIFIED\", \"45\", \"Mendocino\", \"NaN\", \"NaN\", \"NaN\", \"NaN\", \"NaN\", \"570000\"], [1873, \"2014\", \"419999\", \"SHEEP & LAMBS UNSPECIFIED\", \"47\", \"Merced\", \"NaN\", \"NaN\", \"NaN\", \"NaN\", \"NaN\", \"4922000\"], [1874, \"2014\", \"419999\", \"SHEEP & LAMBS UNSPECIFIED\", \"51\", \"Mono\", \"NaN\", \"NaN\", \"NaN\", \"NaN\", \"NaN\", \"2096000\"], [1875, \"2014\", \"419999\", \"SHEEP & LAMBS UNSPECIFIED\", \"53\", \"Monterey\", \"NaN\", \"NaN\", \"NaN\", \"NaN\", \"NaN\", \"283000\"], [1876, \"2014\", \"419999\", \"SHEEP & LAMBS UNSPECIFIED\", \"55\", \"Napa\", \"NaN\", \"NaN\", \"NaN\", \"NaN\", \"NaN\", \"595000\"], [1877, \"2014\", \"419999\", \"SHEEP & LAMBS UNSPECIFIED\", \"57\", \"Nevada\", \"NaN\", \"NaN\", \"NaN\", \"NaN\", \"NaN\", \"203000\"], [1878, \"2014\", \"419999\", \"SHEEP & LAMBS UNSPECIFIED\", \"61\", \"Placer\", \"NaN\", \"NaN\", \"NaN\", \"NaN\", \"NaN\", \"1089000\"], [1879, \"2014\", \"419999\", \"SHEEP & LAMBS UNSPECIFIED\", \"65\", \"Riverside\", \"NaN\", \"NaN\", \"NaN\", \"NaN\", \"NaN\", \"1644000\"], [1880, \"2014\", \"419999\", \"SHEEP & LAMBS UNSPECIFIED\", \"73\", \"San Diego\", \"NaN\", \"NaN\", \"NaN\", \"NaN\", \"NaN\", \"89700\"], [1881, \"2014\", \"419999\", \"SHEEP & LAMBS UNSPECIFIED\", \"77\", \"San Joaquin\", \"NaN\", \"NaN\", \"NaN\", \"NaN\", \"NaN\", \"2321000\"], [1882, \"2014\", \"419999\", \"SHEEP & LAMBS UNSPECIFIED\", \"89\", \"Shasta\", \"NaN\", \"NaN\", \"NaN\", \"NaN\", \"NaN\", \"456000\"], [1883, \"2014\", \"419999\", \"SHEEP & LAMBS UNSPECIFIED\", \"95\", \"Solano\", \"NaN\", \"NaN\", \"NaN\", \"NaN\", \"NaN\", \"7912000\"], [1884, \"2014\", \"419999\", \"SHEEP & LAMBS UNSPECIFIED\", \"97\", \"Sonoma\", \"NaN\", \"NaN\", \"NaN\", \"NaN\", \"NaN\", \"7573000\"], [1885, \"2014\", \"419999\", \"SHEEP & LAMBS UNSPECIFIED\", \"99\", \"Stanislaus\", \"NaN\", \"NaN\", \"NaN\", \"NaN\", \"NaN\", \"476000\"], [1886, \"2014\", \"419999\", \"SHEEP & LAMBS UNSPECIFIED\", \"101\", \"Sutter\", \"NaN\", \"NaN\", \"NaN\", \"NaN\", \"NaN\", \"1956000\"], [1887, \"2014\", \"419999\", \"SHEEP & LAMBS UNSPECIFIED\", \"103\", \"Tehama\", \"NaN\", \"NaN\", \"NaN\", \"NaN\", \"NaN\", \"679000\"], [1888, \"2014\", \"419999\", \"SHEEP & LAMBS UNSPECIFIED\", \"109\", \"Tuolumne\", \"NaN\", \"NaN\", \"NaN\", \"NaN\", \"NaN\", \"167000\"], [1889, \"2014\", \"419999\", \"SHEEP & LAMBS UNSPECIFIED\", \"113\", \"Yolo\", \"NaN\", \"NaN\", \"NaN\", \"NaN\", \"NaN\", \"2018000\"], [1890, \"2014\", \"419999\", \"SHEEP & LAMBS UNSPECIFIED\", \"115\", \"Yuba\", \"NaN\", \"NaN\", \"NaN\", \"NaN\", \"NaN\", \"646000\"], [1891, \"2014\", \"419999\", \"SHEEP & LAMBS UNSPECIFIED\", \"991\", \"Sum of Others\", \"NaN\", \"NaN\", \"NaN\", \"NaN\", \"NaN\", \"1917000\"], [1892, \"2014\", \"419999\", \"SHEEP & LAMBS UNSPECIFIED\", \"999\", \"State Total\", \"NaN\", \"NaN\", \"NaN\", \"NaN\", \"NaN\", \"57321300\"], [1893, \"2014\", \"414199\", \"SHEEP BREEDING STOCK\", \"991\", \"Sum of Others\", \"NaN\", \"NaN\", \"NaN\", \"NaN\", \"NaN\", \"60000\"], [1894, \"2014\", \"414199\", \"SHEEP BREEDING STOCK\", \"999\", \"State Total\", \"NaN\", \"NaN\", \"NaN\", \"NaN\", \"NaN\", \"60000\"], [1895, \"2014\", \"412999\", \"SHEEP LAMBS\", \"93\", \"Siskiyou\", \"NaN\", \"NaN\", \"NaN\", \"NaN\", \"NaN\", \"946000\"], [1896, \"2014\", \"412999\", \"SHEEP LAMBS\", \"107\", \"Tulare\", \"NaN\", \"NaN\", \"NaN\", \"NaN\", \"NaN\", \"2959000\"], [1897, \"2014\", \"412999\", \"SHEEP LAMBS\", \"991\", \"Sum of Others\", \"NaN\", \"NaN\", \"NaN\", \"NaN\", \"NaN\", \"144000\"], [1898, \"2014\", \"412999\", \"SHEEP LAMBS\", \"999\", \"State Total\", \"NaN\", \"NaN\", \"NaN\", \"NaN\", \"NaN\", \"4049000\"], [1899, \"2014\", \"414499\", \"SHEEP LAMBS FEEDLOT FAT\", \"19\", \"Fresno\", \"NaN\", \"NaN\", \"NaN\", \"NaN\", \"NaN\", \"14669000\"], [1900, \"2014\", \"414499\", \"SHEEP LAMBS FEEDLOT FAT\", \"25\", \"Imperial\", \"NaN\", \"NaN\", \"NaN\", \"NaN\", \"NaN\", \"5637000\"], [1901, \"2014\", \"414499\", \"SHEEP LAMBS FEEDLOT FAT\", \"999\", \"State Total\", \"NaN\", \"NaN\", \"NaN\", \"NaN\", \"NaN\", \"20306000\"], [1902, \"2014\", \"195199\", \"SILAGE\", \"19\", \"Fresno\", \" 8960.0\", \" 18.19\", \" 163000.0\", \" 55.0\", \"Tons\", \"8965000\"], [1903, \"2014\", \"195199\", \"SILAGE\", \"29\", \"Kern\", \" 85000.0\", \" 19.2\", \" 1632000.0\", \" 49.84\", \"Tons\", \"81334000\"], [1904, \"2014\", \"195199\", \"SILAGE\", \"31\", \"Kings\", \" 56700.0\", \" 16.05\", \" 910000.0\", \" 51.44\", \"Tons\", \"46808000\"], [1905, \"2014\", \"195199\", \"SILAGE\", \"39\", \"Madera\", \" 18200.0\", \" 15.99\", \" 291000.0\", \" 40.2\", \"Tons\", \"11697000\"], [1906, \"2014\", \"195199\", \"SILAGE\", \"41\", \"Marin\", \" 1440.0\", \" 9.86\", \" 14200.0\", \" 44.86\", \"Tons\", \"637000\"], [1907, \"2014\", \"195199\", \"SILAGE\", \"47\", \"Merced\", \" 85500.0\", \" 15.85\", \" 1355000.0\", \" 43.43\", \"Tons\", \"58853000\"], [1908, \"2014\", \"195199\", \"SILAGE\", \"67\", \"Sacramento\", \" 3670.0\", \" 12.72\", \" 46700.0\", \" 28.37\", \"Tons\", \"1325000\"], [1909, \"2014\", \"195199\", \"SILAGE\", \"77\", \"San Joaquin\", \" 112000.0\", \" 13.72\", \" 1537000.0\", \" 41.0\", \"Tons\", \"63017000\"], [1910, \"2014\", \"195199\", \"SILAGE\", \"97\", \"Sonoma\", \" 4480.0\", \" 10.25\", \" 45900.0\", \" 33.97\", \"Tons\", \"1559000\"], [1911, \"2014\", \"195199\", \"SILAGE\", \"99\", \"Stanislaus\", \" 53400.0\", \" 18.45\", \" 985000.0\", \" 45.0\", \"Tons\", \"44325000\"], [1912, \"2014\", \"195199\", \"SILAGE\", \"103\", \"Tehama\", \" 792.0\", \" 28.03\", \" 22200.0\", \" 37.97\", \"Tons\", \"843000\"], [1913, \"2014\", \"195199\", \"SILAGE\", \"107\", \"Tulare\", \" 75100.0\", \" 22.96\", \" 1724000.0\", \" 54.71\", \"Tons\", \"94320000\"], [1914, \"2014\", \"195199\", \"SILAGE\", \"991\", \"Sum of Others\", \" 6252.0\", \" 12.78\", \" 79918.0\", \" 56.49\", \"Tons\", \"4514500\"], [1915, \"2014\", \"195199\", \"SILAGE\", \"999\", \"State Total\", \" 511494.0\", \" 17.22\", \" 8805918.0\", \" 47.49\", \"NaN\", \"418197500\"], [1916, \"2014\", \"114991\", \"SORGHUM GRAIN\", \"991\", \"Sum of Others\", \" 10760.0\", \" 6.5\", \" 69900.0\", \" 74.45\", \"Tons\", \"5204000\"], [1917, \"2014\", \"114991\", \"SORGHUM GRAIN\", \"999\", \"State Total\", \" 10760.0\", \" 6.5\", \" 69900.0\", \" 74.45\", \"NaN\", \"5204000\"], [1918, \"2014\", \"114992\", \"SORGHUM SILAGE\", \"31\", \"Kings\", \" 13100.0\", \" 16.18\", \" 212000.0\", \" 49.32\", \"Tons\", \"10455000\"], [1919, \"2014\", \"114992\", \"SORGHUM SILAGE\", \"65\", \"Riverside\", \" 1150.0\", \" 14.96\", \" 17200.0\", \" 60.17\", \"Tons\", \"1035000\"], [1920, \"2014\", \"114992\", \"SORGHUM SILAGE\", \"71\", \"San Bernardino\", \" 2100.0\", \" 35.71\", \" 75000.0\", \" 46.67\", \"Tons\", \"3500000\"], [1921, \"2014\", \"114992\", \"SORGHUM SILAGE\", \"991\", \"Sum of Others\", \" 4652.0\", \" 16.46\", \" 76583.0\", \" 58.43\", \"Tons\", \"4475000\"], [1922, \"2014\", \"114992\", \"SORGHUM SILAGE\", \"999\", \"State Total\", \" 21002.0\", \" 18.13\", \" 380783.0\", \" 51.12\", \"NaN\", \"19465000\"], [1923, \"2014\", \"398599\", \"SPICES AND HERBS\", \"53\", \"Monterey\", \" 89.0\", \" 7.52\", \" 669.0\", \" 2690.58\", \"Tons\", \"1800000\"], [1924, \"2014\", \"398599\", \"SPICES AND HERBS\", \"65\", \"Riverside\", \" 1160.0\", \" 7.28\", \" 8440.0\", \" 1239.57\", \"Tons\", \"10462000\"], [1925, \"2014\", \"398599\", \"SPICES AND HERBS\", \"71\", \"San Bernardino\", \" 53.0\", \" 4.13\", \" 219.0\", \" 5474.89\", \"Tons\", \"1199000\"], [1926, \"2014\", \"398599\", \"SPICES AND HERBS\", \"73\", \"San Diego\", \" 401.0\", \" 11.0\", \" 4410.0\", \" 4551.02\", \"Tons\", \"20070000\"], [1927, \"2014\", \"398599\", \"SPICES AND HERBS\", \"991\", \"Sum of Others\", \" 206.0\", \" 7.33\", \" 1511.0\", \" 1544.29\", \"Tons\", \"2333420\"], [1928, \"2014\", \"398599\", \"SPICES AND HERBS\", \"999\", \"State Total\", \" 1909.0\", \" 7.99\", \" 15249.0\", \" 2351.92\", \"NaN\", \"35864420\"], [1929, \"2014\", \"374189\", \"SPINACH FOOD SERVICE\", \"53\", \"Monterey\", \" 12500.0\", \" 10.16\", \" 127000.0\", \" 1090.0\", \"Tons\", \"138430000\"], [1930, \"2014\", \"374189\", \"SPINACH FOOD SERVICE\", \"999\", \"State Total\", \" 12500.0\", \" 10.16\", \" 127000.0\", \" 1090.0\", \"NaN\", \"138430000\"], [1931, \"2014\", \"374199\", \"SPINACH FRESH MARKET\", \"53\", \"Monterey\", \" 1510.0\", \" 10.2\", \" 15400.0\", \" 1260.0\", \"Tons\", \"19404000\"], [1932, \"2014\", \"374199\", \"SPINACH FRESH MARKET\", \"991\", \"Sum of Others\", \" 98.0\", \" 3.1\", \" 304.0\", \" 1503.29\", \"Tons\", \"457000\"], [1933, \"2014\", \"374199\", \"SPINACH FRESH MARKET\", \"999\", \"State Total\", \" 1608.0\", \" 9.77\", \" 15704.0\", \" 1264.71\", \"NaN\", \"19861000\"], [1934, \"2014\", \"374299\", \"SPINACH PROCESSING\", \"991\", \"Sum of Others\", \" 110.0\", \" 6.08\", \" 669.0\", \" 696.56\", \"Tons\", \"466000\"], [1935, \"2014\", \"374299\", \"SPINACH PROCESSING\", \"999\", \"State Total\", \" 110.0\", \" 6.08\", \" 669.0\", \" 696.56\", \"NaN\", \"466000\"], [1936, \"2014\", \"374999\", \"SPINACH UNSPECIFIED\", \"25\", \"Imperial\", \" 6630.0\", \" 5.25\", \" 34800.0\", \" 1638.22\", \"Tons\", \"57010000\"], [1937, \"2014\", \"374999\", \"SPINACH UNSPECIFIED\", \"65\", \"Riverside\", \" 1430.0\", \" 7.34\", \" 10500.0\", \" 1154.1\", \"Tons\", \"12118000\"], [1938, \"2014\", \"374999\", \"SPINACH UNSPECIFIED\", \"69\", \"San Benito\", \" 3430.0\", \" 4.14\", \" 14200.0\", \" 2202.89\", \"Tons\", \"31281000\"], [1939, \"2014\", \"374999\", \"SPINACH UNSPECIFIED\", \"83\", \"Santa Barbara\", \" 1450.0\", \" 8.34\", \" 12100.0\", \" 1025.21\", \"Tons\", \"12405000\"], [1940, \"2014\", \"374999\", \"SPINACH UNSPECIFIED\", \"85\", \"Santa Clara\", \" 922.0\", \" 9.4\", \" 8670.0\", \" 895.62\", \"Tons\", \"7765000\"], [1941, \"2014\", \"374999\", \"SPINACH UNSPECIFIED\", \"111\", \"Ventura\", \" 1260.0\", \" 8.25\", \" 10400.0\", \" 1090.48\", \"Tons\", \"11341000\"], [1942, \"2014\", \"374999\", \"SPINACH UNSPECIFIED\", \"991\", \"Sum of Others\", \" 121.0\", \" 8.02\", \" 970.0\", \" 673.51\", \"Tons\", \"653301\"], [1943, \"2014\", \"374999\", \"SPINACH UNSPECIFIED\", \"999\", \"State Total\", \" 15243.0\", \" 6.01\", \" 91640.0\", \" 1446.68\", \"NaN\", \"132573301\"], [1944, \"2014\", \"396999\", \"SPROUTS ALFALFA & BEAN\", \"991\", \"Sum of Others\", \"NaN\", \"NaN\", \"NaN\", \"NaN\", \"Tons\", \"716000\"], [1945, \"2014\", \"396999\", \"SPROUTS ALFALFA & BEAN\", \"999\", \"State Total\", \"NaN\", \"NaN\", \"NaN\", \"NaN\", \"NaN\", \"716000\"], [1946, \"2014\", \"375999\", \"SQUASH\", \"13\", \"Contra Costa\", \" 61.0\", \" 5.92\", \" 361.0\", \" 991.69\", \"Tons\", \"358000\"], [1947, \"2014\", \"375999\", \"SQUASH\", \"19\", \"Fresno\", \" 750.0\", \" 17.07\", \" 12800.0\", \" 957.97\", \"Tons\", \"12262000\"], [1948, \"2014\", \"375999\", \"SQUASH\", \"53\", \"Monterey\", \" 247.0\", \" 10.93\", \" 2700.0\", \" 592.96\", \"Tons\", \"1601000\"], [1949, \"2014\", \"375999\", \"SQUASH\", \"65\", \"Riverside\", \" 404.0\", \" 10.5\", \" 4240.0\", \" 692.45\", \"Tons\", \"2936000\"], [1950, \"2014\", \"375999\", \"SQUASH\", \"71\", \"San Bernardino\", \" 43.0\", \" 21.4\", \" 920.0\", \" 621.74\", \"Tons\", \"572000\"], [1951, \"2014\", \"375999\", \"SQUASH\", \"73\", \"San Diego\", \" 408.0\", \" 9.0\", \" 3670.0\", \" 714.44\", \"Tons\", \"2622000\"], [1952, \"2014\", \"375999\", \"SQUASH\", \"79\", \"San Luis Obispo\", \" 131.0\", \" 26.41\", \" 3460.0\", \" 378.61\", \"Tons\", \"1310000\"], [1953, \"2014\", \"375999\", \"SQUASH\", \"83\", \"Santa Barbara\", \" 633.0\", \" 8.52\", \" 5390.0\", \" 568.46\", \"Tons\", \"3064000\"], [1954, \"2014\", \"375999\", \"SQUASH\", \"85\", \"Santa Clara\", \" 160.0\", \" 7.81\", \" 1250.0\", \" 691.2\", \"Tons\", \"864000\"], [1955, \"2014\", \"375999\", \"SQUASH\", \"99\", \"Stanislaus\", \" 131.0\", \" 18.02\", \" 2360.0\", \" 250.0\", \"Tons\", \"590000\"], [1956, \"2014\", \"375999\", \"SQUASH\", \"991\", \"Sum of Others\", \" 378.0\", \" 8.25\", \" 3120.0\", \" 968.17\", \"Tons\", \"3020700\"], [1957, \"2014\", \"375999\", \"SQUASH\", \"999\", \"State Total\", \" 3346.0\", \" 12.04\", \" 40271.0\", \" 725.08\", \"NaN\", \"29199700\"], [1958, \"2014\", \"195399\", \"STRAW\", \"25\", \"Imperial\", \"NaN\", \"NaN\", \" 77400.0\", \" 86.73\", \"Tons\", \"6713000\"], [1959, \"2014\", \"195399\", \"STRAW\", \"35\", \"Lassen\", \"NaN\", \"NaN\", \" 225.0\", \" 80.0\", \"Tons\", \"18000\"], [1960, \"2014\", \"195399\", \"STRAW\", \"47\", \"Merced\", \"NaN\", \"NaN\", \" 1990.0\", \" 138.19\", \"Tons\", \"275000\"], [1961, \"2014\", \"195399\", \"STRAW\", \"97\", \"Sonoma\", \"NaN\", \"NaN\", \"NaN\", \"NaN\", \"Tons\", \"78800\"], [1962, \"2014\", \"195399\", \"STRAW\", \"99\", \"Stanislaus\", \"NaN\", \"NaN\", \" 20300.0\", \" 123.74\", \"Tons\", \"2512000\"], [1963, \"2014\", \"195399\", \"STRAW\", \"991\", \"Sum of Others\", \" 10790.0\", \" 3.07\", \" 33100.0\", \" 77.79\", \"Tons\", \"2575000\"], [1964, \"2014\", \"195399\", \"STRAW\", \"999\", \"State Total\", \"NaN\", \"NaN\", \" 133015.0\", \" 90.91\", \"NaN\", \"12171800\"], [1965, \"2014\", \"132999\", \"SUGAR BEETS\", \"25\", \"Imperial\", \" 24400.0\", \" 43.36\", \" 1058000.0\", \" 42.97\", \"Tons\", \"45459000\"], [1966, \"2014\", \"132999\", \"SUGAR BEETS\", \"999\", \"State Total\", \" 24400.0\", \" 43.36\", \" 1058000.0\", \" 42.97\", \"NaN\", \"45459000\"], [1967, \"2014\", \"158316\", \"SUNFLOWER SEED PLANTING\", \"11\", \"Colusa\", \" 6310.0\", \" 0.61\", \" 3850.0\", \" 2499.48\", \"Tons\", \"9623000\"], [1968, \"2014\", \"158316\", \"SUNFLOWER SEED PLANTING\", \"21\", \"Glenn\", \" 3220.0\", \" 0.5\", \" 1610.0\", \" 3043.48\", \"Tons\", \"4900000\"], [1969, \"2014\", \"158316\", \"SUNFLOWER SEED PLANTING\", \"67\", \"Sacramento\", \" 1590.0\", \" 1.4\", \" 2230.0\", \" 493.27\", \"Tons\", \"1100000\"], [1970, \"2014\", \"158316\", \"SUNFLOWER SEED PLANTING\", \"95\", \"Solano\", \" 9890.0\", \" 0.6\", \" 5980.0\", \" 2417.22\", \"Tons\", \"14455000\"], [1971, \"2014\", \"158316\", \"SUNFLOWER SEED PLANTING\", \"101\", \"Sutter\", \" 10200.0\", \" 0.72\", \" 7390.0\", \" 2039.65\", \"Tons\", \"15073000\"], [1972, \"2014\", \"158316\", \"SUNFLOWER SEED PLANTING\", \"113\", \"Yolo\", \" 17800.0\", \"NaN\", \"NaN\", \"NaN\", \"Tons\", \"28921000\"], [1973, \"2014\", \"158316\", \"SUNFLOWER SEED PLANTING\", \"991\", \"Sum of Others\", \" 145.0\", \"NaN\", \"NaN\", \"NaN\", \"Tons\", \"290000\"], [1974, \"2014\", \"158316\", \"SUNFLOWER SEED PLANTING\", \"999\", \"State Total\", \" 49155.0\", \"NaN\", \"NaN\", \" 2143.92\", \"NaN\", \"74362000\"], [1975, \"2014\", \"376999\", \"SWISS CHARD\", \"53\", \"Monterey\", \" 627.0\", \" 9.35\", \" 5860.0\", \" 987.03\", \"Tons\", \"5784000\"], [1976, \"2014\", \"376999\", \"SWISS CHARD\", \"991\", \"Sum of Others\", \" 980.0\", \" 10.63\", \" 10419.0\", \" 818.14\", \"Tons\", \"8524252\"], [1977, \"2014\", \"376999\", \"SWISS CHARD\", \"999\", \"State Total\", \" 1607.0\", \" 10.13\", \" 16279.0\", \" 878.94\", \"NaN\", \"14308252\"], [1978, \"2014\", \"206999\", \"TANGELOS\", \"25\", \"Imperial\", \" 759.0\", \" 4.08\", \" 3100.0\", \" 1580.0\", \"Tons\", \"4898000\"], [1979, \"2014\", \"206999\", \"TANGELOS\", \"65\", \"Riverside\", \" 482.0\", \" 6.8\", \" 3280.0\", \" 869.82\", \"Tons\", \"2853000\"], [1980, \"2014\", \"206999\", \"TANGELOS\", \"991\", \"Sum of Others\", \" 639.0\", \" 9.47\", \" 6050.0\", \" 860.66\", \"Tons\", \"5207000\"], [1981, \"2014\", \"206999\", \"TANGELOS\", \"999\", \"State Total\", \" 1880.0\", \" 6.61\", \" 12430.0\", \" 1042.48\", \"NaN\", \"12958000\"], [1982, \"2014\", \"203999\", \"TANGERINES & MANDARINS\", \"19\", \"Fresno\", \" 14500.0\", \" 8.34\", \" 121000.0\", \" 602.0\", \"Tons\", \"72842000\"], [1983, \"2014\", \"203999\", \"TANGERINES & MANDARINS\", \"25\", \"Imperial\", \" 816.0\", \" 3.26\", \" 2660.0\", \" 1006.39\", \"Tons\", \"2677000\"], [1984, \"2014\", \"203999\", \"TANGERINES & MANDARINS\", \"29\", \"Kern\", \" 23000.0\", \" 10.48\", \" 241000.0\", \" 1833.28\", \"Tons\", \"441821000\"], [1985, \"2014\", \"203999\", \"TANGERINES & MANDARINS\", \"61\", \"Placer\", \" 202.0\", \" 4.29\", \" 867.0\", \" 2132.64\", \"Tons\", \"1849000\"], [1986, \"2014\", \"203999\", \"TANGERINES & MANDARINS\", \"65\", \"Riverside\", \" 1640.0\", \" 8.66\", \" 14200.0\", \" 1053.8\", \"Tons\", \"14964000\"], [1987, \"2014\", \"203999\", \"TANGERINES & MANDARINS\", \"73\", \"San Diego\", \" 964.0\", \" 14.21\", \" 13700.0\", \" 919.93\", \"Tons\", \"12603000\"], [1988, \"2014\", \"203999\", \"TANGERINES & MANDARINS\", \"107\", \"Tulare\", \" 21700.0\", \" 7.1\", \" 154000.0\", \" 1900.0\", \"Tons\", \"292600000\"], [1989, \"2014\", \"203999\", \"TANGERINES & MANDARINS\", \"111\", \"Ventura\", \" 1980.0\", \" 4.25\", \" 8420.0\", \" 1369.6\", \"Tons\", \"11532000\"], [1990, \"2014\", \"203999\", \"TANGERINES & MANDARINS\", \"991\", \"Sum of Others\", \" 2701.0\", \" 13.33\", \" 35996.0\", \" 1373.52\", \"Tons\", \"49441400\"], [1991, \"2014\", \"203999\", \"TANGERINES & MANDARINS\", \"999\", \"State Total\", \" 67503.0\", \" 8.77\", \" 591843.0\", \" 1521.23\", \"NaN\", \"900329400\"], [1992, \"2014\", \"378199\", \"TOMATOES FRESH MARKET\", \"19\", \"Fresno\", \" 8740.0\", \" 27.57\", \" 241000.0\", \" 499.0\", \"Tons\", \"120259000\"], [1993, \"2014\", \"378199\", \"TOMATOES FRESH MARKET\", \"29\", \"Kern\", \" 840.0\", \" 19.17\", \" 16100.0\", \" 964.84\", \"Tons\", \"15534000\"], [1994, \"2014\", \"378199\", \"TOMATOES FRESH MARKET\", \"39\", \"Madera\", \" 600.0\", \" 16.25\", \" 9750.0\", \" 525.03\", \"Tons\", \"5119000\"], [1995, \"2014\", \"378199\", \"TOMATOES FRESH MARKET\", \"47\", \"Merced\", \" 8580.0\", \" 17.6\", \" 151000.0\", \" 530.03\", \"Tons\", \"80035000\"], [1996, \"2014\", \"378199\", \"TOMATOES FRESH MARKET\", \"65\", \"Riverside\", \" 262.0\", \" 19.01\", \" 4980.0\", \" 801.81\", \"Tons\", \"3993000\"], [1997, \"2014\", \"378199\", \"TOMATOES FRESH MARKET\", \"69\", \"San Benito\", \" 578.0\", \" 14.57\", \" 8420.0\", \" 1019.48\", \"Tons\", \"8584000\"], [1998, \"2014\", \"378199\", \"TOMATOES FRESH MARKET\", \"73\", \"San Diego\", \" 1720.0\", \" 15.0\", \" 25800.0\", \" 3173.57\", \"Tons\", \"81878000\"], [1999, \"2014\", \"378199\", \"TOMATOES FRESH MARKET\", \"77\", \"San Joaquin\", \" 2110.0\", \" 16.11\", \" 34000.0\", \" 563.0\", \"Tons\", \"19142000\"], [2000, \"2014\", \"378199\", \"TOMATOES FRESH MARKET\", \"85\", \"Santa Clara\", \" 904.0\", \" 20.46\", \" 18500.0\", \" 701.19\", \"Tons\", \"12972000\"], [2001, \"2014\", \"378199\", \"TOMATOES FRESH MARKET\", \"99\", \"Stanislaus\", \" 762.0\", \" 15.49\", \" 11800.0\", \" 550.0\", \"Tons\", \"6490000\"], [2002, \"2014\", \"378199\", \"TOMATOES FRESH MARKET\", \"991\", \"Sum of Others\", \" 41.0\", \"NaN\", \"NaN\", \"NaN\", \"Tons\", \"701000\"], [2003, \"2014\", \"378199\", \"TOMATOES FRESH MARKET\", \"999\", \"State Total\", \" 25137.0\", \" 20.77\", \" 521350.0\", \" 679.02\", \"NaN\", \"354707000\"], [2004, \"2014\", \"378299\", \"TOMATOES PROCESSING\", \"11\", \"Colusa\", \" 15700.0\", \" 57.07\", \" 896000.0\", \" 83.01\", \"Tons\", \"74376000\"], [2005, \"2014\", \"378299\", \"TOMATOES PROCESSING\", \"19\", \"Fresno\", \" 89600.0\", \" 53.06\", \" 4754000.0\", \" 85.0\", \"Tons\", \"404090000\"], [2006, \"2014\", \"378299\", \"TOMATOES PROCESSING\", \"29\", \"Kern\", \" 14000.0\", \" 52.86\", \" 740000.0\", \" 89.51\", \"Tons\", \"66234000\"], [2007, \"2014\", \"378299\", \"TOMATOES PROCESSING\", \"31\", \"Kings\", \" 34000.0\", \" 52.94\", \" 1800000.0\", \" 81.12\", \"Tons\", \"146017000\"], [2008, \"2014\", \"378299\", \"TOMATOES PROCESSING\", \"39\", \"Madera\", \" 5600.0\", \" 58.57\", \" 328000.0\", \" 79.11\", \"Tons\", \"25947000\"], [2009, \"2014\", \"378299\", \"TOMATOES PROCESSING\", \"47\", \"Merced\", \" 23000.0\", \" 54.0\", \" 1242000.0\", \" 83.67\", \"Tons\", \"103915000\"], [2010, \"2014\", \"378299\", \"TOMATOES PROCESSING\", \"67\", \"Sacramento\", \" 3800.0\", \" 42.63\", \" 162000.0\", \" 82.86\", \"Tons\", \"13424000\"], [2011, \"2014\", \"378299\", \"TOMATOES PROCESSING\", \"69\", \"San Benito\", \" 1140.0\", \" 51.93\", \" 59200.0\", \" 83.46\", \"Tons\", \"4941000\"], [2012, \"2014\", \"378299\", \"TOMATOES PROCESSING\", \"77\", \"San Joaquin\", \" 35700.0\", \" 44.79\", \" 1599000.0\", \" 83.0\", \"Tons\", \"132717000\"], [2013, \"2014\", \"378299\", \"TOMATOES PROCESSING\", \"85\", \"Santa Clara\", \" 844.0\", \" 61.73\", \" 52100.0\", \" 82.96\", \"Tons\", \"4322000\"], [2014, \"2014\", \"378299\", \"TOMATOES PROCESSING\", \"95\", \"Solano\", \" 11900.0\", \" 46.39\", \" 552000.0\", \" 83.56\", \"Tons\", \"46124000\"], [2015, \"2014\", \"378299\", \"TOMATOES PROCESSING\", \"99\", \"Stanislaus\", \" 13100.0\", \" 46.56\", \" 610000.0\", \" 86.0\", \"Tons\", \"52460000\"], [2016, \"2014\", \"378299\", \"TOMATOES PROCESSING\", \"101\", \"Sutter\", \" 10000.0\", \" 45.1\", \" 451000.0\", \" 85.06\", \"Tons\", \"38361000\"], [2017, \"2014\", \"378299\", \"TOMATOES PROCESSING\", \"113\", \"Yolo\", \" 39800.0\", \" 45.6\", \" 1815000.0\", \" 83.59\", \"Tons\", \"151714000\"], [2018, \"2014\", \"378299\", \"TOMATOES PROCESSING\", \"991\", \"Sum of Others\", \" 371.0\", \" 50.13\", \" 18600.0\", \" 127.2\", \"Tons\", \"2366000\"], [2019, \"2014\", \"378299\", \"TOMATOES PROCESSING\", \"999\", \"State Total\", \" 298555.0\", \" 50.51\", \" 15078900.0\", \" 84.03\", \"NaN\", \"1267008000\"], [2020, \"2014\", \"378999\", \"TOMATOES UNSPECIFIED\", \"13\", \"Contra Costa\", \" 3110.0\", \" 48.23\", \" 150000.0\", \" 105.86\", \"Tons\", \"15879000\"], [2021, \"2014\", \"378999\", \"TOMATOES UNSPECIFIED\", \"37\", \"Los Angeles\", \" 42.0\", \" 7.93\", \" 333.0\", \" 1297.3\", \"Tons\", \"432000\"], [2022, \"2014\", \"378999\", \"TOMATOES UNSPECIFIED\", \"53\", \"Monterey\", \" 574.0\", \" 17.94\", \" 10300.0\", \" 526.99\", \"Tons\", \"5428000\"], [2023, \"2014\", \"378999\", \"TOMATOES UNSPECIFIED\", \"71\", \"San Bernardino\", \" 3.0\", \" 11.0\", \" 33.0\", \" 845.45\", \"Tons\", \"27900\"], [2024, \"2014\", \"378999\", \"TOMATOES UNSPECIFIED\", \"111\", \"Ventura\", \" 466.0\", \" 89.48\", \" 41700.0\", \" 1731.58\", \"Tons\", \"72207000\"], [2025, \"2014\", \"378999\", \"TOMATOES UNSPECIFIED\", \"991\", \"Sum of Others\", \" 24.0\", \"NaN\", \"NaN\", \"NaN\", \"Tons\", \"428000\"], [2026, \"2014\", \"378999\", \"TOMATOES UNSPECIFIED\", \"999\", \"State Total\", \" 4219.0\", \" 48.24\", \" 202366.0\", \" 464.38\", \"NaN\", \"94401900\"], [2027, \"2014\", \"115991\", \"TRITICALE\", \"95\", \"Solano\", \" 10600.0\", \" 2.72\", \" 28800.0\", \" 186.88\", \"Tons\", \"5382000\"], [2028, \"2014\", \"115991\", \"TRITICALE\", \"991\", \"Sum of Others\", \" 2070.0\", \" 3.22\", \" 6660.0\", \" 249.55\", \"Tons\", \"1662000\"], [2029, \"2014\", \"115991\", \"TRITICALE\", \"999\", \"State Total\", \" 12670.0\", \" 2.8\", \" 35460.0\", \" 198.65\", \"NaN\", \"7044000\"], [2030, \"2014\", \"612999\", \"TURKEYS POULTS\", \"99\", \"Stanislaus\", \"NaN\", \"NaN\", \"NaN\", \"NaN\", \"NaN\", \"12440000\"], [2031, \"2014\", \"612999\", \"TURKEYS POULTS\", \"999\", \"State Total\", \"NaN\", \"NaN\", \"NaN\", \"NaN\", \"NaN\", \"12440000\"], [2032, \"2014\", \"619999\", \"TURKEYS UNSPECIFIED\", \"31\", \"Kings\", \"NaN\", \"NaN\", \"NaN\", \"NaN\", \"NaN\", \"30458000\"], [2033, \"2014\", \"619999\", \"TURKEYS UNSPECIFIED\", \"47\", \"Merced\", \"NaN\", \"NaN\", \"NaN\", \"NaN\", \"NaN\", \"54528000\"], [2034, \"2014\", \"619999\", \"TURKEYS UNSPECIFIED\", \"77\", \"San Joaquin\", \"NaN\", \"NaN\", \"NaN\", \"NaN\", \"NaN\", \"10393000\"], [2035, \"2014\", \"619999\", \"TURKEYS UNSPECIFIED\", \"99\", \"Stanislaus\", \"NaN\", \"NaN\", \"NaN\", \"NaN\", \"NaN\", \"87424000\"], [2036, \"2014\", \"619999\", \"TURKEYS UNSPECIFIED\", \"991\", \"Sum of Others\", \"NaN\", \"NaN\", \"NaN\", \"NaN\", \"NaN\", \"78134360\"], [2037, \"2014\", \"619999\", \"TURKEYS UNSPECIFIED\", \"999\", \"State Total\", \"NaN\", \"NaN\", \"NaN\", \"NaN\", \"NaN\", \"260937360\"], [2038, \"2014\", \"380999\", \"TURNIPS ALL\", \"991\", \"Sum of Others\", \" 272.0\", \" 18.48\", \" 5027.0\", \" 338.51\", \"Tons\", \"1701666\"], [2039, \"2014\", \"380999\", \"TURNIPS ALL\", \"999\", \"State Total\", \" 272.0\", \" 18.48\", \" 5027.0\", \" 338.51\", \"NaN\", \"1701666\"], [2040, \"2014\", \"395999\", \"VEGETABLES ORIENTAL ALL\", \"65\", \"Riverside\", \" 3010.0\", \" 11.03\", \" 33200.0\", \" 824.82\", \"Tons\", \"27384000\"], [2041, \"2014\", \"395999\", \"VEGETABLES ORIENTAL ALL\", \"71\", \"San Bernardino\", \" 457.0\", \" 35.23\", \" 16100.0\", \" 384.16\", \"Tons\", \"6185000\"], [2042, \"2014\", \"395999\", \"VEGETABLES ORIENTAL ALL\", \"85\", \"Santa Clara\", \" 529.0\", \" 17.3\", \" 9150.0\", \" 681.09\", \"Tons\", \"6232000\"], [2043, \"2014\", \"395999\", \"VEGETABLES ORIENTAL ALL\", \"111\", \"Ventura\", \" 810.0\", \" 13.21\", \" 10700.0\", \" 1377.01\", \"Tons\", \"14734000\"], [2044, \"2014\", \"395999\", \"VEGETABLES ORIENTAL ALL\", \"991\", \"Sum of Others\", \" 747.0\", \" 10.46\", \" 7812.0\", \" 735.54\", \"Tons\", \"5746050\"], [2045, \"2014\", \"395999\", \"VEGETABLES ORIENTAL ALL\", \"999\", \"State Total\", \" 5553.0\", \" 13.86\", \" 76962.0\", \" 783.26\", \"NaN\", \"60281050\"], [2046, \"2014\", \"398999\", \"VEGETABLES UNSPECIFIED\", \"1\", \"Alameda\", \" 112.0\", \"NaN\", \"NaN\", \"NaN\", \"NaN\", \"1215000\"], [2047, \"2014\", \"398999\", \"VEGETABLES UNSPECIFIED\", \"5\", \"Amador\", \"NaN\", \"NaN\", \"NaN\", \"NaN\", \"NaN\", \"38300\"], [2048, \"2014\", \"398999\", \"VEGETABLES UNSPECIFIED\", \"7\", \"Butte\", \" 7.0\", \"NaN\", \"NaN\", \"NaN\", \"NaN\", \"1535000\"], [2049, \"2014\", \"398999\", \"VEGETABLES UNSPECIFIED\", \"9\", \"Calaveras\", \"NaN\", \"NaN\", \"NaN\", \"NaN\", \"NaN\", \"210000\"], [2050, \"2014\", \"398999\", \"VEGETABLES UNSPECIFIED\", \"11\", \"Colusa\", \" 201.0\", \"NaN\", \"NaN\", \"NaN\", \"NaN\", \"27740000\"], [2051, \"2014\", \"398999\", \"VEGETABLES UNSPECIFIED\", \"13\", \"Contra Costa\", \" 661.0\", \"NaN\", \"NaN\", \"NaN\", \"NaN\", \"2781000\"], [2052, \"2014\", \"398999\", \"VEGETABLES UNSPECIFIED\", \"15\", \"Del Norte\", \"NaN\", \"NaN\", \"NaN\", \"NaN\", \"NaN\", \"143000\"], [2053, \"2014\", \"398999\", \"VEGETABLES UNSPECIFIED\", \"21\", \"Glenn\", \" 838.0\", \"NaN\", \"NaN\", \"NaN\", \"NaN\", \"3099000\"], [2054, \"2014\", \"398999\", \"VEGETABLES UNSPECIFIED\", \"23\", \"Humboldt\", \"NaN\", \"NaN\", \"NaN\", \"NaN\", \"NaN\", \"1427000\"], [2055, \"2014\", \"398999\", \"VEGETABLES UNSPECIFIED\", \"27\", \"Inyo\", \" 10.0\", \"NaN\", \"NaN\", \"NaN\", \"NaN\", \"43600\"], [2056, \"2014\", \"398999\", \"VEGETABLES UNSPECIFIED\", \"31\", \"Kings\", \" 13200.0\", \"NaN\", \"NaN\", \"NaN\", \"NaN\", \"73276000\"], [2057, \"2014\", \"398999\", \"VEGETABLES UNSPECIFIED\", \"33\", \"Lake\", \" 24.0\", \"NaN\", \"NaN\", \"NaN\", \"NaN\", \"286000\"], [2058, \"2014\", \"398999\", \"VEGETABLES UNSPECIFIED\", \"35\", \"Lassen\", \"NaN\", \"NaN\", \"NaN\", \"NaN\", \"NaN\", \"9700000\"], [2059, \"2014\", \"398999\", \"VEGETABLES UNSPECIFIED\", \"41\", \"Marin\", \" 424.0\", \"NaN\", \"NaN\", \"NaN\", \"NaN\", \"4990000\"], [2060, \"2014\", \"398999\", \"VEGETABLES UNSPECIFIED\", \"45\", \"Mendocino\", \" 340.0\", \"NaN\", \"NaN\", \"NaN\", \"NaN\", \"1452000\"], [2061, \"2014\", \"398999\", \"VEGETABLES UNSPECIFIED\", \"47\", \"Merced\", \" 5450.0\", \"NaN\", \"NaN\", \"NaN\", \"NaN\", \"32166000\"], [2062, \"2014\", \"398999\", \"VEGETABLES UNSPECIFIED\", \"53\", \"Monterey\", \" 29800.0\", \"NaN\", \"NaN\", \"NaN\", \"NaN\", \"159702000\"], [2063, \"2014\", \"398999\", \"VEGETABLES UNSPECIFIED\", \"55\", \"Napa\", \" 36.0\", \"NaN\", \"NaN\", \"NaN\", \"NaN\", \"505000\"], [2064, \"2014\", \"398999\", \"VEGETABLES UNSPECIFIED\", \"57\", \"Nevada\", \" 88.0\", \"NaN\", \"NaN\", \"NaN\", \"NaN\", \"843000\"], [2065, \"2014\", \"398999\", \"VEGETABLES UNSPECIFIED\", \"61\", \"Placer\", \"NaN\", \"NaN\", \"NaN\", \"NaN\", \"NaN\", \"1750000\"], [2066, \"2014\", \"398999\", \"VEGETABLES UNSPECIFIED\", \"63\", \"Plumas\", \"NaN\", \"NaN\", \"NaN\", \"NaN\", \"NaN\", \"93000\"], [2067, \"2014\", \"398999\", \"VEGETABLES UNSPECIFIED\", \"65\", \"Riverside\", \" 1430.0\", \"NaN\", \"NaN\", \"NaN\", \"NaN\", \"10377000\"], [2068, \"2014\", \"398999\", \"VEGETABLES UNSPECIFIED\", \"67\", \"Sacramento\", \" 1860.0\", \"NaN\", \"NaN\", \"NaN\", \"NaN\", \"8771000\"], [2069, \"2014\", \"398999\", \"VEGETABLES UNSPECIFIED\", \"69\", \"San Benito\", \" 6510.0\", \"NaN\", \"NaN\", \"NaN\", \"NaN\", \"59842000\"], [2070, \"2014\", \"398999\", \"VEGETABLES UNSPECIFIED\", \"71\", \"San Bernardino\", \" 71.0\", \"NaN\", \"NaN\", \"NaN\", \"NaN\", \"11926000\"], [2071, \"2014\", \"398999\", \"VEGETABLES UNSPECIFIED\", \"73\", \"San Diego\", \" 1370.0\", \"NaN\", \"NaN\", \"NaN\", \"NaN\", \"33152000\"], [2072, \"2014\", \"398999\", \"VEGETABLES UNSPECIFIED\", \"77\", \"San Joaquin\", \" 2440.0\", \"NaN\", \"NaN\", \"NaN\", \"NaN\", \"12969000\"], [2073, \"2014\", \"398999\", \"VEGETABLES UNSPECIFIED\", \"79\", \"San Luis Obispo\", \" 9270.0\", \"NaN\", \"NaN\", \"NaN\", \"NaN\", \"68768000\"], [2074, \"2014\", \"398999\", \"VEGETABLES UNSPECIFIED\", \"81\", \"San Mateo\", \" 365.0\", \"NaN\", \"NaN\", \"NaN\", \"NaN\", \"4730000\"], [2075, \"2014\", \"398999\", \"VEGETABLES UNSPECIFIED\", \"83\", \"Santa Barbara\", \" 11900.0\", \"NaN\", \"NaN\", \"NaN\", \"NaN\", \"120415000\"], [2076, \"2014\", \"398999\", \"VEGETABLES UNSPECIFIED\", \"85\", \"Santa Clara\", \" 439.0\", \"NaN\", \"NaN\", \"NaN\", \"NaN\", \"5149000\"], [2077, \"2014\", \"398999\", \"VEGETABLES UNSPECIFIED\", \"87\", \"Santa Cruz\", \" 3010.0\", \"NaN\", \"NaN\", \"NaN\", \"NaN\", \"41443000\"], [2078, \"2014\", \"398999\", \"VEGETABLES UNSPECIFIED\", \"93\", \"Siskiyou\", \"NaN\", \"NaN\", \"NaN\", \"NaN\", \"NaN\", \"657000\"], [2079, \"2014\", \"398999\", \"VEGETABLES UNSPECIFIED\", \"95\", \"Solano\", \" 3080.0\", \"NaN\", \"NaN\", \"NaN\", \"NaN\", \"32343000\"], [2080, \"2014\", \"398999\", \"VEGETABLES UNSPECIFIED\", \"97\", \"Sonoma\", \" 535.0\", \"NaN\", \"NaN\", \"NaN\", \"NaN\", \"12613000\"], [2081, \"2014\", \"398999\", \"VEGETABLES UNSPECIFIED\", \"99\", \"Stanislaus\", \" 3420.0\", \"NaN\", \"NaN\", \"NaN\", \"NaN\", \"21465000\"], [2082, \"2014\", \"398999\", \"VEGETABLES UNSPECIFIED\", \"103\", \"Tehama\", \" 150.0\", \"NaN\", \"NaN\", \"NaN\", \"NaN\", \"350000\"], [2083, \"2014\", \"398999\", \"VEGETABLES UNSPECIFIED\", \"107\", \"Tulare\", \" 2390.0\", \"NaN\", \"NaN\", \"NaN\", \"NaN\", \"18375000\"], [2084, \"2014\", \"398999\", \"VEGETABLES UNSPECIFIED\", \"109\", \"Tuolumne\", \" 15.0\", \"NaN\", \"NaN\", \"NaN\", \"NaN\", \"271000\"], [2085, \"2014\", \"398999\", \"VEGETABLES UNSPECIFIED\", \"111\", \"Ventura\", \" 1530.0\", \"NaN\", \"NaN\", \"NaN\", \"NaN\", \"48657000\"], [2086, \"2014\", \"398999\", \"VEGETABLES UNSPECIFIED\", \"113\", \"Yolo\", \" 7130.0\", \"NaN\", \"NaN\", \"NaN\", \"NaN\", \"39718000\"], [2087, \"2014\", \"398999\", \"VEGETABLES UNSPECIFIED\", \"991\", \"Sum of Others\", \" 579.0\", \"NaN\", \"NaN\", \"NaN\", \"NaN\", \"14409970\"], [2088, \"2014\", \"398999\", \"VEGETABLES UNSPECIFIED\", \"999\", \"State Total\", \" 108685.0\", \"NaN\", \"NaN\", \"NaN\", \"NaN\", \"889395870\"], [2089, \"2014\", \"265999\", \"WALNUTS BLACK\", \"991\", \"Sum of Others\", \"NaN\", \"NaN\", \"NaN\", \"NaN\", \"Tons\", \"8500\"], [2090, \"2014\", \"265999\", \"WALNUTS BLACK\", \"999\", \"State Total\", \"NaN\", \"NaN\", \"NaN\", \"NaN\", \"NaN\", \"8500\"], [2091, \"2014\", \"263999\", \"WALNUTS ENGLISH\", \"5\", \"Amador\", \" 239.0\", \" 0.36\", \" 86.0\", \" 4093.02\", \"Tons\", \"352000\"], [2092, \"2014\", \"263999\", \"WALNUTS ENGLISH\", \"7\", \"Butte\", \" 44200.0\", \" 1.59\", \" 70300.0\", \" 3300.37\", \"Tons\", \"232016000\"], [2093, \"2014\", \"263999\", \"WALNUTS ENGLISH\", \"9\", \"Calaveras\", \" 788.0\", \" 0.86\", \" 679.0\", \" 3400.59\", \"Tons\", \"2309000\"], [2094, \"2014\", \"263999\", \"WALNUTS ENGLISH\", \"11\", \"Colusa\", \" 16000.0\", \" 1.76\", \" 28200.0\", \" 3465.39\", \"Tons\", \"97724000\"], [2095, \"2014\", \"263999\", \"WALNUTS ENGLISH\", \"13\", \"Contra Costa\", \" 458.0\", \" 2.09\", \" 957.0\", \" 3522.47\", \"Tons\", \"3371000\"], [2096, \"2014\", \"263999\", \"WALNUTS ENGLISH\", \"17\", \"El Dorado\", \" 111.0\", \" 0.44\", \" 49.0\", \" 3510.2\", \"Tons\", \"172000\"], [2097, \"2014\", \"263999\", \"WALNUTS ENGLISH\", \"19\", \"Fresno\", \" 8570.0\", \" 1.55\", \" 13300.0\", \" 3016.02\", \"Tons\", \"40113000\"], [2098, \"2014\", \"263999\", \"WALNUTS ENGLISH\", \"21\", \"Glenn\", \" 26200.0\", \" 1.96\", \" 51300.0\", \" 3477.29\", \"Tons\", \"178385000\"], [2099, \"2014\", \"263999\", \"WALNUTS ENGLISH\", \"29\", \"Kern\", \" 794.0\", \" 1.47\", \" 1170.0\", \" 3388.03\", \"Tons\", \"3964000\"], [2100, \"2014\", \"263999\", \"WALNUTS ENGLISH\", \"31\", \"Kings\", \" 14400.0\", \" 1.88\", \" 27100.0\", \" 3471.29\", \"Tons\", \"94072000\"], [2101, \"2014\", \"263999\", \"WALNUTS ENGLISH\", \"33\", \"Lake\", \" 3700.0\", \" 0.41\", \" 1500.0\", \" 4488.0\", \"Tons\", \"6732000\"], [2102, \"2014\", \"263999\", \"WALNUTS ENGLISH\", \"39\", \"Madera\", \" 1900.0\", \" 1.46\", \" 2780.0\", \" 3957.19\", \"Tons\", \"11001000\"], [2103, \"2014\", \"263999\", \"WALNUTS ENGLISH\", \"47\", \"Merced\", \" 5910.0\", \" 1.56\", \" 9200.0\", \" 3288.37\", \"Tons\", \"30253000\"], [2104, \"2014\", \"263999\", \"WALNUTS ENGLISH\", \"61\", \"Placer\", \" 919.0\", \" 1.89\", \" 1740.0\", \" 3309.2\", \"Tons\", \"5758000\"], [2105, \"2014\", \"263999\", \"WALNUTS ENGLISH\", \"67\", \"Sacramento\", \" 746.0\", \" 2.4\", \" 1790.0\", \" 3878.21\", \"Tons\", \"6942000\"], [2106, \"2014\", \"263999\", \"WALNUTS ENGLISH\", \"69\", \"San Benito\", \" 1560.0\", \" 1.04\", \" 1620.0\", \" 3447.53\", \"Tons\", \"5585000\"], [2107, \"2014\", \"263999\", \"WALNUTS ENGLISH\", \"77\", \"San Joaquin\", \" 62500.0\", \" 2.1\", \" 131000.0\", \" 3817.0\", \"Tons\", \"500027000\"], [2108, \"2014\", \"263999\", \"WALNUTS ENGLISH\", \"79\", \"San Luis Obispo\", \" 2060.0\", \" 0.19\", \" 392.0\", \" 3000.0\", \"Tons\", \"1176000\"], [2109, \"2014\", \"263999\", \"WALNUTS ENGLISH\", \"85\", \"Santa Clara\", \" 208.0\", \" 0.9\", \" 187.0\", \" 4069.52\", \"Tons\", \"761000\"], [2110, \"2014\", \"263999\", \"WALNUTS ENGLISH\", \"89\", \"Shasta\", \" 1130.0\", \" 1.9\", \" 2150.0\", \" 2995.81\", \"Tons\", \"6441000\"], [2111, \"2014\", \"263999\", \"WALNUTS ENGLISH\", \"95\", \"Solano\", \" 9400.0\", \" 1.38\", \" 13000.0\", \" 3494.0\", \"Tons\", \"45422000\"], [2112, \"2014\", \"263999\", \"WALNUTS ENGLISH\", \"99\", \"Stanislaus\", \" 35600.0\", \" 2.09\", \" 74400.0\", \" 4020.0\", \"Tons\", \"299088000\"], [2113, \"2014\", \"263999\", \"WALNUTS ENGLISH\", \"101\", \"Sutter\", \" 29900.0\", \" 1.81\", \" 54000.0\", \" 3547.96\", \"Tons\", \"191590000\"], [2114, \"2014\", \"263999\", \"WALNUTS ENGLISH\", \"103\", \"Tehama\", \" 24600.0\", \" 2.1\", \" 51600.0\", \" 3282.48\", \"Tons\", \"169376000\"], [2115, \"2014\", \"263999\", \"WALNUTS ENGLISH\", \"107\", \"Tulare\", \" 40300.0\", \" 2.27\", \" 91500.0\", \" 2890.0\", \"Tons\", \"264435000\"], [2116, \"2014\", \"263999\", \"WALNUTS ENGLISH\", \"113\", \"Yolo\", \" 15300.0\", \" 1.44\", \" 22000.0\", \" 3472.68\", \"Tons\", \"76399000\"], [2117, \"2014\", \"263999\", \"WALNUTS ENGLISH\", \"115\", \"Yuba\", \" 12300.0\", \" 1.8\", \" 22200.0\", \" 3744.14\", \"Tons\", \"83120000\"], [2118, \"2014\", \"263999\", \"WALNUTS ENGLISH\", \"999\", \"State Total\", \" 359793.0\", \" 1.87\", \" 674200.0\", \" 3495.38\", \"NaN\", \"2356584000\"], [2119, \"2014\", \"101999\", \"WHEAT ALL\", \"7\", \"Butte\", \" 600.0\", \" 2.9\", \" 1740.0\", \" 259.77\", \"Tons\", \"452000\"], [2120, \"2014\", \"101999\", \"WHEAT ALL\", \"11\", \"Colusa\", \" 16300.0\", \" 2.45\", \" 40000.0\", \" 258.25\", \"Tons\", \"10330000\"], [2121, \"2014\", \"101999\", \"WHEAT ALL\", \"13\", \"Contra Costa\", \" 807.0\", \" 2.4\", \" 1940.0\", \" 232.47\", \"Tons\", \"451000\"], [2122, \"2014\", \"101999\", \"WHEAT ALL\", \"19\", \"Fresno\", \" 9950.0\", \" 3.49\", \" 34700.0\", \" 268.01\", \"Tons\", \"9300000\"], [2123, \"2014\", \"101999\", \"WHEAT ALL\", \"21\", \"Glenn\", \" 17200.0\", \" 2.74\", \" 47200.0\", \" 192.92\", \"Tons\", \"9106000\"], [2124, \"2014\", \"101999\", \"WHEAT ALL\", \"25\", \"Imperial\", \" 37800.0\", \" 3.49\", \" 132000.0\", \" 361.74\", \"Tons\", \"47750000\"], [2125, \"2014\", \"101999\", \"WHEAT ALL\", \"29\", \"Kern\", \" 27600.0\", \" 3.37\", \" 93000.0\", \" 281.11\", \"Tons\", \"26143000\"], [2126, \"2014\", \"101999\", \"WHEAT ALL\", \"31\", \"Kings\", \" 15400.0\", \" 3.24\", \" 49900.0\", \" 268.04\", \"Tons\", \"13375000\"], [2127, \"2014\", \"101999\", \"WHEAT ALL\", \"35\", \"Lassen\", \" 2780.0\", \" 1.1\", \" 3060.0\", \" 227.12\", \"Tons\", \"695000\"], [2128, \"2014\", \"101999\", \"WHEAT ALL\", \"39\", \"Madera\", \" 2600.0\", \" 3.01\", \" 7830.0\", \" 284.8\", \"Tons\", \"2230000\"], [2129, \"2014\", \"101999\", \"WHEAT ALL\", \"47\", \"Merced\", \" 21600.0\", \" 2.88\", \" 62300.0\", \" 325.06\", \"Tons\", \"20251000\"], [2130, \"2014\", \"101999\", \"WHEAT ALL\", \"53\", \"Monterey\", \" 800.0\", \" 1.08\", \" 864.0\", \" 96.64\", \"Tons\", \"83500\"], [2131, \"2014\", \"101999\", \"WHEAT ALL\", \"61\", \"Placer\", \" 450.0\", \" 2.31\", \" 1040.0\", \" 228.85\", \"Tons\", \"238000\"], [2132, \"2014\", \"101999\", \"WHEAT ALL\", \"65\", \"Riverside\", \" 10600.0\", \" 2.38\", \" 25200.0\", \" 272.66\", \"Tons\", \"6871000\"], [2133, \"2014\", \"101999\", \"WHEAT ALL\", \"67\", \"Sacramento\", \" 9230.0\", \" 2.8\", \" 25800.0\", \" 227.87\", \"Tons\", \"5879000\"], [2134, \"2014\", \"101999\", \"WHEAT ALL\", \"77\", \"San Joaquin\", \" 23000.0\", \" 3.28\", \" 75400.0\", \" 235.0\", \"Tons\", \"17719000\"], [2135, \"2014\", \"101999\", \"WHEAT ALL\", \"93\", \"Siskiyou\", \" 16800.0\", \" 4.12\", \" 69200.0\", \" 219.7\", \"Tons\", \"15203000\"], [2136, \"2014\", \"101999\", \"WHEAT ALL\", \"95\", \"Solano\", \" 21700.0\", \" 2.75\", \" 59600.0\", \" 231.36\", \"Tons\", \"13789000\"], [2137, \"2014\", \"101999\", \"WHEAT ALL\", \"99\", \"Stanislaus\", \" 2900.0\", \" 3.28\", \" 9500.0\", \" 273.05\", \"Tons\", \"2594000\"], [2138, \"2014\", \"101999\", \"WHEAT ALL\", \"101\", \"Sutter\", \" 7130.0\", \" 2.52\", \" 18000.0\", \" 226.72\", \"Tons\", \"4081000\"], [2139, \"2014\", \"101999\", \"WHEAT ALL\", \"103\", \"Tehama\", \" 2610.0\", \" 2.29\", \" 5980.0\", \" 231.94\", \"Tons\", \"1387000\"], [2140, \"2014\", \"101999\", \"WHEAT ALL\", \"107\", \"Tulare\", \" 5810.0\", \" 3.27\", \" 19000.0\", \" 231.0\", \"Tons\", \"4389000\"], [2141, \"2014\", \"101999\", \"WHEAT ALL\", \"113\", \"Yolo\", \" 29200.0\", \" 2.34\", \" 68300.0\", \" 216.27\", \"Tons\", \"14771000\"], [2142, \"2014\", \"101999\", \"WHEAT ALL\", \"991\", \"Sum of Others\", \" 353.0\", \" 1.07\", \" 379.0\", \" 370.71\", \"Tons\", \"140500\"], [2143, \"2014\", \"101999\", \"WHEAT ALL\", \"999\", \"State Total\", \" 283220.0\", \" 3.01\", \" 851933.0\", \" 266.72\", \"NaN\", \"227228000\"], [2144, \"2014\", \"171019\", \"WHEAT SEED\", \"11\", \"Colusa\", \" 225.0\", \" 2.45\", \" 551.0\", \" 259.53\", \"Tons\", \"143000\"], [2145, \"2014\", \"171019\", \"WHEAT SEED\", \"93\", \"Siskiyou\", \" 414.0\", \" 3.84\", \" 1590.0\", \" 286.16\", \"Tons\", \"455000\"], [2146, \"2014\", \"171019\", \"WHEAT SEED\", \"95\", \"Solano\", \" 575.0\", \" 3.01\", \" 1730.0\", \" 239.31\", \"Tons\", \"414000\"], [2147, \"2014\", \"171019\", \"WHEAT SEED\", \"101\", \"Sutter\", \" 732.0\", \" 3.01\", \" 2200.0\", \" 239.55\", \"Tons\", \"527000\"], [2148, \"2014\", \"171019\", \"WHEAT SEED\", \"991\", \"Sum of Others\", \" 1329.0\", \" 3.56\", \" 4730.0\", \" 330.87\", \"Tons\", \"1565000\"], [2149, \"2014\", \"171019\", \"WHEAT SEED\", \"999\", \"State Total\", \" 3275.0\", \" 3.3\", \" 10801.0\", \" 287.38\", \"NaN\", \"3104000\"], [2150, \"2014\", \"472999\", \"WOOL\", \"19\", \"Fresno\", \"NaN\", \"NaN\", \" 376000.0\", \" 1.76\", \"Lbs\", \"662000\"], [2151, \"2014\", \"472999\", \"WOOL\", \"21\", \"Glenn\", \"NaN\", \"NaN\", \" 38000.0\", \" 1.34\", \"Lbs\", \"51000\"], [2152, \"2014\", \"472999\", \"WOOL\", \"25\", \"Imperial\", \"NaN\", \"NaN\", \" 271000.0\", \" 1.03\", \"Lbs\", \"279000\"], [2153, \"2014\", \"472999\", \"WOOL\", \"27\", \"Inyo\", \"NaN\", \"NaN\", \" 21600.0\", \" 1.35\", \"Lbs\", \"29200\"], [2154, \"2014\", \"472999\", \"WOOL\", \"29\", \"Kern\", \"NaN\", \"NaN\", \" 675000.0\", \" 1.5\", \"Lbs\", \"1013000\"], [2155, \"2014\", \"472999\", \"WOOL\", \"31\", \"Kings\", \"NaN\", \"NaN\", \" 66500.0\", \" 1.46\", \"Lbs\", \"97000\"], [2156, \"2014\", \"472999\", \"WOOL\", \"41\", \"Marin\", \"NaN\", \"NaN\", \" 44500.0\", \" 0.71\", \"Lbs\", \"31600\"], [2157, \"2014\", \"472999\", \"WOOL\", \"43\", \"Mariposa\", \"NaN\", \"NaN\", \" 15000.0\", \" 1.33\", \"Lbs\", \"20000\"], [2158, \"2014\", \"472999\", \"WOOL\", \"45\", \"Mendocino\", \"NaN\", \"NaN\", \" 33700.0\", \" 2.01\", \"Lbs\", \"67700\"], [2159, \"2014\", \"472999\", \"WOOL\", \"47\", \"Merced\", \"NaN\", \"NaN\", \" 94400.0\", \" 1.95\", \"Lbs\", \"184000\"], [2160, \"2014\", \"472999\", \"WOOL\", \"51\", \"Mono\", \"NaN\", \"NaN\", \" 91400.0\", \" 1.35\", \"Lbs\", \"123000\"], [2161, \"2014\", \"472999\", \"WOOL\", \"63\", \"Plumas\", \"NaN\", \"NaN\", \"NaN\", \"NaN\", \"Lbs\", \"1560\"], [2162, \"2014\", \"472999\", \"WOOL\", \"77\", \"San Joaquin\", \"NaN\", \"NaN\", \" 60200.0\", \" 1.84\", \"Lbs\", \"111000\"], [2163, \"2014\", \"472999\", \"WOOL\", \"93\", \"Siskiyou\", \"NaN\", \"NaN\", \" 14000.0\", \" 1.65\", \"Lbs\", \"23100\"], [2164, \"2014\", \"472999\", \"WOOL\", \"95\", \"Solano\", \"NaN\", \"NaN\", \" 213000.0\", \" 0.55\", \"Lbs\", \"117000\"], [2165, \"2014\", \"472999\", \"WOOL\", \"97\", \"Sonoma\", \"NaN\", \"NaN\", \" 90900.0\", \" 1.3\", \"Lbs\", \"118000\"], [2166, \"2014\", \"472999\", \"WOOL\", \"99\", \"Stanislaus\", \"NaN\", \"NaN\", \" 36300.0\", \" 5.15\", \"Lbs\", \"187000\"], [2167, \"2014\", \"472999\", \"WOOL\", \"103\", \"Tehama\", \"NaN\", \"NaN\", \"NaN\", \"NaN\", \"Lbs\", \"68500\"], [2168, \"2014\", \"472999\", \"WOOL\", \"115\", \"Yuba\", \"NaN\", \"NaN\", \" 13000.0\", \" 0.77\", \"Lbs\", \"10000\"], [2169, \"2014\", \"472999\", \"WOOL\", \"991\", \"Sum of Others\", \"NaN\", \"NaN\", \" 75600.0\", \" 3.54\", \"Lbs\", \"268000\"], [2170, \"2014\", \"472999\", \"WOOL\", \"999\", \"State Total\", \"NaN\", \"NaN\", \" 2230100.0\", \" 1.52\", \"NaN\", \"3461660\"]];\n",
       "\n",
       "        // Define the dt_args\n",
       "        let dt_args = {\"layout\": {\"topStart\": \"pageLength\", \"topEnd\": \"search\", \"bottomStart\": \"info\", \"bottomEnd\": \"paging\"}, \"order\": [], \"fnInfoCallback\": function (oSettings, iStart, iEnd, iMax, iTotal, sPre) { return sPre + ' (<a href=\"https://mwouts.github.io/itables/downsampling.html\">downsampled</a> from 105,604x11 to 744x11 as maxBytes=64KB)'; }};\n",
       "        dt_args[\"data\"] = data;\n",
       "\n",
       "        \n",
       "        new DataTable(table, dt_args);\n",
       "    });\n",
       "</script>\n"
      ],
      "text/plain": [
       "<IPython.core.display.HTML object>"
      ]
     },
     "metadata": {},
     "output_type": "display_data"
    }
   ],
   "source": [
    "ur_table = pd.concat(tables.values())\n",
    "show(ur_table)"
   ]
  },
  {
   "cell_type": "markdown",
   "id": "47c828f5-f753-4960-8b96-80c226211e94",
   "metadata": {},
   "source": [
    "#### Standardize and Filter Crop Names\n",
    "We only want to focus on California's top crops (by value)."
   ]
  },
  {
   "cell_type": "code",
   "execution_count": 11,
   "id": "5d788b07-e7d5-4131-a219-73faef1077c5",
   "metadata": {
    "scrolled": true
   },
   "outputs": [],
   "source": [
    "target_crops = ['Grapes' , 'Lettuce' , 'Almonds' , 'Pistachios' , 'Strawberries', 'Tomatoes', 'Carrots', 'Oranges',  'Rice', 'Hay']\n",
    "\n",
    "#check to see each individual table had all the target crops\n",
    "for year, table in tables.items():\n",
    "    for tcrop in target_crops:\n",
    "        found = False\n",
    "        for cropn in table['Crop Name'].unique():\n",
    "            if cropn.lower().find(tcrop.lower()) > -1:\n",
    "                found=True\n",
    "                break\n",
    "    if found == False:    \n",
    "        print(f'{year}: {tcrop}')"
   ]
  },
  {
   "cell_type": "code",
   "execution_count": 12,
   "id": "6cce7b7e-83e2-4017-967e-b2eb996fb017",
   "metadata": {
    "scrolled": true
   },
   "outputs": [
    {
     "name": "stdout",
     "output_type": "stream",
     "text": [
      "Grapes \tGRAPES RAISIN\n",
      "Grapes \tGRAPES TABLE\n",
      "Grapes \tGRAPES UNSPECIFIED\n",
      "Grapes \tGRAPES WINE\n",
      "Lettuce \tLETTUCE HEAD\n",
      "Lettuce \tLETTUCE LEAF\n",
      "Lettuce \tLETTUCE ROMAINE\n",
      "Lettuce \tLETTUCE UNSPECIFIED\n",
      "Lettuce \tLETTUCE BULK SALAD PRODS.\n",
      "Lettuce \tLETTUCE BULK SALAD PRODUCTS\n",
      "Almonds \tALMONDS ALL\n",
      "Pistachios \tPISTACHIOS\n",
      "Strawberries \tBERRIES STRAWBERRIES F MKT\n",
      "Strawberries \tBERRIES STRAWBERRIES PROC.\n",
      "Strawberries \tBERRIES STRAWBERRIES UNSPEC\n",
      "Strawberries \tBERRIES STRAWBERRIES FRESH MARKET\n",
      "Strawberries \tBERRIES STRAWBERRIES PROCESSING\n",
      "Strawberries \tBERRIES STRAWBERRIES UNSPECIFIED\n",
      "Strawberries \tBERRIES STRAWBERRIES ALL\n",
      "Tomatoes \tTOMATOES CHERRY\n",
      "Tomatoes \tTOMATOES FRESH MARKET\n",
      "Tomatoes \tTOMATOES GREENHOUSE\n",
      "Tomatoes \tTOMATOES PROCESSING\n",
      "Tomatoes \tTOMATOES UNSPECIFIED\n",
      "Carrots \tCARROTS FRESH MARKET\n",
      "Carrots \tCARROTS PROCESSING\n",
      "Carrots \tCARROTS UNSPECIFIED\n",
      "Carrots \tCARROTS FOOD SERVICE\n",
      "Oranges \tORANGES NAVEL\n",
      "Oranges \tORANGES UNSPECIFIED\n",
      "Oranges \tORANGES VALENCIA\n",
      "Rice \tRICE MILLING\n",
      "Rice \tRICE SEED\n",
      "Rice \tRICE WILD\n",
      "Rice \tRICE SWEET\n",
      "Hay \tCHAYOTES\n",
      "Hay \tHAY ALFALFA\n",
      "Hay \tHAY GRAIN\n",
      "Hay \tHAY GREEN CHOP\n",
      "Hay \tHAY OTHER UNSPECIFIED\n",
      "Hay \tHAY WILD\n",
      "Hay \tHAY SUDAN\n"
     ]
    }
   ],
   "source": [
    "ur_table['Crop Name'] = ur_table['Crop Name'].str.strip()\n",
    "\n",
    "for tcrop in target_crops:\n",
    "    for cropn in ur_table['Crop Name'].unique():\n",
    "        if cropn.lower().find(tcrop.lower()) > -1:\n",
    "            print(tcrop+' \\t'+cropn)"
   ]
  },
  {
   "cell_type": "code",
   "execution_count": 13,
   "id": "c12a2a69-8348-4978-b4a3-97ff2723488f",
   "metadata": {
    "scrolled": true
   },
   "outputs": [
    {
     "name": "stdout",
     "output_type": "stream",
     "text": [
      "Grapes \tGRAPES RAISIN\n",
      "Grapes \tGRAPES TABLE\n",
      "Grapes \tGRAPES UNSPECIFIED\n",
      "Grapes \tGRAPES WINE\n",
      "Lettuce \tLETTUCE HEAD\n",
      "Lettuce \tLETTUCE LEAF\n",
      "Lettuce \tLETTUCE ROMAINE\n",
      "Lettuce \tLETTUCE UNSPECIFIED\n",
      "Lettuce \tLETTUCE BULK SALAD PRODUCTS\n",
      "Almonds \tALMONDS ALL\n",
      "Pistachios \tPISTACHIOS\n",
      "Strawberries \tBERRIES STRAWBERRIES FRESH MARKET\n",
      "Strawberries \tBERRIES STRAWBERRIES PROCESSING\n",
      "Strawberries \tBERRIES STRAWBERRIES UNSPECIFIED\n",
      "Strawberries \tBERRIES STRAWBERRIES ALL\n",
      "Tomatoes \tTOMATOES CHERRY\n",
      "Tomatoes \tTOMATOES FRESH MARKET\n",
      "Tomatoes \tTOMATOES GREENHOUSE\n",
      "Tomatoes \tTOMATOES PROCESSING\n",
      "Tomatoes \tTOMATOES UNSPECIFIED\n",
      "Carrots \tCARROTS FRESH MARKET\n",
      "Carrots \tCARROTS PROCESSING\n",
      "Carrots \tCARROTS UNSPECIFIED\n",
      "Carrots \tCARROTS FOOD SERVICE\n",
      "Oranges \tORANGES NAVEL\n",
      "Oranges \tORANGES UNSPECIFIED\n",
      "Oranges \tORANGES VALENCIA\n",
      "Rice \tRICE MILLING\n",
      "Rice \tRICE SEED\n",
      "Rice \tRICE WILD\n",
      "Rice \tRICE SWEET\n",
      "Hay \tCHAYOTES\n",
      "Hay \tHAY ALFALFA\n",
      "Hay \tHAY GRAIN\n",
      "Hay \tHAY GREEN CHOP\n",
      "Hay \tHAY OTHER UNSPECIFIED\n",
      "Hay \tHAY WILD\n",
      "Hay \tHAY SUDAN\n"
     ]
    }
   ],
   "source": [
    "cropname_remaps = {\n",
    "    'LETTUCE BULK SALAD PRODS.': 'LETTUCE BULK SALAD PRODUCTS',\n",
    "    'BERRIES STRAWBERRIES F MKT': 'BERRIES STRAWBERRIES FRESH MARKET',\n",
    "    'BERRIES STRAWBERRIES PROC.': 'BERRIES STRAWBERRIES PROCESSING',\n",
    "    'BERRIES STRAWBERRIES UNSPEC': 'BERRIES STRAWBERRIES UNSPECIFIED',\n",
    "}\n",
    "\n",
    "ur_table['Crop Name'] = ur_table['Crop Name'].replace(cropname_remaps)\n",
    "\n",
    "good_list = set() #list to filter to\n",
    "for tcrop in target_crops:\n",
    "    for cropn in ur_table['Crop Name'].unique():\n",
    "        if cropn.lower().find(tcrop.lower()) > -1:\n",
    "            print(tcrop+' \\t'+cropn)\n",
    "            good_list.add(cropn)"
   ]
  },
  {
   "cell_type": "code",
   "execution_count": 14,
   "id": "c017e4e7-d830-4c13-80a1-dcb831eb2035",
   "metadata": {},
   "outputs": [
    {
     "data": {
      "text/html": [
       "<table id=\"itables_9ebba01d_e120_4d27_a4e1_cdbe66d622cb\" class=\"display nowrap\" data-quarto-disable-processing=\"true\" style=\"table-layout:auto;width:auto;margin:auto;caption-side:bottom\">\n",
       "<thead>\n",
       "    <tr style=\"text-align: right;\">\n",
       "      <th></th>\n",
       "      <th>Year</th>\n",
       "      <th>Commodity Code</th>\n",
       "      <th>Crop Name</th>\n",
       "      <th>County Code</th>\n",
       "      <th>County</th>\n",
       "      <th>Harvested Acres</th>\n",
       "      <th>Yield</th>\n",
       "      <th>Production</th>\n",
       "      <th>Price Per Unit</th>\n",
       "      <th>Unit</th>\n",
       "      <th>Value</th>\n",
       "    </tr>\n",
       "  </thead><tbody><tr>\n",
       "<td style=\"vertical-align:middle; text-align:left\">\n",
       "<div style=\"float:left; margin-right: 10px;\">\n",
       "<a href=https://mwouts.github.io/itables/><svg class=\"main-svg\" xmlns=\"http://www.w3.org/2000/svg\" xmlns:xlink=\"http://www.w3.org/1999/xlink\"\n",
       "width=\"64\" viewBox=\"0 0 500 400\" style=\"font-family: 'Droid Sans', sans-serif;\">\n",
       "    <g style=\"fill:#d9d7fc\">\n",
       "        <path d=\"M100,400H500V357H100Z\" />\n",
       "        <path d=\"M100,300H400V257H100Z\" />\n",
       "        <path d=\"M0,200H400V157H0Z\" />\n",
       "        <path d=\"M100,100H500V57H100Z\" />\n",
       "        <path d=\"M100,350H500V307H100Z\" />\n",
       "        <path d=\"M100,250H400V207H100Z\" />\n",
       "        <path d=\"M0,150H400V107H0Z\" />\n",
       "        <path d=\"M100,50H500V7H100Z\" />\n",
       "    </g>\n",
       "    <g style=\"fill:#1a1366;stroke:#1a1366;\">\n",
       "   <rect x=\"100\" y=\"7\" width=\"400\" height=\"43\">\n",
       "    <animate\n",
       "      attributeName=\"width\"\n",
       "      values=\"0;400;0\"\n",
       "      dur=\"5s\"\n",
       "      repeatCount=\"indefinite\" />\n",
       "      <animate\n",
       "      attributeName=\"x\"\n",
       "      values=\"100;100;500\"\n",
       "      dur=\"5s\"\n",
       "      repeatCount=\"indefinite\" />\n",
       "  </rect>\n",
       "        <rect x=\"0\" y=\"107\" width=\"400\" height=\"43\">\n",
       "    <animate\n",
       "      attributeName=\"width\"\n",
       "      values=\"0;400;0\"\n",
       "      dur=\"3.5s\"\n",
       "      repeatCount=\"indefinite\" />\n",
       "    <animate\n",
       "      attributeName=\"x\"\n",
       "      values=\"0;0;400\"\n",
       "      dur=\"3.5s\"\n",
       "      repeatCount=\"indefinite\" />\n",
       "  </rect>\n",
       "        <rect x=\"100\" y=\"207\" width=\"300\" height=\"43\">\n",
       "    <animate\n",
       "      attributeName=\"width\"\n",
       "      values=\"0;300;0\"\n",
       "      dur=\"3s\"\n",
       "      repeatCount=\"indefinite\" />\n",
       "    <animate\n",
       "      attributeName=\"x\"\n",
       "      values=\"100;100;400\"\n",
       "      dur=\"3s\"\n",
       "      repeatCount=\"indefinite\" />\n",
       "  </rect>\n",
       "        <rect x=\"100\" y=\"307\" width=\"400\" height=\"43\">\n",
       "    <animate\n",
       "      attributeName=\"width\"\n",
       "      values=\"0;400;0\"\n",
       "      dur=\"4s\"\n",
       "      repeatCount=\"indefinite\" />\n",
       "      <animate\n",
       "      attributeName=\"x\"\n",
       "      values=\"100;100;500\"\n",
       "      dur=\"4s\"\n",
       "      repeatCount=\"indefinite\" />\n",
       "  </rect>\n",
       "        <g style=\"fill:transparent;stroke-width:8; stroke-linejoin:round\" rx=\"5\">\n",
       "            <g transform=\"translate(45 50) rotate(-45)\">\n",
       "                <circle r=\"33\" cx=\"0\" cy=\"0\" />\n",
       "                <rect x=\"-8\" y=\"32\" width=\"16\" height=\"30\" />\n",
       "            </g>\n",
       "\n",
       "            <g transform=\"translate(450 152)\">\n",
       "                <polyline points=\"-15,-20 -35,-20 -35,40 25,40 25,20\" />\n",
       "                <rect x=\"-15\" y=\"-40\" width=\"60\" height=\"60\" />\n",
       "            </g>\n",
       "\n",
       "            <g transform=\"translate(50 352)\">\n",
       "                <polygon points=\"-35,-5 0,-40 35,-5\" />\n",
       "                <polygon points=\"-35,10 0,45 35,10\" />\n",
       "            </g>\n",
       "\n",
       "            <g transform=\"translate(75 250)\">\n",
       "                <polyline points=\"-30,30 -60,0 -30,-30\" />\n",
       "                <polyline points=\"0,30 -30,0 0,-30\" />\n",
       "            </g>\n",
       "\n",
       "            <g transform=\"translate(425 250) rotate(180)\">\n",
       "                <polyline points=\"-30,30 -60,0 -30,-30\" />\n",
       "                <polyline points=\"0,30 -30,0 0,-30\" />\n",
       "            </g>\n",
       "        </g>\n",
       "    </g>\n",
       "</svg>\n",
       "</a>\n",
       "</div>\n",
       "<div>\n",
       "Loading ITables v2.1.4 from the internet...\n",
       "(need <a href=https://mwouts.github.io/itables/troubleshooting.html>help</a>?)</td>\n",
       "</div>\n",
       "</tr></tbody>\n",
       "\n",
       "</table>\n",
       "<link href=\"https://www.unpkg.com/dt_for_itables@2.0.11/dt_bundle.css\" rel=\"stylesheet\">\n",
       "<script type=\"module\">\n",
       "    import {DataTable, jQuery as $} from 'https://www.unpkg.com/dt_for_itables@2.0.11/dt_bundle.js';\n",
       "\n",
       "    document.querySelectorAll(\"#itables_9ebba01d_e120_4d27_a4e1_cdbe66d622cb:not(.dataTable)\").forEach(table => {\n",
       "        // Define the table data\n",
       "        const data = [[23, \"1987\", \"261999\", \"ALMONDS ALL\", \"7\", \"Butte \", \"38484 \", \"0.76 \", \"29248 \", \"2000 \", \"TONS \", \"58496000\"], [24, \"1987\", \"261999\", \"ALMONDS ALL\", \"9\", \"Calaveras \", \"  \", \"  \", \"14 \", \"2100 \", \"TONS \", \"29400\"], [25, \"1987\", \"261999\", \"ALMONDS ALL\", \"11\", \"Colusa \", \"16350 \", \"0.50 \", \"8175 \", \"2000 \", \"TONS \", \"16350000\"], [26, \"1987\", \"261999\", \"ALMONDS ALL\", \"13\", \"Contra Costa \", \"1746 \", \"0.05 \", \"84 \", \"2012 \", \"TONS \", \"169000\"], [27, \"1987\", \"261999\", \"ALMONDS ALL\", \"19\", \"Fresno \", \"30648 \", \"0.96 \", \"29400 \", \"2000 \", \"TONS \", \"58800000\"], [28, \"1987\", \"261999\", \"ALMONDS ALL\", \"21\", \"Glenn \", \"14368 \", \"0.59 \", \"8521 \", \"2200 \", \"TONS \", \"18746000\"], [29, \"1987\", \"261999\", \"ALMONDS ALL\", \"29\", \"Kern \", \"74157 \", \"0.93 \", \"69000 \", \"2020 \", \"TONS \", \"139380000\"], [30, \"1987\", \"261999\", \"ALMONDS ALL\", \"31\", \"Kings \", \"3208 \", \"0.74 \", \"2374 \", \"1980 \", \"TONS \", \"4701000\"], [31, \"1987\", \"261999\", \"ALMONDS ALL\", \"33\", \"Lake \", \"80 \", \"0.10 \", \"8 \", \"1615 \", \"TONS \", \"12920\"], [32, \"1987\", \"261999\", \"ALMONDS ALL\", \"39\", \"Madera \", \"32968 \", \"0.82 \", \"27034 \", \"2000 \", \"TONS \", \"54068000\"], [33, \"1987\", \"261999\", \"ALMONDS ALL\", \"43\", \"Mariposa \", \"  \", \"  \", \"  \", \"  \", \"  \", \" \"], [34, \"1987\", \"261999\", \"ALMONDS ALL\", \"47\", \"Merced \", \"64532 \", \"0.88 \", \"56800 \", \"2100 \", \"TONS \", \"119280000\"], [35, \"1987\", \"261999\", \"ALMONDS ALL\", \"53\", \"Monterey \", \"  \", \"  \", \"  \", \"  \", \"  \", \" \"], [36, \"1987\", \"261999\", \"ALMONDS ALL\", \"61\", \"Placer \", \"  \", \"  \", \"  \", \"  \", \"  \", \" \"], [37, \"1987\", \"261999\", \"ALMONDS ALL\", \"67\", \"Sacramento \", \"  \", \"  \", \"  \", \"  \", \"  \", \" \"], [38, \"1987\", \"261999\", \"ALMONDS ALL\", \"69\", \"San Benito \", \"  \", \"  \", \"  \", \"  \", \"  \", \" \"], [39, \"1987\", \"261999\", \"ALMONDS ALL\", \"77\", \"San Joaquin \", \"36200 \", \"0.82 \", \"29700 \", \"2049 \", \"TONS \", \"60849000\"], [40, \"1987\", \"261999\", \"ALMONDS ALL\", \"79\", \"San Luis Obispo \", \"4911 \", \"0.02 \", \"122 \", \"2820 \", \"TONS \", \"344000\"], [41, \"1987\", \"261999\", \"ALMONDS ALL\", \"95\", \"Solano \", \"2325 \", \"0.36 \", \"847 \", \"2100 \", \"TONS \", \"1778700\"], [42, \"1987\", \"261999\", \"ALMONDS ALL\", \"99\", \"Stanislaus \", \"65417 \", \"0.99 \", \"64894 \", \"2000 \", \"TONS \", \"129787000\"], [43, \"1987\", \"261999\", \"ALMONDS ALL\", \"101\", \"Sutter \", \"4550 \", \"0.51 \", \"2299 \", \"2000 \", \"TONS \", \"4597700\"], [44, \"1987\", \"261999\", \"ALMONDS ALL\", \"103\", \"Tehama \", \"6886 \", \"0.46 \", \"3170 \", \"2000 \", \"TONS \", \"6340000\"], [45, \"1987\", \"261999\", \"ALMONDS ALL\", \"107\", \"Tulare \", \"9735 \", \"0.83 \", \"8080 \", \"2020 \", \"TONS \", \"16322000\"], [46, \"1987\", \"261999\", \"ALMONDS ALL\", \"113\", \"Yolo \", \"7700 \", \"0.64 \", \"4900 \", \"1908 \", \"TONS \", \"9349000\"], [47, \"1987\", \"261999\", \"ALMONDS ALL\", \"115\", \"Yuba \", \"1907 \", \"0.80 \", \"1526 \", \"1899 \", \"TONS \", \"2898600\"], [48, \"1987\", \"261999\", \"ALMONDS ALL\", \"999\", \" State Totals\", \"416172 \", \"0.83 \", \"346196 \", \"2029 \", \"    \", \"702298320\"], [558, \"1987\", \"237199\", \"BERRIES STRAWBERRIES FRESH MARKET\", \"19\", \"Fresno \", \"181 \", \"17.02 \", \"3080 \", \"680 \", \"TONS \", \"2094000\"], [559, \"1987\", \"237199\", \"BERRIES STRAWBERRIES FRESH MARKET\", \"53\", \"Monterey \", \"4065 \", \"23.99 \", \"97500 \", \"1018 \", \"TONS \", \"99289000\"], [560, \"1987\", \"237199\", \"BERRIES STRAWBERRIES FRESH MARKET\", \"73\", \"San Diego \", \"1193 \", \"13.73 \", \"16378 \", \"1033 \", \"TONS \", \"16917962\"], [561, \"1987\", \"237199\", \"BERRIES STRAWBERRIES FRESH MARKET\", \"83\", \"Santa Barbara \", \"2611 \", \"23.54 \", \"61458 \", \"935 \", \"TONS \", \"57462966\"], [562, \"1987\", \"237199\", \"BERRIES STRAWBERRIES FRESH MARKET\", \"99\", \"Stanislaus \", \"  \", \"  \", \"  \", \"  \", \"  \", \" \"], [563, \"1987\", \"237199\", \"BERRIES STRAWBERRIES FRESH MARKET\", \"111\", \"Ventura \", \"3468 \", \"18.16 \", \"62966 \", \"1076 \", \"TONS \", \"67736000\"], [564, \"1987\", \"237199\", \"BERRIES STRAWBERRIES FRESH MARKET\", \"999\", \" State Totals\", \"11518 \", \"20.96 \", \"241382 \", \"1009 \", \"    \", \"243499928\"], [565, \"1987\", \"237299\", \"BERRIES STRAWBERRIES PROCESSING\", \"19\", \"Fresno \", \"  \", \"  \", \"  \", \"  \", \"  \", \" \"], [566, \"1987\", \"237299\", \"BERRIES STRAWBERRIES PROCESSING\", \"53\", \"Monterey \", \"  \", \"  \", \"18620 \", \"600 \", \"TONS \", \"11173000\"], [567, \"1987\", \"237299\", \"BERRIES STRAWBERRIES PROCESSING\", \"73\", \"San Diego \", \"  \", \"  \", \"8189 \", \"500 \", \"TONS \", \"4094376\"], [568, \"1987\", \"237299\", \"BERRIES STRAWBERRIES PROCESSING\", \"83\", \"Santa Barbara \", \"  \", \"  \", \"5887 \", \"560 \", \"TONS \", \"3298780\"], [569, \"1987\", \"237299\", \"BERRIES STRAWBERRIES PROCESSING\", \"111\", \"Ventura \", \"  \", \"  \", \"36970 \", \"559 \", \"TONS \", \"20672000\"], [570, \"1987\", \"237299\", \"BERRIES STRAWBERRIES PROCESSING\", \"999\", \" State Totals\", \"0 \", \"  \", \"69666 \", \"563 \", \"    \", \"39238156\"], [571, \"1987\", \"237999\", \"BERRIES STRAWBERRIES UNSPECIFIED\", \"7\", \"Butte \", \"  \", \"  \", \"  \", \"  \", \"  \", \" \"], [572, \"1987\", \"237999\", \"BERRIES STRAWBERRIES UNSPECIFIED\", \"13\", \"Contra Costa \", \"  \", \"  \", \"  \", \"  \", \"  \", \" \"], [573, \"1987\", \"237999\", \"BERRIES STRAWBERRIES UNSPECIFIED\", \"37\", \"Los Angeles \", \"279 \", \"20.36 \", \"5681 \", \"933 \", \"TONS \", \"5300400\"], [574, \"1987\", \"237999\", \"BERRIES STRAWBERRIES UNSPECIFIED\", \"59\", \"Orange \", \"2498 \", \"28.42 \", \"70993 \", \"720 \", \"TONS \", \"51115000\"], [575, \"1987\", \"237999\", \"BERRIES STRAWBERRIES UNSPECIFIED\", \"65\", \"Riverside \", \"23 \", \"15.26 \", \"351 \", \"954 \", \"TONS \", \"334700\"], [576, \"1987\", \"237999\", \"BERRIES STRAWBERRIES UNSPECIFIED\", \"67\", \"Sacramento \", \"  \", \"  \", \"  \", \"  \", \"  \", \" \"], [577, \"1987\", \"237999\", \"BERRIES STRAWBERRIES UNSPECIFIED\", \"71\", \"San Bernardino \", \"263 \", \"29.52 \", \"7765 \", \"652 \", \"TONS \", \"5063000\"], [578, \"1987\", \"237999\", \"BERRIES STRAWBERRIES UNSPECIFIED\", \"79\", \"San Luis Obispo \", \"349 \", \"24.00 \", \"8376 \", \"789 \", \"TONS \", \"6609000\"], [579, \"1987\", \"237999\", \"BERRIES STRAWBERRIES UNSPECIFIED\", \"85\", \"Santa Clara \", \"300 \", \"19.00 \", \"5700 \", \"850 \", \"TONS \", \"4845000\"], [580, \"1987\", \"237999\", \"BERRIES STRAWBERRIES UNSPECIFIED\", \"87\", \"Santa Cruz \", \"2285 \", \"26.49 \", \"60529 \", \"932 \", \"TONS \", \"56387000\"], [581, \"1987\", \"237999\", \"BERRIES STRAWBERRIES UNSPECIFIED\", \"101\", \"Sutter \", \"  \", \"  \", \"  \", \"  \", \"  \", \" \"], [582, \"1987\", \"237999\", \"BERRIES STRAWBERRIES UNSPECIFIED\", \"107\", \"Tulare \", \"  \", \"  \", \"  \", \"  \", \"  \", \" \"], [583, \"1987\", \"237999\", \"BERRIES STRAWBERRIES UNSPECIFIED\", \"999\", \" State Totals\", \"5997 \", \"26.58 \", \"159395 \", \"813 \", \"    \", \"129654100\"], [644, \"1987\", \"313199\", \"CARROTS FRESH MARKET\", \"19\", \"Fresno \", \"  \", \"  \", \"  \", \"  \", \"  \", \" \"], [645, \"1987\", \"313199\", \"CARROTS FRESH MARKET\", \"31\", \"Kings \", \"602 \", \"18.00 \", \"10836 \", \"208 \", \"TONS \", \"2258000\"], [646, \"1987\", \"313199\", \"CARROTS FRESH MARKET\", \"53\", \"Monterey \", \"3450 \", \"14.57 \", \"50280 \", \"190 \", \"TONS \", \"9573000\"], [647, \"1987\", \"313199\", \"CARROTS FRESH MARKET\", \"999\", \" State Totals\", \"4052 \", \"15.08 \", \"61116 \", \"194 \", \"    \", \"11831000\"], [648, \"1987\", \"313299\", \"CARROTS PROCESSING\", \"19\", \"Fresno \", \"  \", \"  \", \"  \", \"  \", \"  \", \" \"], [649, \"1987\", \"313299\", \"CARROTS PROCESSING\", \"31\", \"Kings \", \"459 \", \"28.90 \", \"13265 \", \"32 \", \"TONS \", \"418000\"], [650, \"1987\", \"313299\", \"CARROTS PROCESSING\", \"53\", \"Monterey \", \"1645 \", \"30.43 \", \"50055 \", \"64 \", \"TONS \", \"3196000\"], [651, \"1987\", \"313299\", \"CARROTS PROCESSING\", \"999\", \" State Totals\", \"2104 \", \"30.10 \", \"63320 \", \"57 \", \"    \", \"3614000\"], [652, \"1987\", \"313999\", \"CARROTS UNSPECIFIED\", \"19\", \"Fresno \", \"5000 \", \"24.00 \", \"120000 \", \"103 \", \"TONS \", \"12360000\"], [653, \"1987\", \"313999\", \"CARROTS UNSPECIFIED\", \"23\", \"Humboldt \", \"  \", \"  \", \"  \", \"  \", \"  \", \" \"], [654, \"1987\", \"313999\", \"CARROTS UNSPECIFIED\", \"25\", \"Imperial \", \"12038 \", \"25.92 \", \"312025 \", \"180 \", \"TONS \", \"56164000\"], [655, \"1987\", \"313999\", \"CARROTS UNSPECIFIED\", \"29\", \"Kern \", \"18430 \", \"30.01 \", \"553000 \", \"140 \", \"TONS \", \"77572000\"], [656, \"1987\", \"313999\", \"CARROTS UNSPECIFIED\", \"37\", \"Los Angeles \", \"  \", \"  \", \"  \", \"  \", \"  \", \" \"], [657, \"1987\", \"313999\", \"CARROTS UNSPECIFIED\", \"39\", \"Madera \", \"  \", \"  \", \"  \", \"  \", \"  \", \" \"], [658, \"1987\", \"313999\", \"CARROTS UNSPECIFIED\", \"47\", \"Merced \", \"  \", \"  \", \"  \", \"  \", \"  \", \" \"], [659, \"1987\", \"313999\", \"CARROTS UNSPECIFIED\", \"59\", \"Orange \", \"  \", \"  \", \"  \", \"  \", \"  \", \" \"], [660, \"1987\", \"313999\", \"CARROTS UNSPECIFIED\", \"65\", \"Riverside \", \"2480 \", \"13.73 \", \"34046 \", \"201 \", \"TONS \", \"6851600\"], [661, \"1987\", \"313999\", \"CARROTS UNSPECIFIED\", \"69\", \"San Benito \", \"  \", \"  \", \"  \", \"  \", \"  \", \" \"], [662, \"1987\", \"313999\", \"CARROTS UNSPECIFIED\", \"71\", \"San Bernardino \", \"  \", \"  \", \"  \", \"  \", \"  \", \" \"], [663, \"1987\", \"313999\", \"CARROTS UNSPECIFIED\", \"79\", \"San Luis Obispo \", \"3209 \", \"23.00 \", \"73807 \", \"120 \", \"TONS \", \"8857000\"], [664, \"1987\", \"313999\", \"CARROTS UNSPECIFIED\", \"83\", \"Santa Barbara \", \"  \", \"  \", \"  \", \"  \", \"  \", \" \"], [665, \"1987\", \"313999\", \"CARROTS UNSPECIFIED\", \"85\", \"Santa Clara \", \"  \", \"  \", \"  \", \"  \", \"  \", \" \"], [666, \"1987\", \"313999\", \"CARROTS UNSPECIFIED\", \"95\", \"Solano \", \"  \", \"  \", \"  \", \"  \", \"  \", \" \"], [667, \"1987\", \"313999\", \"CARROTS UNSPECIFIED\", \"99\", \"Stanislaus \", \"  \", \"  \", \"  \", \"  \", \"  \", \" \"], [668, \"1987\", \"313999\", \"CARROTS UNSPECIFIED\", \"101\", \"Sutter \", \"  \", \"  \", \"  \", \"  \", \"  \", \" \"], [669, \"1987\", \"313999\", \"CARROTS UNSPECIFIED\", \"999\", \" State Totals\", \"41157 \", \"26.55 \", \"1092878 \", \"148 \", \"    \", \"161804600\"], [873, \"1987\", \"397999\", \"CHAYOTES\", \"73\", \"San Diego \", \"  \", \"  \", \"  \", \"  \", \"  \", \" \"], [874, \"1987\", \"397999\", \"CHAYOTES\", \"999\", \" State Totals\", \"0 \", \"  \", \"0 \", \"  \", \"    \", \"0\"], [1693, \"1987\", \"216399\", \"GRAPES RAISIN\", \"19\", \"Fresno \", \"166131 \", \"9.01 \", \"1496430 \", \"213 \", \"TONS \", \"319383000\"], [1694, \"1987\", \"216399\", \"GRAPES RAISIN\", \"29\", \"Kern \", \"27727 \", \"6.68 \", \"185340 \", \"420 \", \"TONS \", \"77916000\"], [1695, \"1987\", \"216399\", \"GRAPES RAISIN\", \"31\", \"Kings \", \"2674 \", \"9.21 \", \"24620 \", \"186 \", \"TONS \", \"4584000\"], [1696, \"1987\", \"216399\", \"GRAPES RAISIN\", \"39\", \"Madera \", \"39004 \", \"8.91 \", \"347587 \", \"186 \", \"TONS \", \"64753000\"], [1697, \"1987\", \"216399\", \"GRAPES RAISIN\", \"47\", \"Merced \", \"1151 \", \"7.23 \", \"8321 \", \"176 \", \"TONS \", \"1461000\"], [1698, \"1987\", \"216399\", \"GRAPES RAISIN\", \"79\", \"San Luis Obispo \", \"  \", \"  \", \"  \", \"  \", \"  \", \" \"], [1699, \"1987\", \"216399\", \"GRAPES RAISIN\", \"99\", \"Stanislaus \", \"  \", \"  \", \"  \", \"  \", \"  \", \" \"], [1700, \"1987\", \"216399\", \"GRAPES RAISIN\", \"107\", \"Tulare \", \"35127 \", \"6.79 \", \"238506 \", \"363 \", \"TONS \", \"86568000\"], [1701, \"1987\", \"216399\", \"GRAPES RAISIN\", \"999\", \" State Totals\", \"271814 \", \"8.46 \", \"2300804 \", \"241 \", \"    \", \"554665000\"], [1702, \"1987\", \"216199\", \"GRAPES TABLE\", \"19\", \"Fresno \", \"8830 \", \"5.74 \", \"50690 \", \"639 \", \"TONS \", \"32385000\"], [1703, \"1987\", \"216199\", \"GRAPES TABLE\", \"29\", \"Kern \", \"19112 \", \"6.57 \", \"125510 \", \"692 \", \"TONS \", \"86898000\"], [1704, \"1987\", \"216199\", \"GRAPES TABLE\", \"31\", \"Kings \", \"273 \", \"1.71 \", \"467 \", \"1994 \", \"TONS \", \"931000\"], [1705, \"1987\", \"216199\", \"GRAPES TABLE\", \"39\", \"Madera \", \"2226 \", \"4.40 \", \"9794 \", \"720 \", \"TONS \", \"7052000\"], [1706, \"1987\", \"216199\", \"GRAPES TABLE\", \"47\", \"Merced \", \"  \", \"  \", \"  \", \"  \", \"  \", \" \"], [1707, \"1987\", \"216199\", \"GRAPES TABLE\", \"65\", \"Riverside \", \"18544 \", \"4.93 \", \"91474 \", \"958 \", \"TONS \", \"87608100\"], [1708, \"1987\", \"216199\", \"GRAPES TABLE\", \"71\", \"San Bernardino \", \"  \", \"  \", \"  \", \"  \", \"  \", \" \"], [1709, \"1987\", \"216199\", \"GRAPES TABLE\", \"73\", \"San Diego \", \"  \", \"  \", \"  \", \"  \", \"  \", \" \"], [1710, \"1987\", \"216199\", \"GRAPES TABLE\", \"77\", \"San Joaquin \", \"17800 \", \"5.90 \", \"105000 \", \"156 \", \"TONS \", \"16428000\"], [1711, \"1987\", \"216199\", \"GRAPES TABLE\", \"79\", \"San Luis Obispo \", \"  \", \"  \", \"  \", \"  \", \"  \", \" \"], [1712, \"1987\", \"216199\", \"GRAPES TABLE\", \"83\", \"Santa Barbara \", \"  \", \"  \", \"  \", \"  \", \"  \", \" \"], [1713, \"1987\", \"216199\", \"GRAPES TABLE\", \"99\", \"Stanislaus \", \"  \", \"  \", \"  \", \"  \", \"  \", \" \"], [1714, \"1987\", \"216199\", \"GRAPES TABLE\", \"107\", \"Tulare \", \"22868 \", \"5.96 \", \"136200 \", \"705 \", \"TONS \", \"95992000\"], [1715, \"1987\", \"216199\", \"GRAPES TABLE\", \"113\", \"Yolo \", \"  \", \"  \", \"  \", \"  \", \"  \", \" \"], [1716, \"1987\", \"216199\", \"GRAPES TABLE\", \"999\", \" State Totals\", \"89653 \", \"5.79 \", \"519135 \", \"630 \", \"    \", \"327294100\"], [1717, \"1987\", \"216999\", \"GRAPES UNSPECIFIED\", \"7\", \"Butte \", \"  \", \"  \", \"  \", \"  \", \"  \", \" \"], [1718, \"1987\", \"216999\", \"GRAPES UNSPECIFIED\", \"11\", \"Colusa \", \"  \", \"  \", \"  \", \"  \", \"  \", \" \"], [1719, \"1987\", \"216999\", \"GRAPES UNSPECIFIED\", \"17\", \"El Dorado \", \"530 \", \"3.70 \", \"1961 \", \"438 \", \"TONS \", \"858900\"], [1720, \"1987\", \"216999\", \"GRAPES UNSPECIFIED\", \"23\", \"Humboldt \", \"  \", \"  \", \"  \", \"  \", \"  \", \" \"], [1721, \"1987\", \"216999\", \"GRAPES UNSPECIFIED\", \"25\", \"Imperial \", \"  \", \"  \", \"  \", \"  \", \"  \", \" \"], [1722, \"1987\", \"216999\", \"GRAPES UNSPECIFIED\", \"43\", \"Mariposa \", \"  \", \"  \", \"  \", \"  \", \"  \", \" \"], [1723, \"1987\", \"216999\", \"GRAPES UNSPECIFIED\", \"59\", \"Orange \", \"  \", \"  \", \"  \", \"  \", \"  \", \" \"], [1724, \"1987\", \"216999\", \"GRAPES UNSPECIFIED\", \"89\", \"Shasta \", \"  \", \"  \", \"  \", \"  \", \"  \", \" \"], [1725, \"1987\", \"216999\", \"GRAPES UNSPECIFIED\", \"101\", \"Sutter \", \"  \", \"  \", \"  \", \"  \", \"  \", \" \"], [1726, \"1987\", \"216999\", \"GRAPES UNSPECIFIED\", \"103\", \"Tehama \", \"  \", \"  \", \"  \", \"  \", \"  \", \" \"], [1727, \"1987\", \"216999\", \"GRAPES UNSPECIFIED\", \"115\", \"Yuba \", \"  \", \"  \", \"  \", \"  \", \"  \", \" \"], [1728, \"1987\", \"216999\", \"GRAPES UNSPECIFIED\", \"999\", \" State Totals\", \"530 \", \"3.70 \", \"1961 \", \"438 \", \"    \", \"858900\"], [1729, \"1987\", \"216299\", \"GRAPES WINE\", \"1\", \"Alameda \", \"1458 \", \"3.43 \", \"5006 \", \"358 \", \"TONS \", \"1794000\"], [1730, \"1987\", \"216299\", \"GRAPES WINE\", \"5\", \"Amador \", \"1650 \", \"3.71 \", \"6118 \", \"415 \", \"TONS \", \"2539000\"], [1731, \"1987\", \"216299\", \"GRAPES WINE\", \"9\", \"Calaveras \", \"135 \", \"2.22 \", \"300 \", \"400 \", \"TONS \", \"120000\"], [1732, \"1987\", \"216299\", \"GRAPES WINE\", \"13\", \"Contra Costa \", \"879 \", \"1.60 \", \"1410 \", \"368 \", \"TONS \", \"519000\"], [1733, \"1987\", \"216299\", \"GRAPES WINE\", \"17\", \"El Dorado \", \"116 \", \"2.40 \", \"278 \", \"497 \", \"TONS \", \"138200\"], [1734, \"1987\", \"216299\", \"GRAPES WINE\", \"19\", \"Fresno \", \"35671 \", \"7.93 \", \"283000 \", \"149 \", \"TONS \", \"42065000\"], [1735, \"1987\", \"216299\", \"GRAPES WINE\", \"29\", \"Kern \", \"29133 \", \"7.50 \", \"218400 \", \"129 \", \"TONS \", \"28230000\"], [1736, \"1987\", \"216299\", \"GRAPES WINE\", \"31\", \"Kings \", \"1214 \", \"10.00 \", \"12140 \", \"140 \", \"TONS \", \"1700000\"], [1737, \"1987\", \"216299\", \"GRAPES WINE\", \"33\", \"Lake \", \"3000 \", \"3.46 \", \"10385 \", \"458 \", \"TONS \", \"4758870\"], [1738, \"1987\", \"216299\", \"GRAPES WINE\", \"39\", \"Madera \", \"38511 \", \"8.48 \", \"326698 \", \"138 \", \"TONS \", \"45150000\"], [1739, \"1987\", \"216299\", \"GRAPES WINE\", \"45\", \"Mendocino \", \"10574 \", \"3.71 \", \"39235 \", \"469 \", \"TONS \", \"18401000\"], [1740, \"1987\", \"216299\", \"GRAPES WINE\", \"47\", \"Merced \", \"14370 \", \"8.36 \", \"120100 \", \"157 \", \"TONS \", \"18903000\"], [1741, \"1987\", \"216299\", \"GRAPES WINE\", \"53\", \"Monterey \", \"24815 \", \"4.00 \", \"99325 \", \"405 \", \"TONS \", \"40276000\"], [1742, \"1987\", \"216299\", \"GRAPES WINE\", \"55\", \"Napa \", \"28970 \", \"3.46 \", \"100180 \", \"820 \", \"TONS \", \"82162000\"], [1743, \"1987\", \"216299\", \"GRAPES WINE\", \"57\", \"Nevada \", \"  \", \"  \", \"238 \", \"465 \", \"TONS \", \"110700\"], [1744, \"1987\", \"216299\", \"GRAPES WINE\", \"61\", \"Placer \", \"125 \", \"2.13 \", \"266 \", \"395 \", \"TONS \", \"105000\"], [1745, \"1987\", \"216299\", \"GRAPES WINE\", \"65\", \"Riverside \", \"3148 \", \"3.94 \", \"12403 \", \"407 \", \"TONS \", \"5046700\"], [1746, \"1987\", \"216299\", \"GRAPES WINE\", \"67\", \"Sacramento \", \"4530 \", \"6.00 \", \"27200 \", \"300 \", \"TONS \", \"8160000\"], [1747, \"1987\", \"216299\", \"GRAPES WINE\", \"69\", \"San Benito \", \"1700 \", \"2.20 \", \"3740 \", \"455 \", \"TONS \", \"1701000\"], [1748, \"1987\", \"216299\", \"GRAPES WINE\", \"71\", \"San Bernardino \", \"3522 \", \"2.60 \", \"9140 \", \"190 \", \"TONS \", \"1741000\"], [1749, \"1987\", \"216299\", \"GRAPES WINE\", \"73\", \"San Diego \", \"90 \", \"1.50 \", \"135 \", \"240 \", \"TONS \", \"32400\"], [1750, \"1987\", \"216299\", \"GRAPES WINE\", \"77\", \"San Joaquin \", \"31400 \", \"6.78 \", \"213000 \", \"229 \", \"TONS \", \"48701000\"], [1751, \"1987\", \"216299\", \"GRAPES WINE\", \"79\", \"San Luis Obispo \", \"6459 \", \"4.12 \", \"26611 \", \"479 \", \"TONS \", \"12747000\"], [1752, \"1987\", \"216299\", \"GRAPES WINE\", \"83\", \"Santa Barbara \", \"8646 \", \"3.08 \", \"26630 \", \"527 \", \"TONS \", \"14021760\"], [1753, \"1987\", \"216299\", \"GRAPES WINE\", \"85\", \"Santa Clara \", \"1570 \", \"2.00 \", \"3140 \", \"415 \", \"TONS \", \"1303000\"], [1754, \"1987\", \"216299\", \"GRAPES WINE\", \"87\", \"Santa Cruz \", \"105 \", \"0.90 \", \"95 \", \"895 \", \"TONS \", \"85000\"], [1755, \"1987\", \"216299\", \"GRAPES WINE\", \"95\", \"Solano \", \"1138 \", \"3.17 \", \"3604 \", \"341 \", \"TONS \", \"1229800\"], [1756, \"1987\", \"216299\", \"GRAPES WINE\", \"97\", \"Sonoma \", \"28191 \", \"3.77 \", \"106205 \", \"636 \", \"TONS \", \"67567600\"], [1757, \"1987\", \"216299\", \"GRAPES WINE\", \"99\", \"Stanislaus \", \"16950 \", \"9.59 \", \"162550 \", \"142 \", \"TONS \", \"23160000\"], [1758, \"1987\", \"216299\", \"GRAPES WINE\", \"107\", \"Tulare \", \"13279 \", \"7.93 \", \"105250 \", \"127 \", \"TONS \", \"13411000\"], [1759, \"1987\", \"216299\", \"GRAPES WINE\", \"113\", \"Yolo \", \"1308 \", \"7.19 \", \"9404 \", \"237 \", \"TONS \", \"2229000\"], [1760, \"1987\", \"216299\", \"GRAPES WINE\", \"999\", \" State Totals\", \"312657 \", \"6.18 \", \"1932186 \", \"253 \", \"    \", \"488108030\"], [1768, \"1987\", \"181999\", \"HAY ALFALFA\", \"1\", \"Alameda \", \"1600 \", \"6.05 \", \"9680 \", \"88 \", \"TONS \", \"855000\"], [1769, \"1987\", \"181999\", \"HAY ALFALFA\", \"5\", \"Amador \", \"250 \", \"4.90 \", \"1225 \", \"75 \", \"TONS \", \"91900\"], [1770, \"1987\", \"181999\", \"HAY ALFALFA\", \"7\", \"Butte \", \"2900 \", \"7.40 \", \"21460 \", \"78 \", \"TONS \", \"1674000\"], [1771, \"1987\", \"181999\", \"HAY ALFALFA\", \"11\", \"Colusa \", \"7415 \", \"6.50 \", \"48200 \", \"74 \", \"TONS \", \"3550000\"], [1772, \"1987\", \"181999\", \"HAY ALFALFA\", \"13\", \"Contra Costa \", \"2170 \", \"7.00 \", \"15200 \", \"82 \", \"TONS \", \"1242000\"], [1773, \"1987\", \"181999\", \"HAY ALFALFA\", \"19\", \"Fresno \", \"80000 \", \"8.80 \", \"704000 \", \"87 \", \"TONS \", \"61248000\"], [1774, \"1987\", \"181999\", \"HAY ALFALFA\", \"21\", \"Glenn \", \"18150 \", \"6.50 \", \"117975 \", \"75 \", \"TONS \", \"8848000\"], [1775, \"1987\", \"181999\", \"HAY ALFALFA\", \"23\", \"Humboldt \", \"360 \", \"2.50 \", \"900 \", \"80 \", \"TONS \", \"72000\"], [1776, \"1987\", \"181999\", \"HAY ALFALFA\", \"25\", \"Imperial \", \"186627 \", \"8.75 \", \"1632986 \", \"79 \", \"TONS \", \"128425000\"], [1777, \"1987\", \"181999\", \"HAY ALFALFA\", \"27\", \"Inyo \", \"4400 \", \"6.00 \", \"26400 \", \"87 \", \"TONS \", \"2296800\"], [1778, \"1987\", \"181999\", \"HAY ALFALFA\", \"29\", \"Kern \", \"101363 \", \"7.66 \", \"776400 \", \"81 \", \"TONS \", \"62504000\"], [1779, \"1987\", \"181999\", \"HAY ALFALFA\", \"31\", \"Kings \", \"30161 \", \"6.20 \", \"186998 \", \"79 \", \"TONS \", \"14773000\"], [1780, \"1987\", \"181999\", \"HAY ALFALFA\", \"33\", \"Lake \", \"500 \", \"6.80 \", \"3400 \", \"95 \", \"TONS \", \"323000\"], [1781, \"1987\", \"181999\", \"HAY ALFALFA\", \"35\", \"Lassen \", \"31000 \", \"4.20 \", \"130200 \", \"73 \", \"TONS \", \"9505000\"], [1782, \"1987\", \"181999\", \"HAY ALFALFA\", \"37\", \"Los Angeles \", \"8895 \", \"7.98 \", \"71020 \", \"95 \", \"TONS \", \"6782400\"], [1783, \"1987\", \"181999\", \"HAY ALFALFA\", \"39\", \"Madera \", \"28000 \", \"7.50 \", \"210000 \", \"85 \", \"TONS \", \"17850000\"], [1784, \"1987\", \"181999\", \"HAY ALFALFA\", \"45\", \"Mendocino \", \"  \", \"  \", \"  \", \"  \", \"  \", \" \"], [1785, \"1987\", \"181999\", \"HAY ALFALFA\", \"47\", \"Merced \", \"69040 \", \"6.91 \", \"476800 \", \"93 \", \"TONS \", \"44552000\"], [1786, \"1987\", \"181999\", \"HAY ALFALFA\", \"49\", \"Modoc \", \"23750 \", \"3.79 \", \"89960 \", \"79 \", \"TONS \", \"7082000\"], [1787, \"1987\", \"181999\", \"HAY ALFALFA\", \"51\", \"Mono \", \"6800 \", \"6.00 \", \"40800 \", \"87 \", \"TONS \", \"3549600\"], [1788, \"1987\", \"181999\", \"HAY ALFALFA\", \"53\", \"Monterey \", \"5300 \", \"7.70 \", \"40800 \", \"90 \", \"TONS \", \"3672000\"], [1789, \"1987\", \"181999\", \"HAY ALFALFA\", \"61\", \"Placer \", \"  \", \"  \", \"  \", \"  \", \"  \", \" \"], [1790, \"1987\", \"181999\", \"HAY ALFALFA\", \"63\", \"Plumas \", \"5300 \", \"2.94 \", \"15600 \", \"81 \", \"TONS \", \"1262000\"], [1791, \"1987\", \"181999\", \"HAY ALFALFA\", \"65\", \"Riverside \", \"41600 \", \"8.28 \", \"344448 \", \"71 \", \"TONS \", \"24462700\"], [1792, \"1987\", \"181999\", \"HAY ALFALFA\", \"67\", \"Sacramento \", \"6350 \", \"8.00 \", \"50800 \", \"75 \", \"TONS \", \"3810000\"], [1793, \"1987\", \"181999\", \"HAY ALFALFA\", \"69\", \"San Benito \", \"3200 \", \"6.40 \", \"20480 \", \"95 \", \"TONS \", \"1945000\"], [1794, \"1987\", \"181999\", \"HAY ALFALFA\", \"71\", \"San Bernardino \", \"22568 \", \"7.22 \", \"163000 \", \"84 \", \"TONS \", \"13710000\"], [1795, \"1987\", \"181999\", \"HAY ALFALFA\", \"77\", \"San Joaquin \", \"54800 \", \"6.79 \", \"372000 \", \"80 \", \"TONS \", \"29749000\"], [1796, \"1987\", \"181999\", \"HAY ALFALFA\", \"79\", \"San Luis Obispo \", \"5263 \", \"6.50 \", \"34210 \", \"93 \", \"TONS \", \"3182000\"], [1797, \"1987\", \"181999\", \"HAY ALFALFA\", \"83\", \"Santa Barbara \", \"5055 \", \"6.39 \", \"32302 \", \"96 \", \"TONS \", \"3096147\"], [1798, \"1987\", \"181999\", \"HAY ALFALFA\", \"85\", \"Santa Clara \", \"1475 \", \"7.00 \", \"10325 \", \"105 \", \"TONS \", \"1084000\"], [1799, \"1987\", \"181999\", \"HAY ALFALFA\", \"89\", \"Shasta \", \"14310 \", \"5.00 \", \"71550 \", \"75 \", \"TONS \", \"5366250\"], [1800, \"1987\", \"181999\", \"HAY ALFALFA\", \"91\", \"Sierra \", \"1050 \", \"2.38 \", \"2500 \", \"76 \", \"TONS \", \"190000\"], [1801, \"1987\", \"181999\", \"HAY ALFALFA\", \"93\", \"Siskiyou \", \"73820 \", \"4.50 \", \"332190 \", \"80 \", \"TONS \", \"26575000\"], [1802, \"1987\", \"181999\", \"HAY ALFALFA\", \"95\", \"Solano \", \"11500 \", \"6.85 \", \"78775 \", \"73 \", \"TONS \", \"5750600\"], [1803, \"1987\", \"181999\", \"HAY ALFALFA\", \"97\", \"Sonoma \", \"  \", \"  \", \"  \", \"  \", \"  \", \" \"], [1804, \"1987\", \"181999\", \"HAY ALFALFA\", \"99\", \"Stanislaus \", \"26930 \", \"6.55 \", \"176390 \", \"78 \", \"TONS \", \"13776000\"], [1805, \"1987\", \"181999\", \"HAY ALFALFA\", \"101\", \"Sutter \", \"4120 \", \"6.50 \", \"26780 \", \"65 \", \"TONS \", \"1740700\"], [1806, \"1987\", \"181999\", \"HAY ALFALFA\", \"103\", \"Tehama \", \"4100 \", \"6.29 \", \"25800 \", \"75 \", \"TONS \", \"1935000\"], [1807, \"1987\", \"181999\", \"HAY ALFALFA\", \"105\", \"Trinity \", \"17 \", \"3.00 \", \"51 \", \"80 \", \"TONS \", \"4100\"], [1808, \"1987\", \"181999\", \"HAY ALFALFA\", \"107\", \"Tulare \", \"100000 \", \"8.33 \", \"833000 \", \"76 \", \"TONS \", \"63058000\"], [1809, \"1987\", \"181999\", \"HAY ALFALFA\", \"111\", \"Ventura \", \"880 \", \"7.00 \", \"6160 \", \"90 \", \"TONS \", \"554000\"], [1810, \"1987\", \"181999\", \"HAY ALFALFA\", \"113\", \"Yolo \", \"30300 \", \"6.00 \", \"181800 \", \"74 \", \"TONS \", \"13453000\"], [1811, \"1987\", \"181999\", \"HAY ALFALFA\", \"115\", \"Yuba \", \"926 \", \"6.20 \", \"5741 \", \"75 \", \"TONS \", \"430600\"], [1812, \"1987\", \"181999\", \"HAY ALFALFA\", \"999\", \" State Totals\", \"1022245 \", \"7.23 \", \"7388306 \", \"80 \", \"    \", \"594029797\"], [1813, \"1987\", \"188499\", \"HAY GRAIN\", \"1\", \"Alameda \", \"6100 \", \"1.00 \", \"6100 \", \"70 \", \"TONS \", \"427000\"], [1814, \"1987\", \"188499\", \"HAY GRAIN\", \"5\", \"Amador \", \"1017 \", \"1.90 \", \"1932 \", \"55 \", \"TONS \", \"106300\"], [1815, \"1987\", \"188499\", \"HAY GRAIN\", \"7\", \"Butte \", \"3500 \", \"2.50 \", \"8750 \", \"59 \", \"TONS \", \"516000\"], [1816, \"1987\", \"188499\", \"HAY GRAIN\", \"9\", \"Calaveras \", \"450 \", \"1.00 \", \"450 \", \"70 \", \"TONS \", \"31500\"], [1817, \"1987\", \"188499\", \"HAY GRAIN\", \"11\", \"Colusa \", \"3650 \", \"2.10 \", \"7665 \", \"45 \", \"TONS \", \"345000\"], [1818, \"1987\", \"188499\", \"HAY GRAIN\", \"13\", \"Contra Costa \", \"1180 \", \"1.92 \", \"2270 \", \"68 \", \"TONS \", \"154000\"], [1819, \"1987\", \"188499\", \"HAY GRAIN\", \"15\", \"Del Norte \", \"600 \", \"2.90 \", \"1740 \", \"90 \", \"TONS \", \"156600\"], [1820, \"1987\", \"188499\", \"HAY GRAIN\", \"17\", \"El Dorado \", \"650 \", \"1.50 \", \"975 \", \"72 \", \"TONS \", \"70200\"], [1821, \"1987\", \"188499\", \"HAY GRAIN\", \"19\", \"Fresno \", \"30600 \", \"1.14 \", \"34900 \", \"73 \", \"TONS \", \"2548000\"], [1822, \"1987\", \"188499\", \"HAY GRAIN\", \"23\", \"Humboldt \", \"150 \", \"1.70 \", \"255 \", \"78 \", \"TONS \", \"20000\"], [1823, \"1987\", \"188499\", \"HAY GRAIN\", \"25\", \"Imperial \", \"  \", \"  \", \"  \", \"  \", \"  \", \" \"], [1824, \"1987\", \"188499\", \"HAY GRAIN\", \"29\", \"Kern \", \"15000 \", \"3.40 \", \"51000 \", \"55 \", \"TONS \", \"2805000\"], [1825, \"1987\", \"188499\", \"HAY GRAIN\", \"31\", \"Kings \", \"2973 \", \"3.40 \", \"10108 \", \"55 \", \"TONS \", \"556000\"], [1826, \"1987\", \"188499\", \"HAY GRAIN\", \"35\", \"Lassen \", \"9100 \", \"2.20 \", \"20020 \", \"61 \", \"TONS \", \"1221000\"], [1827, \"1987\", \"188499\", \"HAY GRAIN\", \"37\", \"Los Angeles \", \"1290 \", \"2.19 \", \"2826 \", \"63 \", \"TONS \", \"178000\"], [1828, \"1987\", \"188499\", \"HAY GRAIN\", \"39\", \"Madera \", \"1800 \", \"3.63 \", \"6534 \", \"56 \", \"TONS \", \"366000\"], [1829, \"1987\", \"188499\", \"HAY GRAIN\", \"43\", \"Mariposa \", \"  \", \"  \", \"  \", \"  \", \"  \", \" \"], [1830, \"1987\", \"188499\", \"HAY GRAIN\", \"47\", \"Merced \", \"12700 \", \"3.61 \", \"45900 \", \"52 \", \"TONS \", \"2368000\"], [1831, \"1987\", \"188499\", \"HAY GRAIN\", \"49\", \"Modoc \", \"8600 \", \"2.00 \", \"17200 \", \"55 \", \"TONS \", \"946000\"], [1832, \"1987\", \"188499\", \"HAY GRAIN\", \"53\", \"Monterey \", \"3000 \", \"2.20 \", \"6600 \", \"58 \", \"TONS \", \"383200\"], [1833, \"1987\", \"188499\", \"HAY GRAIN\", \"61\", \"Placer \", \"3500 \", \"2.74 \", \"9600 \", \"60 \", \"TONS \", \"576000\"], [1834, \"1987\", \"188499\", \"HAY GRAIN\", \"63\", \"Plumas \", \"2500 \", \"2.80 \", \"7000 \", \"72 \", \"TONS \", \"506000\"], [1835, \"1987\", \"188499\", \"HAY GRAIN\", \"65\", \"Riverside \", \"6960 \", \"1.00 \", \"6939 \", \"73 \", \"TONS \", \"507300\"], [1836, \"1987\", \"188499\", \"HAY GRAIN\", \"67\", \"Sacramento \", \"7800 \", \"2.50 \", \"19500 \", \"50 \", \"TONS \", \"975000\"], [1837, \"1987\", \"188499\", \"HAY GRAIN\", \"69\", \"San Benito \", \"27000 \", \"1.91 \", \"51570 \", \"60 \", \"TONS \", \"3094000\"], [1838, \"1987\", \"188499\", \"HAY GRAIN\", \"71\", \"San Bernardino \", \"2340 \", \"2.23 \", \"5220 \", \"66 \", \"TONS \", \"344000\"], [1839, \"1987\", \"188499\", \"HAY GRAIN\", \"73\", \"San Diego \", \"3600 \", \"1.80 \", \"6480 \", \"85 \", \"TONS \", \"550800\"], [1840, \"1987\", \"188499\", \"HAY GRAIN\", \"79\", \"San Luis Obispo \", \"36000 \", \"2.00 \", \"72000 \", \"68 \", \"TONS \", \"4896000\"], [1841, \"1987\", \"188499\", \"HAY GRAIN\", \"81\", \"San Mateo \", \"2000 \", \"3.00 \", \"6000 \", \"76 \", \"TONS \", \"456000\"], [1842, \"1987\", \"188499\", \"HAY GRAIN\", \"83\", \"Santa Barbara \", \"7174 \", \"2.32 \", \"16644 \", \"75 \", \"TONS \", \"1255956\"], [1843, \"1987\", \"188499\", \"HAY GRAIN\", \"85\", \"Santa Clara \", \"13220 \", \"1.50 \", \"19830 \", \"73 \", \"TONS \", \"1448000\"], [1844, \"1987\", \"188499\", \"HAY GRAIN\", \"91\", \"Sierra \", \"1200 \", \"1.63 \", \"1950 \", \"69 \", \"TONS \", \"134500\"], [1845, \"1987\", \"188499\", \"HAY GRAIN\", \"95\", \"Solano \", \"5800 \", \"2.50 \", \"14500 \", \"55 \", \"TONS \", \"797500\"], [1846, \"1987\", \"188499\", \"HAY GRAIN\", \"97\", \"Sonoma \", \"19348 \", \"2.36 \", \"45648 \", \"59 \", \"TONS \", \"2693200\"], [1847, \"1987\", \"188499\", \"HAY GRAIN\", \"99\", \"Stanislaus \", \"16500 \", \"3.45 \", \"56930 \", \"52 \", \"TONS \", \"2960000\"], [1848, \"1987\", \"188499\", \"HAY GRAIN\", \"101\", \"Sutter \", \"6909 \", \"2.50 \", \"17273 \", \"45 \", \"TONS \", \"777300\"], [1849, \"1987\", \"188499\", \"HAY GRAIN\", \"103\", \"Tehama \", \"3000 \", \"1.80 \", \"5400 \", \"55 \", \"TONS \", \"297000\"], [1850, \"1987\", \"188499\", \"HAY GRAIN\", \"107\", \"Tulare \", \"1600 \", \"3.12 \", \"4990 \", \"50 \", \"TONS \", \"250000\"], [1851, \"1987\", \"188499\", \"HAY GRAIN\", \"109\", \"Tuolumne \", \"185 \", \"1.51 \", \"280 \", \"71 \", \"TONS \", \"20000\"], [1852, \"1987\", \"188499\", \"HAY GRAIN\", \"113\", \"Yolo \", \"11000 \", \"2.08 \", \"22875 \", \"42 \", \"TONS \", \"951000\"], [1853, \"1987\", \"188499\", \"HAY GRAIN\", \"999\", \" State Totals\", \"279996 \", \"2.20 \", \"615854 \", \"60 \", \"    \", \"36687356\"], [1854, \"1987\", \"195299\", \"HAY GREEN CHOP\", \"55\", \"Napa \", \"  \", \"  \", \"  \", \"  \", \"  \", \" \"], [1855, \"1987\", \"195299\", \"HAY GREEN CHOP\", \"65\", \"Riverside \", \"11435 \", \"31.11 \", \"355705 \", \"34 \", \"TONS \", \"11927700\"], [1856, \"1987\", \"195299\", \"HAY GREEN CHOP\", \"69\", \"San Benito \", \"1810 \", \"11.10 \", \"20091 \", \"13 \", \"TONS \", \"261000\"], [1857, \"1987\", \"195299\", \"HAY GREEN CHOP\", \"71\", \"San Bernardino \", \"5125 \", \"23.14 \", \"118600 \", \"16 \", \"TONS \", \"1884000\"], [1858, \"1987\", \"195299\", \"HAY GREEN CHOP\", \"73\", \"San Diego \", \"179 \", \"26.00 \", \"4654 \", \"19 \", \"TONS \", \"86099\"], [1859, \"1987\", \"195299\", \"HAY GREEN CHOP\", \"77\", \"San Joaquin \", \"  \", \"  \", \"  \", \"  \", \"  \", \" \"], [1860, \"1987\", \"195299\", \"HAY GREEN CHOP\", \"97\", \"Sonoma \", \"714 \", \"17.68 \", \"12624 \", \"25 \", \"TONS \", \"309300\"], [1861, \"1987\", \"195299\", \"HAY GREEN CHOP\", \"999\", \" State Totals\", \"19263 \", \"26.56 \", \"511674 \", \"28 \", \"    \", \"14468099\"], [1862, \"1987\", \"188999\", \"HAY OTHER UNSPECIFIED\", \"5\", \"Amador \", \"1390 \", \"0.80 \", \"1112 \", \"50 \", \"TONS \", \"55600\"], [1863, \"1987\", \"188999\", \"HAY OTHER UNSPECIFIED\", \"9\", \"Calaveras \", \"90 \", \"1.67 \", \"150 \", \"100 \", \"TONS \", \"15000\"], [1864, \"1987\", \"188999\", \"HAY OTHER UNSPECIFIED\", \"13\", \"Contra Costa \", \"  \", \"  \", \"  \", \"  \", \"  \", \" \"], [1865, \"1987\", \"188999\", \"HAY OTHER UNSPECIFIED\", \"15\", \"Del Norte \", \"1775 \", \"2.40 \", \"4260 \", \"65 \", \"TONS \", \"276900\"], [1866, \"1987\", \"188999\", \"HAY OTHER UNSPECIFIED\", \"21\", \"Glenn \", \"1250 \", \"2.50 \", \"3125 \", \"45 \", \"TONS \", \"141000\"], [1867, \"1987\", \"188999\", \"HAY OTHER UNSPECIFIED\", \"23\", \"Humboldt \", \"1700 \", \"2.10 \", \"3570 \", \"58 \", \"TONS \", \"207000\"], [1868, \"1987\", \"188999\", \"HAY OTHER UNSPECIFIED\", \"25\", \"Imperial \", \"24914 \", \"6.84 \", \"170467 \", \"70 \", \"TONS \", \"11933000\"], [1869, \"1987\", \"188999\", \"HAY OTHER UNSPECIFIED\", \"27\", \"Inyo \", \"600 \", \"3.50 \", \"2100 \", \"68 \", \"TONS \", \"142800\"], [1870, \"1987\", \"188999\", \"HAY OTHER UNSPECIFIED\", \"29\", \"Kern \", \"10000 \", \"4.00 \", \"40000 \", \"48 \", \"TONS \", \"1920000\"], [1871, \"1987\", \"188999\", \"HAY OTHER UNSPECIFIED\", \"33\", \"Lake \", \"5850 \", \"2.65 \", \"15503 \", \"70 \", \"TONS \", \"1085175\"], [1872, \"1987\", \"188999\", \"HAY OTHER UNSPECIFIED\", \"35\", \"Lassen \", \"30000 \", \"2.00 \", \"60000 \", \"60 \", \"TONS \", \"3600000\"], [1873, \"1987\", \"188999\", \"HAY OTHER UNSPECIFIED\", \"41\", \"Marin \", \"1500 \", \"2.13 \", \"3188 \", \"64 \", \"TONS \", \"204415\"], [1874, \"1987\", \"188999\", \"HAY OTHER UNSPECIFIED\", \"43\", \"Mariposa \", \"  \", \"  \", \"  \", \"  \", \"  \", \" \"], [1875, \"1987\", \"188999\", \"HAY OTHER UNSPECIFIED\", \"45\", \"Mendocino \", \"  \", \"  \", \"  \", \"  \", \"  \", \" \"], [1876, \"1987\", \"188999\", \"HAY OTHER UNSPECIFIED\", \"47\", \"Merced \", \"768 \", \"2.40 \", \"1840 \", \"65 \", \"TONS \", \"120000\"], [1877, \"1987\", \"188999\", \"HAY OTHER UNSPECIFIED\", \"49\", \"Modoc \", \"27600 \", \"2.20 \", \"60750 \", \"50 \", \"TONS \", \"3037500\"], [1878, \"1987\", \"188999\", \"HAY OTHER UNSPECIFIED\", \"51\", \"Mono \", \"1400 \", \"3.00 \", \"4200 \", \"68 \", \"TONS \", \"285600\"], [1879, \"1987\", \"188999\", \"HAY OTHER UNSPECIFIED\", \"55\", \"Napa \", \"7100 \", \"2.11 \", \"15000 \", \"60 \", \"TONS \", \"903000\"], [1880, \"1987\", \"188999\", \"HAY OTHER UNSPECIFIED\", \"61\", \"Placer \", \"3000 \", \"3.00 \", \"9000 \", \"55 \", \"TONS \", \"495000\"], [1881, \"1987\", \"188999\", \"HAY OTHER UNSPECIFIED\", \"67\", \"Sacramento \", \"8900 \", \"1.00 \", \"8900 \", \"40 \", \"TONS \", \"356000\"], [1882, \"1987\", \"188999\", \"HAY OTHER UNSPECIFIED\", \"69\", \"San Benito \", \"  \", \"  \", \"  \", \"  \", \"  \", \" \"], [1883, \"1987\", \"188999\", \"HAY OTHER UNSPECIFIED\", \"71\", \"San Bernardino \", \"2970 \", \"24.95 \", \"74100 \", \"14 \", \"TONS \", \"1034000\"], [1884, \"1987\", \"188999\", \"HAY OTHER UNSPECIFIED\", \"77\", \"San Joaquin \", \"10300 \", \"3.63 \", \"37400 \", \"48 \", \"TONS \", \"1801000\"], [1885, \"1987\", \"188999\", \"HAY OTHER UNSPECIFIED\", \"79\", \"San Luis Obispo \", \"  \", \"  \", \"  \", \"  \", \"  \", \" \"], [1886, \"1987\", \"188999\", \"HAY OTHER UNSPECIFIED\", \"83\", \"Santa Barbara \", \"  \", \"  \", \"  \", \"  \", \"  \", \" \"], [1887, \"1987\", \"188999\", \"HAY OTHER UNSPECIFIED\", \"87\", \"Santa Cruz \", \"  \", \"  \", \"  \", \"  \", \"  \", \" \"], [1888, \"1987\", \"188999\", \"HAY OTHER UNSPECIFIED\", \"89\", \"Shasta \", \"20000 \", \"3.00 \", \"60000 \", \"65 \", \"TONS \", \"3900000\"], [1889, \"1987\", \"188999\", \"HAY OTHER UNSPECIFIED\", \"93\", \"Siskiyou \", \"30271 \", \"4.00 \", \"121084 \", \"50 \", \"TONS \", \"6054000\"], [1890, \"1987\", \"188999\", \"HAY OTHER UNSPECIFIED\", \"97\", \"Sonoma \", \"  \", \"  \", \"  \", \"  \", \"  \", \" \"], [1891, \"1987\", \"188999\", \"HAY OTHER UNSPECIFIED\", \"99\", \"Stanislaus \", \"2754 \", \"1.93 \", \"5310 \", \"45 \", \"TONS \", \"237000\"], [1892, \"1987\", \"188999\", \"HAY OTHER UNSPECIFIED\", \"101\", \"Sutter \", \"2899 \", \"1.00 \", \"2899 \", \"20 \", \"TONS \", \"58000\"], [1893, \"1987\", \"188999\", \"HAY OTHER UNSPECIFIED\", \"103\", \"Tehama \", \"2800 \", \"2.20 \", \"6160 \", \"55 \", \"TONS \", \"339000\"], [1894, \"1987\", \"188999\", \"HAY OTHER UNSPECIFIED\", \"105\", \"Trinity \", \"140 \", \"1.25 \", \"175 \", \"70 \", \"TONS \", \"12300\"], [1895, \"1987\", \"188999\", \"HAY OTHER UNSPECIFIED\", \"109\", \"Tuolumne \", \"108 \", \"2.00 \", \"216 \", \"60 \", \"TONS \", \"13000\"], [1896, \"1987\", \"188999\", \"HAY OTHER UNSPECIFIED\", \"111\", \"Ventura \", \"4000 \", \"0.40 \", \"1600 \", \"50 \", \"TONS \", \"80000\"], [1897, \"1987\", \"188999\", \"HAY OTHER UNSPECIFIED\", \"115\", \"Yuba \", \"2328 \", \"2.50 \", \"5820 \", \"55 \", \"TONS \", \"320100\"], [1898, \"1987\", \"188999\", \"HAY OTHER UNSPECIFIED\", \"999\", \" State Totals\", \"206407 \", \"3.48 \", \"717929 \", \"54 \", \"    \", \"38626390\"], [1899, \"1987\", \"188799\", \"HAY WILD\", \"7\", \"Butte \", \"4000 \", \"1.00 \", \"4000 \", \"37 \", \"TONS \", \"148000\"], [1900, \"1987\", \"188799\", \"HAY WILD\", \"9\", \"Calaveras \", \"300 \", \"0.67 \", \"200 \", \"50 \", \"TONS \", \"10000\"], [1901, \"1987\", \"188799\", \"HAY WILD\", \"13\", \"Contra Costa \", \"846 \", \"1.12 \", \"948 \", \"52 \", \"TONS \", \"49700\"], [1902, \"1987\", \"188799\", \"HAY WILD\", \"23\", \"Humboldt \", \"500 \", \"2.00 \", \"1000 \", \"51 \", \"TONS \", \"51000\"], [1903, \"1987\", \"188799\", \"HAY WILD\", \"43\", \"Mariposa \", \"  \", \"  \", \"  \", \"  \", \"  \", \" \"], [1904, \"1987\", \"188799\", \"HAY WILD\", \"63\", \"Plumas \", \"8300 \", \"1.29 \", \"10700 \", \"70 \", \"TONS \", \"749000\"], [1905, \"1987\", \"188799\", \"HAY WILD\", \"65\", \"Riverside \", \"4532 \", \"5.21 \", \"23618 \", \"64 \", \"TONS \", \"1510800\"], [1906, \"1987\", \"188799\", \"HAY WILD\", \"81\", \"San Mateo \", \"300 \", \"2.50 \", \"750 \", \"60 \", \"TONS \", \"45000\"], [1907, \"1987\", \"188799\", \"HAY WILD\", \"91\", \"Sierra \", \"3700 \", \"1.14 \", \"4200 \", \"68 \", \"TONS \", \"285000\"], [1908, \"1987\", \"188799\", \"HAY WILD\", \"95\", \"Solano \", \"3800 \", \"2.00 \", \"7600 \", \"35 \", \"TONS \", \"266000\"], [1909, \"1987\", \"188799\", \"HAY WILD\", \"97\", \"Sonoma \", \"2000 \", \"2.00 \", \"4000 \", \"39 \", \"TONS \", \"155700\"], [1910, \"1987\", \"188799\", \"HAY WILD\", \"999\", \" State Totals\", \"28278 \", \"2.02 \", \"57016 \", \"57 \", \"    \", \"3270200\"], [2065, \"1987\", \"340999\", \"LETTUCE HEAD\", \"19\", \"Fresno \", \"17810 \", \"14.65 \", \"260900 \", \"314 \", \"TONS \", \"81937000\"], [2066, \"1987\", \"340999\", \"LETTUCE HEAD\", \"25\", \"Imperial \", \"28986 \", \"11.61 \", \"336504 \", \"229 \", \"TONS \", \"76992000\"], [2067, \"1987\", \"340999\", \"LETTUCE HEAD\", \"29\", \"Kern \", \"5628 \", \"14.94 \", \"84100 \", \"423 \", \"TONS \", \"35556000\"], [2068, \"1987\", \"340999\", \"LETTUCE HEAD\", \"31\", \"Kings \", \"  \", \"  \", \"  \", \"  \", \"  \", \" \"], [2069, \"1987\", \"340999\", \"LETTUCE HEAD\", \"53\", \"Monterey \", \"68200 \", \"18.43 \", \"1257225 \", \"252 \", \"TONS \", \"317359000\"], [2070, \"1987\", \"340999\", \"LETTUCE HEAD\", \"59\", \"Orange \", \"  \", \"  \", \"  \", \"  \", \"  \", \" \"], [2071, \"1987\", \"340999\", \"LETTUCE HEAD\", \"65\", \"Riverside \", \"12752 \", \"13.68 \", \"174463 \", \"193 \", \"TONS \", \"33586400\"], [2072, \"1987\", \"340999\", \"LETTUCE HEAD\", \"69\", \"San Benito \", \"1000 \", \"15.40 \", \"15400 \", \"200 \", \"TONS \", \"3080000\"], [2073, \"1987\", \"340999\", \"LETTUCE HEAD\", \"79\", \"San Luis Obispo \", \"7856 \", \"17.30 \", \"135909 \", \"268 \", \"TONS \", \"36478000\"], [2074, \"1987\", \"340999\", \"LETTUCE HEAD\", \"83\", \"Santa Barbara \", \"7573 \", \"17.74 \", \"134370 \", \"233 \", \"TONS \", \"31281249\"], [2075, \"1987\", \"340999\", \"LETTUCE HEAD\", \"87\", \"Santa Cruz \", \"3448 \", \"18.75 \", \"64650 \", \"232 \", \"TONS \", \"14999000\"], [2076, \"1987\", \"340999\", \"LETTUCE HEAD\", \"99\", \"Stanislaus \", \"  \", \"  \", \"  \", \"  \", \"  \", \" \"], [2077, \"1987\", \"340999\", \"LETTUCE HEAD\", \"111\", \"Ventura \", \"1692 \", \"13.97 \", \"23644 \", \"239 \", \"TONS \", \"5656000\"], [2078, \"1987\", \"340999\", \"LETTUCE HEAD\", \"999\", \" State Totals\", \"154945 \", \"16.05 \", \"2487165 \", \"256 \", \"    \", \"636924649\"], [2079, \"1987\", \"342999\", \"LETTUCE LEAF\", \"13\", \"Contra Costa \", \"  \", \"  \", \"  \", \"  \", \"  \", \" \"], [2080, \"1987\", \"342999\", \"LETTUCE LEAF\", \"19\", \"Fresno \", \"  \", \"  \", \"  \", \"  \", \"  \", \" \"], [2081, \"1987\", \"342999\", \"LETTUCE LEAF\", \"53\", \"Monterey \", \"7238 \", \"12.11 \", \"87665 \", \"358 \", \"TONS \", \"31399000\"], [2082, \"1987\", \"342999\", \"LETTUCE LEAF\", \"59\", \"Orange \", \"  \", \"  \", \"  \", \"  \", \"  \", \" \"], [2083, \"1987\", \"342999\", \"LETTUCE LEAF\", \"65\", \"Riverside \", \"2002 \", \"8.27 \", \"16561 \", \"374 \", \"TONS \", \"6187600\"], [2084, \"1987\", \"342999\", \"LETTUCE LEAF\", \"69\", \"San Benito \", \"550 \", \"11.10 \", \"6105 \", \"363 \", \"TONS \", \"2216000\"], [2085, \"1987\", \"342999\", \"LETTUCE LEAF\", \"71\", \"San Bernardino \", \"35 \", \"8.51 \", \"298 \", \"270 \", \"TONS \", \"80400\"], [2086, \"1987\", \"342999\", \"LETTUCE LEAF\", \"73\", \"San Diego \", \"  \", \"  \", \"  \", \"  \", \"  \", \" \"], [2087, \"1987\", \"342999\", \"LETTUCE LEAF\", \"79\", \"San Luis Obispo \", \"960 \", \"21.58 \", \"20712 \", \"234 \", \"TONS \", \"4855000\"], [2088, \"1987\", \"342999\", \"LETTUCE LEAF\", \"83\", \"Santa Barbara \", \"965 \", \"9.35 \", \"9022 \", \"416 \", \"TONS \", \"3753504\"], [2089, \"1987\", \"342999\", \"LETTUCE LEAF\", \"85\", \"Santa Clara \", \"1000 \", \"13.00 \", \"13000 \", \"295 \", \"TONS \", \"3835000\"], [2090, \"1987\", \"342999\", \"LETTUCE LEAF\", \"87\", \"Santa Cruz \", \"  \", \"  \", \"  \", \"  \", \"  \", \" \"], [2091, \"1987\", \"342999\", \"LETTUCE LEAF\", \"111\", \"Ventura \", \"2860 \", \"7.25 \", \"20732 \", \"434 \", \"TONS \", \"9003000\"], [2092, \"1987\", \"342999\", \"LETTUCE LEAF\", \"999\", \" State Totals\", \"15610 \", \"11.15 \", \"174095 \", \"352 \", \"    \", \"61329504\"], [2093, \"1987\", \"341999\", \"LETTUCE ROMAINE\", \"19\", \"Fresno \", \"  \", \"  \", \"  \", \"  \", \"  \", \" \"], [2094, \"1987\", \"341999\", \"LETTUCE ROMAINE\", \"53\", \"Monterey \", \"3795 \", \"11.87 \", \"45029 \", \"335 \", \"TONS \", \"15091000\"], [2095, \"1987\", \"341999\", \"LETTUCE ROMAINE\", \"59\", \"Orange \", \"  \", \"  \", \"  \", \"  \", \"  \", \" \"], [2096, \"1987\", \"341999\", \"LETTUCE ROMAINE\", \"65\", \"Riverside \", \"1266 \", \"13.18 \", \"16683 \", \"241 \", \"TONS \", \"4013400\"], [2097, \"1987\", \"341999\", \"LETTUCE ROMAINE\", \"71\", \"San Bernardino \", \"  \", \"  \", \"  \", \"  \", \"  \", \" \"], [2098, \"1987\", \"341999\", \"LETTUCE ROMAINE\", \"111\", \"Ventura \", \"1838 \", \"11.20 \", \"20590 \", \"276 \", \"TONS \", \"5674000\"], [2099, \"1987\", \"341999\", \"LETTUCE ROMAINE\", \"999\", \" State Totals\", \"6899 \", \"11.93 \", \"82302 \", \"301 \", \"    \", \"24778400\"], [2100, \"1987\", \"339999\", \"LETTUCE UNSPECIFIED\", \"1\", \"Alameda \", \"  \", \"  \", \"  \", \"  \", \"  \", \" \"], [2101, \"1987\", \"339999\", \"LETTUCE UNSPECIFIED\", \"23\", \"Humboldt \", \"  \", \"  \", \"  \", \"  \", \"  \", \" \"], [2102, \"1987\", \"339999\", \"LETTUCE UNSPECIFIED\", \"25\", \"Imperial \", \"31466 \", \"1.50 \", \"47179 \", \"257 \", \"TONS \", \"12115000\"], [2103, \"1987\", \"339999\", \"LETTUCE UNSPECIFIED\", \"53\", \"Monterey \", \"  \", \"  \", \"57225 \", \"232 \", \"TONS \", \"13299000\"], [2104, \"1987\", \"339999\", \"LETTUCE UNSPECIFIED\", \"59\", \"Orange \", \"589 \", \"8.67 \", \"5105 \", \"326 \", \"TONS \", \"1663900\"], [2105, \"1987\", \"339999\", \"LETTUCE UNSPECIFIED\", \"67\", \"Sacramento \", \"70 \", \"5.00 \", \"350 \", \"460 \", \"TONS \", \"161000\"], [2106, \"1987\", \"339999\", \"LETTUCE UNSPECIFIED\", \"81\", \"San Mateo \", \"85 \", \"5.29 \", \"450 \", \"580 \", \"TONS \", \"261000\"], [2107, \"1987\", \"339999\", \"LETTUCE UNSPECIFIED\", \"107\", \"Tulare \", \"  \", \"  \", \"  \", \"  \", \"  \", \" \"], [2108, \"1987\", \"339999\", \"LETTUCE UNSPECIFIED\", \"113\", \"Yolo \", \"  \", \"  \", \"  \", \"  \", \"  \", \" \"], [2109, \"1987\", \"339999\", \"LETTUCE UNSPECIFIED\", \"999\", \" State Totals\", \"32210 \", \"1.65 \", \"110309 \", \"249 \", \"    \", \"27499900\"], [2686, \"1987\", \"201119\", \"ORANGES NAVEL\", \"19\", \"Fresno \", \"15442 \", \"11.85 \", \"183000 \", \"302 \", \"TONS \", \"55260000\"], [2687, \"1987\", \"201119\", \"ORANGES NAVEL\", \"25\", \"Imperial \", \"57 \", \"7.54 \", \"430 \", \"388 \", \"TONS \", \"167000\"], [2688, \"1987\", \"201119\", \"ORANGES NAVEL\", \"29\", \"Kern \", \"17205 \", \"10.11 \", \"174000 \", \"388 \", \"TONS \", \"67521000\"], [2689, \"1987\", \"201119\", \"ORANGES NAVEL\", \"59\", \"Orange \", \"64 \", \"5.94 \", \"380 \", \"256 \", \"TONS \", \"97200\"], [2690, \"1987\", \"201119\", \"ORANGES NAVEL\", \"61\", \"Placer \", \"  \", \"  \", \"  \", \"  \", \"  \", \" \"], [2691, \"1987\", \"201119\", \"ORANGES NAVEL\", \"65\", \"Riverside \", \"8174 \", \"6.67 \", \"54561 \", \"400 \", \"TONS \", \"21824600\"], [2692, \"1987\", \"201119\", \"ORANGES NAVEL\", \"71\", \"San Bernardino \", \"3260 \", \"12.96 \", \"42244 \", \"236 \", \"TONS \", \"9989000\"], [2693, \"1987\", \"201119\", \"ORANGES NAVEL\", \"73\", \"San Diego \", \"1136 \", \"13.88 \", \"15772 \", \"285 \", \"TONS \", \"4495084\"], [2694, \"1987\", \"201119\", \"ORANGES NAVEL\", \"79\", \"San Luis Obispo \", \"  \", \"  \", \"  \", \"  \", \"  \", \" \"], [2695, \"1987\", \"201119\", \"ORANGES NAVEL\", \"107\", \"Tulare \", \"54981 \", \"12.08 \", \"664000 \", \"371 \", \"TONS \", \"246192000\"], [2696, \"1987\", \"201119\", \"ORANGES NAVEL\", \"111\", \"Ventura \", \"1328 \", \"10.79 \", \"14335 \", \"210 \", \"TONS \", \"3010000\"], [2697, \"1987\", \"201119\", \"ORANGES NAVEL\", \"999\", \" State Totals\", \"101647 \", \"11.30 \", \"1148722 \", \"356 \", \"    \", \"408555884\"], [2698, \"1987\", \"201999\", \"ORANGES UNSPECIFIED\", \"7\", \"Butte \", \"236 \", \"10.20 \", \"2408 \", \"360 \", \"TONS \", \"867000\"], [2699, \"1987\", \"201999\", \"ORANGES UNSPECIFIED\", \"39\", \"Madera \", \"3779 \", \"11.09 \", \"41909 \", \"230 \", \"TONS \", \"9639000\"], [2700, \"1987\", \"201999\", \"ORANGES UNSPECIFIED\", \"53\", \"Monterey \", \"  \", \"  \", \"  \", \"  \", \"  \", \" \"], [2701, \"1987\", \"201999\", \"ORANGES UNSPECIFIED\", \"71\", \"San Bernardino \", \"115 \", \"2.37 \", \"272 \", \"129 \", \"TONS \", \"35000\"], [2702, \"1987\", \"201999\", \"ORANGES UNSPECIFIED\", \"83\", \"Santa Barbara \", \"  \", \"  \", \"  \", \"  \", \"  \", \" \"], [2703, \"1987\", \"201999\", \"ORANGES UNSPECIFIED\", \"95\", \"Solano \", \"  \", \"  \", \"  \", \"  \", \"  \", \" \"], [2704, \"1987\", \"201999\", \"ORANGES UNSPECIFIED\", \"101\", \"Sutter \", \"  \", \"  \", \"  \", \"  \", \"  \", \" \"], [2705, \"1987\", \"201999\", \"ORANGES UNSPECIFIED\", \"103\", \"Tehama \", \"  \", \"  \", \"  \", \"  \", \"  \", \" \"], [2706, \"1987\", \"201999\", \"ORANGES UNSPECIFIED\", \"113\", \"Yolo \", \"  \", \"  \", \"  \", \"  \", \"  \", \" \"], [2707, \"1987\", \"201999\", \"ORANGES UNSPECIFIED\", \"999\", \" State Totals\", \"4130 \", \"10.80 \", \"44589 \", \"236 \", \"    \", \"10541000\"], [2708, \"1987\", \"201519\", \"ORANGES VALENCIA\", \"19\", \"Fresno \", \"3531 \", \"13.71 \", \"48400 \", \"360 \", \"TONS \", \"17424000\"], [2709, \"1987\", \"201519\", \"ORANGES VALENCIA\", \"25\", \"Imperial \", \"575 \", \"7.56 \", \"4349 \", \"389 \", \"TONS \", \"1692000\"], [2710, \"1987\", \"201519\", \"ORANGES VALENCIA\", \"29\", \"Kern \", \"4856 \", \"11.66 \", \"56600 \", \"460 \", \"TONS \", \"26036000\"], [2711, \"1987\", \"201519\", \"ORANGES VALENCIA\", \"59\", \"Orange \", \"4053 \", \"17.79 \", \"72103 \", \"211 \", \"TONS \", \"15180600\"], [2712, \"1987\", \"201519\", \"ORANGES VALENCIA\", \"65\", \"Riverside \", \"6829 \", \"7.39 \", \"50449 \", \"429 \", \"TONS \", \"21659500\"], [2713, \"1987\", \"201519\", \"ORANGES VALENCIA\", \"71\", \"San Bernardino \", \"2690 \", \"11.06 \", \"29756 \", \"242 \", \"TONS \", \"7202000\"], [2714, \"1987\", \"201519\", \"ORANGES VALENCIA\", \"73\", \"San Diego \", \"7644 \", \"9.70 \", \"74162 \", \"275 \", \"TONS \", \"20394574\"], [2715, \"1987\", \"201519\", \"ORANGES VALENCIA\", \"79\", \"San Luis Obispo \", \"68 \", \"20.00 \", \"1360 \", \"252 \", \"TONS \", \"343000\"], [2716, \"1987\", \"201519\", \"ORANGES VALENCIA\", \"107\", \"Tulare \", \"21752 \", \"13.70 \", \"298000 \", \"373 \", \"TONS \", \"111064000\"], [2717, \"1987\", \"201519\", \"ORANGES VALENCIA\", \"111\", \"Ventura \", \"14535 \", \"11.37 \", \"165192 \", \"273 \", \"TONS \", \"45097000\"], [2718, \"1987\", \"201519\", \"ORANGES VALENCIA\", \"999\", \" State Totals\", \"66533 \", \"12.03 \", \"800371 \", \"332 \", \"    \", \"266092674\"], [3041, \"1987\", \"268079\", \"PISTACHIOS\", \"7\", \"Butte \", \"  \", \"  \", \"  \", \"  \", \"  \", \" \"], [3042, \"1987\", \"268079\", \"PISTACHIOS\", \"13\", \"Contra Costa \", \"  \", \"  \", \"  \", \"  \", \"  \", \" \"], [3043, \"1987\", \"268079\", \"PISTACHIOS\", \"19\", \"Fresno \", \"687 \", \"0.35 \", \"240 \", \"3642 \", \"TONS \", \"874000\"], [2363, \"1983\", \"378299\", \"TOMATOES PROCESSING\", \"25\", \"Imperial \", \"3135 \", \"36.80 \", \"115368 \", \"54 \", \"TONS \", \"6275000\"], [2364, \"1983\", \"378299\", \"TOMATOES PROCESSING\", \"29\", \"Kern \", \"4500 \", \"28.44 \", \"128000 \", \"54 \", \"TONS \", \"6874000\"], [2365, \"1983\", \"378299\", \"TOMATOES PROCESSING\", \"31\", \"Kings \", \"2278 \", \"25.80 \", \"58772 \", \"54 \", \"TONS \", \"3156000\"], [2366, \"1983\", \"378299\", \"TOMATOES PROCESSING\", \"47\", \"Merced \", \"6690 \", \"28.86 \", \"193100 \", \"54 \", \"TONS \", \"10369000\"], [2367, \"1983\", \"378299\", \"TOMATOES PROCESSING\", \"53\", \"Monterey \", \"2715 \", \"26.45 \", \"71815 \", \"53 \", \"TONS \", \"3817000\"], [2368, \"1983\", \"378299\", \"TOMATOES PROCESSING\", \"59\", \"Orange \", \"1570 \", \"28.03 \", \"44000 \", \"54 \", \"TONS \", \"2362800\"], [2369, \"1983\", \"378299\", \"TOMATOES PROCESSING\", \"65\", \"Riverside \", \"2170 \", \"35.81 \", \"77708 \", \"53 \", \"TONS \", \"4085100\"], [2370, \"1983\", \"378299\", \"TOMATOES PROCESSING\", \"67\", \"Sacramento \", \"5420 \", \"26.01 \", \"141000 \", \"53 \", \"TONS \", \"7473000\"], [2371, \"1983\", \"378299\", \"TOMATOES PROCESSING\", \"69\", \"San Benito \", \"6050 \", \"30.50 \", \"184500 \", \"54 \", \"TONS \", \"9871000\"], [2372, \"1983\", \"378299\", \"TOMATOES PROCESSING\", \"77\", \"San Joaquin \", \"21300 \", \"24.55 \", \"523000 \", \"54 \", \"TONS \", \"28293000\"], [2373, \"1983\", \"378299\", \"TOMATOES PROCESSING\", \"83\", \"Santa Barbara \", \"1720 \", \"24.93 \", \"42880 \", \"68 \", \"TONS \", \"2902547\"], [2374, \"1983\", \"378299\", \"TOMATOES PROCESSING\", \"85\", \"Santa Clara \", \"3200 \", \"29.00 \", \"92800 \", \"53 \", \"TONS \", \"4918000\"], [2375, \"1983\", \"378299\", \"TOMATOES PROCESSING\", \"95\", \"Solano \", \"13056 \", \"27.30 \", \"356429 \", \"56 \", \"TONS \", \"19960000\"], [2376, \"1983\", \"378299\", \"TOMATOES PROCESSING\", \"99\", \"Stanislaus \", \"10000 \", \"28.20 \", \"282000 \", \"54 \", \"TONS \", \"15143000\"], [2377, \"1983\", \"378299\", \"TOMATOES PROCESSING\", \"101\", \"Sutter \", \"16347 \", \"22.28 \", \"364200 \", \"54 \", \"TONS \", \"19573000\"], [2378, \"1983\", \"378299\", \"TOMATOES PROCESSING\", \"111\", \"Ventura \", \"4400 \", \"22.73 \", \"100000 \", \"54 \", \"TONS \", \"5370000\"], [2379, \"1983\", \"378299\", \"TOMATOES PROCESSING\", \"113\", \"Yolo \", \"50100 \", \"22.06 \", \"1105000 \", \"54 \", \"TONS \", \"59338000\"], [2380, \"1983\", \"378299\", \"TOMATOES PROCESSING\", \"999\", \" State Totals\", \"231990 \", \"26.34 \", \"6109572 \", \"54 \", \"    \", \"329478447\"], [16, \"2014\", \"261999\", \"ALMONDS ALL\", \"7\", \"Butte\", \" 39200.0\", \" 0.91\", \" 35700.0\", \" 6751.71\", \"Tons\", \"241036000\"], [17, \"2014\", \"261999\", \"ALMONDS ALL\", \"11\", \"Colusa\", \" 51800.0\", \" 0.8\", \" 41400.0\", \" 6742.68\", \"Tons\", \"279147000\"], [18, \"2014\", \"261999\", \"ALMONDS ALL\", \"19\", \"Fresno\", \" 171000.0\", \" 1.08\", \" 184000.0\", \" 6792.0\", \"Tons\", \"1249728000\"], [19, \"2014\", \"261999\", \"ALMONDS ALL\", \"21\", \"Glenn\", \" 40200.0\", \" 0.77\", \" 30900.0\", \" 6176.41\", \"Tons\", \"190851000\"], [20, \"2014\", \"261999\", \"ALMONDS ALL\", \"29\", \"Kern\", \" 199000.0\", \" 1.01\", \" 201000.0\", \" 7124.87\", \"Tons\", \"1432099000\"], [21, \"2014\", \"261999\", \"ALMONDS ALL\", \"31\", \"Kings\", \" 19400.0\", \" 1.11\", \" 21600.0\", \" 7136.11\", \"Tons\", \"154140000\"], [22, \"2014\", \"261999\", \"ALMONDS ALL\", \"39\", \"Madera\", \" 106000.0\", \" 0.94\", \" 99600.0\", \" 7457.99\", \"Tons\", \"742816000\"], [23, \"2014\", \"261999\", \"ALMONDS ALL\", \"47\", \"Merced\", \" 99900.0\", \" 0.99\", \" 98600.0\", \" 8019.82\", \"Tons\", \"790754000\"], [24, \"2014\", \"261999\", \"ALMONDS ALL\", \"77\", \"San Joaquin\", \" 59200.0\", \" 1.15\", \" 68100.0\", \" 8500.0\", \"Tons\", \"578850000\"], [25, \"2014\", \"261999\", \"ALMONDS ALL\", \"95\", \"Solano\", \" 3430.0\", \" 0.7\", \" 2410.0\", \" 5873.86\", \"Tons\", \"14156000\"], [26, \"2014\", \"261999\", \"ALMONDS ALL\", \"99\", \"Stanislaus\", \" 164000.0\", \" 1.05\", \" 173000.0\", \" 7800.0\", \"Tons\", \"1349400000\"], [27, \"2014\", \"261999\", \"ALMONDS ALL\", \"101\", \"Sutter\", \" 7440.0\", \" 0.73\", \" 5430.0\", \" 5719.89\", \"Tons\", \"31059000\"], [28, \"2014\", \"261999\", \"ALMONDS ALL\", \"103\", \"Tehama\", \" 10700.0\", \" 0.78\", \" 8380.0\", \" 5753.7\", \"Tons\", \"48216000\"], [29, \"2014\", \"261999\", \"ALMONDS ALL\", \"107\", \"Tulare\", \" 46400.0\", \" 1.05\", \" 48700.0\", \" 8050.0\", \"Tons\", \"392035000\"], [30, \"2014\", \"261999\", \"ALMONDS ALL\", \"113\", \"Yolo\", \" 19900.0\", \" 1.0\", \" 19900.0\", \" 5397.44\", \"Tons\", \"107409000\"], [31, \"2014\", \"261999\", \"ALMONDS ALL\", \"115\", \"Yuba\", \" 847.0\", \" 0.8\", \" 678.0\", \" 7294.99\", \"Tons\", \"4946000\"], [32, \"2014\", \"261999\", \"ALMONDS ALL\", \"991\", \"Sum of Others\", \" 808.0\", \" 0.6\", \" 486.0\", \" 10738.07\", \"Tons\", \"5218700\"], [33, \"2014\", \"261999\", \"ALMONDS ALL\", \"999\", \"State Total\", \" 1039225.0\", \" 1.0\", \" 1039884.0\", \" 7319.91\", \"NaN\", \"7611860700\"], [258, \"2014\", \"237199\", \"BERRIES STRAWBERRIES FRESH MARKET\", \"53\", \"Monterey\", \" 11100.0\", \" 34.59\", \" 384000.0\", \" 1800.0\", \"Tons\", \"691200000\"], [259, \"2014\", \"237199\", \"BERRIES STRAWBERRIES FRESH MARKET\", \"67\", \"Sacramento\", \" 100.0\", \" 3.0\", \" 300.0\", \" 3996.67\", \"Tons\", \"1199000\"], [260, \"2014\", \"237199\", \"BERRIES STRAWBERRIES FRESH MARKET\", \"79\", \"San Luis Obispo\", \" 2640.0\", \" 39.02\", \" 103000.0\", \" 1732.49\", \"Tons\", \"178446000\"], [261, \"2014\", \"237199\", \"BERRIES STRAWBERRIES FRESH MARKET\", \"83\", \"Santa Barbara\", \" 5960.0\", \" 38.93\", \" 232000.0\", \" 1737.16\", \"Tons\", \"403021000\"], [262, \"2014\", \"237199\", \"BERRIES STRAWBERRIES FRESH MARKET\", \"111\", \"Ventura\", \" 8480.0\", \" 26.3\", \" 223000.0\", \" 2512.6\", \"Tons\", \"560310000\"], [263, \"2014\", \"237199\", \"BERRIES STRAWBERRIES FRESH MARKET\", \"991\", \"Sum of Others\", \" 63.0\", \" 2.73\", \" 172.0\", \" 3720.93\", \"Tons\", \"640000\"], [264, \"2014\", \"237199\", \"BERRIES STRAWBERRIES FRESH MARKET\", \"999\", \"State Total\", \" 28343.0\", \" 33.25\", \" 942472.0\", \" 1946.81\", \"NaN\", \"1834816000\"], [265, \"2014\", \"237299\", \"BERRIES STRAWBERRIES PROCESSING\", \"53\", \"Monterey\", \"NaN\", \"NaN\", \" 29000.0\", \" 624.0\", \"Tons\", \"18096000\"], [266, \"2014\", \"237299\", \"BERRIES STRAWBERRIES PROCESSING\", \"79\", \"San Luis Obispo\", \" 829.0\", \" 38.96\", \" 32300.0\", \" 845.79\", \"Tons\", \"27319000\"], [267, \"2014\", \"237299\", \"BERRIES STRAWBERRIES PROCESSING\", \"83\", \"Santa Barbara\", \" 1870.0\", \" 38.98\", \" 72900.0\", \" 846.36\", \"Tons\", \"61700000\"], [268, \"2014\", \"237299\", \"BERRIES STRAWBERRIES PROCESSING\", \"111\", \"Ventura\", \" 3150.0\", \" 26.29\", \" 82800.0\", \" 817.07\", \"Tons\", \"67653000\"], [269, \"2014\", \"237299\", \"BERRIES STRAWBERRIES PROCESSING\", \"999\", \"State Total\", \" 5849.0\", \" 32.14\", \" 217000.0\", \" 805.38\", \"NaN\", \"174768000\"], [270, \"2014\", \"237999\", \"BERRIES STRAWBERRIES UNSPECIFIED\", \"37\", \"Los Angeles\", \" 25.0\", \" 13.6\", \" 340.0\", \" 1791.18\", \"Tons\", \"609000\"], [271, \"2014\", \"237999\", \"BERRIES STRAWBERRIES UNSPECIFIED\", \"59\", \"Orange\", \" 658.0\", \" 17.93\", \" 11800.0\", \" 2305.0\", \"Tons\", \"27199000\"], [272, \"2014\", \"237999\", \"BERRIES STRAWBERRIES UNSPECIFIED\", \"61\", \"Placer\", \" 24.0\", \" 3.0\", \" 72.0\", \" 6000.0\", \"Tons\", \"432000\"], [273, \"2014\", \"237999\", \"BERRIES STRAWBERRIES UNSPECIFIED\", \"65\", \"Riverside\", \" 657.0\", \" 22.07\", \" 14500.0\", \" 1908.41\", \"Tons\", \"27672000\"], [274, \"2014\", \"237999\", \"BERRIES STRAWBERRIES UNSPECIFIED\", \"71\", \"San Bernardino\", \" 105.0\", \" 17.14\", \" 1800.0\", \" 2040.56\", \"Tons\", \"3673000\"], [275, \"2014\", \"237999\", \"BERRIES STRAWBERRIES UNSPECIFIED\", \"73\", \"San Diego\", \" 575.0\", \" 33.04\", \" 19000.0\", \" 1997.37\", \"Tons\", \"37950000\"], [276, \"2014\", \"237999\", \"BERRIES STRAWBERRIES UNSPECIFIED\", \"85\", \"Santa Clara\", \" 47.0\", \" 11.21\", \" 527.0\", \" 2819.73\", \"Tons\", \"1486000\"], [277, \"2014\", \"237999\", \"BERRIES STRAWBERRIES UNSPECIFIED\", \"87\", \"Santa Cruz\", \" 3300.0\", \" 30.3\", \" 100000.0\", \" 2281.4\", \"Tons\", \"228140000\"], [278, \"2014\", \"237999\", \"BERRIES STRAWBERRIES UNSPECIFIED\", \"991\", \"Sum of Others\", \" 39.0\", \" 3.59\", \" 140.0\", \" 2871.43\", \"Tons\", \"402000\"], [279, \"2014\", \"237999\", \"BERRIES STRAWBERRIES UNSPECIFIED\", \"999\", \"State Total\", \" 5430.0\", \" 27.29\", \" 148179.0\", \" 2210.59\", \"NaN\", \"327563000\"], [326, \"2014\", \"313189\", \"CARROTS FOOD SERVICE\", \"53\", \"Monterey\", \" 1610.0\", \" 21.61\", \" 34800.0\", \" 247.99\", \"Tons\", \"8630000\"], [327, \"2014\", \"313189\", \"CARROTS FOOD SERVICE\", \"999\", \"State Total\", \" 1610.0\", \" 21.61\", \" 34800.0\", \" 247.99\", \"NaN\", \"8630000\"], [328, \"2014\", \"313199\", \"CARROTS FRESH MARKET\", \"25\", \"Imperial\", \" 4490.0\", \" 18.8\", \" 84400.0\", \" 198.85\", \"Tons\", \"16783000\"], [329, \"2014\", \"313199\", \"CARROTS FRESH MARKET\", \"53\", \"Monterey\", \" 1420.0\", \" 21.62\", \" 30700.0\", \" 421.01\", \"Tons\", \"12925000\"], [330, \"2014\", \"313199\", \"CARROTS FRESH MARKET\", \"991\", \"Sum of Others\", \" 2630.0\", \" 32.36\", \" 85100.0\", \" 131.29\", \"Tons\", \"11173000\"], [331, \"2014\", \"313199\", \"CARROTS FRESH MARKET\", \"999\", \"State Total\", \" 8540.0\", \" 23.44\", \" 200200.0\", \" 204.2\", \"NaN\", \"40881000\"], [332, \"2014\", \"313299\", \"CARROTS PROCESSING\", \"25\", \"Imperial\", \" 10500.0\", \" 35.52\", \" 373000.0\", \" 95.91\", \"Tons\", \"35776000\"], [333, \"2014\", \"313299\", \"CARROTS PROCESSING\", \"999\", \"State Total\", \" 10500.0\", \" 35.52\", \" 373000.0\", \" 95.91\", \"NaN\", \"35776000\"], [334, \"2014\", \"313999\", \"CARROTS UNSPECIFIED\", \"65\", \"Riverside\", \" 4330.0\", \" 30.72\", \" 133000.0\", \" 174.21\", \"Tons\", \"23170000\"], [335, \"2014\", \"313999\", \"CARROTS UNSPECIFIED\", \"111\", \"Ventura\", \" 665.0\", \" 33.53\", \" 22300.0\", \" 171.7\", \"Tons\", \"3829000\"], [336, \"2014\", \"313999\", \"CARROTS UNSPECIFIED\", \"991\", \"Sum of Others\", \" 27274.0\", \" 35.88\", \" 978505.0\", \" 307.6\", \"Tons\", \"300984460\"], [337, \"2014\", \"313999\", \"CARROTS UNSPECIFIED\", \"999\", \"State Total\", \" 32269.0\", \" 35.14\", \" 1133805.0\", \" 289.28\", \"NaN\", \"327983460\"], [476, \"2014\", \"397999\", \"CHAYOTES\", \"991\", \"Sum of Others\", \" 10.0\", \"NaN\", \"NaN\", \"NaN\", \"Tons\", \"14000\"], [477, \"2014\", \"397999\", \"CHAYOTES\", \"999\", \"State Total\", \" 10.0\", \"NaN\", \"NaN\", \"NaN\", \"NaN\", \"14000\"], [869, \"2014\", \"216399\", \"GRAPES RAISIN\", \"19\", \"Fresno\", \" 133000.0\", \" 8.66\", \" 1152000.0\", \" 403.16\", \"Tons\", \"464444000\"], [870, \"2014\", \"216399\", \"GRAPES RAISIN\", \"29\", \"Kern\", \" 16800.0\", \" 14.17\", \" 238000.0\", \" 540.16\", \"Tons\", \"128559000\"], [871, \"2014\", \"216399\", \"GRAPES RAISIN\", \"31\", \"Kings\", \" 2050.0\", \" 10.63\", \" 21800.0\", \" 367.52\", \"Tons\", \"8012000\"], [872, \"2014\", \"216399\", \"GRAPES RAISIN\", \"39\", \"Madera\", \" 27800.0\", \" 12.88\", \" 358000.0\", \" 369.32\", \"Tons\", \"132216000\"], [873, \"2014\", \"216399\", \"GRAPES RAISIN\", \"107\", \"Tulare\", \" 15200.0\", \" 9.21\", \" 140000.0\", \" 781.97\", \"Tons\", \"109476000\"], [874, \"2014\", \"216399\", \"GRAPES RAISIN\", \"991\", \"Sum of Others\", \" 1990.0\", \" 7.84\", \" 15600.0\", \" 410.64\", \"Tons\", \"6406000\"], [875, \"2014\", \"216399\", \"GRAPES RAISIN\", \"999\", \"State Total\", \" 196840.0\", \" 9.78\", \" 1925400.0\", \" 441.01\", \"NaN\", \"849113000\"], [876, \"2014\", \"216199\", \"GRAPES TABLE\", \"19\", \"Fresno\", \" 12500.0\", \" 10.64\", \" 133000.0\", \" 1368.17\", \"Tons\", \"181967000\"], [877, \"2014\", \"216199\", \"GRAPES TABLE\", \"29\", \"Kern\", \" 61600.0\", \" 12.84\", \" 791000.0\", \" 1901.19\", \"Tons\", \"1503844000\"], [878, \"2014\", \"216199\", \"GRAPES TABLE\", \"31\", \"Kings\", \" 848.0\", \" 15.45\", \" 13100.0\", \" 1484.96\", \"Tons\", \"19453000\"], [879, \"2014\", \"216199\", \"GRAPES TABLE\", \"39\", \"Madera\", \" 2900.0\", \" 9.52\", \" 27600.0\", \" 1929.57\", \"Tons\", \"53256000\"], [880, \"2014\", \"216199\", \"GRAPES TABLE\", \"65\", \"Riverside\", \" 7760.0\", \" 7.77\", \" 60300.0\", \" 2127.23\", \"Tons\", \"128272000\"], [881, \"2014\", \"216199\", \"GRAPES TABLE\", \"107\", \"Tulare\", \" 34100.0\", \" 12.93\", \" 441000.0\", \" 1266.14\", \"Tons\", \"558366000\"], [882, \"2014\", \"216199\", \"GRAPES TABLE\", \"999\", \"State Total\", \" 119708.0\", \" 12.25\", \" 1466000.0\", \" 1667.91\", \"NaN\", \"2445158000\"], [883, \"2014\", \"216999\", \"GRAPES UNSPECIFIED\", \"13\", \"Contra Costa\", \" 2190.0\", \" 4.66\", \" 10200.0\", \" 1013.33\", \"Tons\", \"10336000\"], [884, \"2014\", \"216999\", \"GRAPES UNSPECIFIED\", \"21\", \"Glenn\", \" 1040.0\", \" 6.01\", \" 6250.0\", \" 867.2\", \"Tons\", \"5420000\"], [885, \"2014\", \"216999\", \"GRAPES UNSPECIFIED\", \"37\", \"Los Angeles\", \" 385.0\", \" 3.74\", \" 1440.0\", \" 787.5\", \"Tons\", \"1134000\"], [886, \"2014\", \"216999\", \"GRAPES UNSPECIFIED\", \"71\", \"San Bernardino\", \" 160.0\", \" 0.9\", \" 144.0\", \" 1951.39\", \"Tons\", \"281000\"], [887, \"2014\", \"216999\", \"GRAPES UNSPECIFIED\", \"99\", \"Stanislaus\", \" 12400.0\", \" 9.27\", \" 115000.0\", \" 457.94\", \"Tons\", \"52663000\"], [888, \"2014\", \"216999\", \"GRAPES UNSPECIFIED\", \"103\", \"Tehama\", \" 121.0\", \" 6.4\", \" 774.0\", \" 793.28\", \"Tons\", \"614000\"], [889, \"2014\", \"216999\", \"GRAPES UNSPECIFIED\", \"991\", \"Sum of Others\", \" 1187.0\", \" 5.32\", \" 6309.0\", \" 860.05\", \"Tons\", \"5426080\"], [890, \"2014\", \"216999\", \"GRAPES UNSPECIFIED\", \"999\", \"State Total\", \" 17483.0\", \" 8.01\", \" 140117.0\", \" 541.51\", \"NaN\", \"75874080\"], [891, \"2014\", \"216299\", \"GRAPES WINE\", \"1\", \"Alameda\", \" 2420.0\", \" 4.38\", \" 10600.0\", \" 1486.42\", \"Tons\", \"15756000\"], [892, \"2014\", \"216299\", \"GRAPES WINE\", \"5\", \"Amador\", \" 3900.0\", \" 3.18\", \" 12400.0\", \" 1271.85\", \"Tons\", \"15771000\"], [893, \"2014\", \"216299\", \"GRAPES WINE\", \"9\", \"Calaveras\", \" 900.0\", \" 2.18\", \" 1960.0\", \" 1391.33\", \"Tons\", \"2727000\"], [894, \"2014\", \"216299\", \"GRAPES WINE\", \"11\", \"Colusa\", \" 2170.0\", \" 8.29\", \" 18000.0\", \" 548.61\", \"Tons\", \"9875000\"], [895, \"2014\", \"216299\", \"GRAPES WINE\", \"17\", \"El Dorado\", \" 2110.0\", \" 2.53\", \" 5340.0\", \" 1420.04\", \"Tons\", \"7583000\"], [896, \"2014\", \"216299\", \"GRAPES WINE\", \"19\", \"Fresno\", \" 58700.0\", \" 11.24\", \" 660000.0\", \" 391.95\", \"Tons\", \"258688000\"], [897, \"2014\", \"216299\", \"GRAPES WINE\", \"29\", \"Kern\", \" 27800.0\", \" 9.82\", \" 273000.0\", \" 314.21\", \"Tons\", \"85780000\"], [898, \"2014\", \"216299\", \"GRAPES WINE\", \"31\", \"Kings\", \" 4800.0\", \" 11.96\", \" 57400.0\", \" 289.79\", \"Tons\", \"16634000\"], [899, \"2014\", \"216299\", \"GRAPES WINE\", \"33\", \"Lake\", \" 8070.0\", \" 4.8\", \" 38700.0\", \" 1521.11\", \"Tons\", \"58867000\"], [900, \"2014\", \"216299\", \"GRAPES WINE\", \"39\", \"Madera\", \" 40300.0\", \" 9.73\", \" 392000.0\", \" 336.81\", \"Tons\", \"132031000\"], [901, \"2014\", \"216299\", \"GRAPES WINE\", \"41\", \"Marin\", \" 175.0\", \" 1.86\", \" 325.0\", \" 2163.08\", \"Tons\", \"703000\"], [902, \"2014\", \"216299\", \"GRAPES WINE\", \"43\", \"Mariposa\", \" 77.0\", \" 0.77\", \" 59.0\", \" 1118.64\", \"Tons\", \"66000\"], [903, \"2014\", \"216299\", \"GRAPES WINE\", \"45\", \"Mendocino\", \" 16900.0\", \" 3.67\", \" 62000.0\", \" 1511.15\", \"Tons\", \"93691000\"], [904, \"2014\", \"216299\", \"GRAPES WINE\", \"47\", \"Merced\", \" 12900.0\", \" 8.6\", \" 111000.0\", \" 300.92\", \"Tons\", \"33402000\"], [905, \"2014\", \"216299\", \"GRAPES WINE\", \"53\", \"Monterey\", \" 46000.0\", \" 4.35\", \" 200000.0\", \" 1236.79\", \"Tons\", \"247357000\"], [906, \"2014\", \"216299\", \"GRAPES WINE\", \"55\", \"Napa\", \" 43600.0\", \" 4.04\", \" 176000.0\", \" 4061.43\", \"Tons\", \"714811000\"], [907, \"2014\", \"216299\", \"GRAPES WINE\", \"57\", \"Nevada\", \" 342.0\", \" 3.86\", \" 1320.0\", \" 1341.67\", \"Tons\", \"1771000\"], [908, \"2014\", \"216299\", \"GRAPES WINE\", \"61\", \"Placer\", \" 212.0\", \" 2.57\", \" 545.0\", \" 1390.83\", \"Tons\", \"758000\"], [909, \"2014\", \"216299\", \"GRAPES WINE\", \"65\", \"Riverside\", \" 2720.0\", \" 3.93\", \" 10700.0\", \" 1274.3\", \"Tons\", \"13635000\"], [910, \"2014\", \"216299\", \"GRAPES WINE\", \"67\", \"Sacramento\", \" 30000.0\", \" 7.5\", \" 225000.0\", \" 581.62\", \"Tons\", \"130864000\"], [911, \"2014\", \"216299\", \"GRAPES WINE\", \"69\", \"San Benito\", \" 4470.0\", \" 2.86\", \" 12800.0\", \" 1198.05\", \"Tons\", \"15335000\"], [912, \"2014\", \"216299\", \"GRAPES WINE\", \"71\", \"San Bernardino\", \" 270.0\", \" 0.53\", \" 144.0\", \" 798.61\", \"Tons\", \"115000\"], [913, \"2014\", \"216299\", \"GRAPES WINE\", \"73\", \"San Diego\", \" 923.0\", \" 4.6\", \" 4250.0\", \" 1545.41\", \"Tons\", \"6568000\"], [914, \"2014\", \"216299\", \"GRAPES WINE\", \"77\", \"San Joaquin\", \" 102000.0\", \" 8.0\", \" 816000.0\", \" 590.0\", \"Tons\", \"481440000\"], [915, \"2014\", \"216299\", \"GRAPES WINE\", \"79\", \"San Luis Obispo\", \" 37400.0\", \" 3.82\", \" 143000.0\", \" 1425.07\", \"Tons\", \"203785000\"], [916, \"2014\", \"216299\", \"GRAPES WINE\", \"81\", \"San Mateo\", \" 154.0\", \"NaN\", \"NaN\", \"NaN\", \"Tons\", \"1031000\"], [917, \"2014\", \"216299\", \"GRAPES WINE\", \"83\", \"Santa Barbara\", \" 21100.0\", \" 4.29\", \" 90600.0\", \" 1713.64\", \"Tons\", \"155256000\"], [918, \"2014\", \"216299\", \"GRAPES WINE\", \"85\", \"Santa Clara\", \" 1600.0\", \" 3.53\", \" 5640.0\", \" 1483.69\", \"Tons\", \"8368000\"], [919, \"2014\", \"216299\", \"GRAPES WINE\", \"87\", \"Santa Cruz\", \" 654.0\", \" 2.55\", \" 1670.0\", \" 2921.56\", \"Tons\", \"4879000\"], [920, \"2014\", \"216299\", \"GRAPES WINE\", \"89\", \"Shasta\", \" 160.0\", \" 2.9\", \" 464.0\", \" 1133.62\", \"Tons\", \"526000\"], [921, \"2014\", \"216299\", \"GRAPES WINE\", \"95\", \"Solano\", \" 4380.0\", \" 5.25\", \" 23000.0\", \" 766.13\", \"Tons\", \"17621000\"], [922, \"2014\", \"216299\", \"GRAPES WINE\", \"97\", \"Sonoma\", \" 58300.0\", \" 4.39\", \" 256000.0\", \" 2315.62\", \"Tons\", \"592798000\"], [923, \"2014\", \"216299\", \"GRAPES WINE\", \"107\", \"Tulare\", \" 11200.0\", \" 15.98\", \" 179000.0\", \" 311.0\", \"Tons\", \"55669000\"], [924, \"2014\", \"216299\", \"GRAPES WINE\", \"113\", \"Yolo\", \" 12600.0\", \" 7.37\", \" 92800.0\", \" 743.1\", \"Tons\", \"68960000\"], [925, \"2014\", \"216299\", \"GRAPES WINE\", \"999\", \"State Total\", \" 559307.0\", \" 6.94\", \" 3881717.0\", \" 889.32\", \"NaN\", \"3453121000\"], [931, \"2014\", \"181999\", \"HAY ALFALFA\", \"1\", \"Alameda\", \" 524.0\", \" 4.71\", \" 2470.0\", \" 237.65\", \"Tons\", \"587000\"], [932, \"2014\", \"181999\", \"HAY ALFALFA\", \"5\", \"Amador\", \" 451.0\", \" 6.56\", \" 2960.0\", \" 279.39\", \"Tons\", \"827000\"], [933, \"2014\", \"181999\", \"HAY ALFALFA\", \"7\", \"Butte\", \" 1460.0\", \" 6.99\", \" 10200.0\", \" 248.14\", \"Tons\", \"2531000\"], [934, \"2014\", \"181999\", \"HAY ALFALFA\", \"11\", \"Colusa\", \" 9520.0\", \" 5.89\", \" 56100.0\", \" 236.99\", \"Tons\", \"13295000\"], [935, \"2014\", \"181999\", \"HAY ALFALFA\", \"13\", \"Contra Costa\", \" 3390.0\", \" 5.13\", \" 17400.0\", \" 248.28\", \"Tons\", \"4320000\"], [936, \"2014\", \"181999\", \"HAY ALFALFA\", \"19\", \"Fresno\", \" 52200.0\", \" 6.48\", \" 338000.0\", \" 238.0\", \"Tons\", \"80444000\"], [937, \"2014\", \"181999\", \"HAY ALFALFA\", \"21\", \"Glenn\", \" 10500.0\", \" 5.72\", \" 60100.0\", \" 244.91\", \"Tons\", \"14719000\"], [938, \"2014\", \"181999\", \"HAY ALFALFA\", \"25\", \"Imperial\", \" 122000.0\", \" 8.16\", \" 995000.0\", \" 220.87\", \"Tons\", \"219766000\"], [939, \"2014\", \"181999\", \"HAY ALFALFA\", \"27\", \"Inyo\", \" 2420.0\", \" 6.49\", \" 15700.0\", \" 269.87\", \"Tons\", \"4237000\"], [940, \"2014\", \"181999\", \"HAY ALFALFA\", \"29\", \"Kern\", \" 109000.0\", \" 8.46\", \" 922000.0\", \" 247.26\", \"Tons\", \"227973000\"], [941, \"2014\", \"181999\", \"HAY ALFALFA\", \"31\", \"Kings\", \" 36600.0\", \" 8.17\", \" 299000.0\", \" 252.0\", \"Tons\", \"75347000\"], [942, \"2014\", \"181999\", \"HAY ALFALFA\", \"35\", \"Lassen\", \" 28700.0\", \" 3.48\", \" 100000.0\", \" 210.8\", \"Tons\", \"21080000\"], [943, \"2014\", \"181999\", \"HAY ALFALFA\", \"37\", \"Los Angeles\", \" 6110.0\", \" 8.17\", \" 49900.0\", \" 264.77\", \"Tons\", \"13212000\"], [944, \"2014\", \"181999\", \"HAY ALFALFA\", \"39\", \"Madera\", \" 16000.0\", \" 6.81\", \" 109000.0\", \" 230.58\", \"Tons\", \"25133000\"], [945, \"2014\", \"181999\", \"HAY ALFALFA\", \"47\", \"Merced\", \" 84700.0\", \" 7.05\", \" 597000.0\", \" 251.32\", \"Tons\", \"150036000\"], [946, \"2014\", \"181999\", \"HAY ALFALFA\", \"51\", \"Mono\", \" 8100.0\", \" 6.51\", \" 52700.0\", \" 264.74\", \"Tons\", \"13952000\"], [947, \"2014\", \"181999\", \"HAY ALFALFA\", \"53\", \"Monterey\", \" 140.0\", \" 6.4\", \" 896.0\", \" 280.13\", \"Tons\", \"251000\"], [948, \"2014\", \"181999\", \"HAY ALFALFA\", \"63\", \"Plumas\", \" 6000.0\", \" 3.5\", \" 21000.0\", \" 267.0\", \"Tons\", \"5607000\"], [949, \"2014\", \"181999\", \"HAY ALFALFA\", \"65\", \"Riverside\", \" 57700.0\", \" 8.08\", \" 466000.0\", \" 232.61\", \"Tons\", \"108396000\"], [950, \"2014\", \"181999\", \"HAY ALFALFA\", \"67\", \"Sacramento\", \" 14200.0\", \" 5.11\", \" 72600.0\", \" 229.88\", \"Tons\", \"16689000\"], [951, \"2014\", \"181999\", \"HAY ALFALFA\", \"71\", \"San Bernardino\", \" 7000.0\", \" 8.0\", \" 56000.0\", \" 642.86\", \"Tons\", \"36000000\"], [952, \"2014\", \"181999\", \"HAY ALFALFA\", \"77\", \"San Joaquin\", \" 57700.0\", \" 7.3\", \" 421000.0\", \" 254.0\", \"Tons\", \"106934000\"], [953, \"2014\", \"181999\", \"HAY ALFALFA\", \"79\", \"San Luis Obispo\", \" 2440.0\", \" 6.07\", \" 14800.0\", \" 283.85\", \"Tons\", \"4201000\"], [954, \"2014\", \"181999\", \"HAY ALFALFA\", \"89\", \"Shasta\", \" 3300.0\", \" 5.21\", \" 17200.0\", \" 255.41\", \"Tons\", \"4393000\"], [955, \"2014\", \"181999\", \"HAY ALFALFA\", \"91\", \"Sierra\", \" 1200.0\", \" 3.4\", \" 4080.0\", \" 270.1\", \"Tons\", \"1102000\"], [956, \"2014\", \"181999\", \"HAY ALFALFA\", \"93\", \"Siskiyou\", \" 43700.0\", \" 5.58\", \" 244000.0\", \" 265.75\", \"Tons\", \"64843000\"], [957, \"2014\", \"181999\", \"HAY ALFALFA\", \"95\", \"Solano\", \" 30700.0\", \" 5.86\", \" 180000.0\", \" 242.78\", \"Tons\", \"43700000\"], [958, \"2014\", \"181999\", \"HAY ALFALFA\", \"99\", \"Stanislaus\", \" 29200.0\", \" 7.09\", \" 207000.0\", \" 264.0\", \"Tons\", \"54648000\"], [959, \"2014\", \"181999\", \"HAY ALFALFA\", \"101\", \"Sutter\", \" 5670.0\", \" 7.02\", \" 39800.0\", \" 238.19\", \"Tons\", \"9480000\"], [960, \"2014\", \"181999\", \"HAY ALFALFA\", \"103\", \"Tehama\", \" 1180.0\", \" 6.62\", \" 7810.0\", \" 239.18\", \"Tons\", \"1868000\"], [961, \"2014\", \"181999\", \"HAY ALFALFA\", \"107\", \"Tulare\", \" 60000.0\", \" 10.2\", \" 612000.0\", \" 222.0\", \"Tons\", \"135864000\"], [962, \"2014\", \"181999\", \"HAY ALFALFA\", \"113\", \"Yolo\", \" 37100.0\", \" 6.01\", \" 223000.0\", \" 247.74\", \"Tons\", \"55246000\"], [963, \"2014\", \"181999\", \"HAY ALFALFA\", \"115\", \"Yuba\", \" 678.0\", \" 6.67\", \" 4520.0\", \" 300.0\", \"Tons\", \"1356000\"], [964, \"2014\", \"181999\", \"HAY ALFALFA\", \"991\", \"Sum of Others\", \" 96.0\", \" 9.94\", \" 954.0\", \" 127.88\", \"Tons\", \"122000\"], [965, \"2014\", \"181999\", \"HAY ALFALFA\", \"999\", \"State Total\", \" 849679.0\", \" 7.32\", \" 6220190.0\", \" 244.07\", \"NaN\", \"1518159000\"], [966, \"2014\", \"188499\", \"HAY GRAIN\", \"5\", \"Amador\", \" 903.0\", \"NaN\", \"NaN\", \"NaN\", \"Tons\", \"521000\"], [967, \"2014\", \"188499\", \"HAY GRAIN\", \"9\", \"Calaveras\", \" 200.0\", \" 3.0\", \" 600.0\", \" 165.0\", \"Tons\", \"99000\"], [968, \"2014\", \"188499\", \"HAY GRAIN\", \"11\", \"Colusa\", \" 4900.0\", \" 3.2\", \" 15700.0\", \" 179.68\", \"Tons\", \"2821000\"], [969, \"2014\", \"188499\", \"HAY GRAIN\", \"13\", \"Contra Costa\", \" 3170.0\", \" 2.69\", \" 8520.0\", \" 154.93\", \"Tons\", \"1320000\"], [970, \"2014\", \"188499\", \"HAY GRAIN\", \"19\", \"Fresno\", \" 9190.0\", \" 4.07\", \" 37400.0\", \" 209.01\", \"Tons\", \"7817000\"], [971, \"2014\", \"188499\", \"HAY GRAIN\", \"29\", \"Kern\", \" 9210.0\", \" 5.19\", \" 47800.0\", \" 212.49\", \"Tons\", \"10157000\"], [972, \"2014\", \"188499\", \"HAY GRAIN\", \"31\", \"Kings\", \" 1630.0\", \" 3.85\", \" 6270.0\", \" 197.93\", \"Tons\", \"1241000\"], [973, \"2014\", \"188499\", \"HAY GRAIN\", \"35\", \"Lassen\", \" 8350.0\", \" 2.6\", \" 21700.0\", \" 136.13\", \"Tons\", \"2954000\"], [974, \"2014\", \"188499\", \"HAY GRAIN\", \"37\", \"Los Angeles\", \" 3300.0\", \" 3.0\", \" 9900.0\", \" 225.05\", \"Tons\", \"2228000\"], [975, \"2014\", \"188499\", \"HAY GRAIN\", \"39\", \"Madera\", \" 800.0\", \" 3.53\", \" 2820.0\", \" 185.11\", \"Tons\", \"522000\"], [976, \"2014\", \"188499\", \"HAY GRAIN\", \"47\", \"Merced\", \" 39200.0\", \" 3.16\", \" 124000.0\", \" 235.56\", \"Tons\", \"29209000\"], [977, \"2014\", \"188499\", \"HAY GRAIN\", \"53\", \"Monterey\", \" 305.0\", \" 1.81\", \" 552.0\", \" 199.28\", \"Tons\", \"110000\"], [978, \"2014\", \"188499\", \"HAY GRAIN\", \"55\", \"Napa\", \" 650.0\", \" 1.4\", \" 910.0\", \" 180.22\", \"Tons\", \"164000\"], [979, \"2014\", \"188499\", \"HAY GRAIN\", \"61\", \"Placer\", \" 1790.0\", \" 1.98\", \" 3540.0\", \" 200.28\", \"Tons\", \"709000\"], [980, \"2014\", \"188499\", \"HAY GRAIN\", \"63\", \"Plumas\", \" 1000.0\", \" 2.1\", \" 2100.0\", \" 175.24\", \"Tons\", \"368000\"], [981, \"2014\", \"188499\", \"HAY GRAIN\", \"65\", \"Riverside\", \" 1290.0\", \" 1.63\", \" 2100.0\", \" 199.52\", \"Tons\", \"419000\"], [982, \"2014\", \"188499\", \"HAY GRAIN\", \"67\", \"Sacramento\", \" 4970.0\", \" 2.8\", \" 13900.0\", \" 227.99\", \"Tons\", \"3169000\"], [983, \"2014\", \"188499\", \"HAY GRAIN\", \"69\", \"San Benito\", \" 11000.0\", \" 0.1\", \" 1050.0\", \" 271.43\", \"Tons\", \"285000\"], [984, \"2014\", \"188499\", \"HAY GRAIN\", \"73\", \"San Diego\", \" 3850.0\", \" 2.0\", \" 7690.0\", \" 190.12\", \"Tons\", \"1462000\"], [985, \"2014\", \"188499\", \"HAY GRAIN\", \"79\", \"San Luis Obispo\", \" 6000.0\", \" 1.67\", \" 10000.0\", \" 255.4\", \"Tons\", \"2554000\"], [986, \"2014\", \"188499\", \"HAY GRAIN\", \"81\", \"San Mateo\", \" 376.0\", \" 2.24\", \" 842.0\", \" 199.52\", \"Tons\", \"168000\"], [987, \"2014\", \"188499\", \"HAY GRAIN\", \"83\", \"Santa Barbara\", \" 3800.0\", \"NaN\", \"NaN\", \"NaN\", \"Tons\", \"1919000\"], [988, \"2014\", \"188499\", \"HAY GRAIN\", \"85\", \"Santa Clara\", \" 4030.0\", \" 2.2\", \" 8870.0\", \" 210.03\", \"Tons\", \"1863000\"], [989, \"2014\", \"188499\", \"HAY GRAIN\", \"91\", \"Sierra\", \" 640.0\", \" 1.89\", \" 1210.0\", \" 150.41\", \"Tons\", \"182000\"], [990, \"2014\", \"188499\", \"HAY GRAIN\", \"95\", \"Solano\", \" 11600.0\", \" 3.03\", \" 35200.0\", \" 198.52\", \"Tons\", \"6988000\"], [991, \"2014\", \"188499\", \"HAY GRAIN\", \"97\", \"Sonoma\", \" 5690.0\", \" 1.86\", \" 10600.0\", \" 130.75\", \"Tons\", \"1386000\"], [992, \"2014\", \"188499\", \"HAY GRAIN\", \"99\", \"Stanislaus\", \" 30000.0\", \" 4.4\", \" 132000.0\", \" 205.0\", \"Tons\", \"27060000\"], [993, \"2014\", \"188499\", \"HAY GRAIN\", \"101\", \"Sutter\", \" 3560.0\", \" 2.33\", \" 8300.0\", \" 180.0\", \"Tons\", \"1494000\"], [994, \"2014\", \"188499\", \"HAY GRAIN\", \"103\", \"Tehama\", \" 3490.0\", \" 1.1\", \" 3840.0\", \" 211.98\", \"Tons\", \"814000\"], [995, \"2014\", \"188499\", \"HAY GRAIN\", \"113\", \"Yolo\", \" 17800.0\", \" 3.0\", \" 53400.0\", \" 246.12\", \"Tons\", \"13143000\"], [996, \"2014\", \"188499\", \"HAY GRAIN\", \"991\", \"Sum of Others\", \" 3400.0\", \" 3.69\", \" 12560.0\", \" 179.78\", \"Tons\", \"2258000\"], [997, \"2014\", \"188499\", \"HAY GRAIN\", \"999\", \"State Total\", \" 196094.0\", \" 3.05\", \" 583374.0\", \" 210.78\", \"NaN\", \"125404000\"], [998, \"2014\", \"195299\", \"HAY GREEN CHOP\", \"65\", \"Riverside\", \" 12300.0\", \" 9.84\", \" 121000.0\", \" 68.08\", \"Tons\", \"8238000\"], [999, \"2014\", \"195299\", \"HAY GREEN CHOP\", \"71\", \"San Bernardino\", \" 4230.0\", \" 24.11\", \" 102000.0\", \" 45.62\", \"Tons\", \"4653000\"], [1000, \"2014\", \"195299\", \"HAY GREEN CHOP\", \"97\", \"Sonoma\", \" 2070.0\", \" 3.11\", \" 6430.0\", \" 25.04\", \"Tons\", \"161000\"], [1001, \"2014\", \"195299\", \"HAY GREEN CHOP\", \"999\", \"State Total\", \" 18600.0\", \" 12.33\", \" 229430.0\", \" 56.89\", \"NaN\", \"13052000\"], [1002, \"2014\", \"188999\", \"HAY OTHER UNSPECIFIED\", \"1\", \"Alameda\", \" 3380.0\", \" 0.89\", \" 3010.0\", \" 182.06\", \"Tons\", \"548000\"], [1003, \"2014\", \"188999\", \"HAY OTHER UNSPECIFIED\", \"3\", \"Alpine\", \" 250.0\", \" 8.0\", \" 2000.0\", \" 300.0\", \"Tons\", \"600000\"], [1004, \"2014\", \"188999\", \"HAY OTHER UNSPECIFIED\", \"5\", \"Amador\", \" 458.0\", \"NaN\", \"NaN\", \"NaN\", \"Tons\", \"184000\"], [1005, \"2014\", \"188999\", \"HAY OTHER UNSPECIFIED\", \"15\", \"Del Norte\", \" 3430.0\", \" 2.85\", \" 9780.0\", \" 204.91\", \"Tons\", \"2004000\"], [1006, \"2014\", \"188999\", \"HAY OTHER UNSPECIFIED\", \"17\", \"El Dorado\", \" 225.0\", \" 1.5\", \" 337.0\", \" 235.01\", \"Tons\", \"79200\"], [1007, \"2014\", \"188999\", \"HAY OTHER UNSPECIFIED\", \"19\", \"Fresno\", \" 10600.0\", \" 2.01\", \" 21300.0\", \" 169.01\", \"Tons\", \"3600000\"], [1008, \"2014\", \"188999\", \"HAY OTHER UNSPECIFIED\", \"21\", \"Glenn\", \" 3030.0\", \" 2.46\", \" 7460.0\", \" 169.97\", \"Tons\", \"1268000\"], [1009, \"2014\", \"188999\", \"HAY OTHER UNSPECIFIED\", \"23\", \"Humboldt\", \" 10600.0\", \" 2.29\", \" 24300.0\", \" 200.0\", \"Tons\", \"4860000\"], [1010, \"2014\", \"188999\", \"HAY OTHER UNSPECIFIED\", \"25\", \"Imperial\", \" 64400.0\", \" 8.94\", \" 576000.0\", \" 184.94\", \"Tons\", \"106526000\"], [1011, \"2014\", \"188999\", \"HAY OTHER UNSPECIFIED\", \"29\", \"Kern\", \" 7400.0\", \" 3.41\", \" 25200.0\", \" 191.71\", \"Tons\", \"4831000\"], [1012, \"2014\", \"188999\", \"HAY OTHER UNSPECIFIED\", \"35\", \"Lassen\", \" 31000.0\", \" 3.61\", \" 112000.0\", \" 196.46\", \"Tons\", \"22003000\"], [1013, \"2014\", \"188999\", \"HAY OTHER UNSPECIFIED\", \"41\", \"Marin\", \" 1710.0\", \" 2.29\", \" 3920.0\", \" 192.09\", \"Tons\", \"753000\"], [1014, \"2014\", \"188999\", \"HAY OTHER UNSPECIFIED\", \"65\", \"Riverside\", \" 3770.0\", \" 8.83\", \" 33300.0\", \" 198.74\", \"Tons\", \"6618000\"], [1015, \"2014\", \"188999\", \"HAY OTHER UNSPECIFIED\", \"67\", \"Sacramento\", \" 1530.0\", \" 2.5\", \" 3830.0\", \" 171.8\", \"Tons\", \"658000\"], [1016, \"2014\", \"188999\", \"HAY OTHER UNSPECIFIED\", \"71\", \"San Bernardino\", \" 500.0\", \" 4.0\", \" 2000.0\", \" 200.0\", \"Tons\", \"400000\"], [1017, \"2014\", \"188999\", \"HAY OTHER UNSPECIFIED\", \"77\", \"San Joaquin\", \" 7700.0\", \" 3.7\", \" 28500.0\", \" 221.02\", \"Tons\", \"6299000\"], [1018, \"2014\", \"188999\", \"HAY OTHER UNSPECIFIED\", \"89\", \"Shasta\", \" 20000.0\", \" 3.41\", \" 68100.0\", \" 255.67\", \"Tons\", \"17411000\"], [1019, \"2014\", \"188999\", \"HAY OTHER UNSPECIFIED\", \"93\", \"Siskiyou\", \" 10100.0\", \" 5.49\", \" 55400.0\", \" 200.14\", \"Tons\", \"11088000\"], [1020, \"2014\", \"188999\", \"HAY OTHER UNSPECIFIED\", \"99\", \"Stanislaus\", \" 12400.0\", \" 4.2\", \" 52100.0\", \" 203.99\", \"Tons\", \"10628000\"], [1021, \"2014\", \"188999\", \"HAY OTHER UNSPECIFIED\", \"103\", \"Tehama\", \" 2160.0\", \" 2.34\", \" 5050.0\", \" 220.0\", \"Tons\", \"1111000\"], [1022, \"2014\", \"188999\", \"HAY OTHER UNSPECIFIED\", \"107\", \"Tulare\", \" 14400.0\", \" 2.77\", \" 39900.0\", \" 90.0\", \"Tons\", \"3591000\"], [1023, \"2014\", \"188999\", \"HAY OTHER UNSPECIFIED\", \"109\", \"Tuolumne\", \" 360.0\", \" 2.6\", \" 936.0\", \" 184.83\", \"Tons\", \"173000\"], [1024, \"2014\", \"188999\", \"HAY OTHER UNSPECIFIED\", \"111\", \"Ventura\", \" 739.0\", \"NaN\", \"NaN\", \"NaN\", \"Tons\", \"199000\"], [1025, \"2014\", \"188999\", \"HAY OTHER UNSPECIFIED\", \"115\", \"Yuba\", \" 2800.0\", \" 3.0\", \" 8400.0\", \" 170.0\", \"Tons\", \"1428000\"], [1026, \"2014\", \"188999\", \"HAY OTHER UNSPECIFIED\", \"991\", \"Sum of Others\", \" 539.0\", \" 2.09\", \" 1126.0\", \" 216.07\", \"Tons\", \"243300\"], [1027, \"2014\", \"188999\", \"HAY OTHER UNSPECIFIED\", \"999\", \"State Total\", \" 213481.0\", \" 5.11\", \" 1083949.0\", \" 190.71\", \"NaN\", \"207103500\"], [1028, \"2014\", \"188899\", \"HAY SUDAN\", \"25\", \"Imperial\", \" 59700.0\", \" 5.71\", \" 341000.0\", \" 191.33\", \"Tons\", \"65245000\"], [1029, \"2014\", \"188899\", \"HAY SUDAN\", \"31\", \"Kings\", \" 274.0\", \" 5.36\", \" 1470.0\", \" 162.59\", \"Tons\", \"239000\"], [1030, \"2014\", \"188899\", \"HAY SUDAN\", \"47\", \"Merced\", \" 11500.0\", \" 3.98\", \" 45800.0\", \" 134.87\", \"Tons\", \"6177000\"], [1031, \"2014\", \"188899\", \"HAY SUDAN\", \"65\", \"Riverside\", \" 1980.0\", \" 5.45\", \" 10800.0\", \" 188.61\", \"Tons\", \"2037000\"], [1032, \"2014\", \"188899\", \"HAY SUDAN\", \"67\", \"Sacramento\", \" 1930.0\", \" 2.2\", \" 4250.0\", \" 165.41\", \"Tons\", \"703000\"], [1033, \"2014\", \"188899\", \"HAY SUDAN\", \"71\", \"San Bernardino\", \" 120.0\", \" 4.0\", \" 480.0\", \" 416.67\", \"Tons\", \"200000\"], [1034, \"2014\", \"188899\", \"HAY SUDAN\", \"95\", \"Solano\", \" 7500.0\", \" 3.47\", \" 26000.0\", \" 185.58\", \"Tons\", \"4825000\"], [1035, \"2014\", \"188899\", \"HAY SUDAN\", \"99\", \"Stanislaus\", \" 4630.0\", \" 12.68\", \" 58700.0\", \" 46.0\", \"Tons\", \"2700000\"], [1036, \"2014\", \"188899\", \"HAY SUDAN\", \"107\", \"Tulare\", \" 168.0\", \" 4.02\", \" 675.0\", \" 173.33\", \"Tons\", \"117000\"], [1037, \"2014\", \"188899\", \"HAY SUDAN\", \"991\", \"Sum of Others\", \" 2372.0\", \" 6.32\", \" 15001.0\", \" 138.86\", \"Tons\", \"2083000\"], [1038, \"2014\", \"188899\", \"HAY SUDAN\", \"999\", \"State Total\", \" 90174.0\", \" 5.59\", \" 504176.0\", \" 167.26\", \"NaN\", \"84326000\"], [1039, \"2014\", \"188799\", \"HAY WILD\", \"63\", \"Plumas\", \" 3000.0\", \" 2.0\", \" 6000.0\", \" 251.0\", \"Tons\", \"1506000\"], [1040, \"2014\", \"188799\", \"HAY WILD\", \"81\", \"San Mateo\", \" 124.0\", \" 2.32\", \" 288.0\", \" 48.61\", \"Tons\", \"14000\"], [1041, \"2014\", \"188799\", \"HAY WILD\", \"91\", \"Sierra\", \" 1600.0\", \" 2.0\", \" 3200.0\", \" 251.88\", \"Tons\", \"806000\"], [1042, \"2014\", \"188799\", \"HAY WILD\", \"95\", \"Solano\", \" 3470.0\", \" 2.13\", \" 7400.0\", \" 195.0\", \"Tons\", \"1443000\"], [1043, \"2014\", \"188799\", \"HAY WILD\", \"97\", \"Sonoma\", \" 288.0\", \" 1.67\", \" 481.0\", \" 104.57\", \"Tons\", \"50300\"], [1044, \"2014\", \"188799\", \"HAY WILD\", \"991\", \"Sum of Others\", \" 70.0\", \" 1.8\", \" 126.0\", \" 192.06\", \"Tons\", \"24200\"], [1045, \"2014\", \"188799\", \"HAY WILD\", \"999\", \"State Total\", \" 8552.0\", \" 2.05\", \" 17495.0\", \" 219.69\", \"NaN\", \"3843500\"], [1095, \"2014\", \"339196\", \"LETTUCE BULK SALAD PRODUCTS\", \"25\", \"Imperial\", \"NaN\", \"NaN\", \" 18200.0\", \" 202.75\", \"Tons\", \"3690000\"], [1096, \"2014\", \"339196\", \"LETTUCE BULK SALAD PRODUCTS\", \"53\", \"Monterey\", \"NaN\", \"NaN\", \" 154000.0\", \" 421.0\", \"Tons\", \"64834000\"], [1097, \"2014\", \"339196\", \"LETTUCE BULK SALAD PRODUCTS\", \"69\", \"San Benito\", \" 4500.0\", \" 3.56\", \" 16000.0\", \" 2096.69\", \"Tons\", \"33547000\"], [1098, \"2014\", \"339196\", \"LETTUCE BULK SALAD PRODUCTS\", \"991\", \"Sum of Others\", \" 52.0\", \" 10.79\", \" 561.0\", \" 437.17\", \"Tons\", \"245250\"], [1099, \"2014\", \"339196\", \"LETTUCE BULK SALAD PRODUCTS\", \"999\", \"State Total\", \"NaN\", \"NaN\", \" 188761.0\", \" 542.04\", \"NaN\", \"102316250\"], [1100, \"2014\", \"340999\", \"LETTUCE HEAD\", \"19\", \"Fresno\", \" 6620.0\", \" 18.58\", \" 123000.0\", \" 483.93\", \"Tons\", \"59524000\"], [1101, \"2014\", \"340999\", \"LETTUCE HEAD\", \"25\", \"Imperial\", \" 21200.0\", \" 13.25\", \" 281000.0\", \" 325.04\", \"Tons\", \"91336000\"], [1102, \"2014\", \"340999\", \"LETTUCE HEAD\", \"29\", \"Kern\", \" 320.0\", \" 16.66\", \" 5330.0\", \" 694.37\", \"Tons\", \"3701000\"], [1103, \"2014\", \"340999\", \"LETTUCE HEAD\", \"53\", \"Monterey\", \" 44200.0\", \" 25.0\", \" 1105000.0\", \" 589.26\", \"Tons\", \"651136000\"], [1104, \"2014\", \"340999\", \"LETTUCE HEAD\", \"65\", \"Riverside\", \" 968.0\", \" 13.43\", \" 13000.0\", \" 499.92\", \"Tons\", \"6499000\"], [1105, \"2014\", \"340999\", \"LETTUCE HEAD\", \"69\", \"San Benito\", \" 663.0\", \" 18.1\", \" 12000.0\", \" 339.25\", \"Tons\", \"4071000\"], [1106, \"2014\", \"340999\", \"LETTUCE HEAD\", \"79\", \"San Luis Obispo\", \" 3590.0\", \" 15.82\", \" 56800.0\", \" 360.56\", \"Tons\", \"20480000\"], [1107, \"2014\", \"340999\", \"LETTUCE HEAD\", \"83\", \"Santa Barbara\", \" 10200.0\", \" 18.33\", \" 187000.0\", \" 430.29\", \"Tons\", \"80464000\"], [1108, \"2014\", \"340999\", \"LETTUCE HEAD\", \"87\", \"Santa Cruz\", \" 1470.0\", \" 18.57\", \" 27300.0\", \" 284.65\", \"Tons\", \"7771000\"], [1109, \"2014\", \"340999\", \"LETTUCE HEAD\", \"111\", \"Ventura\", \" 160.0\", \" 11.63\", \" 1860.0\", \" 1135.48\", \"Tons\", \"2112000\"], [1110, \"2014\", \"340999\", \"LETTUCE HEAD\", \"999\", \"State Total\", \" 89391.0\", \" 20.27\", \" 1812290.0\", \" 511.56\", \"NaN\", \"927094000\"], [1111, \"2014\", \"342999\", \"LETTUCE LEAF\", \"19\", \"Fresno\", \" 4730.0\", \" 8.44\", \" 39900.0\", \" 746.99\", \"Tons\", \"29805000\"], [1112, \"2014\", \"342999\", \"LETTUCE LEAF\", \"25\", \"Imperial\", \" 8310.0\", \" 10.91\", \" 90700.0\", \" 269.1\", \"Tons\", \"24407000\"], [1113, \"2014\", \"342999\", \"LETTUCE LEAF\", \"53\", \"Monterey\", \" 19200.0\", \" 18.85\", \" 362000.0\", \" 585.58\", \"Tons\", \"211979000\"], [1114, \"2014\", \"342999\", \"LETTUCE LEAF\", \"65\", \"Riverside\", \" 1210.0\", \" 10.99\", \" 13300.0\", \" 786.47\", \"Tons\", \"10460000\"], [1115, \"2014\", \"342999\", \"LETTUCE LEAF\", \"69\", \"San Benito\", \" 404.0\", \" 10.4\", \" 4200.0\", \" 632.86\", \"Tons\", \"2658000\"], [1116, \"2014\", \"342999\", \"LETTUCE LEAF\", \"79\", \"San Luis Obispo\", \" 881.0\", \" 12.26\", \" 10800.0\", \" 638.24\", \"Tons\", \"6893000\"], [1117, \"2014\", \"342999\", \"LETTUCE LEAF\", \"83\", \"Santa Barbara\", \" 4040.0\", \" 8.99\", \" 36300.0\", \" 728.82\", \"Tons\", \"26456000\"], [1118, \"2014\", \"342999\", \"LETTUCE LEAF\", \"87\", \"Santa Cruz\", \" 1800.0\", \" 14.39\", \" 25900.0\", \" 448.42\", \"Tons\", \"11614000\"], [1119, \"2014\", \"342999\", \"LETTUCE LEAF\", \"111\", \"Ventura\", \" 911.0\", \" 15.59\", \" 14200.0\", \" 950.49\", \"Tons\", \"13497000\"], [1120, \"2014\", \"342999\", \"LETTUCE LEAF\", \"991\", \"Sum of Others\", \" 881.0\", \" 9.57\", \" 8427.0\", \" 591.43\", \"Tons\", \"4984000\"], [1121, \"2014\", \"342999\", \"LETTUCE LEAF\", \"999\", \"State Total\", \" 42367.0\", \" 14.3\", \" 605727.0\", \" 565.85\", \"NaN\", \"342753000\"], [1122, \"2014\", \"341999\", \"LETTUCE ROMAINE\", \"25\", \"Imperial\", \" 6280.0\", \" 9.76\", \" 61300.0\", \" 613.83\", \"Tons\", \"37628000\"], [1123, \"2014\", \"341999\", \"LETTUCE ROMAINE\", \"53\", \"Monterey\", \" 45300.0\", \" 19.65\", \" 890000.0\", \" 625.42\", \"Tons\", \"556624000\"], [1124, \"2014\", \"341999\", \"LETTUCE ROMAINE\", \"65\", \"Riverside\", \" 1800.0\", \" 14.0\", \" 25200.0\", \" 600.0\", \"Tons\", \"15120000\"], [1125, \"2014\", \"341999\", \"LETTUCE ROMAINE\", \"69\", \"San Benito\", \" 3380.0\", \" 12.87\", \" 43500.0\", \" 600.67\", \"Tons\", \"26129000\"], [1126, \"2014\", \"341999\", \"LETTUCE ROMAINE\", \"111\", \"Ventura\", \" 1390.0\", \" 15.68\", \" 21800.0\", \" 283.81\", \"Tons\", \"6187000\"], [1127, \"2014\", \"341999\", \"LETTUCE ROMAINE\", \"991\", \"Sum of Others\", \" 272.0\", \" 12.28\", \" 3340.0\", \" 362.57\", \"Tons\", \"1211000\"], [1128, \"2014\", \"341999\", \"LETTUCE ROMAINE\", \"999\", \"State Total\", \" 58422.0\", \" 17.89\", \" 1045140.0\", \" 615.13\", \"NaN\", \"642899000\"], [1129, \"2014\", \"339999\", \"LETTUCE UNSPECIFIED\", \"59\", \"Orange\", \" 6.0\", \" 3.33\", \" 20.0\", \" 1450.0\", \"Tons\", \"29000\"], [1130, \"2014\", \"339999\", \"LETTUCE UNSPECIFIED\", \"85\", \"Santa Clara\", \" 1620.0\", \" 20.86\", \" 33800.0\", \" 362.16\", \"Tons\", \"12241000\"], [1131, \"2014\", \"339999\", \"LETTUCE UNSPECIFIED\", \"991\", \"Sum of Others\", \" 121.0\", \" 7.2\", \" 871.0\", \" 573.0\", \"Tons\", \"499083\"], [1132, \"2014\", \"339999\", \"LETTUCE UNSPECIFIED\", \"999\", \"State Total\", \" 1747.0\", \" 19.86\", \" 34691.0\", \" 368.08\", \"NaN\", \"12769083\"], [1471, \"2014\", \"201119\", \"ORANGES NAVEL\", \"19\", \"Fresno\", \" 23500.0\", \" 12.47\", \" 293000.0\", \" 420.6\", \"Tons\", \"123235000\"], [1472, \"2014\", \"201119\", \"ORANGES NAVEL\", \"29\", \"Kern\", \" 31400.0\", \" 10.25\", \" 322000.0\", \" 942.17\", \"Tons\", \"303378000\"], [1473, \"2014\", \"201119\", \"ORANGES NAVEL\", \"65\", \"Riverside\", \" 1410.0\", \" 9.93\", \" 14000.0\", \" 318.93\", \"Tons\", \"4465000\"], [1474, \"2014\", \"201119\", \"ORANGES NAVEL\", \"71\", \"San Bernardino\", \" 1200.0\", \" 8.5\", \" 10200.0\", \" 610.29\", \"Tons\", \"6225000\"], [1475, \"2014\", \"201119\", \"ORANGES NAVEL\", \"107\", \"Tulare\", \" 79500.0\", \" 13.67\", \" 1087000.0\", \" 711.71\", \"Tons\", \"773628000\"], [1476, \"2014\", \"201119\", \"ORANGES NAVEL\", \"111\", \"Ventura\", \" 457.0\", \" 11.93\", \" 5450.0\", \" 620.92\", \"Tons\", \"3384000\"], [1477, \"2014\", \"201119\", \"ORANGES NAVEL\", \"991\", \"Sum of Others\", \" 120.0\", \" 7.71\", \" 925.0\", \" 930.92\", \"Tons\", \"861100\"], [1478, \"2014\", \"201119\", \"ORANGES NAVEL\", \"999\", \"State Total\", \" 137587.0\", \" 12.59\", \" 1732575.0\", \" 701.37\", \"NaN\", \"1215176100\"], [1479, \"2014\", \"201999\", \"ORANGES UNSPECIFIED\", \"39\", \"Madera\", \" 2900.0\", \" 13.07\", \" 37900.0\", \" 456.39\", \"Tons\", \"17297000\"], [1480, \"2014\", \"201999\", \"ORANGES UNSPECIFIED\", \"73\", \"San Diego\", \" 6170.0\", \" 9.01\", \" 55600.0\", \" 516.21\", \"Tons\", \"28701000\"], [1481, \"2014\", \"201999\", \"ORANGES UNSPECIFIED\", \"991\", \"Sum of Others\", \"NaN\", \"NaN\", \"NaN\", \"NaN\", \"Tons\", \"216000\"], [1482, \"2014\", \"201999\", \"ORANGES UNSPECIFIED\", \"999\", \"State Total\", \" 9070.0\", \" 10.31\", \" 93500.0\", \" 491.96\", \"NaN\", \"46214000\"], [1483, \"2014\", \"201519\", \"ORANGES VALENCIA\", \"19\", \"Fresno\", \" 2620.0\", \" 14.77\", \" 38700.0\", \" 266.98\", \"Tons\", \"10332000\"], [1484, \"2014\", \"201519\", \"ORANGES VALENCIA\", \"29\", \"Kern\", \" 5680.0\", \" 13.38\", \" 76000.0\", \" 782.68\", \"Tons\", \"59484000\"], [1485, \"2014\", \"201519\", \"ORANGES VALENCIA\", \"59\", \"Orange\", \" 71.0\", \" 7.54\", \" 535.0\", \" 181.31\", \"Tons\", \"97000\"], [1486, \"2014\", \"201519\", \"ORANGES VALENCIA\", \"65\", \"Riverside\", \" 1300.0\", \" 8.23\", \" 10700.0\", \" 254.3\", \"Tons\", \"2721000\"], [1487, \"2014\", \"201519\", \"ORANGES VALENCIA\", \"71\", \"San Bernardino\", \" 1000.0\", \" 9.79\", \" 9790.0\", \" 812.97\", \"Tons\", \"7959000\"], [1488, \"2014\", \"201519\", \"ORANGES VALENCIA\", \"79\", \"San Luis Obispo\", \" 247.0\", \" 16.88\", \" 4170.0\", \" 416.07\", \"Tons\", \"1735000\"], [1489, \"2014\", \"201519\", \"ORANGES VALENCIA\", \"107\", \"Tulare\", \" 16300.0\", \" 17.42\", \" 284000.0\", \" 666.76\", \"Tons\", \"189360000\"], [1490, \"2014\", \"201519\", \"ORANGES VALENCIA\", \"111\", \"Ventura\", \" 2410.0\", \" 14.23\", \" 34300.0\", \" 495.92\", \"Tons\", \"17010000\"], [1491, \"2014\", \"201519\", \"ORANGES VALENCIA\", \"991\", \"Sum of Others\", \" 20.0\", \" 12.0\", \" 240.0\", \" 318.75\", \"Tons\", \"76500\"], [1492, \"2014\", \"201519\", \"ORANGES VALENCIA\", \"999\", \"State Total\", \" 29648.0\", \" 15.46\", \" 458435.0\", \" 629.91\", \"NaN\", \"288774500\"], [1693, \"2014\", \"268079\", \"PISTACHIOS\", \"7\", \"Butte\", \" 713.0\", \" 1.2\", \" 856.0\", \" 5690.42\", \"Tons\", \"4871000\"], [1694, \"2014\", \"268079\", \"PISTACHIOS\", \"19\", \"Fresno\", \" 50400.0\", \" 1.06\", \" 53400.0\", \" 7084.01\", \"Tons\", \"378286000\"], [1695, \"2014\", \"268079\", \"PISTACHIOS\", \"21\", \"Glenn\", \" 1730.0\", \" 1.25\", \" 2160.0\", \" 5997.22\", \"Tons\", \"12954000\"], [1696, \"2014\", \"268079\", \"PISTACHIOS\", \"29\", \"Kern\", \" 103000.0\", \" 0.78\", \" 79900.0\", \" 5019.39\", \"Tons\", \"401049000\"], [1697, \"2014\", \"268079\", \"PISTACHIOS\", \"31\", \"Kings\", \" 19200.0\", \" 1.23\", \" 23600.0\", \" 5770.0\", \"Tons\", \"136172000\"], [1698, \"2014\", \"268079\", \"PISTACHIOS\", \"39\", \"Madera\", \" 31000.0\", \" 1.58\", \" 49000.0\", \" 5953.57\", \"Tons\", \"291725000\"], [1699, \"2014\", \"268079\", \"PISTACHIOS\", \"47\", \"Merced\", \" 5110.0\", \" 1.06\", \" 5400.0\", \" 7877.04\", \"Tons\", \"42536000\"], [1700, \"2014\", \"268079\", \"PISTACHIOS\", \"71\", \"San Bernardino\", \" 183.0\", \" 0.73\", \" 134.0\", \" 4470.15\", \"Tons\", \"599000\"], [1701, \"2014\", \"268079\", \"PISTACHIOS\", \"103\", \"Tehama\", \" 226.0\", \" 0.64\", \" 145.0\", \" 5689.66\", \"Tons\", \"825000\"], [1702, \"2014\", \"268079\", \"PISTACHIOS\", \"107\", \"Tulare\", \" 45400.0\", \" 1.28\", \" 58100.0\", \" 6450.0\", \"Tons\", \"374745000\"], [1703, \"2014\", \"268079\", \"PISTACHIOS\", \"991\", \"Sum of Others\", \" 1088.0\", \" 0.62\", \" 677.0\", \" 10255.54\", \"Tons\", \"6943000\"], [1704, \"2014\", \"268079\", \"PISTACHIOS\", \"999\", \"State Total\", \" 258050.0\", \" 1.06\", \" 273372.0\", \" 6038.31\", \"NaN\", \"1650705000\"], [1782, \"2014\", \"106199\", \"RICE MILLING\", \"7\", \"Butte\", \" 77800.0\", \" 4.4\", \" 342000.0\", \" 441.41\", \"Tons\", \"150963000\"], [1783, \"2014\", \"106199\", \"RICE MILLING\", \"11\", \"Colusa\", \" 111000.0\", \" 4.53\", \" 503000.0\", \" 440.3\", \"Tons\", \"221470000\"], [1784, \"2014\", \"106199\", \"RICE MILLING\", \"21\", \"Glenn\", \" 73300.0\", \" 4.6\", \" 337000.0\", \" 420.33\", \"Tons\", \"141650000\"], [1785, \"2014\", \"106199\", \"RICE MILLING\", \"61\", \"Placer\", \" 13600.0\", \" 4.19\", \" 57000.0\", \" 419.14\", \"Tons\", \"23891000\"], [1786, \"2014\", \"106199\", \"RICE MILLING\", \"67\", \"Sacramento\", \" 8590.0\", \" 4.51\", \" 38700.0\", \" 424.34\", \"Tons\", \"16422000\"], [1787, \"2014\", \"106199\", \"RICE MILLING\", \"77\", \"San Joaquin\", \" 3400.0\", \" 4.74\", \" 16100.0\", \" 400.0\", \"Tons\", \"6440000\"], [1788, \"2014\", \"106199\", \"RICE MILLING\", \"99\", \"Stanislaus\", \" 903.0\", \" 4.74\", \" 4280.0\", \" 400.0\", \"Tons\", \"1712000\"], [1789, \"2014\", \"106199\", \"RICE MILLING\", \"101\", \"Sutter\", \" 75900.0\", \" 4.49\", \" 341000.0\", \" 418.76\", \"Tons\", \"142797000\"], [1790, \"2014\", \"106199\", \"RICE MILLING\", \"113\", \"Yolo\", \" 39300.0\", \" 4.22\", \" 166000.0\", \" 416.88\", \"Tons\", \"69202000\"], [1791, \"2014\", \"106199\", \"RICE MILLING\", \"115\", \"Yuba\", \" 39000.0\", \" 4.26\", \" 166000.0\", \" 379.31\", \"Tons\", \"62966000\"], [1792, \"2014\", \"106199\", \"RICE MILLING\", \"991\", \"Sum of Others\", \" 4188.0\", \" 2.94\", \" 12310.0\", \" 711.37\", \"Tons\", \"8757000\"], [1793, \"2014\", \"106199\", \"RICE MILLING\", \"999\", \"State Total\", \" 446981.0\", \" 4.44\", \" 1983390.0\", \" 426.68\", \"NaN\", \"846270000\"], [1794, \"2014\", \"171069\", \"RICE SEED\", \"7\", \"Butte\", \" 4400.0\", \" 4.55\", \" 20000.0\", \" 640.95\", \"Tons\", \"12819000\"], [1795, \"2014\", \"171069\", \"RICE SEED\", \"11\", \"Colusa\", \" 6160.0\", \" 4.46\", \" 27500.0\", \" 580.95\", \"Tons\", \"15976000\"], [1796, \"2014\", \"171069\", \"RICE SEED\", \"21\", \"Glenn\", \" 1760.0\", \" 4.4\", \" 7740.0\", \" 419.77\", \"Tons\", \"3249000\"], [1797, \"2014\", \"171069\", \"RICE SEED\", \"101\", \"Sutter\", \" 3180.0\", \" 4.4\", \" 14000.0\", \" 440.71\", \"Tons\", \"6170000\"], [1798, \"2014\", \"171069\", \"RICE SEED\", \"999\", \"State Total\", \" 15500.0\", \" 4.47\", \" 69240.0\", \" 551.91\", \"NaN\", \"38214000\"], [1799, \"2014\", \"198199\", \"RICE WILD\", \"35\", \"Lassen\", \" 1710.0\", \" 0.67\", \" 1150.0\", \" 1444.35\", \"Tons\", \"1661000\"], [1800, \"2014\", \"198199\", \"RICE WILD\", \"89\", \"Shasta\", \" 5600.0\", \" 0.76\", \" 4230.0\", \" 1639.24\", \"Tons\", \"6934000\"], [1801, \"2014\", \"198199\", \"RICE WILD\", \"101\", \"Sutter\", \" 1150.0\", \" 1.08\", \" 1240.0\", \" 1843.55\", \"Tons\", \"2286000\"], [1802, \"2014\", \"198199\", \"RICE WILD\", \"999\", \"State Total\", \" 8460.0\", \" 0.78\", \" 6620.0\", \" 1643.66\", \"NaN\", \"10881000\"], [1992, \"2014\", \"378199\", \"TOMATOES FRESH MARKET\", \"19\", \"Fresno\", \" 8740.0\", \" 27.57\", \" 241000.0\", \" 499.0\", \"Tons\", \"120259000\"], [1993, \"2014\", \"378199\", \"TOMATOES FRESH MARKET\", \"29\", \"Kern\", \" 840.0\", \" 19.17\", \" 16100.0\", \" 964.84\", \"Tons\", \"15534000\"], [1994, \"2014\", \"378199\", \"TOMATOES FRESH MARKET\", \"39\", \"Madera\", \" 600.0\", \" 16.25\", \" 9750.0\", \" 525.03\", \"Tons\", \"5119000\"], [1995, \"2014\", \"378199\", \"TOMATOES FRESH MARKET\", \"47\", \"Merced\", \" 8580.0\", \" 17.6\", \" 151000.0\", \" 530.03\", \"Tons\", \"80035000\"], [1996, \"2014\", \"378199\", \"TOMATOES FRESH MARKET\", \"65\", \"Riverside\", \" 262.0\", \" 19.01\", \" 4980.0\", \" 801.81\", \"Tons\", \"3993000\"], [1997, \"2014\", \"378199\", \"TOMATOES FRESH MARKET\", \"69\", \"San Benito\", \" 578.0\", \" 14.57\", \" 8420.0\", \" 1019.48\", \"Tons\", \"8584000\"], [1998, \"2014\", \"378199\", \"TOMATOES FRESH MARKET\", \"73\", \"San Diego\", \" 1720.0\", \" 15.0\", \" 25800.0\", \" 3173.57\", \"Tons\", \"81878000\"], [1999, \"2014\", \"378199\", \"TOMATOES FRESH MARKET\", \"77\", \"San Joaquin\", \" 2110.0\", \" 16.11\", \" 34000.0\", \" 563.0\", \"Tons\", \"19142000\"], [2000, \"2014\", \"378199\", \"TOMATOES FRESH MARKET\", \"85\", \"Santa Clara\", \" 904.0\", \" 20.46\", \" 18500.0\", \" 701.19\", \"Tons\", \"12972000\"], [2001, \"2014\", \"378199\", \"TOMATOES FRESH MARKET\", \"99\", \"Stanislaus\", \" 762.0\", \" 15.49\", \" 11800.0\", \" 550.0\", \"Tons\", \"6490000\"], [2002, \"2014\", \"378199\", \"TOMATOES FRESH MARKET\", \"991\", \"Sum of Others\", \" 41.0\", \"NaN\", \"NaN\", \"NaN\", \"Tons\", \"701000\"], [2003, \"2014\", \"378199\", \"TOMATOES FRESH MARKET\", \"999\", \"State Total\", \" 25137.0\", \" 20.77\", \" 521350.0\", \" 679.02\", \"NaN\", \"354707000\"], [2004, \"2014\", \"378299\", \"TOMATOES PROCESSING\", \"11\", \"Colusa\", \" 15700.0\", \" 57.07\", \" 896000.0\", \" 83.01\", \"Tons\", \"74376000\"], [2005, \"2014\", \"378299\", \"TOMATOES PROCESSING\", \"19\", \"Fresno\", \" 89600.0\", \" 53.06\", \" 4754000.0\", \" 85.0\", \"Tons\", \"404090000\"], [2006, \"2014\", \"378299\", \"TOMATOES PROCESSING\", \"29\", \"Kern\", \" 14000.0\", \" 52.86\", \" 740000.0\", \" 89.51\", \"Tons\", \"66234000\"], [2007, \"2014\", \"378299\", \"TOMATOES PROCESSING\", \"31\", \"Kings\", \" 34000.0\", \" 52.94\", \" 1800000.0\", \" 81.12\", \"Tons\", \"146017000\"], [2008, \"2014\", \"378299\", \"TOMATOES PROCESSING\", \"39\", \"Madera\", \" 5600.0\", \" 58.57\", \" 328000.0\", \" 79.11\", \"Tons\", \"25947000\"], [2009, \"2014\", \"378299\", \"TOMATOES PROCESSING\", \"47\", \"Merced\", \" 23000.0\", \" 54.0\", \" 1242000.0\", \" 83.67\", \"Tons\", \"103915000\"], [2010, \"2014\", \"378299\", \"TOMATOES PROCESSING\", \"67\", \"Sacramento\", \" 3800.0\", \" 42.63\", \" 162000.0\", \" 82.86\", \"Tons\", \"13424000\"], [2011, \"2014\", \"378299\", \"TOMATOES PROCESSING\", \"69\", \"San Benito\", \" 1140.0\", \" 51.93\", \" 59200.0\", \" 83.46\", \"Tons\", \"4941000\"], [2012, \"2014\", \"378299\", \"TOMATOES PROCESSING\", \"77\", \"San Joaquin\", \" 35700.0\", \" 44.79\", \" 1599000.0\", \" 83.0\", \"Tons\", \"132717000\"], [2013, \"2014\", \"378299\", \"TOMATOES PROCESSING\", \"85\", \"Santa Clara\", \" 844.0\", \" 61.73\", \" 52100.0\", \" 82.96\", \"Tons\", \"4322000\"], [2014, \"2014\", \"378299\", \"TOMATOES PROCESSING\", \"95\", \"Solano\", \" 11900.0\", \" 46.39\", \" 552000.0\", \" 83.56\", \"Tons\", \"46124000\"], [2015, \"2014\", \"378299\", \"TOMATOES PROCESSING\", \"99\", \"Stanislaus\", \" 13100.0\", \" 46.56\", \" 610000.0\", \" 86.0\", \"Tons\", \"52460000\"], [2016, \"2014\", \"378299\", \"TOMATOES PROCESSING\", \"101\", \"Sutter\", \" 10000.0\", \" 45.1\", \" 451000.0\", \" 85.06\", \"Tons\", \"38361000\"], [2017, \"2014\", \"378299\", \"TOMATOES PROCESSING\", \"113\", \"Yolo\", \" 39800.0\", \" 45.6\", \" 1815000.0\", \" 83.59\", \"Tons\", \"151714000\"], [2018, \"2014\", \"378299\", \"TOMATOES PROCESSING\", \"991\", \"Sum of Others\", \" 371.0\", \" 50.13\", \" 18600.0\", \" 127.2\", \"Tons\", \"2366000\"], [2019, \"2014\", \"378299\", \"TOMATOES PROCESSING\", \"999\", \"State Total\", \" 298555.0\", \" 50.51\", \" 15078900.0\", \" 84.03\", \"NaN\", \"1267008000\"], [2020, \"2014\", \"378999\", \"TOMATOES UNSPECIFIED\", \"13\", \"Contra Costa\", \" 3110.0\", \" 48.23\", \" 150000.0\", \" 105.86\", \"Tons\", \"15879000\"], [2021, \"2014\", \"378999\", \"TOMATOES UNSPECIFIED\", \"37\", \"Los Angeles\", \" 42.0\", \" 7.93\", \" 333.0\", \" 1297.3\", \"Tons\", \"432000\"], [2022, \"2014\", \"378999\", \"TOMATOES UNSPECIFIED\", \"53\", \"Monterey\", \" 574.0\", \" 17.94\", \" 10300.0\", \" 526.99\", \"Tons\", \"5428000\"], [2023, \"2014\", \"378999\", \"TOMATOES UNSPECIFIED\", \"71\", \"San Bernardino\", \" 3.0\", \" 11.0\", \" 33.0\", \" 845.45\", \"Tons\", \"27900\"], [2024, \"2014\", \"378999\", \"TOMATOES UNSPECIFIED\", \"111\", \"Ventura\", \" 466.0\", \" 89.48\", \" 41700.0\", \" 1731.58\", \"Tons\", \"72207000\"], [2025, \"2014\", \"378999\", \"TOMATOES UNSPECIFIED\", \"991\", \"Sum of Others\", \" 24.0\", \"NaN\", \"NaN\", \"NaN\", \"Tons\", \"428000\"], [2026, \"2014\", \"378999\", \"TOMATOES UNSPECIFIED\", \"999\", \"State Total\", \" 4219.0\", \" 48.24\", \" 202366.0\", \" 464.38\", \"NaN\", \"94401900\"]];\n",
       "\n",
       "        // Define the dt_args\n",
       "        let dt_args = {\"layout\": {\"topStart\": \"pageLength\", \"topEnd\": \"search\", \"bottomStart\": \"info\", \"bottomEnd\": \"paging\"}, \"order\": [], \"fnInfoCallback\": function (oSettings, iStart, iEnd, iMax, iTotal, sPre) { return sPre + ' (<a href=\"https://mwouts.github.io/itables/downsampling.html\">downsampled</a> from 15,478x11 to 744x11 as maxBytes=64KB)'; }};\n",
       "        dt_args[\"data\"] = data;\n",
       "\n",
       "        \n",
       "        new DataTable(table, dt_args);\n",
       "    });\n",
       "</script>\n"
      ],
      "text/plain": [
       "<IPython.core.display.HTML object>"
      ]
     },
     "metadata": {},
     "output_type": "display_data"
    }
   ],
   "source": [
    "# filter to target crops\n",
    "ur_table = ur_table[ur_table['Crop Name'].isin(good_list)]\n",
    "show(ur_table)"
   ]
  },
  {
   "cell_type": "markdown",
   "id": "4fdffa01-a3db-4f85-b100-898d1e199bd9",
   "metadata": {},
   "source": [
    "#### Standardize County Names"
   ]
  },
  {
   "cell_type": "code",
   "execution_count": 16,
   "id": "3a537835-98e6-4219-8b3f-de8dbc71d531",
   "metadata": {},
   "outputs": [
    {
     "name": "stdout",
     "output_type": "stream",
     "text": [
      "['Alameda', 'Alpine', 'Amador', 'Butte', 'Calaveras', 'Colusa', 'Contra Costa', 'Del Norte', 'El Dorado', 'Fresno', 'Glenn', 'Humboldt', 'Imperial', 'Inyo', 'Kern', 'Kings', 'Lake', 'Lassen', 'Los Angeles', 'Madera', 'Marin', 'Mariposa', 'Mendocino', 'Merced', 'Modoc', 'Mono', 'Monterey', 'Napa', 'Nevada', 'Orange', 'Placer', 'Plumas', 'Riverside', 'Sacramento', 'San Benito', 'San Bernardino', 'San Diego', 'San Joaquin', 'San Luis Obisp', 'San Luis Obispo', 'San Mateo', 'Santa Barbara', 'Santa Clara', 'Santa Cruz', 'Shasta', 'Sierra', 'Siskiyou', 'Solano', 'Sonoma', 'Stanislaus', 'State Total', 'State Totals', 'Sum of Others', 'Sutter', 'Tehama', 'Trinity', 'Tulare', 'Tuolumne', 'Ventura', 'Yolo', 'Yuba']\n"
     ]
    }
   ],
   "source": [
    "ur_table['County'] = ur_table['County'].str.strip()\n",
    "\n",
    "coulist = list(ur_table['County'].unique())\n",
    "coulist.sort()\n",
    "print(coulist)"
   ]
  },
  {
   "cell_type": "code",
   "execution_count": 17,
   "id": "a9d875aa-e821-49a1-93ac-9da620da129e",
   "metadata": {},
   "outputs": [
    {
     "name": "stdout",
     "output_type": "stream",
     "text": [
      "['Alameda', 'Alpine', 'Amador', 'Butte', 'Calaveras', 'Colusa', 'Contra Costa', 'Del Norte', 'El Dorado', 'Fresno', 'Glenn', 'Humboldt', 'Imperial', 'Inyo', 'Kern', 'Kings', 'Lake', 'Lassen', 'Los Angeles', 'Madera', 'Marin', 'Mariposa', 'Mendocino', 'Merced', 'Modoc', 'Mono', 'Monterey', 'Napa', 'Nevada', 'Orange', 'Placer', 'Plumas', 'Riverside', 'Sacramento', 'San Benito', 'San Bernardino', 'San Diego', 'San Joaquin', 'San Luis Obispo', 'San Mateo', 'Santa Barbara', 'Santa Clara', 'Santa Cruz', 'Shasta', 'Sierra', 'Siskiyou', 'Solano', 'Sonoma', 'Stanislaus', 'State Total', 'Sum of Others', 'Sutter', 'Tehama', 'Trinity', 'Tulare', 'Tuolumne', 'Ventura', 'Yolo', 'Yuba']\n"
     ]
    }
   ],
   "source": [
    "county_remaps = {\n",
    "    'San Luis Obisp': 'San Luis Obispo',\n",
    "    'State Totals': 'State Total',\n",
    "}\n",
    "\n",
    "ur_table['County'] = ur_table['County'].replace(county_remaps)\n",
    "\n",
    "coulist = list(ur_table['County'].unique())\n",
    "coulist.sort()\n",
    "print(coulist)"
   ]
  },
  {
   "cell_type": "markdown",
   "id": "9722988e-bb28-4485-a3e6-4ccc2a194887",
   "metadata": {},
   "source": [
    "#### Convert Value Columns to Float"
   ]
  },
  {
   "cell_type": "code",
   "execution_count": 19,
   "id": "19431a2f-698f-4516-8ed5-af9e666756a4",
   "metadata": {
    "scrolled": true
   },
   "outputs": [
    {
     "name": "stdout",
     "output_type": "stream",
     "text": [
      "Harvested Acres\n",
      "Yield\n",
      "Production\n",
      "Price Per Unit\n",
      "Value\n"
     ]
    }
   ],
   "source": [
    "import math\n",
    "\n",
    "value_cols = ['Harvested Acres', 'Yield', 'Production', 'Price Per Unit', 'Value']\n",
    "\n",
    "def to_float(x):\n",
    "    if not isinstance(x, str):\n",
    "        return float(x)\n",
    "\n",
    "    x = x.strip()\n",
    "    if len(x) < 1:\n",
    "        return math.nan\n",
    "    else:\n",
    "        return float(x)\n",
    "\n",
    "for vcol in value_cols:\n",
    "    if ur_table[vcol].dtype == 'object':\n",
    "        print(vcol)\n",
    "        ur_table[vcol] = ur_table[vcol].apply(to_float)"
   ]
  },
  {
   "cell_type": "markdown",
   "id": "90fcdd83-1615-440f-8ea7-1ed4d94530ea",
   "metadata": {},
   "source": [
    "#### Save Ur-Table"
   ]
  },
  {
   "cell_type": "code",
   "execution_count": 47,
   "id": "537d67b2-e8cc-4b38-ba9a-33cac5df3841",
   "metadata": {},
   "outputs": [],
   "source": [
    "fpath = os.path.join(agdir, 'CaUsdaFull.csv')\n",
    "ur_table.to_csv(fpath, index=False)"
   ]
  },
  {
   "cell_type": "markdown",
   "id": "4cabdf1a-3cf2-443b-93dd-500329c0ab96",
   "metadata": {},
   "source": [
    "#### Plot Tests"
   ]
  },
  {
   "cell_type": "code",
   "execution_count": 21,
   "id": "14d81779-5837-487a-96db-2ecded17d6ad",
   "metadata": {},
   "outputs": [
    {
     "data": {
      "text/plain": [
       "array(['ALMONDS ALL', 'BERRIES STRAWBERRIES FRESH MARKET',\n",
       "       'BERRIES STRAWBERRIES PROCESSING',\n",
       "       'BERRIES STRAWBERRIES UNSPECIFIED', 'CARROTS FRESH MARKET',\n",
       "       'CARROTS PROCESSING', 'CARROTS UNSPECIFIED', 'CHAYOTES',\n",
       "       'GRAPES RAISIN', 'GRAPES TABLE', 'GRAPES UNSPECIFIED',\n",
       "       'GRAPES WINE', 'HAY ALFALFA', 'HAY GRAIN', 'HAY GREEN CHOP',\n",
       "       'HAY OTHER UNSPECIFIED', 'HAY WILD', 'LETTUCE HEAD',\n",
       "       'LETTUCE LEAF', 'LETTUCE ROMAINE', 'LETTUCE UNSPECIFIED',\n",
       "       'ORANGES NAVEL', 'ORANGES UNSPECIFIED', 'ORANGES VALENCIA',\n",
       "       'PISTACHIOS', 'RICE MILLING', 'RICE SEED', 'RICE WILD',\n",
       "       'TOMATOES CHERRY', 'TOMATOES FRESH MARKET', 'TOMATOES GREENHOUSE',\n",
       "       'TOMATOES PROCESSING', 'TOMATOES UNSPECIFIED', 'HAY SUDAN',\n",
       "       'LETTUCE BULK SALAD PRODUCTS', 'CARROTS FOOD SERVICE',\n",
       "       'RICE SWEET', 'BERRIES STRAWBERRIES ALL'], dtype=object)"
      ]
     },
     "execution_count": 21,
     "metadata": {},
     "output_type": "execute_result"
    }
   ],
   "source": [
    "ur_table['Crop Name'].unique()"
   ]
  },
  {
   "cell_type": "code",
   "execution_count": 42,
   "id": "cacabcfe-f93e-4c61-b272-5e26e9e10db7",
   "metadata": {},
   "outputs": [
    {
     "data": {
      "application/vnd.plotly.v1+json": {
       "config": {
        "plotlyServerURL": "https://plot.ly"
       },
       "data": [
        {
         "hovertemplate": "County=Colusa<br>Year=%{x}<br>Harvested Acres=%{y}<extra></extra>",
         "legendgroup": "Colusa",
         "marker": {
          "color": "#636efa",
          "symbol": "circle"
         },
         "mode": "markers",
         "name": "Colusa",
         "orientation": "v",
         "showlegend": true,
         "type": "scatter",
         "x": [
          1987,
          1985,
          2004,
          2006,
          2013,
          2009,
          1980,
          2019,
          1991,
          2001,
          1989,
          1988,
          2011,
          2016,
          1990,
          "1986 ",
          2002,
          1982,
          1993,
          2015,
          2005,
          1981,
          2000,
          2017,
          2020,
          1995,
          1984,
          1999,
          "1996 ",
          1992,
          2003,
          2010,
          2008,
          2007,
          1998,
          2018,
          1994,
          2012,
          1997,
          1983,
          2014
         ],
         "xaxis": "x",
         "y": [
          12800,
          12100,
          20500,
          18400,
          13900,
          18440,
          6060,
          12300,
          25725,
          20250,
          17800,
          13800,
          12700,
          15600,
          22400,
          11300,
          18900,
          10650,
          19700,
          17600,
          23650,
          8190,
          20900,
          14800,
          12700,
          31600,
          13400,
          30500,
          29780,
          18600,
          16900,
          11800,
          13940,
          16500,
          22760,
          14100,
          24100,
          13500,
          24900,
          11900,
          15700
         ],
         "yaxis": "y"
        },
        {
         "hovertemplate": "County=Contra Costa<br>Year=%{x}<br>Harvested Acres=%{y}<extra></extra>",
         "legendgroup": "Contra Costa",
         "marker": {
          "color": "#EF553B",
          "symbol": "circle"
         },
         "mode": "markers",
         "name": "Contra Costa",
         "orientation": "v",
         "showlegend": true,
         "type": "scatter",
         "x": [
          1987,
          1985,
          2004,
          2006,
          2013,
          2009,
          1980,
          1991,
          2001,
          1989,
          1988,
          2011,
          1990,
          "1986 ",
          2002,
          1982,
          1993,
          2015,
          2005,
          1981,
          2000,
          1995,
          1984,
          1999,
          "1996 ",
          1992,
          2003,
          2010,
          2008,
          2007,
          1998,
          1994,
          2012,
          1997,
          1983
         ],
         "xaxis": "x",
         "y": [
          6000,
          5150,
          1060,
          1460,
          2160,
          1710,
          null,
          4100,
          1590,
          3500,
          6500,
          1910,
          4800,
          null,
          1024,
          4939,
          3800,
          3420,
          1080,
          4510,
          2600,
          4050,
          5400,
          3000,
          3830,
          4420,
          1180,
          1630,
          1500,
          1520,
          3070,
          4100,
          2120,
          3310,
          4939
         ],
         "yaxis": "y"
        },
        {
         "hovertemplate": "County=Fresno<br>Year=%{x}<br>Harvested Acres=%{y}<extra></extra>",
         "legendgroup": "Fresno",
         "marker": {
          "color": "#00cc96",
          "symbol": "circle"
         },
         "mode": "markers",
         "name": "Fresno",
         "orientation": "v",
         "showlegend": true,
         "type": "scatter",
         "x": [
          1987,
          1985,
          2004,
          2006,
          2013,
          2009,
          1980,
          2019,
          1991,
          2001,
          1989,
          1988,
          2011,
          2016,
          1990,
          "1986 ",
          2002,
          1982,
          1993,
          2015,
          2005,
          1981,
          2000,
          2017,
          2020,
          1995,
          1984,
          1999,
          "1996 ",
          1992,
          2003,
          2010,
          2008,
          2007,
          1998,
          2018,
          1994,
          2012,
          1997,
          1983,
          2014
         ],
         "xaxis": "x",
         "y": [
          64900,
          60600,
          110000,
          124000,
          101000,
          115000,
          34880,
          74800,
          107000,
          106000,
          72400,
          64800,
          95200,
          90400,
          104000,
          62800,
          115000,
          54370,
          96000,
          97200,
          118000,
          36640,
          115000,
          73400,
          72400,
          100000,
          65800,
          115000,
          99000,
          87000,
          119000,
          108000,
          109000,
          125000,
          100000,
          77100,
          100000,
          97600,
          95000,
          60500,
          89600
         ],
         "yaxis": "y"
        },
        {
         "hovertemplate": "County=Imperial<br>Year=%{x}<br>Harvested Acres=%{y}<extra></extra>",
         "legendgroup": "Imperial",
         "marker": {
          "color": "#ab63fa",
          "symbol": "circle"
         },
         "mode": "markers",
         "name": "Imperial",
         "orientation": "v",
         "showlegend": true,
         "type": "scatter",
         "x": [
          1987,
          1985,
          1980,
          1989,
          1988,
          1990,
          "1986 ",
          1982,
          1993,
          1981,
          2000,
          1995,
          1984,
          1999,
          "1996 ",
          1992,
          1994,
          1983
         ],
         "xaxis": "x",
         "y": [
          2510,
          3324,
          350,
          11200,
          4017,
          10400,
          2999,
          2317,
          2500,
          850,
          316,
          1028,
          3785,
          1591,
          808,
          1877,
          1656,
          3135
         ],
         "yaxis": "y"
        },
        {
         "hovertemplate": "County=Kern<br>Year=%{x}<br>Harvested Acres=%{y}<extra></extra>",
         "legendgroup": "Kern",
         "marker": {
          "color": "#FFA15A",
          "symbol": "circle"
         },
         "mode": "markers",
         "name": "Kern",
         "orientation": "v",
         "showlegend": true,
         "type": "scatter",
         "x": [
          1987,
          1985,
          2004,
          2013,
          1980,
          2019,
          1991,
          2001,
          1989,
          1988,
          2011,
          2016,
          1990,
          "1986 ",
          2002,
          1982,
          1993,
          2015,
          1981,
          2000,
          2017,
          2020,
          1995,
          1984,
          1999,
          "1996 ",
          1992,
          2003,
          1998,
          2018,
          1994,
          2012,
          1997,
          1983,
          2014
         ],
         "xaxis": "x",
         "y": [
          2400,
          4200,
          12500,
          12000,
          5110,
          5680,
          4100,
          9100,
          3000,
          2600,
          13000,
          13900,
          5200,
          2420,
          12400,
          4950,
          3600,
          14500,
          3330,
          7400,
          8600,
          6880,
          5500,
          4550,
          3600,
          4600,
          2416,
          13600,
          2700,
          6000,
          4800,
          12000,
          2324,
          4500,
          14000
         ],
         "yaxis": "y"
        },
        {
         "hovertemplate": "County=Kings<br>Year=%{x}<br>Harvested Acres=%{y}<extra></extra>",
         "legendgroup": "Kings",
         "marker": {
          "color": "#19d3f3",
          "symbol": "circle"
         },
         "mode": "markers",
         "name": "Kings",
         "orientation": "v",
         "showlegend": true,
         "type": "scatter",
         "x": [
          1987,
          1985,
          2004,
          2006,
          2013,
          2009,
          1980,
          2019,
          1991,
          2001,
          1989,
          1988,
          2011,
          2016,
          1990,
          "1986 ",
          2002,
          1993,
          2015,
          2005,
          1981,
          2000,
          2017,
          2020,
          1995,
          1984,
          1999,
          "1996 ",
          1992,
          2003,
          2010,
          2008,
          2007,
          1998,
          2018,
          1994,
          2012,
          1997,
          1983,
          2014
         ],
         "xaxis": "x",
         "y": [
          1637,
          1330,
          20309,
          21064,
          33400,
          26658,
          839,
          27300,
          7500,
          10000,
          3600,
          720,
          31200,
          29800,
          3300,
          1499,
          16108,
          11000,
          31000,
          21889,
          600,
          9969,
          27100,
          29600,
          6100,
          2200,
          8217,
          6700,
          3370,
          19131,
          38400,
          30425,
          26041,
          3263,
          32400,
          11500,
          36000,
          2100,
          2278,
          34000
         ],
         "yaxis": "y"
        },
        {
         "hovertemplate": "County=Merced<br>Year=%{x}<br>Harvested Acres=%{y}<extra></extra>",
         "legendgroup": "Merced",
         "marker": {
          "color": "#FF6692",
          "symbol": "circle"
         },
         "mode": "markers",
         "name": "Merced",
         "orientation": "v",
         "showlegend": true,
         "type": "scatter",
         "x": [
          1987,
          1985,
          2004,
          2006,
          2013,
          2009,
          1980,
          2019,
          1991,
          2001,
          1989,
          1988,
          2011,
          2016,
          1990,
          "1986 ",
          2002,
          1982,
          1993,
          2015,
          2005,
          1981,
          2000,
          2017,
          2020,
          1995,
          1984,
          1999,
          "1996 ",
          1992,
          2003,
          2010,
          2008,
          2007,
          1998,
          2018,
          1994,
          2012,
          1997,
          1983,
          2014
         ],
         "xaxis": "x",
         "y": [
          6400,
          5220,
          15600,
          17300,
          19000,
          21000,
          6750,
          20400,
          10200,
          17265,
          8150,
          6050,
          13000,
          23000,
          8500,
          5860,
          18200,
          6400,
          10900,
          28100,
          14873,
          6400,
          15600,
          21200,
          24600,
          11141,
          6160,
          16014,
          12108,
          9600,
          16621,
          20600,
          16214,
          18200,
          11356,
          20500,
          10800,
          15000,
          10979,
          6690,
          23000
         ],
         "yaxis": "y"
        },
        {
         "hovertemplate": "County=Monterey<br>Year=%{x}<br>Harvested Acres=%{y}<extra></extra>",
         "legendgroup": "Monterey",
         "marker": {
          "color": "#B6E880",
          "symbol": "circle"
         },
         "mode": "markers",
         "name": "Monterey",
         "orientation": "v",
         "showlegend": true,
         "type": "scatter",
         "x": [
          1987,
          1985,
          1980,
          1991,
          1989,
          1988,
          1990,
          "1986 ",
          1982,
          1993,
          1981,
          2000,
          1984,
          1999,
          1992,
          1994,
          1983
         ],
         "xaxis": "x",
         "y": [
          1350,
          1330,
          1890,
          1700,
          3000,
          1540,
          2800,
          1480,
          2000,
          500,
          2220,
          283,
          2100,
          300,
          657,
          600,
          2715
         ],
         "yaxis": "y"
        },
        {
         "hovertemplate": "County=Riverside<br>Year=%{x}<br>Harvested Acres=%{y}<extra></extra>",
         "legendgroup": "Riverside",
         "marker": {
          "color": "#FF97FF",
          "symbol": "circle"
         },
         "mode": "markers",
         "name": "Riverside",
         "orientation": "v",
         "showlegend": true,
         "type": "scatter",
         "x": [
          1987,
          1985,
          1980,
          1989,
          1988,
          1990,
          "1986 ",
          1982,
          1981,
          1984,
          1983
         ],
         "xaxis": "x",
         "y": [
          327,
          780,
          910,
          827,
          445,
          857,
          470,
          1600,
          1051,
          3190,
          2170
         ],
         "yaxis": "y"
        },
        {
         "hovertemplate": "County=Sacramento<br>Year=%{x}<br>Harvested Acres=%{y}<extra></extra>",
         "legendgroup": "Sacramento",
         "marker": {
          "color": "#FECB52",
          "symbol": "circle"
         },
         "mode": "markers",
         "name": "Sacramento",
         "orientation": "v",
         "showlegend": true,
         "type": "scatter",
         "x": [
          1987,
          1985,
          2004,
          2006,
          2013,
          2009,
          1980,
          2019,
          1991,
          2001,
          1989,
          1988,
          2011,
          2016,
          1990,
          "1986 ",
          2002,
          1982,
          1993,
          2015,
          2005,
          1981,
          2000,
          2017,
          2020,
          1995,
          1984,
          1999,
          "1996 ",
          1992,
          2003,
          2010,
          2008,
          2007,
          1998,
          2018,
          1994,
          2012,
          1997,
          1983,
          2014
         ],
         "xaxis": "x",
         "y": [
          4900,
          3900,
          3504,
          5109,
          1770,
          3359,
          8560,
          1620,
          7900,
          4725,
          7700,
          5200,
          3200,
          4590,
          7300,
          5100,
          5717,
          7800,
          6900,
          4060,
          3097,
          7800,
          5090,
          3070,
          2110,
          8900,
          5400,
          8313,
          9000,
          5760,
          4343,
          2600,
          2511,
          2169,
          7583,
          2660,
          7500,
          2640,
          5550,
          5420,
          3800
         ],
         "yaxis": "y"
        },
        {
         "hovertemplate": "County=San Benito<br>Year=%{x}<br>Harvested Acres=%{y}<extra></extra>",
         "legendgroup": "San Benito",
         "marker": {
          "color": "#636efa",
          "symbol": "circle"
         },
         "mode": "markers",
         "name": "San Benito",
         "orientation": "v",
         "showlegend": true,
         "type": "scatter",
         "x": [
          1987,
          1985,
          2004,
          2006,
          2013,
          2009,
          1980,
          1991,
          2001,
          1989,
          1988,
          2011,
          2016,
          1990,
          "1986 ",
          2002,
          1982,
          1993,
          2015,
          2005,
          1981,
          2000,
          2017,
          1995,
          1984,
          1999,
          "1996 ",
          1992,
          2003,
          2010,
          2008,
          2007,
          1998,
          1994,
          2012,
          1997,
          1983,
          2014
         ],
         "xaxis": "x",
         "y": [
          4700,
          5700,
          1053,
          500,
          1540,
          3906,
          6200,
          3544,
          960,
          4250,
          4375,
          2830,
          700,
          3597,
          5755,
          1174,
          5350,
          2322,
          926,
          1004,
          5100,
          1166,
          700,
          1916,
          5550,
          965,
          1365,
          1984,
          1330,
          2910,
          1384,
          1141,
          998,
          2188,
          1730,
          1312,
          6050,
          1140
         ],
         "yaxis": "y"
        },
        {
         "hovertemplate": "County=San Joaquin<br>Year=%{x}<br>Harvested Acres=%{y}<extra></extra>",
         "legendgroup": "San Joaquin",
         "marker": {
          "color": "#EF553B",
          "symbol": "circle"
         },
         "mode": "markers",
         "name": "San Joaquin",
         "orientation": "v",
         "showlegend": true,
         "type": "scatter",
         "x": [
          1987,
          1985,
          2004,
          2006,
          2013,
          2009,
          1980,
          2019,
          1991,
          2001,
          1989,
          1988,
          2011,
          2016,
          1990,
          "1986 ",
          2002,
          1982,
          1993,
          2015,
          2005,
          1981,
          2000,
          2017,
          2020,
          1995,
          1984,
          1999,
          "1996 ",
          1992,
          2003,
          2010,
          2008,
          2007,
          1998,
          2018,
          1994,
          2012,
          1997,
          1983,
          2014
         ],
         "xaxis": "x",
         "y": [
          18600,
          22300,
          29100,
          42000,
          25800,
          38800,
          21212,
          23100,
          21600,
          24200,
          24500,
          19400,
          27300,
          24500,
          28200,
          18800,
          32600,
          29300,
          21000,
          34400,
          38800,
          25091,
          24700,
          21300,
          15200,
          23500,
          25200,
          31200,
          26000,
          13300,
          31500,
          29500,
          33200,
          36900,
          27100,
          19200,
          22700,
          26300,
          26100,
          21300,
          35700
         ],
         "yaxis": "y"
        },
        {
         "hovertemplate": "County=Santa Clara<br>Year=%{x}<br>Harvested Acres=%{y}<extra></extra>",
         "legendgroup": "Santa Clara",
         "marker": {
          "color": "#00cc96",
          "symbol": "circle"
         },
         "mode": "markers",
         "name": "Santa Clara",
         "orientation": "v",
         "showlegend": true,
         "type": "scatter",
         "x": [
          1987,
          1985,
          2004,
          2013,
          2009,
          1980,
          2019,
          1991,
          2001,
          1989,
          1988,
          2011,
          2016,
          1990,
          "1986 ",
          2002,
          1982,
          1993,
          2015,
          1981,
          2000,
          2017,
          2020,
          1995,
          1984,
          1999,
          "1996 ",
          1992,
          2003,
          2010,
          1998,
          2018,
          1994,
          2012,
          1997,
          1983,
          2014
         ],
         "xaxis": "x",
         "y": [
          2700,
          3000,
          169,
          749,
          1160,
          4500,
          464,
          2500,
          525,
          1800,
          1900,
          1060,
          480,
          1900,
          2900,
          623,
          3600,
          2000,
          795,
          3000,
          1117,
          322,
          680,
          1100,
          2700,
          625,
          980,
          1700,
          497,
          1010,
          650,
          348,
          1500,
          980,
          900,
          3200,
          844
         ],
         "yaxis": "y"
        },
        {
         "hovertemplate": "County=Solano<br>Year=%{x}<br>Harvested Acres=%{y}<extra></extra>",
         "legendgroup": "Solano",
         "marker": {
          "color": "#ab63fa",
          "symbol": "circle"
         },
         "mode": "markers",
         "name": "Solano",
         "orientation": "v",
         "showlegend": true,
         "type": "scatter",
         "x": [
          1987,
          1985,
          2004,
          2006,
          2013,
          2009,
          1980,
          2019,
          1991,
          2001,
          1989,
          1988,
          2011,
          2016,
          1990,
          "1986 ",
          2002,
          1982,
          1993,
          2015,
          2005,
          1981,
          2000,
          2017,
          2020,
          1995,
          1984,
          1999,
          "1996 ",
          1992,
          2003,
          2010,
          2008,
          2007,
          1998,
          2018,
          1994,
          2012,
          1997,
          1983,
          2014
         ],
         "xaxis": "x",
         "y": [
          16000,
          18500,
          10344,
          10000,
          10400,
          12000,
          16311,
          10400,
          23804,
          13801,
          18585,
          18688,
          9000,
          10400,
          19547,
          19500,
          14626,
          13850,
          21783,
          11800,
          10300,
          16650,
          15415,
          9600,
          9650,
          23389,
          15897,
          18341,
          23432,
          18603,
          11952,
          11000,
          10000,
          9700,
          17557,
          11200,
          23413,
          10000,
          21831,
          13056,
          11900
         ],
         "yaxis": "y"
        },
        {
         "hovertemplate": "County=Stanislaus<br>Year=%{x}<br>Harvested Acres=%{y}<extra></extra>",
         "legendgroup": "Stanislaus",
         "marker": {
          "color": "#FFA15A",
          "symbol": "circle"
         },
         "mode": "markers",
         "name": "Stanislaus",
         "orientation": "v",
         "showlegend": true,
         "type": "scatter",
         "x": [
          1987,
          1985,
          2004,
          2006,
          2013,
          2009,
          1980,
          1991,
          2001,
          1989,
          1988,
          2011,
          1990,
          "1986 ",
          2002,
          1982,
          1993,
          2015,
          2005,
          1981,
          2000,
          1995,
          1984,
          1999,
          "1996 ",
          1992,
          2003,
          2010,
          2008,
          2007,
          1998,
          1994,
          2012,
          1997,
          1983,
          2014
         ],
         "xaxis": "x",
         "y": [
          11300,
          11100,
          15500,
          15580,
          18500,
          24237,
          7650,
          13600,
          13700,
          11500,
          11374,
          27400,
          13500,
          10250,
          16600,
          8500,
          12400,
          13000,
          12540,
          8600,
          19800,
          17400,
          12250,
          21800,
          14300,
          12200,
          14800,
          32600,
          15238,
          17000,
          20360,
          11800,
          28300,
          15400,
          10000,
          13100
         ],
         "yaxis": "y"
        },
        {
         "hovertemplate": "County=Sutter<br>Year=%{x}<br>Harvested Acres=%{y}<extra></extra>",
         "legendgroup": "Sutter",
         "marker": {
          "color": "#19d3f3",
          "symbol": "circle"
         },
         "mode": "markers",
         "name": "Sutter",
         "orientation": "v",
         "showlegend": true,
         "type": "scatter",
         "x": [
          1987,
          1985,
          2004,
          2006,
          2013,
          2009,
          1980,
          2019,
          1991,
          2001,
          1989,
          1988,
          2011,
          2016,
          1990,
          "1986 ",
          2002,
          1982,
          1993,
          2015,
          2005,
          1981,
          2000,
          2017,
          2020,
          1995,
          1984,
          1999,
          "1996 ",
          1992,
          2003,
          2010,
          2008,
          2007,
          1998,
          2018,
          1994,
          2012,
          1997,
          1983,
          2014
         ],
         "xaxis": "x",
         "y": [
          14100,
          15980,
          6300,
          6900,
          8070,
          9000,
          20700,
          15600,
          22500,
          9500,
          17000,
          15200,
          7740,
          9720,
          16200,
          15851,
          9100,
          15620,
          20053,
          12700,
          5200,
          19230,
          9700,
          8570,
          12600,
          23188,
          19293,
          18763,
          23423,
          19790,
          8000,
          7330,
          8000,
          7900,
          16532,
          11700,
          21225,
          7830,
          14135,
          16347,
          10000
         ],
         "yaxis": "y"
        },
        {
         "hovertemplate": "County=Tulare<br>Year=%{x}<br>Harvested Acres=%{y}<extra></extra>",
         "legendgroup": "Tulare",
         "marker": {
          "color": "#FF6692",
          "symbol": "circle"
         },
         "mode": "markers",
         "name": "Tulare",
         "orientation": "v",
         "showlegend": true,
         "type": "scatter",
         "x": [
          1987,
          1980,
          1988,
          "1986 ",
          1981
         ],
         "xaxis": "x",
         "y": [
          null,
          410,
          null,
          null,
          100
         ],
         "yaxis": "y"
        },
        {
         "hovertemplate": "County=Ventura<br>Year=%{x}<br>Harvested Acres=%{y}<extra></extra>",
         "legendgroup": "Ventura",
         "marker": {
          "color": "#B6E880",
          "symbol": "circle"
         },
         "mode": "markers",
         "name": "Ventura",
         "orientation": "v",
         "showlegend": true,
         "type": "scatter",
         "x": [
          1987,
          1985,
          1980,
          1988,
          "1986 ",
          1982,
          1981,
          1984,
          1983
         ],
         "xaxis": "x",
         "y": [
          3000,
          4750,
          4600,
          null,
          2691,
          4240,
          3860,
          4785,
          4400
         ],
         "yaxis": "y"
        },
        {
         "hovertemplate": "County=Yolo<br>Year=%{x}<br>Harvested Acres=%{y}<extra></extra>",
         "legendgroup": "Yolo",
         "marker": {
          "color": "#FF97FF",
          "symbol": "circle"
         },
         "mode": "markers",
         "name": "Yolo",
         "orientation": "v",
         "showlegend": true,
         "type": "scatter",
         "x": [
          1987,
          1985,
          2004,
          2006,
          2013,
          2009,
          1980,
          2019,
          1991,
          2001,
          1989,
          1988,
          2011,
          2016,
          1990,
          "1986 ",
          2002,
          1982,
          1993,
          2015,
          2005,
          1981,
          2000,
          2017,
          2020,
          1995,
          1984,
          1999,
          "1996 ",
          1992,
          2003,
          2010,
          2008,
          2007,
          1998,
          2018,
          1994,
          2012,
          1997,
          1983,
          2014
         ],
         "xaxis": "x",
         "y": [
          41100,
          43500,
          45129,
          37026,
          34600,
          37881,
          51950,
          30700,
          59600,
          40374,
          50000,
          43350,
          40100,
          33800,
          59500,
          38170,
          42812,
          51560,
          61500,
          37200,
          42232,
          51360,
          48575,
          28700,
          30700,
          73137,
          49450,
          67114,
          67700,
          45600,
          38274,
          33000,
          37571,
          42149,
          56600,
          28800,
          69700,
          36800,
          49200,
          50100,
          39800
         ],
         "yaxis": "y"
        },
        {
         "hovertemplate": "County=State Total<br>Year=%{x}<br>Harvested Acres=%{y}<extra></extra>",
         "legendgroup": "State Total",
         "marker": {
          "color": "#FECB52",
          "symbol": "circle"
         },
         "mode": "markers",
         "name": "State Total",
         "orientation": "v",
         "showlegend": true,
         "type": "scatter",
         "x": [
          1987,
          1985,
          2004,
          2006,
          2013,
          2009,
          1980,
          2019,
          1991,
          2001,
          1989,
          1988,
          2011,
          2016,
          1990,
          "1986 ",
          2002,
          1982,
          1993,
          2015,
          2005,
          1981,
          2000,
          2017,
          2020,
          1995,
          1984,
          1999,
          "1996 ",
          1992,
          2003,
          2010,
          2008,
          2007,
          1998,
          2018,
          1994,
          2012,
          1997,
          1983,
          2014
         ],
         "xaxis": "x",
         "y": [
          214724,
          223914,
          294484,
          317236,
          287535,
          316118,
          203294,
          228624,
          319108,
          271990,
          259412,
          220579,
          288773,
          266010,
          312891,
          208645,
          304884,
          232121,
          296913,
          315631,
          306465,
          209622,
          297631,
          227412,
          222240,
          332865,
          249835,
          346926,
          326070,
          247677,
          297128,
          317429,
          281083,
          322964,
          292851,
          232918,
          319659,
          294155,
          274716,
          231990,
          298555
         ],
         "yaxis": "y"
        },
        {
         "hovertemplate": "County=Santa Barbara<br>Year=%{x}<br>Harvested Acres=%{y}<extra></extra>",
         "legendgroup": "Santa Barbara",
         "marker": {
          "color": "#636efa",
          "symbol": "circle"
         },
         "mode": "markers",
         "name": "Santa Barbara",
         "orientation": "v",
         "showlegend": true,
         "type": "scatter",
         "x": [
          1985,
          1980,
          1989,
          1988,
          1990,
          "1986 ",
          1982,
          1981,
          1984,
          1983
         ],
         "xaxis": "x",
         "y": [
          1150,
          1134,
          240,
          240,
          545,
          800,
          1490,
          1315,
          1865,
          1720
         ],
         "yaxis": "y"
        },
        {
         "hovertemplate": "County=Madera<br>Year=%{x}<br>Harvested Acres=%{y}<extra></extra>",
         "legendgroup": "Madera",
         "marker": {
          "color": "#EF553B",
          "symbol": "circle"
         },
         "mode": "markers",
         "name": "Madera",
         "orientation": "v",
         "showlegend": true,
         "type": "scatter",
         "x": [
          2004,
          2006,
          2013,
          2009,
          1980,
          2019,
          2011,
          2016,
          1982,
          2015,
          2005,
          1981,
          2017,
          2020,
          2010,
          2008,
          2007,
          2018,
          2012,
          2014
         ],
         "xaxis": "x",
         "y": [
          2900,
          5100,
          4200,
          2000,
          1100,
          4300,
          2100,
          5700,
          600,
          7600,
          3200,
          800,
          5900,
          3400,
          2700,
          1900,
          5400,
          5800,
          3000,
          5600
         ],
         "yaxis": "y"
        },
        {
         "hovertemplate": "County=Sum of Others<br>Year=%{x}<br>Harvested Acres=%{y}<extra></extra>",
         "legendgroup": "Sum of Others",
         "marker": {
          "color": "#00cc96",
          "symbol": "circle"
         },
         "mode": "markers",
         "name": "Sum of Others",
         "orientation": "v",
         "showlegend": true,
         "type": "scatter",
         "x": [
          2004,
          2006,
          2013,
          2009,
          1991,
          2011,
          2016,
          1993,
          2015,
          2005,
          2017,
          1995,
          1999,
          "1996 ",
          1992,
          2010,
          2008,
          2007,
          1998,
          2018,
          1994,
          2012,
          1997,
          2014
         ],
         "xaxis": "x",
         "y": [
          516,
          12797,
          446,
          967,
          3735,
          1033,
          3420,
          955,
          1330,
          10600,
          2410,
          916,
          1583,
          3044,
          800,
          14349,
          200,
          13344,
          2322,
          1740,
          2077,
          355,
          718,
          371
         ],
         "yaxis": "y"
        },
        {
         "hovertemplate": "County=Orange<br>Year=%{x}<br>Harvested Acres=%{y}<extra></extra>",
         "legendgroup": "Orange",
         "marker": {
          "color": "#ab63fa",
          "symbol": "circle"
         },
         "mode": "markers",
         "name": "Orange",
         "orientation": "v",
         "showlegend": true,
         "type": "scatter",
         "x": [
          1980,
          1989,
          1988,
          1990,
          1982,
          1981,
          1984,
          1983
         ],
         "xaxis": "x",
         "y": [
          2178,
          360,
          380,
          345,
          2985,
          2925,
          860,
          1570
         ],
         "yaxis": "y"
        },
        {
         "hovertemplate": "County=Glenn<br>Year=%{x}<br>Harvested Acres=%{y}<extra></extra>",
         "legendgroup": "Glenn",
         "marker": {
          "color": "#FFA15A",
          "symbol": "circle"
         },
         "mode": "markers",
         "name": "Glenn",
         "orientation": "v",
         "showlegend": true,
         "type": "scatter",
         "x": [
          2019,
          2017,
          2020,
          2018,
          1997
         ],
         "xaxis": "x",
         "y": [
          1960,
          1740,
          1720,
          1370,
          957
         ],
         "yaxis": "y"
        },
        {
         "hovertemplate": "County=Sonoma<br>Year=%{x}<br>Harvested Acres=%{y}<extra></extra>",
         "legendgroup": "Sonoma",
         "marker": {
          "color": "#19d3f3",
          "symbol": "circle"
         },
         "mode": "markers",
         "name": "Sonoma",
         "orientation": "v",
         "showlegend": true,
         "type": "scatter",
         "x": [
          "1986 "
         ],
         "xaxis": "x",
         "y": [
          null
         ],
         "yaxis": "y"
        },
        {
         "hovertemplate": "County=Tehama<br>Year=%{x}<br>Harvested Acres=%{y}<extra></extra>",
         "legendgroup": "Tehama",
         "marker": {
          "color": "#FF6692",
          "symbol": "circle"
         },
         "mode": "markers",
         "name": "Tehama",
         "orientation": "v",
         "showlegend": true,
         "type": "scatter",
         "x": [
          "1986 "
         ],
         "xaxis": "x",
         "y": [
          null
         ],
         "yaxis": "y"
        }
       ],
       "layout": {
        "autosize": true,
        "legend": {
         "title": {
          "text": "County"
         },
         "tracegroupgap": 0
        },
        "margin": {
         "t": 60
        },
        "template": {
         "data": {
          "bar": [
           {
            "error_x": {
             "color": "#2a3f5f"
            },
            "error_y": {
             "color": "#2a3f5f"
            },
            "marker": {
             "line": {
              "color": "#E5ECF6",
              "width": 0.5
             },
             "pattern": {
              "fillmode": "overlay",
              "size": 10,
              "solidity": 0.2
             }
            },
            "type": "bar"
           }
          ],
          "barpolar": [
           {
            "marker": {
             "line": {
              "color": "#E5ECF6",
              "width": 0.5
             },
             "pattern": {
              "fillmode": "overlay",
              "size": 10,
              "solidity": 0.2
             }
            },
            "type": "barpolar"
           }
          ],
          "carpet": [
           {
            "aaxis": {
             "endlinecolor": "#2a3f5f",
             "gridcolor": "white",
             "linecolor": "white",
             "minorgridcolor": "white",
             "startlinecolor": "#2a3f5f"
            },
            "baxis": {
             "endlinecolor": "#2a3f5f",
             "gridcolor": "white",
             "linecolor": "white",
             "minorgridcolor": "white",
             "startlinecolor": "#2a3f5f"
            },
            "type": "carpet"
           }
          ],
          "choropleth": [
           {
            "colorbar": {
             "outlinewidth": 0,
             "ticks": ""
            },
            "type": "choropleth"
           }
          ],
          "contour": [
           {
            "colorbar": {
             "outlinewidth": 0,
             "ticks": ""
            },
            "colorscale": [
             [
              0,
              "#0d0887"
             ],
             [
              0.1111111111111111,
              "#46039f"
             ],
             [
              0.2222222222222222,
              "#7201a8"
             ],
             [
              0.3333333333333333,
              "#9c179e"
             ],
             [
              0.4444444444444444,
              "#bd3786"
             ],
             [
              0.5555555555555556,
              "#d8576b"
             ],
             [
              0.6666666666666666,
              "#ed7953"
             ],
             [
              0.7777777777777778,
              "#fb9f3a"
             ],
             [
              0.8888888888888888,
              "#fdca26"
             ],
             [
              1,
              "#f0f921"
             ]
            ],
            "type": "contour"
           }
          ],
          "contourcarpet": [
           {
            "colorbar": {
             "outlinewidth": 0,
             "ticks": ""
            },
            "type": "contourcarpet"
           }
          ],
          "heatmap": [
           {
            "colorbar": {
             "outlinewidth": 0,
             "ticks": ""
            },
            "colorscale": [
             [
              0,
              "#0d0887"
             ],
             [
              0.1111111111111111,
              "#46039f"
             ],
             [
              0.2222222222222222,
              "#7201a8"
             ],
             [
              0.3333333333333333,
              "#9c179e"
             ],
             [
              0.4444444444444444,
              "#bd3786"
             ],
             [
              0.5555555555555556,
              "#d8576b"
             ],
             [
              0.6666666666666666,
              "#ed7953"
             ],
             [
              0.7777777777777778,
              "#fb9f3a"
             ],
             [
              0.8888888888888888,
              "#fdca26"
             ],
             [
              1,
              "#f0f921"
             ]
            ],
            "type": "heatmap"
           }
          ],
          "heatmapgl": [
           {
            "colorbar": {
             "outlinewidth": 0,
             "ticks": ""
            },
            "colorscale": [
             [
              0,
              "#0d0887"
             ],
             [
              0.1111111111111111,
              "#46039f"
             ],
             [
              0.2222222222222222,
              "#7201a8"
             ],
             [
              0.3333333333333333,
              "#9c179e"
             ],
             [
              0.4444444444444444,
              "#bd3786"
             ],
             [
              0.5555555555555556,
              "#d8576b"
             ],
             [
              0.6666666666666666,
              "#ed7953"
             ],
             [
              0.7777777777777778,
              "#fb9f3a"
             ],
             [
              0.8888888888888888,
              "#fdca26"
             ],
             [
              1,
              "#f0f921"
             ]
            ],
            "type": "heatmapgl"
           }
          ],
          "histogram": [
           {
            "marker": {
             "pattern": {
              "fillmode": "overlay",
              "size": 10,
              "solidity": 0.2
             }
            },
            "type": "histogram"
           }
          ],
          "histogram2d": [
           {
            "colorbar": {
             "outlinewidth": 0,
             "ticks": ""
            },
            "colorscale": [
             [
              0,
              "#0d0887"
             ],
             [
              0.1111111111111111,
              "#46039f"
             ],
             [
              0.2222222222222222,
              "#7201a8"
             ],
             [
              0.3333333333333333,
              "#9c179e"
             ],
             [
              0.4444444444444444,
              "#bd3786"
             ],
             [
              0.5555555555555556,
              "#d8576b"
             ],
             [
              0.6666666666666666,
              "#ed7953"
             ],
             [
              0.7777777777777778,
              "#fb9f3a"
             ],
             [
              0.8888888888888888,
              "#fdca26"
             ],
             [
              1,
              "#f0f921"
             ]
            ],
            "type": "histogram2d"
           }
          ],
          "histogram2dcontour": [
           {
            "colorbar": {
             "outlinewidth": 0,
             "ticks": ""
            },
            "colorscale": [
             [
              0,
              "#0d0887"
             ],
             [
              0.1111111111111111,
              "#46039f"
             ],
             [
              0.2222222222222222,
              "#7201a8"
             ],
             [
              0.3333333333333333,
              "#9c179e"
             ],
             [
              0.4444444444444444,
              "#bd3786"
             ],
             [
              0.5555555555555556,
              "#d8576b"
             ],
             [
              0.6666666666666666,
              "#ed7953"
             ],
             [
              0.7777777777777778,
              "#fb9f3a"
             ],
             [
              0.8888888888888888,
              "#fdca26"
             ],
             [
              1,
              "#f0f921"
             ]
            ],
            "type": "histogram2dcontour"
           }
          ],
          "mesh3d": [
           {
            "colorbar": {
             "outlinewidth": 0,
             "ticks": ""
            },
            "type": "mesh3d"
           }
          ],
          "parcoords": [
           {
            "line": {
             "colorbar": {
              "outlinewidth": 0,
              "ticks": ""
             }
            },
            "type": "parcoords"
           }
          ],
          "pie": [
           {
            "automargin": true,
            "type": "pie"
           }
          ],
          "scatter": [
           {
            "fillpattern": {
             "fillmode": "overlay",
             "size": 10,
             "solidity": 0.2
            },
            "type": "scatter"
           }
          ],
          "scatter3d": [
           {
            "line": {
             "colorbar": {
              "outlinewidth": 0,
              "ticks": ""
             }
            },
            "marker": {
             "colorbar": {
              "outlinewidth": 0,
              "ticks": ""
             }
            },
            "type": "scatter3d"
           }
          ],
          "scattercarpet": [
           {
            "marker": {
             "colorbar": {
              "outlinewidth": 0,
              "ticks": ""
             }
            },
            "type": "scattercarpet"
           }
          ],
          "scattergeo": [
           {
            "marker": {
             "colorbar": {
              "outlinewidth": 0,
              "ticks": ""
             }
            },
            "type": "scattergeo"
           }
          ],
          "scattergl": [
           {
            "marker": {
             "colorbar": {
              "outlinewidth": 0,
              "ticks": ""
             }
            },
            "type": "scattergl"
           }
          ],
          "scattermapbox": [
           {
            "marker": {
             "colorbar": {
              "outlinewidth": 0,
              "ticks": ""
             }
            },
            "type": "scattermapbox"
           }
          ],
          "scatterpolar": [
           {
            "marker": {
             "colorbar": {
              "outlinewidth": 0,
              "ticks": ""
             }
            },
            "type": "scatterpolar"
           }
          ],
          "scatterpolargl": [
           {
            "marker": {
             "colorbar": {
              "outlinewidth": 0,
              "ticks": ""
             }
            },
            "type": "scatterpolargl"
           }
          ],
          "scatterternary": [
           {
            "marker": {
             "colorbar": {
              "outlinewidth": 0,
              "ticks": ""
             }
            },
            "type": "scatterternary"
           }
          ],
          "surface": [
           {
            "colorbar": {
             "outlinewidth": 0,
             "ticks": ""
            },
            "colorscale": [
             [
              0,
              "#0d0887"
             ],
             [
              0.1111111111111111,
              "#46039f"
             ],
             [
              0.2222222222222222,
              "#7201a8"
             ],
             [
              0.3333333333333333,
              "#9c179e"
             ],
             [
              0.4444444444444444,
              "#bd3786"
             ],
             [
              0.5555555555555556,
              "#d8576b"
             ],
             [
              0.6666666666666666,
              "#ed7953"
             ],
             [
              0.7777777777777778,
              "#fb9f3a"
             ],
             [
              0.8888888888888888,
              "#fdca26"
             ],
             [
              1,
              "#f0f921"
             ]
            ],
            "type": "surface"
           }
          ],
          "table": [
           {
            "cells": {
             "fill": {
              "color": "#EBF0F8"
             },
             "line": {
              "color": "white"
             }
            },
            "header": {
             "fill": {
              "color": "#C8D4E3"
             },
             "line": {
              "color": "white"
             }
            },
            "type": "table"
           }
          ]
         },
         "layout": {
          "annotationdefaults": {
           "arrowcolor": "#2a3f5f",
           "arrowhead": 0,
           "arrowwidth": 1
          },
          "autotypenumbers": "strict",
          "coloraxis": {
           "colorbar": {
            "outlinewidth": 0,
            "ticks": ""
           }
          },
          "colorscale": {
           "diverging": [
            [
             0,
             "#8e0152"
            ],
            [
             0.1,
             "#c51b7d"
            ],
            [
             0.2,
             "#de77ae"
            ],
            [
             0.3,
             "#f1b6da"
            ],
            [
             0.4,
             "#fde0ef"
            ],
            [
             0.5,
             "#f7f7f7"
            ],
            [
             0.6,
             "#e6f5d0"
            ],
            [
             0.7,
             "#b8e186"
            ],
            [
             0.8,
             "#7fbc41"
            ],
            [
             0.9,
             "#4d9221"
            ],
            [
             1,
             "#276419"
            ]
           ],
           "sequential": [
            [
             0,
             "#0d0887"
            ],
            [
             0.1111111111111111,
             "#46039f"
            ],
            [
             0.2222222222222222,
             "#7201a8"
            ],
            [
             0.3333333333333333,
             "#9c179e"
            ],
            [
             0.4444444444444444,
             "#bd3786"
            ],
            [
             0.5555555555555556,
             "#d8576b"
            ],
            [
             0.6666666666666666,
             "#ed7953"
            ],
            [
             0.7777777777777778,
             "#fb9f3a"
            ],
            [
             0.8888888888888888,
             "#fdca26"
            ],
            [
             1,
             "#f0f921"
            ]
           ],
           "sequentialminus": [
            [
             0,
             "#0d0887"
            ],
            [
             0.1111111111111111,
             "#46039f"
            ],
            [
             0.2222222222222222,
             "#7201a8"
            ],
            [
             0.3333333333333333,
             "#9c179e"
            ],
            [
             0.4444444444444444,
             "#bd3786"
            ],
            [
             0.5555555555555556,
             "#d8576b"
            ],
            [
             0.6666666666666666,
             "#ed7953"
            ],
            [
             0.7777777777777778,
             "#fb9f3a"
            ],
            [
             0.8888888888888888,
             "#fdca26"
            ],
            [
             1,
             "#f0f921"
            ]
           ]
          },
          "colorway": [
           "#636efa",
           "#EF553B",
           "#00cc96",
           "#ab63fa",
           "#FFA15A",
           "#19d3f3",
           "#FF6692",
           "#B6E880",
           "#FF97FF",
           "#FECB52"
          ],
          "font": {
           "color": "#2a3f5f"
          },
          "geo": {
           "bgcolor": "white",
           "lakecolor": "white",
           "landcolor": "#E5ECF6",
           "showlakes": true,
           "showland": true,
           "subunitcolor": "white"
          },
          "hoverlabel": {
           "align": "left"
          },
          "hovermode": "closest",
          "mapbox": {
           "style": "light"
          },
          "paper_bgcolor": "white",
          "plot_bgcolor": "#E5ECF6",
          "polar": {
           "angularaxis": {
            "gridcolor": "white",
            "linecolor": "white",
            "ticks": ""
           },
           "bgcolor": "#E5ECF6",
           "radialaxis": {
            "gridcolor": "white",
            "linecolor": "white",
            "ticks": ""
           }
          },
          "scene": {
           "xaxis": {
            "backgroundcolor": "#E5ECF6",
            "gridcolor": "white",
            "gridwidth": 2,
            "linecolor": "white",
            "showbackground": true,
            "ticks": "",
            "zerolinecolor": "white"
           },
           "yaxis": {
            "backgroundcolor": "#E5ECF6",
            "gridcolor": "white",
            "gridwidth": 2,
            "linecolor": "white",
            "showbackground": true,
            "ticks": "",
            "zerolinecolor": "white"
           },
           "zaxis": {
            "backgroundcolor": "#E5ECF6",
            "gridcolor": "white",
            "gridwidth": 2,
            "linecolor": "white",
            "showbackground": true,
            "ticks": "",
            "zerolinecolor": "white"
           }
          },
          "shapedefaults": {
           "line": {
            "color": "#2a3f5f"
           }
          },
          "ternary": {
           "aaxis": {
            "gridcolor": "white",
            "linecolor": "white",
            "ticks": ""
           },
           "baxis": {
            "gridcolor": "white",
            "linecolor": "white",
            "ticks": ""
           },
           "bgcolor": "#E5ECF6",
           "caxis": {
            "gridcolor": "white",
            "linecolor": "white",
            "ticks": ""
           }
          },
          "title": {
           "x": 0.05
          },
          "xaxis": {
           "automargin": true,
           "gridcolor": "white",
           "linecolor": "white",
           "ticks": "",
           "title": {
            "standoff": 15
           },
           "zerolinecolor": "white",
           "zerolinewidth": 2
          },
          "yaxis": {
           "automargin": true,
           "gridcolor": "white",
           "linecolor": "white",
           "ticks": "",
           "title": {
            "standoff": 15
           },
           "zerolinecolor": "white",
           "zerolinewidth": 2
          }
         }
        },
        "xaxis": {
         "anchor": "y",
         "autorange": true,
         "domain": [
          0,
          1
         ],
         "range": [
          1977.5618603446042,
          2022.4381396553958
         ],
         "title": {
          "text": "Year"
         },
         "type": "linear"
        },
        "yaxis": {
         "anchor": "x",
         "autorange": true,
         "domain": [
          0,
          1
         ],
         "range": [
          -26753.98162729659,
          373779.9816272966
         ],
         "title": {
          "text": "Harvested Acres"
         },
         "type": "linear"
        }
       }
      },
      "image/png": "[encoded data removed]",
      "text/html": [
       "<div>                            <div id=\"0e02cb96-f129-4bcf-afb1-9e3a27b856b8\" class=\"plotly-graph-div\" style=\"height:525px; width:100%;\"></div>            <script type=\"text/javascript\">                require([\"plotly\"], function(Plotly) {                    window.PLOTLYENV=window.PLOTLYENV || {};                                    if (document.getElementById(\"0e02cb96-f129-4bcf-afb1-9e3a27b856b8\")) {                    Plotly.newPlot(                        \"0e02cb96-f129-4bcf-afb1-9e3a27b856b8\",                        [{\"hovertemplate\":\"County=Colusa\\u003cbr\\u003eYear=%{x}\\u003cbr\\u003eHarvested Acres=%{y}\\u003cextra\\u003e\\u003c\\u002fextra\\u003e\",\"legendgroup\":\"Colusa\",\"marker\":{\"color\":\"#636efa\",\"symbol\":\"circle\"},\"mode\":\"markers\",\"name\":\"Colusa\",\"orientation\":\"v\",\"showlegend\":true,\"x\":[1987,1985,2004,2006,2013,2009,1980,2019,1991,2001,1989,1988,2011,2016,1990,\"1986 \",2002,1982,1993,2015,2005,1981,2000,2017,2020,1995,1984,1999,\"1996 \",1992,2003,2010,2008,2007,1998,2018,1994,2012,1997,1983,2014],\"xaxis\":\"x\",\"y\":[12800.0,12100.0,20500.0,18400.0,13900.0,18440.0,6060.0,12300.0,25725.0,20250.0,17800.0,13800.0,12700.0,15600.0,22400.0,11300.0,18900.0,10650.0,19700.0,17600.0,23650.0,8190.0,20900.0,14800.0,12700.0,31600.0,13400.0,30500.0,29780.0,18600.0,16900.0,11800.0,13940.0,16500.0,22760.0,14100.0,24100.0,13500.0,24900.0,11900.0,15700.0],\"yaxis\":\"y\",\"type\":\"scatter\"},{\"hovertemplate\":\"County=Contra Costa\\u003cbr\\u003eYear=%{x}\\u003cbr\\u003eHarvested Acres=%{y}\\u003cextra\\u003e\\u003c\\u002fextra\\u003e\",\"legendgroup\":\"Contra Costa\",\"marker\":{\"color\":\"#EF553B\",\"symbol\":\"circle\"},\"mode\":\"markers\",\"name\":\"Contra Costa\",\"orientation\":\"v\",\"showlegend\":true,\"x\":[1987,1985,2004,2006,2013,2009,1980,1991,2001,1989,1988,2011,1990,\"1986 \",2002,1982,1993,2015,2005,1981,2000,1995,1984,1999,\"1996 \",1992,2003,2010,2008,2007,1998,1994,2012,1997,1983],\"xaxis\":\"x\",\"y\":[6000.0,5150.0,1060.0,1460.0,2160.0,1710.0,null,4100.0,1590.0,3500.0,6500.0,1910.0,4800.0,null,1024.0,4939.0,3800.0,3420.0,1080.0,4510.0,2600.0,4050.0,5400.0,3000.0,3830.0,4420.0,1180.0,1630.0,1500.0,1520.0,3070.0,4100.0,2120.0,3310.0,4939.0],\"yaxis\":\"y\",\"type\":\"scatter\"},{\"hovertemplate\":\"County=Fresno\\u003cbr\\u003eYear=%{x}\\u003cbr\\u003eHarvested Acres=%{y}\\u003cextra\\u003e\\u003c\\u002fextra\\u003e\",\"legendgroup\":\"Fresno\",\"marker\":{\"color\":\"#00cc96\",\"symbol\":\"circle\"},\"mode\":\"markers\",\"name\":\"Fresno\",\"orientation\":\"v\",\"showlegend\":true,\"x\":[1987,1985,2004,2006,2013,2009,1980,2019,1991,2001,1989,1988,2011,2016,1990,\"1986 \",2002,1982,1993,2015,2005,1981,2000,2017,2020,1995,1984,1999,\"1996 \",1992,2003,2010,2008,2007,1998,2018,1994,2012,1997,1983,2014],\"xaxis\":\"x\",\"y\":[64900.0,60600.0,110000.0,124000.0,101000.0,115000.0,34880.0,74800.0,107000.0,106000.0,72400.0,64800.0,95200.0,90400.0,104000.0,62800.0,115000.0,54370.0,96000.0,97200.0,118000.0,36640.0,115000.0,73400.0,72400.0,100000.0,65800.0,115000.0,99000.0,87000.0,119000.0,108000.0,109000.0,125000.0,100000.0,77100.0,100000.0,97600.0,95000.0,60500.0,89600.0],\"yaxis\":\"y\",\"type\":\"scatter\"},{\"hovertemplate\":\"County=Imperial\\u003cbr\\u003eYear=%{x}\\u003cbr\\u003eHarvested Acres=%{y}\\u003cextra\\u003e\\u003c\\u002fextra\\u003e\",\"legendgroup\":\"Imperial\",\"marker\":{\"color\":\"#ab63fa\",\"symbol\":\"circle\"},\"mode\":\"markers\",\"name\":\"Imperial\",\"orientation\":\"v\",\"showlegend\":true,\"x\":[1987,1985,1980,1989,1988,1990,\"1986 \",1982,1993,1981,2000,1995,1984,1999,\"1996 \",1992,1994,1983],\"xaxis\":\"x\",\"y\":[2510.0,3324.0,350.0,11200.0,4017.0,10400.0,2999.0,2317.0,2500.0,850.0,316.0,1028.0,3785.0,1591.0,808.0,1877.0,1656.0,3135.0],\"yaxis\":\"y\",\"type\":\"scatter\"},{\"hovertemplate\":\"County=Kern\\u003cbr\\u003eYear=%{x}\\u003cbr\\u003eHarvested Acres=%{y}\\u003cextra\\u003e\\u003c\\u002fextra\\u003e\",\"legendgroup\":\"Kern\",\"marker\":{\"color\":\"#FFA15A\",\"symbol\":\"circle\"},\"mode\":\"markers\",\"name\":\"Kern\",\"orientation\":\"v\",\"showlegend\":true,\"x\":[1987,1985,2004,2013,1980,2019,1991,2001,1989,1988,2011,2016,1990,\"1986 \",2002,1982,1993,2015,1981,2000,2017,2020,1995,1984,1999,\"1996 \",1992,2003,1998,2018,1994,2012,1997,1983,2014],\"xaxis\":\"x\",\"y\":[2400.0,4200.0,12500.0,12000.0,5110.0,5680.0,4100.0,9100.0,3000.0,2600.0,13000.0,13900.0,5200.0,2420.0,12400.0,4950.0,3600.0,14500.0,3330.0,7400.0,8600.0,6880.0,5500.0,4550.0,3600.0,4600.0,2416.0,13600.0,2700.0,6000.0,4800.0,12000.0,2324.0,4500.0,14000.0],\"yaxis\":\"y\",\"type\":\"scatter\"},{\"hovertemplate\":\"County=Kings\\u003cbr\\u003eYear=%{x}\\u003cbr\\u003eHarvested Acres=%{y}\\u003cextra\\u003e\\u003c\\u002fextra\\u003e\",\"legendgroup\":\"Kings\",\"marker\":{\"color\":\"#19d3f3\",\"symbol\":\"circle\"},\"mode\":\"markers\",\"name\":\"Kings\",\"orientation\":\"v\",\"showlegend\":true,\"x\":[1987,1985,2004,2006,2013,2009,1980,2019,1991,2001,1989,1988,2011,2016,1990,\"1986 \",2002,1993,2015,2005,1981,2000,2017,2020,1995,1984,1999,\"1996 \",1992,2003,2010,2008,2007,1998,2018,1994,2012,1997,1983,2014],\"xaxis\":\"x\",\"y\":[1637.0,1330.0,20309.0,21064.0,33400.0,26658.0,839.0,27300.0,7500.0,10000.0,3600.0,720.0,31200.0,29800.0,3300.0,1499.0,16108.0,11000.0,31000.0,21889.0,600.0,9969.0,27100.0,29600.0,6100.0,2200.0,8217.0,6700.0,3370.0,19131.0,38400.0,30425.0,26041.0,3263.0,32400.0,11500.0,36000.0,2100.0,2278.0,34000.0],\"yaxis\":\"y\",\"type\":\"scatter\"},{\"hovertemplate\":\"County=Merced\\u003cbr\\u003eYear=%{x}\\u003cbr\\u003eHarvested Acres=%{y}\\u003cextra\\u003e\\u003c\\u002fextra\\u003e\",\"legendgroup\":\"Merced\",\"marker\":{\"color\":\"#FF6692\",\"symbol\":\"circle\"},\"mode\":\"markers\",\"name\":\"Merced\",\"orientation\":\"v\",\"showlegend\":true,\"x\":[1987,1985,2004,2006,2013,2009,1980,2019,1991,2001,1989,1988,2011,2016,1990,\"1986 \",2002,1982,1993,2015,2005,1981,2000,2017,2020,1995,1984,1999,\"1996 \",1992,2003,2010,2008,2007,1998,2018,1994,2012,1997,1983,2014],\"xaxis\":\"x\",\"y\":[6400.0,5220.0,15600.0,17300.0,19000.0,21000.0,6750.0,20400.0,10200.0,17265.0,8150.0,6050.0,13000.0,23000.0,8500.0,5860.0,18200.0,6400.0,10900.0,28100.0,14873.0,6400.0,15600.0,21200.0,24600.0,11141.0,6160.0,16014.0,12108.0,9600.0,16621.0,20600.0,16214.0,18200.0,11356.0,20500.0,10800.0,15000.0,10979.0,6690.0,23000.0],\"yaxis\":\"y\",\"type\":\"scatter\"},{\"hovertemplate\":\"County=Monterey\\u003cbr\\u003eYear=%{x}\\u003cbr\\u003eHarvested Acres=%{y}\\u003cextra\\u003e\\u003c\\u002fextra\\u003e\",\"legendgroup\":\"Monterey\",\"marker\":{\"color\":\"#B6E880\",\"symbol\":\"circle\"},\"mode\":\"markers\",\"name\":\"Monterey\",\"orientation\":\"v\",\"showlegend\":true,\"x\":[1987,1985,1980,1991,1989,1988,1990,\"1986 \",1982,1993,1981,2000,1984,1999,1992,1994,1983],\"xaxis\":\"x\",\"y\":[1350.0,1330.0,1890.0,1700.0,3000.0,1540.0,2800.0,1480.0,2000.0,500.0,2220.0,283.0,2100.0,300.0,657.0,600.0,2715.0],\"yaxis\":\"y\",\"type\":\"scatter\"},{\"hovertemplate\":\"County=Riverside\\u003cbr\\u003eYear=%{x}\\u003cbr\\u003eHarvested Acres=%{y}\\u003cextra\\u003e\\u003c\\u002fextra\\u003e\",\"legendgroup\":\"Riverside\",\"marker\":{\"color\":\"#FF97FF\",\"symbol\":\"circle\"},\"mode\":\"markers\",\"name\":\"Riverside\",\"orientation\":\"v\",\"showlegend\":true,\"x\":[1987,1985,1980,1989,1988,1990,\"1986 \",1982,1981,1984,1983],\"xaxis\":\"x\",\"y\":[327.0,780.0,910.0,827.0,445.0,857.0,470.0,1600.0,1051.0,3190.0,2170.0],\"yaxis\":\"y\",\"type\":\"scatter\"},{\"hovertemplate\":\"County=Sacramento\\u003cbr\\u003eYear=%{x}\\u003cbr\\u003eHarvested Acres=%{y}\\u003cextra\\u003e\\u003c\\u002fextra\\u003e\",\"legendgroup\":\"Sacramento\",\"marker\":{\"color\":\"#FECB52\",\"symbol\":\"circle\"},\"mode\":\"markers\",\"name\":\"Sacramento\",\"orientation\":\"v\",\"showlegend\":true,\"x\":[1987,1985,2004,2006,2013,2009,1980,2019,1991,2001,1989,1988,2011,2016,1990,\"1986 \",2002,1982,1993,2015,2005,1981,2000,2017,2020,1995,1984,1999,\"1996 \",1992,2003,2010,2008,2007,1998,2018,1994,2012,1997,1983,2014],\"xaxis\":\"x\",\"y\":[4900.0,3900.0,3504.0,5109.0,1770.0,3359.0,8560.0,1620.0,7900.0,4725.0,7700.0,5200.0,3200.0,4590.0,7300.0,5100.0,5717.0,7800.0,6900.0,4060.0,3097.0,7800.0,5090.0,3070.0,2110.0,8900.0,5400.0,8313.0,9000.0,5760.0,4343.0,2600.0,2511.0,2169.0,7583.0,2660.0,7500.0,2640.0,5550.0,5420.0,3800.0],\"yaxis\":\"y\",\"type\":\"scatter\"},{\"hovertemplate\":\"County=San Benito\\u003cbr\\u003eYear=%{x}\\u003cbr\\u003eHarvested Acres=%{y}\\u003cextra\\u003e\\u003c\\u002fextra\\u003e\",\"legendgroup\":\"San Benito\",\"marker\":{\"color\":\"#636efa\",\"symbol\":\"circle\"},\"mode\":\"markers\",\"name\":\"San Benito\",\"orientation\":\"v\",\"showlegend\":true,\"x\":[1987,1985,2004,2006,2013,2009,1980,1991,2001,1989,1988,2011,2016,1990,\"1986 \",2002,1982,1993,2015,2005,1981,2000,2017,1995,1984,1999,\"1996 \",1992,2003,2010,2008,2007,1998,1994,2012,1997,1983,2014],\"xaxis\":\"x\",\"y\":[4700.0,5700.0,1053.0,500.0,1540.0,3906.0,6200.0,3544.0,960.0,4250.0,4375.0,2830.0,700.0,3597.0,5755.0,1174.0,5350.0,2322.0,926.0,1004.0,5100.0,1166.0,700.0,1916.0,5550.0,965.0,1365.0,1984.0,1330.0,2910.0,1384.0,1141.0,998.0,2188.0,1730.0,1312.0,6050.0,1140.0],\"yaxis\":\"y\",\"type\":\"scatter\"},{\"hovertemplate\":\"County=San Joaquin\\u003cbr\\u003eYear=%{x}\\u003cbr\\u003eHarvested Acres=%{y}\\u003cextra\\u003e\\u003c\\u002fextra\\u003e\",\"legendgroup\":\"San Joaquin\",\"marker\":{\"color\":\"#EF553B\",\"symbol\":\"circle\"},\"mode\":\"markers\",\"name\":\"San Joaquin\",\"orientation\":\"v\",\"showlegend\":true,\"x\":[1987,1985,2004,2006,2013,2009,1980,2019,1991,2001,1989,1988,2011,2016,1990,\"1986 \",2002,1982,1993,2015,2005,1981,2000,2017,2020,1995,1984,1999,\"1996 \",1992,2003,2010,2008,2007,1998,2018,1994,2012,1997,1983,2014],\"xaxis\":\"x\",\"y\":[18600.0,22300.0,29100.0,42000.0,25800.0,38800.0,21212.0,23100.0,21600.0,24200.0,24500.0,19400.0,27300.0,24500.0,28200.0,18800.0,32600.0,29300.0,21000.0,34400.0,38800.0,25091.0,24700.0,21300.0,15200.0,23500.0,25200.0,31200.0,26000.0,13300.0,31500.0,29500.0,33200.0,36900.0,27100.0,19200.0,22700.0,26300.0,26100.0,21300.0,35700.0],\"yaxis\":\"y\",\"type\":\"scatter\"},{\"hovertemplate\":\"County=Santa Clara\\u003cbr\\u003eYear=%{x}\\u003cbr\\u003eHarvested Acres=%{y}\\u003cextra\\u003e\\u003c\\u002fextra\\u003e\",\"legendgroup\":\"Santa Clara\",\"marker\":{\"color\":\"#00cc96\",\"symbol\":\"circle\"},\"mode\":\"markers\",\"name\":\"Santa Clara\",\"orientation\":\"v\",\"showlegend\":true,\"x\":[1987,1985,2004,2013,2009,1980,2019,1991,2001,1989,1988,2011,2016,1990,\"1986 \",2002,1982,1993,2015,1981,2000,2017,2020,1995,1984,1999,\"1996 \",1992,2003,2010,1998,2018,1994,2012,1997,1983,2014],\"xaxis\":\"x\",\"y\":[2700.0,3000.0,169.0,749.0,1160.0,4500.0,464.0,2500.0,525.0,1800.0,1900.0,1060.0,480.0,1900.0,2900.0,623.0,3600.0,2000.0,795.0,3000.0,1117.0,322.0,680.0,1100.0,2700.0,625.0,980.0,1700.0,497.0,1010.0,650.0,348.0,1500.0,980.0,900.0,3200.0,844.0],\"yaxis\":\"y\",\"type\":\"scatter\"},{\"hovertemplate\":\"County=Solano\\u003cbr\\u003eYear=%{x}\\u003cbr\\u003eHarvested Acres=%{y}\\u003cextra\\u003e\\u003c\\u002fextra\\u003e\",\"legendgroup\":\"Solano\",\"marker\":{\"color\":\"#ab63fa\",\"symbol\":\"circle\"},\"mode\":\"markers\",\"name\":\"Solano\",\"orientation\":\"v\",\"showlegend\":true,\"x\":[1987,1985,2004,2006,2013,2009,1980,2019,1991,2001,1989,1988,2011,2016,1990,\"1986 \",2002,1982,1993,2015,2005,1981,2000,2017,2020,1995,1984,1999,\"1996 \",1992,2003,2010,2008,2007,1998,2018,1994,2012,1997,1983,2014],\"xaxis\":\"x\",\"y\":[16000.0,18500.0,10344.0,10000.0,10400.0,12000.0,16311.0,10400.0,23804.0,13801.0,18585.0,18688.0,9000.0,10400.0,19547.0,19500.0,14626.0,13850.0,21783.0,11800.0,10300.0,16650.0,15415.0,9600.0,9650.0,23389.0,15897.0,18341.0,23432.0,18603.0,11952.0,11000.0,10000.0,9700.0,17557.0,11200.0,23413.0,10000.0,21831.0,13056.0,11900.0],\"yaxis\":\"y\",\"type\":\"scatter\"},{\"hovertemplate\":\"County=Stanislaus\\u003cbr\\u003eYear=%{x}\\u003cbr\\u003eHarvested Acres=%{y}\\u003cextra\\u003e\\u003c\\u002fextra\\u003e\",\"legendgroup\":\"Stanislaus\",\"marker\":{\"color\":\"#FFA15A\",\"symbol\":\"circle\"},\"mode\":\"markers\",\"name\":\"Stanislaus\",\"orientation\":\"v\",\"showlegend\":true,\"x\":[1987,1985,2004,2006,2013,2009,1980,1991,2001,1989,1988,2011,1990,\"1986 \",2002,1982,1993,2015,2005,1981,2000,1995,1984,1999,\"1996 \",1992,2003,2010,2008,2007,1998,1994,2012,1997,1983,2014],\"xaxis\":\"x\",\"y\":[11300.0,11100.0,15500.0,15580.0,18500.0,24237.0,7650.0,13600.0,13700.0,11500.0,11374.0,27400.0,13500.0,10250.0,16600.0,8500.0,12400.0,13000.0,12540.0,8600.0,19800.0,17400.0,12250.0,21800.0,14300.0,12200.0,14800.0,32600.0,15238.0,17000.0,20360.0,11800.0,28300.0,15400.0,10000.0,13100.0],\"yaxis\":\"y\",\"type\":\"scatter\"},{\"hovertemplate\":\"County=Sutter\\u003cbr\\u003eYear=%{x}\\u003cbr\\u003eHarvested Acres=%{y}\\u003cextra\\u003e\\u003c\\u002fextra\\u003e\",\"legendgroup\":\"Sutter\",\"marker\":{\"color\":\"#19d3f3\",\"symbol\":\"circle\"},\"mode\":\"markers\",\"name\":\"Sutter\",\"orientation\":\"v\",\"showlegend\":true,\"x\":[1987,1985,2004,2006,2013,2009,1980,2019,1991,2001,1989,1988,2011,2016,1990,\"1986 \",2002,1982,1993,2015,2005,1981,2000,2017,2020,1995,1984,1999,\"1996 \",1992,2003,2010,2008,2007,1998,2018,1994,2012,1997,1983,2014],\"xaxis\":\"x\",\"y\":[14100.0,15980.0,6300.0,6900.0,8070.0,9000.0,20700.0,15600.0,22500.0,9500.0,17000.0,15200.0,7740.0,9720.0,16200.0,15851.0,9100.0,15620.0,20053.0,12700.0,5200.0,19230.0,9700.0,8570.0,12600.0,23188.0,19293.0,18763.0,23423.0,19790.0,8000.0,7330.0,8000.0,7900.0,16532.0,11700.0,21225.0,7830.0,14135.0,16347.0,10000.0],\"yaxis\":\"y\",\"type\":\"scatter\"},{\"hovertemplate\":\"County=Tulare\\u003cbr\\u003eYear=%{x}\\u003cbr\\u003eHarvested Acres=%{y}\\u003cextra\\u003e\\u003c\\u002fextra\\u003e\",\"legendgroup\":\"Tulare\",\"marker\":{\"color\":\"#FF6692\",\"symbol\":\"circle\"},\"mode\":\"markers\",\"name\":\"Tulare\",\"orientation\":\"v\",\"showlegend\":true,\"x\":[1987,1980,1988,\"1986 \",1981],\"xaxis\":\"x\",\"y\":[null,410.0,null,null,100.0],\"yaxis\":\"y\",\"type\":\"scatter\"},{\"hovertemplate\":\"County=Ventura\\u003cbr\\u003eYear=%{x}\\u003cbr\\u003eHarvested Acres=%{y}\\u003cextra\\u003e\\u003c\\u002fextra\\u003e\",\"legendgroup\":\"Ventura\",\"marker\":{\"color\":\"#B6E880\",\"symbol\":\"circle\"},\"mode\":\"markers\",\"name\":\"Ventura\",\"orientation\":\"v\",\"showlegend\":true,\"x\":[1987,1985,1980,1988,\"1986 \",1982,1981,1984,1983],\"xaxis\":\"x\",\"y\":[3000.0,4750.0,4600.0,null,2691.0,4240.0,3860.0,4785.0,4400.0],\"yaxis\":\"y\",\"type\":\"scatter\"},{\"hovertemplate\":\"County=Yolo\\u003cbr\\u003eYear=%{x}\\u003cbr\\u003eHarvested Acres=%{y}\\u003cextra\\u003e\\u003c\\u002fextra\\u003e\",\"legendgroup\":\"Yolo\",\"marker\":{\"color\":\"#FF97FF\",\"symbol\":\"circle\"},\"mode\":\"markers\",\"name\":\"Yolo\",\"orientation\":\"v\",\"showlegend\":true,\"x\":[1987,1985,2004,2006,2013,2009,1980,2019,1991,2001,1989,1988,2011,2016,1990,\"1986 \",2002,1982,1993,2015,2005,1981,2000,2017,2020,1995,1984,1999,\"1996 \",1992,2003,2010,2008,2007,1998,2018,1994,2012,1997,1983,2014],\"xaxis\":\"x\",\"y\":[41100.0,43500.0,45129.0,37026.0,34600.0,37881.0,51950.0,30700.0,59600.0,40374.0,50000.0,43350.0,40100.0,33800.0,59500.0,38170.0,42812.0,51560.0,61500.0,37200.0,42232.0,51360.0,48575.0,28700.0,30700.0,73137.0,49450.0,67114.0,67700.0,45600.0,38274.0,33000.0,37571.0,42149.0,56600.0,28800.0,69700.0,36800.0,49200.0,50100.0,39800.0],\"yaxis\":\"y\",\"type\":\"scatter\"},{\"hovertemplate\":\"County=State Total\\u003cbr\\u003eYear=%{x}\\u003cbr\\u003eHarvested Acres=%{y}\\u003cextra\\u003e\\u003c\\u002fextra\\u003e\",\"legendgroup\":\"State Total\",\"marker\":{\"color\":\"#FECB52\",\"symbol\":\"circle\"},\"mode\":\"markers\",\"name\":\"State Total\",\"orientation\":\"v\",\"showlegend\":true,\"x\":[1987,1985,2004,2006,2013,2009,1980,2019,1991,2001,1989,1988,2011,2016,1990,\"1986 \",2002,1982,1993,2015,2005,1981,2000,2017,2020,1995,1984,1999,\"1996 \",1992,2003,2010,2008,2007,1998,2018,1994,2012,1997,1983,2014],\"xaxis\":\"x\",\"y\":[214724.0,223914.0,294484.0,317236.0,287535.0,316118.0,203294.0,228624.0,319108.0,271990.0,259412.0,220579.0,288773.0,266010.0,312891.0,208645.0,304884.0,232121.0,296913.0,315631.0,306465.0,209622.0,297631.0,227412.0,222240.0,332865.0,249835.0,346926.0,326070.0,247677.0,297128.0,317429.0,281083.0,322964.0,292851.0,232918.0,319659.0,294155.0,274716.0,231990.0,298555.0],\"yaxis\":\"y\",\"type\":\"scatter\"},{\"hovertemplate\":\"County=Santa Barbara\\u003cbr\\u003eYear=%{x}\\u003cbr\\u003eHarvested Acres=%{y}\\u003cextra\\u003e\\u003c\\u002fextra\\u003e\",\"legendgroup\":\"Santa Barbara\",\"marker\":{\"color\":\"#636efa\",\"symbol\":\"circle\"},\"mode\":\"markers\",\"name\":\"Santa Barbara\",\"orientation\":\"v\",\"showlegend\":true,\"x\":[1985,1980,1989,1988,1990,\"1986 \",1982,1981,1984,1983],\"xaxis\":\"x\",\"y\":[1150.0,1134.0,240.0,240.0,545.0,800.0,1490.0,1315.0,1865.0,1720.0],\"yaxis\":\"y\",\"type\":\"scatter\"},{\"hovertemplate\":\"County=Madera\\u003cbr\\u003eYear=%{x}\\u003cbr\\u003eHarvested Acres=%{y}\\u003cextra\\u003e\\u003c\\u002fextra\\u003e\",\"legendgroup\":\"Madera\",\"marker\":{\"color\":\"#EF553B\",\"symbol\":\"circle\"},\"mode\":\"markers\",\"name\":\"Madera\",\"orientation\":\"v\",\"showlegend\":true,\"x\":[2004,2006,2013,2009,1980,2019,2011,2016,1982,2015,2005,1981,2017,2020,2010,2008,2007,2018,2012,2014],\"xaxis\":\"x\",\"y\":[2900.0,5100.0,4200.0,2000.0,1100.0,4300.0,2100.0,5700.0,600.0,7600.0,3200.0,800.0,5900.0,3400.0,2700.0,1900.0,5400.0,5800.0,3000.0,5600.0],\"yaxis\":\"y\",\"type\":\"scatter\"},{\"hovertemplate\":\"County=Sum of Others\\u003cbr\\u003eYear=%{x}\\u003cbr\\u003eHarvested Acres=%{y}\\u003cextra\\u003e\\u003c\\u002fextra\\u003e\",\"legendgroup\":\"Sum of Others\",\"marker\":{\"color\":\"#00cc96\",\"symbol\":\"circle\"},\"mode\":\"markers\",\"name\":\"Sum of Others\",\"orientation\":\"v\",\"showlegend\":true,\"x\":[2004,2006,2013,2009,1991,2011,2016,1993,2015,2005,2017,1995,1999,\"1996 \",1992,2010,2008,2007,1998,2018,1994,2012,1997,2014],\"xaxis\":\"x\",\"y\":[516.0,12797.0,446.0,967.0,3735.0,1033.0,3420.0,955.0,1330.0,10600.0,2410.0,916.0,1583.0,3044.0,800.0,14349.0,200.0,13344.0,2322.0,1740.0,2077.0,355.0,718.0,371.0],\"yaxis\":\"y\",\"type\":\"scatter\"},{\"hovertemplate\":\"County=Orange\\u003cbr\\u003eYear=%{x}\\u003cbr\\u003eHarvested Acres=%{y}\\u003cextra\\u003e\\u003c\\u002fextra\\u003e\",\"legendgroup\":\"Orange\",\"marker\":{\"color\":\"#ab63fa\",\"symbol\":\"circle\"},\"mode\":\"markers\",\"name\":\"Orange\",\"orientation\":\"v\",\"showlegend\":true,\"x\":[1980,1989,1988,1990,1982,1981,1984,1983],\"xaxis\":\"x\",\"y\":[2178.0,360.0,380.0,345.0,2985.0,2925.0,860.0,1570.0],\"yaxis\":\"y\",\"type\":\"scatter\"},{\"hovertemplate\":\"County=Glenn\\u003cbr\\u003eYear=%{x}\\u003cbr\\u003eHarvested Acres=%{y}\\u003cextra\\u003e\\u003c\\u002fextra\\u003e\",\"legendgroup\":\"Glenn\",\"marker\":{\"color\":\"#FFA15A\",\"symbol\":\"circle\"},\"mode\":\"markers\",\"name\":\"Glenn\",\"orientation\":\"v\",\"showlegend\":true,\"x\":[2019,2017,2020,2018,1997],\"xaxis\":\"x\",\"y\":[1960.0,1740.0,1720.0,1370.0,957.0],\"yaxis\":\"y\",\"type\":\"scatter\"},{\"hovertemplate\":\"County=Sonoma\\u003cbr\\u003eYear=%{x}\\u003cbr\\u003eHarvested Acres=%{y}\\u003cextra\\u003e\\u003c\\u002fextra\\u003e\",\"legendgroup\":\"Sonoma\",\"marker\":{\"color\":\"#19d3f3\",\"symbol\":\"circle\"},\"mode\":\"markers\",\"name\":\"Sonoma\",\"orientation\":\"v\",\"showlegend\":true,\"x\":[\"1986 \"],\"xaxis\":\"x\",\"y\":[null],\"yaxis\":\"y\",\"type\":\"scatter\"},{\"hovertemplate\":\"County=Tehama\\u003cbr\\u003eYear=%{x}\\u003cbr\\u003eHarvested Acres=%{y}\\u003cextra\\u003e\\u003c\\u002fextra\\u003e\",\"legendgroup\":\"Tehama\",\"marker\":{\"color\":\"#FF6692\",\"symbol\":\"circle\"},\"mode\":\"markers\",\"name\":\"Tehama\",\"orientation\":\"v\",\"showlegend\":true,\"x\":[\"1986 \"],\"xaxis\":\"x\",\"y\":[null],\"yaxis\":\"y\",\"type\":\"scatter\"}],                        {\"template\":{\"data\":{\"histogram2dcontour\":[{\"type\":\"histogram2dcontour\",\"colorbar\":{\"outlinewidth\":0,\"ticks\":\"\"},\"colorscale\":[[0.0,\"#0d0887\"],[0.1111111111111111,\"#46039f\"],[0.2222222222222222,\"#7201a8\"],[0.3333333333333333,\"#9c179e\"],[0.4444444444444444,\"#bd3786\"],[0.5555555555555556,\"#d8576b\"],[0.6666666666666666,\"#ed7953\"],[0.7777777777777778,\"#fb9f3a\"],[0.8888888888888888,\"#fdca26\"],[1.0,\"#f0f921\"]]}],\"choropleth\":[{\"type\":\"choropleth\",\"colorbar\":{\"outlinewidth\":0,\"ticks\":\"\"}}],\"histogram2d\":[{\"type\":\"histogram2d\",\"colorbar\":{\"outlinewidth\":0,\"ticks\":\"\"},\"colorscale\":[[0.0,\"#0d0887\"],[0.1111111111111111,\"#46039f\"],[0.2222222222222222,\"#7201a8\"],[0.3333333333333333,\"#9c179e\"],[0.4444444444444444,\"#bd3786\"],[0.5555555555555556,\"#d8576b\"],[0.6666666666666666,\"#ed7953\"],[0.7777777777777778,\"#fb9f3a\"],[0.8888888888888888,\"#fdca26\"],[1.0,\"#f0f921\"]]}],\"heatmap\":[{\"type\":\"heatmap\",\"colorbar\":{\"outlinewidth\":0,\"ticks\":\"\"},\"colorscale\":[[0.0,\"#0d0887\"],[0.1111111111111111,\"#46039f\"],[0.2222222222222222,\"#7201a8\"],[0.3333333333333333,\"#9c179e\"],[0.4444444444444444,\"#bd3786\"],[0.5555555555555556,\"#d8576b\"],[0.6666666666666666,\"#ed7953\"],[0.7777777777777778,\"#fb9f3a\"],[0.8888888888888888,\"#fdca26\"],[1.0,\"#f0f921\"]]}],\"heatmapgl\":[{\"type\":\"heatmapgl\",\"colorbar\":{\"outlinewidth\":0,\"ticks\":\"\"},\"colorscale\":[[0.0,\"#0d0887\"],[0.1111111111111111,\"#46039f\"],[0.2222222222222222,\"#7201a8\"],[0.3333333333333333,\"#9c179e\"],[0.4444444444444444,\"#bd3786\"],[0.5555555555555556,\"#d8576b\"],[0.6666666666666666,\"#ed7953\"],[0.7777777777777778,\"#fb9f3a\"],[0.8888888888888888,\"#fdca26\"],[1.0,\"#f0f921\"]]}],\"contourcarpet\":[{\"type\":\"contourcarpet\",\"colorbar\":{\"outlinewidth\":0,\"ticks\":\"\"}}],\"contour\":[{\"type\":\"contour\",\"colorbar\":{\"outlinewidth\":0,\"ticks\":\"\"},\"colorscale\":[[0.0,\"#0d0887\"],[0.1111111111111111,\"#46039f\"],[0.2222222222222222,\"#7201a8\"],[0.3333333333333333,\"#9c179e\"],[0.4444444444444444,\"#bd3786\"],[0.5555555555555556,\"#d8576b\"],[0.6666666666666666,\"#ed7953\"],[0.7777777777777778,\"#fb9f3a\"],[0.8888888888888888,\"#fdca26\"],[1.0,\"#f0f921\"]]}],\"surface\":[{\"type\":\"surface\",\"colorbar\":{\"outlinewidth\":0,\"ticks\":\"\"},\"colorscale\":[[0.0,\"#0d0887\"],[0.1111111111111111,\"#46039f\"],[0.2222222222222222,\"#7201a8\"],[0.3333333333333333,\"#9c179e\"],[0.4444444444444444,\"#bd3786\"],[0.5555555555555556,\"#d8576b\"],[0.6666666666666666,\"#ed7953\"],[0.7777777777777778,\"#fb9f3a\"],[0.8888888888888888,\"#fdca26\"],[1.0,\"#f0f921\"]]}],\"mesh3d\":[{\"type\":\"mesh3d\",\"colorbar\":{\"outlinewidth\":0,\"ticks\":\"\"}}],\"scatter\":[{\"fillpattern\":{\"fillmode\":\"overlay\",\"size\":10,\"solidity\":0.2},\"type\":\"scatter\"}],\"parcoords\":[{\"type\":\"parcoords\",\"line\":{\"colorbar\":{\"outlinewidth\":0,\"ticks\":\"\"}}}],\"scatterpolargl\":[{\"type\":\"scatterpolargl\",\"marker\":{\"colorbar\":{\"outlinewidth\":0,\"ticks\":\"\"}}}],\"bar\":[{\"error_x\":{\"color\":\"#2a3f5f\"},\"error_y\":{\"color\":\"#2a3f5f\"},\"marker\":{\"line\":{\"color\":\"#E5ECF6\",\"width\":0.5},\"pattern\":{\"fillmode\":\"overlay\",\"size\":10,\"solidity\":0.2}},\"type\":\"bar\"}],\"scattergeo\":[{\"type\":\"scattergeo\",\"marker\":{\"colorbar\":{\"outlinewidth\":0,\"ticks\":\"\"}}}],\"scatterpolar\":[{\"type\":\"scatterpolar\",\"marker\":{\"colorbar\":{\"outlinewidth\":0,\"ticks\":\"\"}}}],\"histogram\":[{\"marker\":{\"pattern\":{\"fillmode\":\"overlay\",\"size\":10,\"solidity\":0.2}},\"type\":\"histogram\"}],\"scattergl\":[{\"type\":\"scattergl\",\"marker\":{\"colorbar\":{\"outlinewidth\":0,\"ticks\":\"\"}}}],\"scatter3d\":[{\"type\":\"scatter3d\",\"line\":{\"colorbar\":{\"outlinewidth\":0,\"ticks\":\"\"}},\"marker\":{\"colorbar\":{\"outlinewidth\":0,\"ticks\":\"\"}}}],\"scattermapbox\":[{\"type\":\"scattermapbox\",\"marker\":{\"colorbar\":{\"outlinewidth\":0,\"ticks\":\"\"}}}],\"scatterternary\":[{\"type\":\"scatterternary\",\"marker\":{\"colorbar\":{\"outlinewidth\":0,\"ticks\":\"\"}}}],\"scattercarpet\":[{\"type\":\"scattercarpet\",\"marker\":{\"colorbar\":{\"outlinewidth\":0,\"ticks\":\"\"}}}],\"carpet\":[{\"aaxis\":{\"endlinecolor\":\"#2a3f5f\",\"gridcolor\":\"white\",\"linecolor\":\"white\",\"minorgridcolor\":\"white\",\"startlinecolor\":\"#2a3f5f\"},\"baxis\":{\"endlinecolor\":\"#2a3f5f\",\"gridcolor\":\"white\",\"linecolor\":\"white\",\"minorgridcolor\":\"white\",\"startlinecolor\":\"#2a3f5f\"},\"type\":\"carpet\"}],\"table\":[{\"cells\":{\"fill\":{\"color\":\"#EBF0F8\"},\"line\":{\"color\":\"white\"}},\"header\":{\"fill\":{\"color\":\"#C8D4E3\"},\"line\":{\"color\":\"white\"}},\"type\":\"table\"}],\"barpolar\":[{\"marker\":{\"line\":{\"color\":\"#E5ECF6\",\"width\":0.5},\"pattern\":{\"fillmode\":\"overlay\",\"size\":10,\"solidity\":0.2}},\"type\":\"barpolar\"}],\"pie\":[{\"automargin\":true,\"type\":\"pie\"}]},\"layout\":{\"autotypenumbers\":\"strict\",\"colorway\":[\"#636efa\",\"#EF553B\",\"#00cc96\",\"#ab63fa\",\"#FFA15A\",\"#19d3f3\",\"#FF6692\",\"#B6E880\",\"#FF97FF\",\"#FECB52\"],\"font\":{\"color\":\"#2a3f5f\"},\"hovermode\":\"closest\",\"hoverlabel\":{\"align\":\"left\"},\"paper_bgcolor\":\"white\",\"plot_bgcolor\":\"#E5ECF6\",\"polar\":{\"bgcolor\":\"#E5ECF6\",\"angularaxis\":{\"gridcolor\":\"white\",\"linecolor\":\"white\",\"ticks\":\"\"},\"radialaxis\":{\"gridcolor\":\"white\",\"linecolor\":\"white\",\"ticks\":\"\"}},\"ternary\":{\"bgcolor\":\"#E5ECF6\",\"aaxis\":{\"gridcolor\":\"white\",\"linecolor\":\"white\",\"ticks\":\"\"},\"baxis\":{\"gridcolor\":\"white\",\"linecolor\":\"white\",\"ticks\":\"\"},\"caxis\":{\"gridcolor\":\"white\",\"linecolor\":\"white\",\"ticks\":\"\"}},\"coloraxis\":{\"colorbar\":{\"outlinewidth\":0,\"ticks\":\"\"}},\"colorscale\":{\"sequential\":[[0.0,\"#0d0887\"],[0.1111111111111111,\"#46039f\"],[0.2222222222222222,\"#7201a8\"],[0.3333333333333333,\"#9c179e\"],[0.4444444444444444,\"#bd3786\"],[0.5555555555555556,\"#d8576b\"],[0.6666666666666666,\"#ed7953\"],[0.7777777777777778,\"#fb9f3a\"],[0.8888888888888888,\"#fdca26\"],[1.0,\"#f0f921\"]],\"sequentialminus\":[[0.0,\"#0d0887\"],[0.1111111111111111,\"#46039f\"],[0.2222222222222222,\"#7201a8\"],[0.3333333333333333,\"#9c179e\"],[0.4444444444444444,\"#bd3786\"],[0.5555555555555556,\"#d8576b\"],[0.6666666666666666,\"#ed7953\"],[0.7777777777777778,\"#fb9f3a\"],[0.8888888888888888,\"#fdca26\"],[1.0,\"#f0f921\"]],\"diverging\":[[0,\"#8e0152\"],[0.1,\"#c51b7d\"],[0.2,\"#de77ae\"],[0.3,\"#f1b6da\"],[0.4,\"#fde0ef\"],[0.5,\"#f7f7f7\"],[0.6,\"#e6f5d0\"],[0.7,\"#b8e186\"],[0.8,\"#7fbc41\"],[0.9,\"#4d9221\"],[1,\"#276419\"]]},\"xaxis\":{\"gridcolor\":\"white\",\"linecolor\":\"white\",\"ticks\":\"\",\"title\":{\"standoff\":15},\"zerolinecolor\":\"white\",\"automargin\":true,\"zerolinewidth\":2},\"yaxis\":{\"gridcolor\":\"white\",\"linecolor\":\"white\",\"ticks\":\"\",\"title\":{\"standoff\":15},\"zerolinecolor\":\"white\",\"automargin\":true,\"zerolinewidth\":2},\"scene\":{\"xaxis\":{\"backgroundcolor\":\"#E5ECF6\",\"gridcolor\":\"white\",\"linecolor\":\"white\",\"showbackground\":true,\"ticks\":\"\",\"zerolinecolor\":\"white\",\"gridwidth\":2},\"yaxis\":{\"backgroundcolor\":\"#E5ECF6\",\"gridcolor\":\"white\",\"linecolor\":\"white\",\"showbackground\":true,\"ticks\":\"\",\"zerolinecolor\":\"white\",\"gridwidth\":2},\"zaxis\":{\"backgroundcolor\":\"#E5ECF6\",\"gridcolor\":\"white\",\"linecolor\":\"white\",\"showbackground\":true,\"ticks\":\"\",\"zerolinecolor\":\"white\",\"gridwidth\":2}},\"shapedefaults\":{\"line\":{\"color\":\"#2a3f5f\"}},\"annotationdefaults\":{\"arrowcolor\":\"#2a3f5f\",\"arrowhead\":0,\"arrowwidth\":1},\"geo\":{\"bgcolor\":\"white\",\"landcolor\":\"#E5ECF6\",\"subunitcolor\":\"white\",\"showland\":true,\"showlakes\":true,\"lakecolor\":\"white\"},\"title\":{\"x\":0.05},\"mapbox\":{\"style\":\"light\"}}},\"xaxis\":{\"anchor\":\"y\",\"domain\":[0.0,1.0],\"title\":{\"text\":\"Year\"}},\"yaxis\":{\"anchor\":\"x\",\"domain\":[0.0,1.0],\"title\":{\"text\":\"Harvested Acres\"}},\"legend\":{\"title\":{\"text\":\"County\"},\"tracegroupgap\":0},\"margin\":{\"t\":60}},                        {\"responsive\": true}                    ).then(function(){\n",
       "                            \n",
       "var gd = document.getElementById('0e02cb96-f129-4bcf-afb1-9e3a27b856b8');\n",
       "var x = new MutationObserver(function (mutations, observer) {{\n",
       "        var display = window.getComputedStyle(gd).display;\n",
       "        if (!display || display === 'none') {{\n",
       "            console.log([gd, 'removed!']);\n",
       "            Plotly.purge(gd);\n",
       "            observer.disconnect();\n",
       "        }}\n",
       "}});\n",
       "\n",
       "// Listen for the removal of the full notebook cells\n",
       "var notebookContainer = gd.closest('#notebook-container');\n",
       "if (notebookContainer) {{\n",
       "    x.observe(notebookContainer, {childList: true});\n",
       "}}\n",
       "\n",
       "// Listen for the clearing of the current output cell\n",
       "var outputEl = gd.closest('.output');\n",
       "if (outputEl) {{\n",
       "    x.observe(outputEl, {childList: true});\n",
       "}}\n",
       "\n",
       "                        })                };                });            </script>        </div>"
      ]
     },
     "metadata": {},
     "output_type": "display_data"
    }
   ],
   "source": [
    "import plotly.express as px\n",
    "\n",
    "fig = px.scatter(\n",
    "    ur_table[ur_table['Crop Name'] == 'TOMATOES PROCESSING'],\n",
    "    x='Year',\n",
    "    y='Harvested Acres',\n",
    "    color='County',\n",
    ")\n",
    "\n",
    "\n",
    "fig.show()"
   ]
  },
  {
   "cell_type": "code",
   "execution_count": null,
   "id": "cd6f631b-8df9-48bd-b437-084e62feed03",
   "metadata": {},
   "outputs": [],
   "source": []
  },
  {
   "cell_type": "code",
   "execution_count": null,
   "id": "8493447c-af8c-4a11-9bee-7f976c11114c",
   "metadata": {},
   "outputs": [],
   "source": []
  }
 ],
 "metadata": {
  "kernelspec": {
   "display_name": "Python 3 (ipykernel)",
   "language": "python",
   "name": "python3"
  },
  "language_info": {
   "codemirror_mode": {
    "name": "ipython",
    "version": 3
   },
   "file_extension": ".py",
   "mimetype": "text/x-python",
   "name": "python",
   "nbconvert_exporter": "python",
   "pygments_lexer": "ipython3",
   "version": "3.12.2"
  }
 },
 "nbformat": 4,
 "nbformat_minor": 5
}
