{
 "cells": [
  {
   "cell_type": "code",
   "execution_count": 21,
   "id": "10170d46-20cf-4b25-958e-42e05b826605",
   "metadata": {},
   "outputs": [],
   "source": [
    "import pandas as pd\n",
    "import os\n",
    "\n",
    "from itables import show"
   ]
  },
  {
   "cell_type": "markdown",
   "id": "b3e8b412-27d5-4322-b576-91e5493edb62",
   "metadata": {},
   "source": [
    "## Part 1"
   ]
  },
  {
   "cell_type": "code",
   "execution_count": 68,
   "id": "e43a374f-bb59-40fb-b8aa-fa3fccc10422",
   "metadata": {},
   "outputs": [
    {
     "name": "stdout",
     "output_type": "stream",
     "text": [
      "RawClimDiv/climdiv_pcpn_cty.txt\n",
      "RawClimDiv/climdiv_tmin_st.txt\n",
      "RawClimDiv/climdiv_tmin_cty.txt\n",
      "RawClimDiv/climdiv_tavg_st.txt\n",
      "RawClimDiv/climdiv_tmax_st.txt\n",
      "RawClimDiv/climdiv_tmax_cty.txt\n",
      "RawClimDiv/climdiv_pcpn_st.txt\n",
      "RawClimDiv/climdiv_tavg_cty.txt\n"
     ]
    }
   ],
   "source": [
    "def add_headers(rawdi, outdir):\n",
    "    for _,_,files in os.walk(rawdir):\n",
    "        break\n",
    "    \n",
    "    for filename in files:\n",
    "        if filename!='climdiv_county-readme.txt':\n",
    "            print(os.path.join(rawdir, filename))\n",
    "            with open(os.path.join(rawdir, filename), 'r') as f, open(os.path.join(outdir, filename), 'w') as o:\n",
    "                content = f.read()\n",
    "                line='Code  Jan  Feb  Mar  Apr  May  Jun  Jul  Aug  Sep  Oct  Nov  Dec'\n",
    "                o.write(line + '\\n' + content)\n",
    "                \n",
    "rawdir = 'RawClimDiv'\n",
    "climdir = 'ClimDivData'\n",
    "add_headers(rawdir, climdir)"
   ]
  },
  {
   "cell_type": "code",
   "execution_count": 70,
   "id": "db1cd91a-ab0c-4a03-b21a-a7a5bdb29317",
   "metadata": {},
   "outputs": [
    {
     "name": "stderr",
     "output_type": "stream",
     "text": [
      "/tmp/ipykernel_32880/1504482282.py:11: ParserWarning: Falling back to the 'python' engine because the 'c' engine does not support regex separators (separators > 1 char and different from '\\s+' are interpreted as regex); you can avoid this warning by specifying engine='python'.\n",
      "  dict = pd.read_csv(fpath, sep=' +', dtype={'Code': 'str'})\n",
      "/tmp/ipykernel_32880/1504482282.py:11: ParserWarning: Falling back to the 'python' engine because the 'c' engine does not support regex separators (separators > 1 char and different from '\\s+' are interpreted as regex); you can avoid this warning by specifying engine='python'.\n",
      "  dict = pd.read_csv(fpath, sep=' +', dtype={'Code': 'str'})\n",
      "/tmp/ipykernel_32880/1504482282.py:11: ParserWarning: Falling back to the 'python' engine because the 'c' engine does not support regex separators (separators > 1 char and different from '\\s+' are interpreted as regex); you can avoid this warning by specifying engine='python'.\n",
      "  dict = pd.read_csv(fpath, sep=' +', dtype={'Code': 'str'})\n",
      "/tmp/ipykernel_32880/1504482282.py:11: ParserWarning: Falling back to the 'python' engine because the 'c' engine does not support regex separators (separators > 1 char and different from '\\s+' are interpreted as regex); you can avoid this warning by specifying engine='python'.\n",
      "  dict = pd.read_csv(fpath, sep=' +', dtype={'Code': 'str'})\n"
     ]
    }
   ],
   "source": [
    "#county stuff\n",
    "for _,_,files in os.walk(climdir):\n",
    "    break\n",
    "\n",
    "dfs_dict = {}\n",
    "for filename in files:\n",
    "    if not filename.endswith('cty.txt'):\n",
    "        continue\n",
    "            \n",
    "    fpath = os.path.join(climdir, filename)\n",
    "    dict = pd.read_csv(fpath, sep=' +', dtype={'Code': 'str'})\n",
    "\n",
    "    dict['StateFips'] = dict['Code'].str[0:2]\n",
    "    dict['CountyFips'] = dict['Code'].str[2:5]\n",
    "    dict['DataType'] = dict['Code'].str[5:7]\n",
    "    dict['Year'] = dict['Code'].str[7:12]\n",
    "\n",
    "    cols = list(dict.columns)\n",
    "    cols.remove('Year')\n",
    "    cols.insert(0, 'Year')\n",
    "    cols.remove('CountyFips')\n",
    "    cols.insert(0, 'CountyFips')\n",
    "    cols.remove('StateFips')\n",
    "    cols.insert(0, 'StateFips')\n",
    "    cols.remove('DataType')\n",
    "    cols.insert(0, 'DataType')\n",
    "    cols.remove('Code')\n",
    "    dict = dict[cols]\n",
    "\n",
    "    outpath = os.path.join(climdir, filename.split('.')[0] + '_clean.csv')\n",
    "    dict.to_csv(outpath, index=False)"
   ]
  },
  {
   "cell_type": "code",
   "execution_count": 76,
   "id": "1b7c7aaa-a3cb-461d-94b5-36d97c003744",
   "metadata": {},
   "outputs": [
    {
     "name": "stderr",
     "output_type": "stream",
     "text": [
      "/tmp/ipykernel_32880/2159036603.py:11: ParserWarning: Falling back to the 'python' engine because the 'c' engine does not support regex separators (separators > 1 char and different from '\\s+' are interpreted as regex); you can avoid this warning by specifying engine='python'.\n",
      "  dict = pd.read_csv(fpath, sep=' +', dtype={'Code': 'str'})\n",
      "/tmp/ipykernel_32880/2159036603.py:11: ParserWarning: Falling back to the 'python' engine because the 'c' engine does not support regex separators (separators > 1 char and different from '\\s+' are interpreted as regex); you can avoid this warning by specifying engine='python'.\n",
      "  dict = pd.read_csv(fpath, sep=' +', dtype={'Code': 'str'})\n",
      "/tmp/ipykernel_32880/2159036603.py:11: ParserWarning: Falling back to the 'python' engine because the 'c' engine does not support regex separators (separators > 1 char and different from '\\s+' are interpreted as regex); you can avoid this warning by specifying engine='python'.\n",
      "  dict = pd.read_csv(fpath, sep=' +', dtype={'Code': 'str'})\n",
      "/tmp/ipykernel_32880/2159036603.py:11: ParserWarning: Falling back to the 'python' engine because the 'c' engine does not support regex separators (separators > 1 char and different from '\\s+' are interpreted as regex); you can avoid this warning by specifying engine='python'.\n",
      "  dict = pd.read_csv(fpath, sep=' +', dtype={'Code': 'str'})\n"
     ]
    }
   ],
   "source": [
    "#state stuff\n",
    "for _,_,files in os.walk(climdir):\n",
    "    break\n",
    "\n",
    "dfs_dict = {}\n",
    "for filename in files:\n",
    "    if not filename.endswith('st.txt'):\n",
    "        continue\n",
    "            \n",
    "    fpath = os.path.join(climdir, filename)\n",
    "    dict = pd.read_csv(fpath, sep=' +', dtype={'Code': 'str'})\n",
    "\n",
    "    dict['StateFipsOrRegion'] = dict['Code'].str[0:3]\n",
    "    dict['Division'] = dict['Code'].str[3:4]\n",
    "    dict['DataType'] = dict['Code'].str[4:6]\n",
    "    dict['Year'] = dict['Code'].str[6:10]\n",
    "\n",
    "    cols = list(dict.columns)\n",
    "    cols.remove('Year')\n",
    "    cols.insert(0, 'Year')\n",
    "    cols.remove('Division')\n",
    "    cols.insert(0, 'Division')\n",
    "    cols.remove('StateFipsOrRegion')\n",
    "    cols.insert(0, 'StateFipsOrRegion')\n",
    "    cols.remove('DataType')\n",
    "    cols.insert(0, 'DataType')\n",
    "    cols.remove('Code')\n",
    "    dict = dict[cols]\n",
    "\n",
    "    outpath = os.path.join(climdir, filename.split('.')[0] + '_clean.csv')\n",
    "    dict.to_csv(outpath, index=False)"
   ]
  },
  {
   "cell_type": "code",
   "execution_count": null,
   "id": "59bb7b59-9d8b-4f29-8e0a-3913af5b89cc",
   "metadata": {},
   "outputs": [],
   "source": []
  }
 ],
 "metadata": {
  "kernelspec": {
   "display_name": "Python 3 (ipykernel)",
   "language": "python",
   "name": "python3"
  },
  "language_info": {
   "codemirror_mode": {
    "name": "ipython",
    "version": 3
   },
   "file_extension": ".py",
   "mimetype": "text/x-python",
   "name": "python",
   "nbconvert_exporter": "python",
   "pygments_lexer": "ipython3",
   "version": "3.12.2"
  }
 },
 "nbformat": 4,
 "nbformat_minor": 5
}
