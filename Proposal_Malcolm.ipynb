{
 "cells": [
  {
   "cell_type": "markdown",
   "id": "e7931ca7-39bc-40e2-9304-fadf0074970a",
   "metadata": {},
   "source": [
    "# Introduction/Background\n",
    "\n",
    "The initial question I hope to answer is whether California agricultural areas have made a geographic shift due to climate change. I have chosen to analyze agricultural data because eating is important, and I chose to look at climate change shifts as an excuse to analyze location data. The goal of my project is to hopefully find an interesting result one way or another and to get practice using Python for GIS work."
   ]
  },
  {
   "cell_type": "markdown",
   "id": "7e748121-0657-4b7f-aaf5-78ccce3fe2be",
   "metadata": {},
   "source": [
    "# Data Description\n",
    "\n",
    "The data for my proposal is sourced from the public USDA Cropland dataset, found [here](https://www.nass.usda.gov/Research_and_Science/Cropland/SARS1a.php). It contains data on land cover with an agricultural emphasis. The data is in raster format and contains reliable yearly releases from 2008 to 2023. There are no major ethical concerns with the data I am using as it is impersonal and intended for public use. That said, there is a possible concern over the accuracy of any raster data as cell values are generally averages or samples at center points, and may therefore overestimate total crop landcover. The issue of data resolution is not unique to the raster format, though, and since the initial analysis is looking at change rather than total area it should not be a significant issue."
   ]
  },
  {
   "cell_type": "markdown",
   "id": "6574204f-36f7-450d-96a8-748b866e31eb",
   "metadata": {},
   "source": [
    "# Initial Exploratory Data Analysis\n",
    "\n",
    "The base data for my analysis is the cropland raster files. Each cell is 30x30 meters and has an integer value corresponding to a crop or other land data type. The variables I am calculating are counts of cells for crops of interest, and average offsets (in cells) from the bottom of the rasters."
   ]
  },
  {
   "cell_type": "markdown",
   "id": "dcb84348-6f57-43e3-a7c7-cd99e0aef602",
   "metadata": {
    "jp-MarkdownHeadingCollapsed": true
   },
   "source": [
    "### Imports"
   ]
  },
  {
   "cell_type": "code",
   "execution_count": 186,
   "id": "6c395bcf-2adf-4aff-8760-ab822aad7c75",
   "metadata": {},
   "outputs": [],
   "source": [
    "# Installs\n",
    "#!conda install rasterio #I used pip in the end"
   ]
  },
  {
   "cell_type": "code",
   "execution_count": 1,
   "id": "859e472c-8f4a-4961-bf0f-4974d7d26dee",
   "metadata": {},
   "outputs": [],
   "source": [
    "# Imports\n",
    "import pandas as pd\n",
    "import geopandas as gd\n",
    "import rasterio as rio\n",
    "import os\n",
    "import numpy as np\n",
    "import plotly.express as px\n",
    "\n",
    "from itables import show"
   ]
  },
  {
   "cell_type": "markdown",
   "id": "20d8c464-5ff3-418c-a9b4-d456b9d5f88b",
   "metadata": {
    "jp-MarkdownHeadingCollapsed": true
   },
   "source": [
    "### Defining Crops of Interest"
   ]
  },
  {
   "cell_type": "code",
   "execution_count": 2,
   "id": "f751b6b4-0941-4bc3-b4a9-616e3abc8c32",
   "metadata": {},
   "outputs": [],
   "source": [
    "# Cropland categories of interest\n",
    "# These are all categories that have relatively large export values in the CA\n",
    "ccats = {\n",
    "    1: 'Corn',\n",
    "    2: 'Cotton',\n",
    "    3: 'Rice',\n",
    "    49: 'Onions',\n",
    "    54: 'Tomatoes',\n",
    "    66: 'Cherries',\n",
    "    69: 'Grapes',\n",
    "    72: 'Citrus',\n",
    "    75: 'Almonds',\n",
    "    76: 'Walnuts',\n",
    "    204: 'Pistachios',\n",
    "    206: 'Carrots',\n",
    "    212: 'Oranges',\n",
    "    221: 'Strawberries',\n",
    "    227: 'Lettuce'\n",
    "}"
   ]
  },
  {
   "cell_type": "markdown",
   "id": "c14fa1c6-4d6c-4fe4-9360-c1b3c572702a",
   "metadata": {
    "jp-MarkdownHeadingCollapsed": true
   },
   "source": [
    "### Getting Statistics (Warning: Slow)\n",
    "NOTE: Since the raster files are so large I have not included them in my submission. The saved results of this section can be loaded in the next section."
   ]
  },
  {
   "cell_type": "code",
   "execution_count": 5,
   "id": "381d6ea6-1da2-45f2-b4a8-830dbbfcfeff",
   "metadata": {},
   "outputs": [
    {
     "data": {
      "text/plain": [
       "[(2008, <open DatasetReader name='2008Crop/clipped.TIF' mode='r'>),\n",
       " (2013, <open DatasetReader name='2013Crop/clipped.TIF' mode='r'>),\n",
       " (2018, <open DatasetReader name='2018Crop/clipped.TIF' mode='r'>),\n",
       " (2023, <open DatasetReader name='2023Crop/clipped.TIF' mode='r'>)]"
      ]
     },
     "execution_count": 5,
     "metadata": {},
     "output_type": "execute_result"
    }
   ],
   "source": [
    "# Load Cropland data\n",
    "cyears = [2008, 2013, 2018, 2023]\n",
    "crasters = [ (year, rio.open(fr'{year}Crop/clipped.TIF')) for year in cyears]\n",
    "crasters"
   ]
  },
  {
   "cell_type": "markdown",
   "id": "b5f500fa-cead-4d79-abf7-a81e0395285b",
   "metadata": {},
   "source": [
    "To get data on overall crop latitude I do a per-crop average of offsets from the bottom cell of each raster. At this point since I only care about changes I am not making any effort to convert to proper latitude/longitude."
   ]
  },
  {
   "cell_type": "code",
   "execution_count": 154,
   "id": "b38c3377-2bf7-4a04-8b5a-e5ba2ae59bc8",
   "metadata": {},
   "outputs": [
    {
     "name": "stdout",
     "output_type": "stream",
     "text": [
      "3655090.964396687\n",
      "3655090.964396687\n",
      "3655090.964396687\n",
      "3655090.964396687\n"
     ]
    },
    {
     "data": {
      "text/plain": [
       "59368"
      ]
     },
     "execution_count": 154,
     "metadata": {},
     "output_type": "execute_result"
    }
   ],
   "source": [
    "#This is a quick manual check to make sure each raster has the bottom bound, and will therefore have comparable offsets\n",
    "for _, raster in crasters:\n",
    "    dataset_top = raster.bounds.bottom\n",
    "    print(dataset_top)\n",
    "\n",
    "crasters[0][1].height"
   ]
  },
  {
   "cell_type": "markdown",
   "id": "282ca79e-2f20-45e0-90fc-12f84005c05c",
   "metadata": {
    "jp-MarkdownHeadingCollapsed": true
   },
   "source": [
    "#### Actual Statistics Part"
   ]
  },
  {
   "cell_type": "code",
   "execution_count": 14,
   "id": "e73aa706-b8bb-4c02-a428-ebdf6e891e2e",
   "metadata": {},
   "outputs": [
    {
     "name": "stdout",
     "output_type": "stream",
     "text": [
      "(59368, 48339)\n",
      "(59368, 48339)\n",
      "(59368, 48339)\n",
      "(59368, 48339)\n"
     ]
    },
    {
     "data": {
      "text/plain": [
       "{1: [30829.671710508195,\n",
       "  29791.47880773399,\n",
       "  31260.655134379696,\n",
       "  33104.86231012435],\n",
       " 2: [36968.00181548464,\n",
       "  37401.462947127904,\n",
       "  36257.795825304864,\n",
       "  37032.08546784838],\n",
       " 3: [22857.637851868778,\n",
       "  22980.837597026308,\n",
       "  23015.113304668786,\n",
       "  23093.704579869318],\n",
       " 49: [37234.28804602291,\n",
       "  38282.97640799918,\n",
       "  41605.29029419836,\n",
       "  42323.706301926555],\n",
       " 54: [31971.667251003626,\n",
       "  31909.426748988502,\n",
       "  31729.169155031355,\n",
       "  31135.266302302338],\n",
       " 66: [31158.64128292348,\n",
       "  31271.238458561398,\n",
       "  32259.3264486334,\n",
       "  32243.446918465525],\n",
       " 69: [33806.91882208478,\n",
       "  33314.98959916491,\n",
       "  33725.888146099656,\n",
       "  33525.52973950862],\n",
       " 72: [38952.518211426424,\n",
       "  49160.34467769604,\n",
       "  40117.84660635303,\n",
       "  39183.874195497185],\n",
       " 75: [32313.90105951878,\n",
       "  32709.29939216371,\n",
       "  32532.125263544745,\n",
       "  32164.844879937365],\n",
       " 204: [36684.046225992475,\n",
       "  37124.750373982126,\n",
       "  36797.838135556194,\n",
       "  36707.57441545008],\n",
       " 206: [42207.236714946484,\n",
       "  44703.12261527566,\n",
       "  46287.10526250305,\n",
       "  47922.54331542627],\n",
       " 212: [38552.180441033364,\n",
       "  36623.48253647401,\n",
       "  36761.605841701145,\n",
       "  38021.45161034518],\n",
       " 221: [37124.5970715749,\n",
       "  38811.16075333851,\n",
       "  38646.66401426454,\n",
       "  34344.10976991615],\n",
       " 227: [39221.127056181576,\n",
       "  45251.747878513146,\n",
       "  47749.94555327267,\n",
       "  50692.81801505132]}"
      ]
     },
     "execution_count": 14,
     "metadata": {},
     "output_type": "execute_result"
    }
   ],
   "source": [
    "# This is the actual data collection\n",
    "# WARNING: This is really slow (30+ mins on my machine), there are cached result tables included (see below)\n",
    "\n",
    "cavgs = {ccode: [] for ccode in ccats.keys()}\n",
    "csums = {ccode: [] for ccode in ccats.keys()}\n",
    "ccounts = {ccode: [] for ccode in ccats.keys()}\n",
    "\n",
    "for year, raster in crasters:\n",
    "    rarr = raster.read(1) #raster as numpy array\n",
    "    \n",
    "    sums = {catnum: 0 for catnum in ccats.keys()}\n",
    "    counts = {catnum: 0 for catnum in ccats.keys()}\n",
    "    for row in range(rarr.shape[0]-1, -1, -1): #the range works backwards since we want to count from the bottom up\n",
    "        for col in range(rarr.shape[1]):\n",
    "            val = rarr[row,col]\n",
    "            if val in ccats.keys():\n",
    "                sums[val] += row\n",
    "                counts[val] += 1\n",
    "\n",
    "    for ccode in ccats.keys():\n",
    "        ccounts[ccode].append(counts[ccode])\n",
    "        csums[ccode].append(sums[ccode])\n",
    "        cavgs[ccode].append(sums[ccode]/counts[ccode] if counts[ccode]>0 else 0)\n",
    "\n",
    "cavgs"
   ]
  },
  {
   "cell_type": "markdown",
   "id": "04ea19a9-33f6-40d7-b6bd-30d6ab5e1ef2",
   "metadata": {},
   "source": [
    "#### Put Data in Tables"
   ]
  },
  {
   "cell_type": "code",
   "execution_count": 23,
   "id": "226c1d31-04ff-4e2f-bccb-fea2b8276cc4",
   "metadata": {
    "scrolled": true
   },
   "outputs": [
    {
     "data": {
      "text/html": [
       "<table id=\"itables_ff65032f_be8c_454f_add3_8cd766819a8d\" class=\"display nowrap\" data-quarto-disable-processing=\"true\" style=\"table-layout:auto;width:auto;margin:auto;caption-side:bottom\">\n",
       "<thead>\n",
       "    <tr style=\"text-align: right;\">\n",
       "      \n",
       "      <th>Corn</th>\n",
       "      <th>Cotton</th>\n",
       "      <th>Rice</th>\n",
       "      <th>Onions</th>\n",
       "      <th>Tomatoes</th>\n",
       "      <th>Cherries</th>\n",
       "      <th>Grapes</th>\n",
       "      <th>Citrus</th>\n",
       "      <th>Almonds</th>\n",
       "      <th>Pistachios</th>\n",
       "      <th>Carrots</th>\n",
       "      <th>Oranges</th>\n",
       "      <th>Strawberries</th>\n",
       "      <th>Lettuce</th>\n",
       "      <th>year</th>\n",
       "    </tr>\n",
       "  </thead><tbody><tr>\n",
       "<td style=\"vertical-align:middle; text-align:left\">\n",
       "<div style=\"float:left; margin-right: 10px;\">\n",
       "<a href=https://mwouts.github.io/itables/><svg class=\"main-svg\" xmlns=\"http://www.w3.org/2000/svg\" xmlns:xlink=\"http://www.w3.org/1999/xlink\"\n",
       "width=\"64\" viewBox=\"0 0 500 400\" style=\"font-family: 'Droid Sans', sans-serif;\">\n",
       "    <g style=\"fill:#d9d7fc\">\n",
       "        <path d=\"M100,400H500V357H100Z\" />\n",
       "        <path d=\"M100,300H400V257H100Z\" />\n",
       "        <path d=\"M0,200H400V157H0Z\" />\n",
       "        <path d=\"M100,100H500V57H100Z\" />\n",
       "        <path d=\"M100,350H500V307H100Z\" />\n",
       "        <path d=\"M100,250H400V207H100Z\" />\n",
       "        <path d=\"M0,150H400V107H0Z\" />\n",
       "        <path d=\"M100,50H500V7H100Z\" />\n",
       "    </g>\n",
       "    <g style=\"fill:#1a1366;stroke:#1a1366;\">\n",
       "   <rect x=\"100\" y=\"7\" width=\"400\" height=\"43\">\n",
       "    <animate\n",
       "      attributeName=\"width\"\n",
       "      values=\"0;400;0\"\n",
       "      dur=\"5s\"\n",
       "      repeatCount=\"indefinite\" />\n",
       "      <animate\n",
       "      attributeName=\"x\"\n",
       "      values=\"100;100;500\"\n",
       "      dur=\"5s\"\n",
       "      repeatCount=\"indefinite\" />\n",
       "  </rect>\n",
       "        <rect x=\"0\" y=\"107\" width=\"400\" height=\"43\">\n",
       "    <animate\n",
       "      attributeName=\"width\"\n",
       "      values=\"0;400;0\"\n",
       "      dur=\"3.5s\"\n",
       "      repeatCount=\"indefinite\" />\n",
       "    <animate\n",
       "      attributeName=\"x\"\n",
       "      values=\"0;0;400\"\n",
       "      dur=\"3.5s\"\n",
       "      repeatCount=\"indefinite\" />\n",
       "  </rect>\n",
       "        <rect x=\"100\" y=\"207\" width=\"300\" height=\"43\">\n",
       "    <animate\n",
       "      attributeName=\"width\"\n",
       "      values=\"0;300;0\"\n",
       "      dur=\"3s\"\n",
       "      repeatCount=\"indefinite\" />\n",
       "    <animate\n",
       "      attributeName=\"x\"\n",
       "      values=\"100;100;400\"\n",
       "      dur=\"3s\"\n",
       "      repeatCount=\"indefinite\" />\n",
       "  </rect>\n",
       "        <rect x=\"100\" y=\"307\" width=\"400\" height=\"43\">\n",
       "    <animate\n",
       "      attributeName=\"width\"\n",
       "      values=\"0;400;0\"\n",
       "      dur=\"4s\"\n",
       "      repeatCount=\"indefinite\" />\n",
       "      <animate\n",
       "      attributeName=\"x\"\n",
       "      values=\"100;100;500\"\n",
       "      dur=\"4s\"\n",
       "      repeatCount=\"indefinite\" />\n",
       "  </rect>\n",
       "        <g style=\"fill:transparent;stroke-width:8; stroke-linejoin:round\" rx=\"5\">\n",
       "            <g transform=\"translate(45 50) rotate(-45)\">\n",
       "                <circle r=\"33\" cx=\"0\" cy=\"0\" />\n",
       "                <rect x=\"-8\" y=\"32\" width=\"16\" height=\"30\" />\n",
       "            </g>\n",
       "\n",
       "            <g transform=\"translate(450 152)\">\n",
       "                <polyline points=\"-15,-20 -35,-20 -35,40 25,40 25,20\" />\n",
       "                <rect x=\"-15\" y=\"-40\" width=\"60\" height=\"60\" />\n",
       "            </g>\n",
       "\n",
       "            <g transform=\"translate(50 352)\">\n",
       "                <polygon points=\"-35,-5 0,-40 35,-5\" />\n",
       "                <polygon points=\"-35,10 0,45 35,10\" />\n",
       "            </g>\n",
       "\n",
       "            <g transform=\"translate(75 250)\">\n",
       "                <polyline points=\"-30,30 -60,0 -30,-30\" />\n",
       "                <polyline points=\"0,30 -30,0 0,-30\" />\n",
       "            </g>\n",
       "\n",
       "            <g transform=\"translate(425 250) rotate(180)\">\n",
       "                <polyline points=\"-30,30 -60,0 -30,-30\" />\n",
       "                <polyline points=\"0,30 -30,0 0,-30\" />\n",
       "            </g>\n",
       "        </g>\n",
       "    </g>\n",
       "</svg>\n",
       "</a>\n",
       "</div>\n",
       "<div>\n",
       "Loading ITables v2.1.4 from the internet...\n",
       "(need <a href=https://mwouts.github.io/itables/troubleshooting.html>help</a>?)</td>\n",
       "</div>\n",
       "</tr></tbody>\n",
       "\n",
       "</table>\n",
       "<link href=\"https://www.unpkg.com/dt_for_itables@2.0.11/dt_bundle.css\" rel=\"stylesheet\">\n",
       "<script type=\"module\">\n",
       "    import {DataTable, jQuery as $} from 'https://www.unpkg.com/dt_for_itables@2.0.11/dt_bundle.js';\n",
       "\n",
       "    document.querySelectorAll(\"#itables_ff65032f_be8c_454f_add3_8cd766819a8d:not(.dataTable)\").forEach(table => {\n",
       "        // Define the table data\n",
       "        const data = [[30829.671711, 36968.001815, 22857.637852, 37234.288046, 31971.667251, 31158.641283, 33806.918822, 38952.518211, 32313.90106, 36684.046226, 42207.236715, 38552.180441, 37124.597072, 39221.127056, 2008], [29791.478808, 37401.462947, 22980.837597, 38282.976408, 31909.426749, 31271.238459, 33314.989599, 49160.344678, 32709.299392, 37124.750374, 44703.122615, 36623.482536, 38811.160753, 45251.747879, 2013], [31260.655134, 36257.795825, 23015.113305, 41605.290294, 31729.169155, 32259.326449, 33725.888146, 40117.846606, 32532.125264, 36797.838136, 46287.105263, 36761.605842, 38646.664014, 47749.945553, 2018], [33104.86231, 37032.085468, 23093.70458, 42323.706302, 31135.266302, 32243.446918, 33525.52974, 39183.874195, 32164.84488, 36707.574415, 47922.543315, 38021.45161, 34344.10977, 50692.818015, 2023]];\n",
       "\n",
       "        // Define the dt_args\n",
       "        let dt_args = {\"layout\": {\"topStart\": null, \"topEnd\": null, \"bottomStart\": null, \"bottomEnd\": null}, \"order\": []};\n",
       "        dt_args[\"data\"] = data;\n",
       "\n",
       "        \n",
       "        new DataTable(table, dt_args);\n",
       "    });\n",
       "</script>\n"
      ],
      "text/plain": [
       "<IPython.core.display.HTML object>"
      ]
     },
     "metadata": {},
     "output_type": "display_data"
    },
    {
     "data": {
      "text/html": [
       "<table id=\"itables_1eea544b_12ea_4c2d_848d_870d651a157d\" class=\"display nowrap\" data-quarto-disable-processing=\"true\" style=\"table-layout:auto;width:auto;margin:auto;caption-side:bottom\">\n",
       "<thead>\n",
       "    <tr style=\"text-align: right;\">\n",
       "      \n",
       "      <th>Corn</th>\n",
       "      <th>Cotton</th>\n",
       "      <th>Rice</th>\n",
       "      <th>Onions</th>\n",
       "      <th>Tomatoes</th>\n",
       "      <th>Cherries</th>\n",
       "      <th>Grapes</th>\n",
       "      <th>Citrus</th>\n",
       "      <th>Almonds</th>\n",
       "      <th>Pistachios</th>\n",
       "      <th>Carrots</th>\n",
       "      <th>Oranges</th>\n",
       "      <th>Strawberries</th>\n",
       "      <th>Lettuce</th>\n",
       "      <th>year</th>\n",
       "    </tr>\n",
       "  </thead><tbody><tr>\n",
       "<td style=\"vertical-align:middle; text-align:left\">\n",
       "<div style=\"float:left; margin-right: 10px;\">\n",
       "<a href=https://mwouts.github.io/itables/><svg class=\"main-svg\" xmlns=\"http://www.w3.org/2000/svg\" xmlns:xlink=\"http://www.w3.org/1999/xlink\"\n",
       "width=\"64\" viewBox=\"0 0 500 400\" style=\"font-family: 'Droid Sans', sans-serif;\">\n",
       "    <g style=\"fill:#d9d7fc\">\n",
       "        <path d=\"M100,400H500V357H100Z\" />\n",
       "        <path d=\"M100,300H400V257H100Z\" />\n",
       "        <path d=\"M0,200H400V157H0Z\" />\n",
       "        <path d=\"M100,100H500V57H100Z\" />\n",
       "        <path d=\"M100,350H500V307H100Z\" />\n",
       "        <path d=\"M100,250H400V207H100Z\" />\n",
       "        <path d=\"M0,150H400V107H0Z\" />\n",
       "        <path d=\"M100,50H500V7H100Z\" />\n",
       "    </g>\n",
       "    <g style=\"fill:#1a1366;stroke:#1a1366;\">\n",
       "   <rect x=\"100\" y=\"7\" width=\"400\" height=\"43\">\n",
       "    <animate\n",
       "      attributeName=\"width\"\n",
       "      values=\"0;400;0\"\n",
       "      dur=\"5s\"\n",
       "      repeatCount=\"indefinite\" />\n",
       "      <animate\n",
       "      attributeName=\"x\"\n",
       "      values=\"100;100;500\"\n",
       "      dur=\"5s\"\n",
       "      repeatCount=\"indefinite\" />\n",
       "  </rect>\n",
       "        <rect x=\"0\" y=\"107\" width=\"400\" height=\"43\">\n",
       "    <animate\n",
       "      attributeName=\"width\"\n",
       "      values=\"0;400;0\"\n",
       "      dur=\"3.5s\"\n",
       "      repeatCount=\"indefinite\" />\n",
       "    <animate\n",
       "      attributeName=\"x\"\n",
       "      values=\"0;0;400\"\n",
       "      dur=\"3.5s\"\n",
       "      repeatCount=\"indefinite\" />\n",
       "  </rect>\n",
       "        <rect x=\"100\" y=\"207\" width=\"300\" height=\"43\">\n",
       "    <animate\n",
       "      attributeName=\"width\"\n",
       "      values=\"0;300;0\"\n",
       "      dur=\"3s\"\n",
       "      repeatCount=\"indefinite\" />\n",
       "    <animate\n",
       "      attributeName=\"x\"\n",
       "      values=\"100;100;400\"\n",
       "      dur=\"3s\"\n",
       "      repeatCount=\"indefinite\" />\n",
       "  </rect>\n",
       "        <rect x=\"100\" y=\"307\" width=\"400\" height=\"43\">\n",
       "    <animate\n",
       "      attributeName=\"width\"\n",
       "      values=\"0;400;0\"\n",
       "      dur=\"4s\"\n",
       "      repeatCount=\"indefinite\" />\n",
       "      <animate\n",
       "      attributeName=\"x\"\n",
       "      values=\"100;100;500\"\n",
       "      dur=\"4s\"\n",
       "      repeatCount=\"indefinite\" />\n",
       "  </rect>\n",
       "        <g style=\"fill:transparent;stroke-width:8; stroke-linejoin:round\" rx=\"5\">\n",
       "            <g transform=\"translate(45 50) rotate(-45)\">\n",
       "                <circle r=\"33\" cx=\"0\" cy=\"0\" />\n",
       "                <rect x=\"-8\" y=\"32\" width=\"16\" height=\"30\" />\n",
       "            </g>\n",
       "\n",
       "            <g transform=\"translate(450 152)\">\n",
       "                <polyline points=\"-15,-20 -35,-20 -35,40 25,40 25,20\" />\n",
       "                <rect x=\"-15\" y=\"-40\" width=\"60\" height=\"60\" />\n",
       "            </g>\n",
       "\n",
       "            <g transform=\"translate(50 352)\">\n",
       "                <polygon points=\"-35,-5 0,-40 35,-5\" />\n",
       "                <polygon points=\"-35,10 0,45 35,10\" />\n",
       "            </g>\n",
       "\n",
       "            <g transform=\"translate(75 250)\">\n",
       "                <polyline points=\"-30,30 -60,0 -30,-30\" />\n",
       "                <polyline points=\"0,30 -30,0 0,-30\" />\n",
       "            </g>\n",
       "\n",
       "            <g transform=\"translate(425 250) rotate(180)\">\n",
       "                <polyline points=\"-30,30 -60,0 -30,-30\" />\n",
       "                <polyline points=\"0,30 -30,0 0,-30\" />\n",
       "            </g>\n",
       "        </g>\n",
       "    </g>\n",
       "</svg>\n",
       "</a>\n",
       "</div>\n",
       "<div>\n",
       "Loading ITables v2.1.4 from the internet...\n",
       "(need <a href=https://mwouts.github.io/itables/troubleshooting.html>help</a>?)</td>\n",
       "</div>\n",
       "</tr></tbody>\n",
       "\n",
       "</table>\n",
       "<link href=\"https://www.unpkg.com/dt_for_itables@2.0.11/dt_bundle.css\" rel=\"stylesheet\">\n",
       "<script type=\"module\">\n",
       "    import {DataTable, jQuery as $} from 'https://www.unpkg.com/dt_for_itables@2.0.11/dt_bundle.js';\n",
       "\n",
       "    document.querySelectorAll(\"#itables_1eea544b_12ea_4c2d_848d_870d651a157d:not(.dataTable)\").forEach(table => {\n",
       "        // Define the table data\n",
       "        const data = [[1851631, 1957604, 4109451, 290464, 1612654, 246063, 5537750, 77067, 7074910, 1926427, 164527, 1361575, 125938, 124685, 2008], [2089064, 2136609, 4327821, 225373, 2282262, 217044, 6429003, 412716, 8622881, 1489376, 134135, 1277348, 124831, 110300, 2013], [2097936, 2126287, 3926802, 353469, 1847465, 312674, 5683682, 1169553, 8780767, 2677753, 401862, 891213, 232745, 183978, 2018], [1459047, 909301, 4173023, 238197, 2221220, 523619, 6019585, 2044275, 13311302, 5073476, 183168, 88273, 83839, 111751, 2023]];\n",
       "\n",
       "        // Define the dt_args\n",
       "        let dt_args = {\"layout\": {\"topStart\": null, \"topEnd\": null, \"bottomStart\": null, \"bottomEnd\": null}, \"order\": []};\n",
       "        dt_args[\"data\"] = data;\n",
       "\n",
       "        \n",
       "        new DataTable(table, dt_args);\n",
       "    });\n",
       "</script>\n"
      ],
      "text/plain": [
       "<IPython.core.display.HTML object>"
      ]
     },
     "metadata": {},
     "output_type": "display_data"
    },
    {
     "data": {
      "text/html": [
       "<table id=\"itables_40c3e170_b0cb_4f8d_8a4b_55fedb7f5877\" class=\"display nowrap\" data-quarto-disable-processing=\"true\" style=\"table-layout:auto;width:auto;margin:auto;caption-side:bottom\">\n",
       "<thead>\n",
       "    <tr style=\"text-align: right;\">\n",
       "      \n",
       "      <th>Corn</th>\n",
       "      <th>Cotton</th>\n",
       "      <th>Rice</th>\n",
       "      <th>Onions</th>\n",
       "      <th>Tomatoes</th>\n",
       "      <th>Cherries</th>\n",
       "      <th>Grapes</th>\n",
       "      <th>Citrus</th>\n",
       "      <th>Almonds</th>\n",
       "      <th>Pistachios</th>\n",
       "      <th>Carrots</th>\n",
       "      <th>Oranges</th>\n",
       "      <th>Strawberries</th>\n",
       "      <th>Lettuce</th>\n",
       "      <th>year</th>\n",
       "    </tr>\n",
       "  </thead><tbody><tr>\n",
       "<td style=\"vertical-align:middle; text-align:left\">\n",
       "<div style=\"float:left; margin-right: 10px;\">\n",
       "<a href=https://mwouts.github.io/itables/><svg class=\"main-svg\" xmlns=\"http://www.w3.org/2000/svg\" xmlns:xlink=\"http://www.w3.org/1999/xlink\"\n",
       "width=\"64\" viewBox=\"0 0 500 400\" style=\"font-family: 'Droid Sans', sans-serif;\">\n",
       "    <g style=\"fill:#d9d7fc\">\n",
       "        <path d=\"M100,400H500V357H100Z\" />\n",
       "        <path d=\"M100,300H400V257H100Z\" />\n",
       "        <path d=\"M0,200H400V157H0Z\" />\n",
       "        <path d=\"M100,100H500V57H100Z\" />\n",
       "        <path d=\"M100,350H500V307H100Z\" />\n",
       "        <path d=\"M100,250H400V207H100Z\" />\n",
       "        <path d=\"M0,150H400V107H0Z\" />\n",
       "        <path d=\"M100,50H500V7H100Z\" />\n",
       "    </g>\n",
       "    <g style=\"fill:#1a1366;stroke:#1a1366;\">\n",
       "   <rect x=\"100\" y=\"7\" width=\"400\" height=\"43\">\n",
       "    <animate\n",
       "      attributeName=\"width\"\n",
       "      values=\"0;400;0\"\n",
       "      dur=\"5s\"\n",
       "      repeatCount=\"indefinite\" />\n",
       "      <animate\n",
       "      attributeName=\"x\"\n",
       "      values=\"100;100;500\"\n",
       "      dur=\"5s\"\n",
       "      repeatCount=\"indefinite\" />\n",
       "  </rect>\n",
       "        <rect x=\"0\" y=\"107\" width=\"400\" height=\"43\">\n",
       "    <animate\n",
       "      attributeName=\"width\"\n",
       "      values=\"0;400;0\"\n",
       "      dur=\"3.5s\"\n",
       "      repeatCount=\"indefinite\" />\n",
       "    <animate\n",
       "      attributeName=\"x\"\n",
       "      values=\"0;0;400\"\n",
       "      dur=\"3.5s\"\n",
       "      repeatCount=\"indefinite\" />\n",
       "  </rect>\n",
       "        <rect x=\"100\" y=\"207\" width=\"300\" height=\"43\">\n",
       "    <animate\n",
       "      attributeName=\"width\"\n",
       "      values=\"0;300;0\"\n",
       "      dur=\"3s\"\n",
       "      repeatCount=\"indefinite\" />\n",
       "    <animate\n",
       "      attributeName=\"x\"\n",
       "      values=\"100;100;400\"\n",
       "      dur=\"3s\"\n",
       "      repeatCount=\"indefinite\" />\n",
       "  </rect>\n",
       "        <rect x=\"100\" y=\"307\" width=\"400\" height=\"43\">\n",
       "    <animate\n",
       "      attributeName=\"width\"\n",
       "      values=\"0;400;0\"\n",
       "      dur=\"4s\"\n",
       "      repeatCount=\"indefinite\" />\n",
       "      <animate\n",
       "      attributeName=\"x\"\n",
       "      values=\"100;100;500\"\n",
       "      dur=\"4s\"\n",
       "      repeatCount=\"indefinite\" />\n",
       "  </rect>\n",
       "        <g style=\"fill:transparent;stroke-width:8; stroke-linejoin:round\" rx=\"5\">\n",
       "            <g transform=\"translate(45 50) rotate(-45)\">\n",
       "                <circle r=\"33\" cx=\"0\" cy=\"0\" />\n",
       "                <rect x=\"-8\" y=\"32\" width=\"16\" height=\"30\" />\n",
       "            </g>\n",
       "\n",
       "            <g transform=\"translate(450 152)\">\n",
       "                <polyline points=\"-15,-20 -35,-20 -35,40 25,40 25,20\" />\n",
       "                <rect x=\"-15\" y=\"-40\" width=\"60\" height=\"60\" />\n",
       "            </g>\n",
       "\n",
       "            <g transform=\"translate(50 352)\">\n",
       "                <polygon points=\"-35,-5 0,-40 35,-5\" />\n",
       "                <polygon points=\"-35,10 0,45 35,10\" />\n",
       "            </g>\n",
       "\n",
       "            <g transform=\"translate(75 250)\">\n",
       "                <polyline points=\"-30,30 -60,0 -30,-30\" />\n",
       "                <polyline points=\"0,30 -30,0 0,-30\" />\n",
       "            </g>\n",
       "\n",
       "            <g transform=\"translate(425 250) rotate(180)\">\n",
       "                <polyline points=\"-30,30 -60,0 -30,-30\" />\n",
       "                <polyline points=\"0,30 -30,0 0,-30\" />\n",
       "            </g>\n",
       "        </g>\n",
       "    </g>\n",
       "</svg>\n",
       "</a>\n",
       "</div>\n",
       "<div>\n",
       "Loading ITables v2.1.4 from the internet...\n",
       "(need <a href=https://mwouts.github.io/itables/troubleshooting.html>help</a>?)</td>\n",
       "</div>\n",
       "</tr></tbody>\n",
       "\n",
       "</table>\n",
       "<link href=\"https://www.unpkg.com/dt_for_itables@2.0.11/dt_bundle.css\" rel=\"stylesheet\">\n",
       "<script type=\"module\">\n",
       "    import {DataTable, jQuery as $} from 'https://www.unpkg.com/dt_for_itables@2.0.11/dt_bundle.js';\n",
       "\n",
       "    document.querySelectorAll(\"#itables_40c3e170_b0cb_4f8d_8a4b_55fedb7f5877:not(.dataTable)\").forEach(table => {\n",
       "        // Define the table data\n",
       "        const data = [[57085175859, 72368708226, 93932342728, 10815220243, 51559237079, 7666988750, 187214264707, 3001953721, 228617941745, 70669137119, 6944230035, 52491685084, 4675397506, 4890286227, 2008], [62236305884, 79912302346, 99456951550, 8627949242, 72825672111, 6787234680, 214182168078, 20289260814, 282048396252, 55292712213, 5996253352, 46780932171, 4844836008, 4991267791, 2013], [65582853790, 77094479912, 90375792955, 14706180355, 58618529493, 10086652638, 191687223390, 46919947852, 285657011954, 98535521461, 18601028695, 32762421027, 8994817816, 8784939483, 2018], [48301550039, 33673312348, 96370560367, 10081379870, 69158276216, 16883281432, 201809775937, 80102614421, 428155963980, 186234997815, 8777876414, 3356267598, 2879375819, 5664973106, 2023]];\n",
       "\n",
       "        // Define the dt_args\n",
       "        let dt_args = {\"layout\": {\"topStart\": null, \"topEnd\": null, \"bottomStart\": null, \"bottomEnd\": null}, \"order\": []};\n",
       "        dt_args[\"data\"] = data;\n",
       "\n",
       "        \n",
       "        new DataTable(table, dt_args);\n",
       "    });\n",
       "</script>\n"
      ],
      "text/plain": [
       "<IPython.core.display.HTML object>"
      ]
     },
     "metadata": {},
     "output_type": "display_data"
    }
   ],
   "source": [
    "# Means\n",
    "lat_mean_df = pd.DataFrame(cavgs | {'year': cyears})\n",
    "lat_mean_df = lat_mean_df.rename(columns=ccats)\n",
    "show(lat_mean_df)\n",
    "\n",
    "# Counts\n",
    "lat_count_df = pd.DataFrame(ccounts | {'year': cyears})\n",
    "lat_count_df = lat_count_df.rename(columns=ccats)\n",
    "show(lat_count_df)\n",
    "\n",
    "#Sums\n",
    "lat_sum_df = pd.DataFrame(csums | {'year': cyears})\n",
    "lat_sum_df = lat_sum_df.rename(columns=ccats)\n",
    "show(lat_sum_df)"
   ]
  },
  {
   "cell_type": "code",
   "execution_count": 165,
   "id": "698caa39-901a-44fb-86e7-58b8c46aff13",
   "metadata": {},
   "outputs": [
    {
     "data": {
      "text/html": [
       "<table id=\"itables_c7332548_221d_4c2d_b6cd_196f4b1dbe13\" class=\"display nowrap\" data-quarto-disable-processing=\"true\" style=\"table-layout:auto;width:auto;margin:auto;caption-side:bottom\">\n",
       "<thead>\n",
       "    <tr style=\"text-align: right;\">\n",
       "      \n",
       "      <th>year</th>\n",
       "      <th>crop</th>\n",
       "      <th>mean_offset</th>\n",
       "      <th>count</th>\n",
       "      <th>sum_offset</th>\n",
       "    </tr>\n",
       "  </thead><tbody><tr>\n",
       "<td style=\"vertical-align:middle; text-align:left\">\n",
       "<div style=\"float:left; margin-right: 10px;\">\n",
       "<a href=https://mwouts.github.io/itables/><svg class=\"main-svg\" xmlns=\"http://www.w3.org/2000/svg\" xmlns:xlink=\"http://www.w3.org/1999/xlink\"\n",
       "width=\"64\" viewBox=\"0 0 500 400\" style=\"font-family: 'Droid Sans', sans-serif;\">\n",
       "    <g style=\"fill:#d9d7fc\">\n",
       "        <path d=\"M100,400H500V357H100Z\" />\n",
       "        <path d=\"M100,300H400V257H100Z\" />\n",
       "        <path d=\"M0,200H400V157H0Z\" />\n",
       "        <path d=\"M100,100H500V57H100Z\" />\n",
       "        <path d=\"M100,350H500V307H100Z\" />\n",
       "        <path d=\"M100,250H400V207H100Z\" />\n",
       "        <path d=\"M0,150H400V107H0Z\" />\n",
       "        <path d=\"M100,50H500V7H100Z\" />\n",
       "    </g>\n",
       "    <g style=\"fill:#1a1366;stroke:#1a1366;\">\n",
       "   <rect x=\"100\" y=\"7\" width=\"400\" height=\"43\">\n",
       "    <animate\n",
       "      attributeName=\"width\"\n",
       "      values=\"0;400;0\"\n",
       "      dur=\"5s\"\n",
       "      repeatCount=\"indefinite\" />\n",
       "      <animate\n",
       "      attributeName=\"x\"\n",
       "      values=\"100;100;500\"\n",
       "      dur=\"5s\"\n",
       "      repeatCount=\"indefinite\" />\n",
       "  </rect>\n",
       "        <rect x=\"0\" y=\"107\" width=\"400\" height=\"43\">\n",
       "    <animate\n",
       "      attributeName=\"width\"\n",
       "      values=\"0;400;0\"\n",
       "      dur=\"3.5s\"\n",
       "      repeatCount=\"indefinite\" />\n",
       "    <animate\n",
       "      attributeName=\"x\"\n",
       "      values=\"0;0;400\"\n",
       "      dur=\"3.5s\"\n",
       "      repeatCount=\"indefinite\" />\n",
       "  </rect>\n",
       "        <rect x=\"100\" y=\"207\" width=\"300\" height=\"43\">\n",
       "    <animate\n",
       "      attributeName=\"width\"\n",
       "      values=\"0;300;0\"\n",
       "      dur=\"3s\"\n",
       "      repeatCount=\"indefinite\" />\n",
       "    <animate\n",
       "      attributeName=\"x\"\n",
       "      values=\"100;100;400\"\n",
       "      dur=\"3s\"\n",
       "      repeatCount=\"indefinite\" />\n",
       "  </rect>\n",
       "        <rect x=\"100\" y=\"307\" width=\"400\" height=\"43\">\n",
       "    <animate\n",
       "      attributeName=\"width\"\n",
       "      values=\"0;400;0\"\n",
       "      dur=\"4s\"\n",
       "      repeatCount=\"indefinite\" />\n",
       "      <animate\n",
       "      attributeName=\"x\"\n",
       "      values=\"100;100;500\"\n",
       "      dur=\"4s\"\n",
       "      repeatCount=\"indefinite\" />\n",
       "  </rect>\n",
       "        <g style=\"fill:transparent;stroke-width:8; stroke-linejoin:round\" rx=\"5\">\n",
       "            <g transform=\"translate(45 50) rotate(-45)\">\n",
       "                <circle r=\"33\" cx=\"0\" cy=\"0\" />\n",
       "                <rect x=\"-8\" y=\"32\" width=\"16\" height=\"30\" />\n",
       "            </g>\n",
       "\n",
       "            <g transform=\"translate(450 152)\">\n",
       "                <polyline points=\"-15,-20 -35,-20 -35,40 25,40 25,20\" />\n",
       "                <rect x=\"-15\" y=\"-40\" width=\"60\" height=\"60\" />\n",
       "            </g>\n",
       "\n",
       "            <g transform=\"translate(50 352)\">\n",
       "                <polygon points=\"-35,-5 0,-40 35,-5\" />\n",
       "                <polygon points=\"-35,10 0,45 35,10\" />\n",
       "            </g>\n",
       "\n",
       "            <g transform=\"translate(75 250)\">\n",
       "                <polyline points=\"-30,30 -60,0 -30,-30\" />\n",
       "                <polyline points=\"0,30 -30,0 0,-30\" />\n",
       "            </g>\n",
       "\n",
       "            <g transform=\"translate(425 250) rotate(180)\">\n",
       "                <polyline points=\"-30,30 -60,0 -30,-30\" />\n",
       "                <polyline points=\"0,30 -30,0 0,-30\" />\n",
       "            </g>\n",
       "        </g>\n",
       "    </g>\n",
       "</svg>\n",
       "</a>\n",
       "</div>\n",
       "<div>\n",
       "Loading ITables v2.1.4 from the internet...\n",
       "(need <a href=https://mwouts.github.io/itables/troubleshooting.html>help</a>?)</td>\n",
       "</div>\n",
       "</tr></tbody>\n",
       "\n",
       "</table>\n",
       "<link href=\"https://www.unpkg.com/dt_for_itables@2.0.11/dt_bundle.css\" rel=\"stylesheet\">\n",
       "<script type=\"module\">\n",
       "    import {DataTable, jQuery as $} from 'https://www.unpkg.com/dt_for_itables@2.0.11/dt_bundle.js';\n",
       "\n",
       "    document.querySelectorAll(\"#itables_c7332548_221d_4c2d_b6cd_196f4b1dbe13:not(.dataTable)\").forEach(table => {\n",
       "        // Define the table data\n",
       "        const data = [[2008, \"Almonds\", 32313.90106, 7074910, 228617941745], [2008, \"Carrots\", 42207.236715, 164527, 6944230035], [2008, \"Cherries\", 31158.641283, 246063, 7666988750], [2008, \"Citrus\", 38952.518211, 77067, 3001953721], [2008, \"Corn\", 30829.671711, 1851631, 57085175859], [2008, \"Cotton\", 36968.001815, 1957604, 72368708226], [2008, \"Grapes\", 33806.918822, 5537750, 187214264707], [2008, \"Lettuce\", 39221.127056, 124685, 4890286227], [2008, \"Onions\", 37234.288046, 290464, 10815220243], [2008, \"Oranges\", 38552.180441, 1361575, 52491685084], [2008, \"Pistachios\", 36684.046226, 1926427, 70669137119], [2008, \"Rice\", 22857.637852, 4109451, 93932342728], [2008, \"Strawberries\", 37124.597072, 125938, 4675397506], [2008, \"Tomatoes\", 31971.667251, 1612654, 51559237079], [2013, \"Almonds\", 32709.299392, 8622881, 282048396252], [2013, \"Carrots\", 44703.122615, 134135, 5996253352], [2013, \"Cherries\", 31271.238459, 217044, 6787234680], [2013, \"Citrus\", 49160.344678, 412716, 20289260814], [2013, \"Corn\", 29791.478808, 2089064, 62236305884], [2013, \"Cotton\", 37401.462947, 2136609, 79912302346], [2013, \"Grapes\", 33314.989599, 6429003, 214182168078], [2013, \"Lettuce\", 45251.747879, 110300, 4991267791], [2013, \"Onions\", 38282.976408, 225373, 8627949242], [2013, \"Oranges\", 36623.482536, 1277348, 46780932171], [2013, \"Pistachios\", 37124.750374, 1489376, 55292712213], [2013, \"Rice\", 22980.837597, 4327821, 99456951550], [2013, \"Strawberries\", 38811.160753, 124831, 4844836008], [2013, \"Tomatoes\", 31909.426749, 2282262, 72825672111], [2018, \"Almonds\", 32532.125264, 8780767, 285657011954], [2018, \"Carrots\", 46287.105263, 401862, 18601028695], [2018, \"Cherries\", 32259.326449, 312674, 10086652638], [2018, \"Citrus\", 40117.846606, 1169553, 46919947852], [2018, \"Corn\", 31260.655134, 2097936, 65582853790], [2018, \"Cotton\", 36257.795825, 2126287, 77094479912], [2018, \"Grapes\", 33725.888146, 5683682, 191687223390], [2018, \"Lettuce\", 47749.945553, 183978, 8784939483], [2018, \"Onions\", 41605.290294, 353469, 14706180355], [2018, \"Oranges\", 36761.605842, 891213, 32762421027], [2018, \"Pistachios\", 36797.838136, 2677753, 98535521461], [2018, \"Rice\", 23015.113305, 3926802, 90375792955], [2018, \"Strawberries\", 38646.664014, 232745, 8994817816], [2018, \"Tomatoes\", 31729.169155, 1847465, 58618529493], [2023, \"Almonds\", 32164.84488, 13311302, 428155963980], [2023, \"Carrots\", 47922.543315, 183168, 8777876414], [2023, \"Cherries\", 32243.446918, 523619, 16883281432], [2023, \"Citrus\", 39183.874195, 2044275, 80102614421], [2023, \"Corn\", 33104.86231, 1459047, 48301550039], [2023, \"Cotton\", 37032.085468, 909301, 33673312348], [2023, \"Grapes\", 33525.52974, 6019585, 201809775937], [2023, \"Lettuce\", 50692.818015, 111751, 5664973106], [2023, \"Onions\", 42323.706302, 238197, 10081379870], [2023, \"Oranges\", 38021.45161, 88273, 3356267598], [2023, \"Pistachios\", 36707.574415, 5073476, 186234997815], [2023, \"Rice\", 23093.70458, 4173023, 96370560367], [2023, \"Strawberries\", 34344.10977, 83839, 2879375819], [2023, \"Tomatoes\", 31135.266302, 2221220, 69158276216]];\n",
       "\n",
       "        // Define the dt_args\n",
       "        let dt_args = {\"layout\": {\"topStart\": \"pageLength\", \"topEnd\": \"search\", \"bottomStart\": \"info\", \"bottomEnd\": \"paging\"}, \"order\": []};\n",
       "        dt_args[\"data\"] = data;\n",
       "\n",
       "        \n",
       "        new DataTable(table, dt_args);\n",
       "    });\n",
       "</script>\n"
      ],
      "text/plain": [
       "<IPython.core.display.HTML object>"
      ]
     },
     "metadata": {},
     "output_type": "display_data"
    }
   ],
   "source": [
    "#melt and combine all data\n",
    "mean_melt_df = lat_mean_df.melt(id_vars=['year'])\n",
    "mean_melt_df = mean_melt_df.rename(columns={'variable': 'crop', 'value': 'mean_offset'})\n",
    "\n",
    "count_melt_df = lat_count_df.melt(id_vars=['year'])\n",
    "count_melt_df = count_melt_df.rename(columns={'variable': 'crop', 'value': 'count'})\n",
    "\n",
    "sum_melt_df = lat_sum_df.melt(id_vars=['year'])\n",
    "sum_melt_df = sum_melt_df.rename(columns={'variable': 'crop', 'value': 'sum_offset'})\n",
    "\n",
    "full_df = pd.merge(mean_melt_df, count_melt_df, how='outer', on=['year','crop'])\n",
    "full_df = pd.merge(full_df, sum_melt_df, how='outer', on=['year','crop'])\n",
    "\n",
    "show(full_df)\n",
    "\n",
    "#save df\n",
    "full_df.to_csv('CacheData/CropStats.csv', index=False)"
   ]
  },
  {
   "cell_type": "markdown",
   "id": "d6aee162-e46c-4a61-8bad-ac770bd77652",
   "metadata": {
    "jp-MarkdownHeadingCollapsed": true
   },
   "source": [
    "### ALTERNATIVE: Load saved results"
   ]
  },
  {
   "cell_type": "code",
   "execution_count": 168,
   "id": "388224c9-ef81-4018-a0c4-36d03e5a99fa",
   "metadata": {},
   "outputs": [
    {
     "data": {
      "text/html": [
       "<table id=\"itables_7c50ab15_0a60_41d9_bbc6_e290f7538215\" class=\"display nowrap\" data-quarto-disable-processing=\"true\" style=\"table-layout:auto;width:auto;margin:auto;caption-side:bottom\">\n",
       "<thead>\n",
       "    <tr style=\"text-align: right;\">\n",
       "      \n",
       "      <th>year</th>\n",
       "      <th>crop</th>\n",
       "      <th>mean_offset</th>\n",
       "      <th>count</th>\n",
       "      <th>sum_offset</th>\n",
       "    </tr>\n",
       "  </thead><tbody><tr>\n",
       "<td style=\"vertical-align:middle; text-align:left\">\n",
       "<div style=\"float:left; margin-right: 10px;\">\n",
       "<a href=https://mwouts.github.io/itables/><svg class=\"main-svg\" xmlns=\"http://www.w3.org/2000/svg\" xmlns:xlink=\"http://www.w3.org/1999/xlink\"\n",
       "width=\"64\" viewBox=\"0 0 500 400\" style=\"font-family: 'Droid Sans', sans-serif;\">\n",
       "    <g style=\"fill:#d9d7fc\">\n",
       "        <path d=\"M100,400H500V357H100Z\" />\n",
       "        <path d=\"M100,300H400V257H100Z\" />\n",
       "        <path d=\"M0,200H400V157H0Z\" />\n",
       "        <path d=\"M100,100H500V57H100Z\" />\n",
       "        <path d=\"M100,350H500V307H100Z\" />\n",
       "        <path d=\"M100,250H400V207H100Z\" />\n",
       "        <path d=\"M0,150H400V107H0Z\" />\n",
       "        <path d=\"M100,50H500V7H100Z\" />\n",
       "    </g>\n",
       "    <g style=\"fill:#1a1366;stroke:#1a1366;\">\n",
       "   <rect x=\"100\" y=\"7\" width=\"400\" height=\"43\">\n",
       "    <animate\n",
       "      attributeName=\"width\"\n",
       "      values=\"0;400;0\"\n",
       "      dur=\"5s\"\n",
       "      repeatCount=\"indefinite\" />\n",
       "      <animate\n",
       "      attributeName=\"x\"\n",
       "      values=\"100;100;500\"\n",
       "      dur=\"5s\"\n",
       "      repeatCount=\"indefinite\" />\n",
       "  </rect>\n",
       "        <rect x=\"0\" y=\"107\" width=\"400\" height=\"43\">\n",
       "    <animate\n",
       "      attributeName=\"width\"\n",
       "      values=\"0;400;0\"\n",
       "      dur=\"3.5s\"\n",
       "      repeatCount=\"indefinite\" />\n",
       "    <animate\n",
       "      attributeName=\"x\"\n",
       "      values=\"0;0;400\"\n",
       "      dur=\"3.5s\"\n",
       "      repeatCount=\"indefinite\" />\n",
       "  </rect>\n",
       "        <rect x=\"100\" y=\"207\" width=\"300\" height=\"43\">\n",
       "    <animate\n",
       "      attributeName=\"width\"\n",
       "      values=\"0;300;0\"\n",
       "      dur=\"3s\"\n",
       "      repeatCount=\"indefinite\" />\n",
       "    <animate\n",
       "      attributeName=\"x\"\n",
       "      values=\"100;100;400\"\n",
       "      dur=\"3s\"\n",
       "      repeatCount=\"indefinite\" />\n",
       "  </rect>\n",
       "        <rect x=\"100\" y=\"307\" width=\"400\" height=\"43\">\n",
       "    <animate\n",
       "      attributeName=\"width\"\n",
       "      values=\"0;400;0\"\n",
       "      dur=\"4s\"\n",
       "      repeatCount=\"indefinite\" />\n",
       "      <animate\n",
       "      attributeName=\"x\"\n",
       "      values=\"100;100;500\"\n",
       "      dur=\"4s\"\n",
       "      repeatCount=\"indefinite\" />\n",
       "  </rect>\n",
       "        <g style=\"fill:transparent;stroke-width:8; stroke-linejoin:round\" rx=\"5\">\n",
       "            <g transform=\"translate(45 50) rotate(-45)\">\n",
       "                <circle r=\"33\" cx=\"0\" cy=\"0\" />\n",
       "                <rect x=\"-8\" y=\"32\" width=\"16\" height=\"30\" />\n",
       "            </g>\n",
       "\n",
       "            <g transform=\"translate(450 152)\">\n",
       "                <polyline points=\"-15,-20 -35,-20 -35,40 25,40 25,20\" />\n",
       "                <rect x=\"-15\" y=\"-40\" width=\"60\" height=\"60\" />\n",
       "            </g>\n",
       "\n",
       "            <g transform=\"translate(50 352)\">\n",
       "                <polygon points=\"-35,-5 0,-40 35,-5\" />\n",
       "                <polygon points=\"-35,10 0,45 35,10\" />\n",
       "            </g>\n",
       "\n",
       "            <g transform=\"translate(75 250)\">\n",
       "                <polyline points=\"-30,30 -60,0 -30,-30\" />\n",
       "                <polyline points=\"0,30 -30,0 0,-30\" />\n",
       "            </g>\n",
       "\n",
       "            <g transform=\"translate(425 250) rotate(180)\">\n",
       "                <polyline points=\"-30,30 -60,0 -30,-30\" />\n",
       "                <polyline points=\"0,30 -30,0 0,-30\" />\n",
       "            </g>\n",
       "        </g>\n",
       "    </g>\n",
       "</svg>\n",
       "</a>\n",
       "</div>\n",
       "<div>\n",
       "Loading ITables v2.1.4 from the internet...\n",
       "(need <a href=https://mwouts.github.io/itables/troubleshooting.html>help</a>?)</td>\n",
       "</div>\n",
       "</tr></tbody>\n",
       "\n",
       "</table>\n",
       "<link href=\"https://www.unpkg.com/dt_for_itables@2.0.11/dt_bundle.css\" rel=\"stylesheet\">\n",
       "<script type=\"module\">\n",
       "    import {DataTable, jQuery as $} from 'https://www.unpkg.com/dt_for_itables@2.0.11/dt_bundle.js';\n",
       "\n",
       "    document.querySelectorAll(\"#itables_7c50ab15_0a60_41d9_bbc6_e290f7538215:not(.dataTable)\").forEach(table => {\n",
       "        // Define the table data\n",
       "        const data = [[2008, \"Almonds\", 32313.90106, 7074910, 228617941745], [2008, \"Carrots\", 42207.236715, 164527, 6944230035], [2008, \"Cherries\", 31158.641283, 246063, 7666988750], [2008, \"Citrus\", 38952.518211, 77067, 3001953721], [2008, \"Corn\", 30829.671711, 1851631, 57085175859], [2008, \"Cotton\", 36968.001815, 1957604, 72368708226], [2008, \"Grapes\", 33806.918822, 5537750, 187214264707], [2008, \"Lettuce\", 39221.127056, 124685, 4890286227], [2008, \"Onions\", 37234.288046, 290464, 10815220243], [2008, \"Oranges\", 38552.180441, 1361575, 52491685084], [2008, \"Pistachios\", 36684.046226, 1926427, 70669137119], [2008, \"Rice\", 22857.637852, 4109451, 93932342728], [2008, \"Strawberries\", 37124.597072, 125938, 4675397506], [2008, \"Tomatoes\", 31971.667251, 1612654, 51559237079], [2013, \"Almonds\", 32709.299392, 8622881, 282048396252], [2013, \"Carrots\", 44703.122615, 134135, 5996253352], [2013, \"Cherries\", 31271.238459, 217044, 6787234680], [2013, \"Citrus\", 49160.344678, 412716, 20289260814], [2013, \"Corn\", 29791.478808, 2089064, 62236305884], [2013, \"Cotton\", 37401.462947, 2136609, 79912302346], [2013, \"Grapes\", 33314.989599, 6429003, 214182168078], [2013, \"Lettuce\", 45251.747879, 110300, 4991267791], [2013, \"Onions\", 38282.976408, 225373, 8627949242], [2013, \"Oranges\", 36623.482536, 1277348, 46780932171], [2013, \"Pistachios\", 37124.750374, 1489376, 55292712213], [2013, \"Rice\", 22980.837597, 4327821, 99456951550], [2013, \"Strawberries\", 38811.160753, 124831, 4844836008], [2013, \"Tomatoes\", 31909.426749, 2282262, 72825672111], [2018, \"Almonds\", 32532.125264, 8780767, 285657011954], [2018, \"Carrots\", 46287.105263, 401862, 18601028695], [2018, \"Cherries\", 32259.326449, 312674, 10086652638], [2018, \"Citrus\", 40117.846606, 1169553, 46919947852], [2018, \"Corn\", 31260.655134, 2097936, 65582853790], [2018, \"Cotton\", 36257.795825, 2126287, 77094479912], [2018, \"Grapes\", 33725.888146, 5683682, 191687223390], [2018, \"Lettuce\", 47749.945553, 183978, 8784939483], [2018, \"Onions\", 41605.290294, 353469, 14706180355], [2018, \"Oranges\", 36761.605842, 891213, 32762421027], [2018, \"Pistachios\", 36797.838136, 2677753, 98535521461], [2018, \"Rice\", 23015.113305, 3926802, 90375792955], [2018, \"Strawberries\", 38646.664014, 232745, 8994817816], [2018, \"Tomatoes\", 31729.169155, 1847465, 58618529493], [2023, \"Almonds\", 32164.84488, 13311302, 428155963980], [2023, \"Carrots\", 47922.543315, 183168, 8777876414], [2023, \"Cherries\", 32243.446918, 523619, 16883281432], [2023, \"Citrus\", 39183.874195, 2044275, 80102614421], [2023, \"Corn\", 33104.86231, 1459047, 48301550039], [2023, \"Cotton\", 37032.085468, 909301, 33673312348], [2023, \"Grapes\", 33525.52974, 6019585, 201809775937], [2023, \"Lettuce\", 50692.818015, 111751, 5664973106], [2023, \"Onions\", 42323.706302, 238197, 10081379870], [2023, \"Oranges\", 38021.45161, 88273, 3356267598], [2023, \"Pistachios\", 36707.574415, 5073476, 186234997815], [2023, \"Rice\", 23093.70458, 4173023, 96370560367], [2023, \"Strawberries\", 34344.10977, 83839, 2879375819], [2023, \"Tomatoes\", 31135.266302, 2221220, 69158276216]];\n",
       "\n",
       "        // Define the dt_args\n",
       "        let dt_args = {\"layout\": {\"topStart\": \"pageLength\", \"topEnd\": \"search\", \"bottomStart\": \"info\", \"bottomEnd\": \"paging\"}, \"order\": []};\n",
       "        dt_args[\"data\"] = data;\n",
       "\n",
       "        \n",
       "        new DataTable(table, dt_args);\n",
       "    });\n",
       "</script>\n"
      ],
      "text/plain": [
       "<IPython.core.display.HTML object>"
      ]
     },
     "metadata": {},
     "output_type": "display_data"
    }
   ],
   "source": [
    "full_df = pd.read_csv('CacheData/CropStats.csv')\n",
    "show(full_df)"
   ]
  },
  {
   "cell_type": "markdown",
   "id": "8319342e-3307-4c48-8d4e-fd14bc6f2cc4",
   "metadata": {},
   "source": [
    "### Looking at data"
   ]
  },
  {
   "cell_type": "code",
   "execution_count": 143,
   "id": "734c11cc-f4d4-490f-96f6-59607deb2e8c",
   "metadata": {
    "scrolled": true
   },
   "outputs": [
    {
     "data": {
      "application/vnd.plotly.v1+json": {
       "config": {
        "plotlyServerURL": "https://plot.ly"
       },
       "data": [
        {
         "hovertemplate": "crop=Almonds<br>year=%{x}<br>mean_offset=%{y}<extra></extra>",
         "legendgroup": "Almonds",
         "marker": {
          "color": "#636efa",
          "symbol": "circle"
         },
         "mode": "lines+markers",
         "name": "Almonds",
         "orientation": "v",
         "showlegend": true,
         "type": "scatter",
         "x": [
          2008,
          2013,
          2018,
          2023
         ],
         "xaxis": "x",
         "y": [
          32313.90105951878,
          32709.29939216371,
          32532.125263544745,
          32164.844879937365
         ],
         "yaxis": "y"
        },
        {
         "hovertemplate": "crop=Carrots<br>year=%{x}<br>mean_offset=%{y}<extra></extra>",
         "legendgroup": "Carrots",
         "marker": {
          "color": "#EF553B",
          "symbol": "circle"
         },
         "mode": "lines+markers",
         "name": "Carrots",
         "orientation": "v",
         "showlegend": true,
         "type": "scatter",
         "x": [
          2008,
          2013,
          2018,
          2023
         ],
         "xaxis": "x",
         "y": [
          42207.236714946484,
          44703.12261527566,
          46287.10526250305,
          47922.54331542627
         ],
         "yaxis": "y"
        },
        {
         "hovertemplate": "crop=Cherries<br>year=%{x}<br>mean_offset=%{y}<extra></extra>",
         "legendgroup": "Cherries",
         "marker": {
          "color": "#00cc96",
          "symbol": "circle"
         },
         "mode": "lines+markers",
         "name": "Cherries",
         "orientation": "v",
         "showlegend": true,
         "type": "scatter",
         "x": [
          2008,
          2013,
          2018,
          2023
         ],
         "xaxis": "x",
         "y": [
          31158.64128292348,
          31271.238458561398,
          32259.3264486334,
          32243.446918465525
         ],
         "yaxis": "y"
        },
        {
         "hovertemplate": "crop=Citrus<br>year=%{x}<br>mean_offset=%{y}<extra></extra>",
         "legendgroup": "Citrus",
         "marker": {
          "color": "#ab63fa",
          "symbol": "circle"
         },
         "mode": "lines+markers",
         "name": "Citrus",
         "orientation": "v",
         "showlegend": true,
         "type": "scatter",
         "x": [
          2008,
          2013,
          2018,
          2023
         ],
         "xaxis": "x",
         "y": [
          38952.518211426424,
          49160.34467769604,
          40117.84660635303,
          39183.874195497185
         ],
         "yaxis": "y"
        },
        {
         "hovertemplate": "crop=Corn<br>year=%{x}<br>mean_offset=%{y}<extra></extra>",
         "legendgroup": "Corn",
         "marker": {
          "color": "#FFA15A",
          "symbol": "circle"
         },
         "mode": "lines+markers",
         "name": "Corn",
         "orientation": "v",
         "showlegend": true,
         "type": "scatter",
         "x": [
          2008,
          2013,
          2018,
          2023
         ],
         "xaxis": "x",
         "y": [
          30829.671710508195,
          29791.47880773399,
          31260.655134379696,
          33104.86231012435
         ],
         "yaxis": "y"
        },
        {
         "hovertemplate": "crop=Cotton<br>year=%{x}<br>mean_offset=%{y}<extra></extra>",
         "legendgroup": "Cotton",
         "marker": {
          "color": "#19d3f3",
          "symbol": "circle"
         },
         "mode": "lines+markers",
         "name": "Cotton",
         "orientation": "v",
         "showlegend": true,
         "type": "scatter",
         "x": [
          2008,
          2013,
          2018,
          2023
         ],
         "xaxis": "x",
         "y": [
          36968.00181548464,
          37401.462947127904,
          36257.795825304864,
          37032.08546784838
         ],
         "yaxis": "y"
        },
        {
         "hovertemplate": "crop=Grapes<br>year=%{x}<br>mean_offset=%{y}<extra></extra>",
         "legendgroup": "Grapes",
         "marker": {
          "color": "#FF6692",
          "symbol": "circle"
         },
         "mode": "lines+markers",
         "name": "Grapes",
         "orientation": "v",
         "showlegend": true,
         "type": "scatter",
         "x": [
          2008,
          2013,
          2018,
          2023
         ],
         "xaxis": "x",
         "y": [
          33806.91882208478,
          33314.98959916491,
          33725.888146099656,
          33525.52973950862
         ],
         "yaxis": "y"
        },
        {
         "hovertemplate": "crop=Lettuce<br>year=%{x}<br>mean_offset=%{y}<extra></extra>",
         "legendgroup": "Lettuce",
         "marker": {
          "color": "#B6E880",
          "symbol": "circle"
         },
         "mode": "lines+markers",
         "name": "Lettuce",
         "orientation": "v",
         "showlegend": true,
         "type": "scatter",
         "x": [
          2008,
          2013,
          2018,
          2023
         ],
         "xaxis": "x",
         "y": [
          39221.127056181576,
          45251.747878513146,
          47749.94555327267,
          50692.81801505132
         ],
         "yaxis": "y"
        },
        {
         "hovertemplate": "crop=Onions<br>year=%{x}<br>mean_offset=%{y}<extra></extra>",
         "legendgroup": "Onions",
         "marker": {
          "color": "#FF97FF",
          "symbol": "circle"
         },
         "mode": "lines+markers",
         "name": "Onions",
         "orientation": "v",
         "showlegend": true,
         "type": "scatter",
         "x": [
          2008,
          2013,
          2018,
          2023
         ],
         "xaxis": "x",
         "y": [
          37234.28804602291,
          38282.97640799918,
          41605.29029419836,
          42323.706301926555
         ],
         "yaxis": "y"
        },
        {
         "hovertemplate": "crop=Oranges<br>year=%{x}<br>mean_offset=%{y}<extra></extra>",
         "legendgroup": "Oranges",
         "marker": {
          "color": "#FECB52",
          "symbol": "circle"
         },
         "mode": "lines+markers",
         "name": "Oranges",
         "orientation": "v",
         "showlegend": true,
         "type": "scatter",
         "x": [
          2008,
          2013,
          2018,
          2023
         ],
         "xaxis": "x",
         "y": [
          38552.180441033364,
          36623.48253647401,
          36761.605841701145,
          38021.45161034518
         ],
         "yaxis": "y"
        },
        {
         "hovertemplate": "crop=Pistachios<br>year=%{x}<br>mean_offset=%{y}<extra></extra>",
         "legendgroup": "Pistachios",
         "marker": {
          "color": "#636efa",
          "symbol": "circle"
         },
         "mode": "lines+markers",
         "name": "Pistachios",
         "orientation": "v",
         "showlegend": true,
         "type": "scatter",
         "x": [
          2008,
          2013,
          2018,
          2023
         ],
         "xaxis": "x",
         "y": [
          36684.046225992475,
          37124.750373982126,
          36797.838135556194,
          36707.57441545008
         ],
         "yaxis": "y"
        },
        {
         "hovertemplate": "crop=Rice<br>year=%{x}<br>mean_offset=%{y}<extra></extra>",
         "legendgroup": "Rice",
         "marker": {
          "color": "#EF553B",
          "symbol": "circle"
         },
         "mode": "lines+markers",
         "name": "Rice",
         "orientation": "v",
         "showlegend": true,
         "type": "scatter",
         "x": [
          2008,
          2013,
          2018,
          2023
         ],
         "xaxis": "x",
         "y": [
          22857.637851868778,
          22980.837597026308,
          23015.113304668786,
          23093.704579869318
         ],
         "yaxis": "y"
        },
        {
         "hovertemplate": "crop=Strawberries<br>year=%{x}<br>mean_offset=%{y}<extra></extra>",
         "legendgroup": "Strawberries",
         "marker": {
          "color": "#00cc96",
          "symbol": "circle"
         },
         "mode": "lines+markers",
         "name": "Strawberries",
         "orientation": "v",
         "showlegend": true,
         "type": "scatter",
         "x": [
          2008,
          2013,
          2018,
          2023
         ],
         "xaxis": "x",
         "y": [
          37124.5970715749,
          38811.16075333851,
          38646.66401426454,
          34344.10976991615
         ],
         "yaxis": "y"
        },
        {
         "hovertemplate": "crop=Tomatoes<br>year=%{x}<br>mean_offset=%{y}<extra></extra>",
         "legendgroup": "Tomatoes",
         "marker": {
          "color": "#ab63fa",
          "symbol": "circle"
         },
         "mode": "lines+markers",
         "name": "Tomatoes",
         "orientation": "v",
         "showlegend": true,
         "type": "scatter",
         "x": [
          2008,
          2013,
          2018,
          2023
         ],
         "xaxis": "x",
         "y": [
          31971.667251003626,
          31909.426748988502,
          31729.169155031355,
          31135.266302302338
         ],
         "yaxis": "y"
        }
       ],
       "layout": {
        "height": 600,
        "legend": {
         "title": {
          "text": "crop"
         },
         "tracegroupgap": 0
        },
        "template": {
         "data": {
          "bar": [
           {
            "error_x": {
             "color": "#2a3f5f"
            },
            "error_y": {
             "color": "#2a3f5f"
            },
            "marker": {
             "line": {
              "color": "#E5ECF6",
              "width": 0.5
             },
             "pattern": {
              "fillmode": "overlay",
              "size": 10,
              "solidity": 0.2
             }
            },
            "type": "bar"
           }
          ],
          "barpolar": [
           {
            "marker": {
             "line": {
              "color": "#E5ECF6",
              "width": 0.5
             },
             "pattern": {
              "fillmode": "overlay",
              "size": 10,
              "solidity": 0.2
             }
            },
            "type": "barpolar"
           }
          ],
          "carpet": [
           {
            "aaxis": {
             "endlinecolor": "#2a3f5f",
             "gridcolor": "white",
             "linecolor": "white",
             "minorgridcolor": "white",
             "startlinecolor": "#2a3f5f"
            },
            "baxis": {
             "endlinecolor": "#2a3f5f",
             "gridcolor": "white",
             "linecolor": "white",
             "minorgridcolor": "white",
             "startlinecolor": "#2a3f5f"
            },
            "type": "carpet"
           }
          ],
          "choropleth": [
           {
            "colorbar": {
             "outlinewidth": 0,
             "ticks": ""
            },
            "type": "choropleth"
           }
          ],
          "contour": [
           {
            "colorbar": {
             "outlinewidth": 0,
             "ticks": ""
            },
            "colorscale": [
             [
              0,
              "#0d0887"
             ],
             [
              0.1111111111111111,
              "#46039f"
             ],
             [
              0.2222222222222222,
              "#7201a8"
             ],
             [
              0.3333333333333333,
              "#9c179e"
             ],
             [
              0.4444444444444444,
              "#bd3786"
             ],
             [
              0.5555555555555556,
              "#d8576b"
             ],
             [
              0.6666666666666666,
              "#ed7953"
             ],
             [
              0.7777777777777778,
              "#fb9f3a"
             ],
             [
              0.8888888888888888,
              "#fdca26"
             ],
             [
              1,
              "#f0f921"
             ]
            ],
            "type": "contour"
           }
          ],
          "contourcarpet": [
           {
            "colorbar": {
             "outlinewidth": 0,
             "ticks": ""
            },
            "type": "contourcarpet"
           }
          ],
          "heatmap": [
           {
            "colorbar": {
             "outlinewidth": 0,
             "ticks": ""
            },
            "colorscale": [
             [
              0,
              "#0d0887"
             ],
             [
              0.1111111111111111,
              "#46039f"
             ],
             [
              0.2222222222222222,
              "#7201a8"
             ],
             [
              0.3333333333333333,
              "#9c179e"
             ],
             [
              0.4444444444444444,
              "#bd3786"
             ],
             [
              0.5555555555555556,
              "#d8576b"
             ],
             [
              0.6666666666666666,
              "#ed7953"
             ],
             [
              0.7777777777777778,
              "#fb9f3a"
             ],
             [
              0.8888888888888888,
              "#fdca26"
             ],
             [
              1,
              "#f0f921"
             ]
            ],
            "type": "heatmap"
           }
          ],
          "heatmapgl": [
           {
            "colorbar": {
             "outlinewidth": 0,
             "ticks": ""
            },
            "colorscale": [
             [
              0,
              "#0d0887"
             ],
             [
              0.1111111111111111,
              "#46039f"
             ],
             [
              0.2222222222222222,
              "#7201a8"
             ],
             [
              0.3333333333333333,
              "#9c179e"
             ],
             [
              0.4444444444444444,
              "#bd3786"
             ],
             [
              0.5555555555555556,
              "#d8576b"
             ],
             [
              0.6666666666666666,
              "#ed7953"
             ],
             [
              0.7777777777777778,
              "#fb9f3a"
             ],
             [
              0.8888888888888888,
              "#fdca26"
             ],
             [
              1,
              "#f0f921"
             ]
            ],
            "type": "heatmapgl"
           }
          ],
          "histogram": [
           {
            "marker": {
             "pattern": {
              "fillmode": "overlay",
              "size": 10,
              "solidity": 0.2
             }
            },
            "type": "histogram"
           }
          ],
          "histogram2d": [
           {
            "colorbar": {
             "outlinewidth": 0,
             "ticks": ""
            },
            "colorscale": [
             [
              0,
              "#0d0887"
             ],
             [
              0.1111111111111111,
              "#46039f"
             ],
             [
              0.2222222222222222,
              "#7201a8"
             ],
             [
              0.3333333333333333,
              "#9c179e"
             ],
             [
              0.4444444444444444,
              "#bd3786"
             ],
             [
              0.5555555555555556,
              "#d8576b"
             ],
             [
              0.6666666666666666,
              "#ed7953"
             ],
             [
              0.7777777777777778,
              "#fb9f3a"
             ],
             [
              0.8888888888888888,
              "#fdca26"
             ],
             [
              1,
              "#f0f921"
             ]
            ],
            "type": "histogram2d"
           }
          ],
          "histogram2dcontour": [
           {
            "colorbar": {
             "outlinewidth": 0,
             "ticks": ""
            },
            "colorscale": [
             [
              0,
              "#0d0887"
             ],
             [
              0.1111111111111111,
              "#46039f"
             ],
             [
              0.2222222222222222,
              "#7201a8"
             ],
             [
              0.3333333333333333,
              "#9c179e"
             ],
             [
              0.4444444444444444,
              "#bd3786"
             ],
             [
              0.5555555555555556,
              "#d8576b"
             ],
             [
              0.6666666666666666,
              "#ed7953"
             ],
             [
              0.7777777777777778,
              "#fb9f3a"
             ],
             [
              0.8888888888888888,
              "#fdca26"
             ],
             [
              1,
              "#f0f921"
             ]
            ],
            "type": "histogram2dcontour"
           }
          ],
          "mesh3d": [
           {
            "colorbar": {
             "outlinewidth": 0,
             "ticks": ""
            },
            "type": "mesh3d"
           }
          ],
          "parcoords": [
           {
            "line": {
             "colorbar": {
              "outlinewidth": 0,
              "ticks": ""
             }
            },
            "type": "parcoords"
           }
          ],
          "pie": [
           {
            "automargin": true,
            "type": "pie"
           }
          ],
          "scatter": [
           {
            "fillpattern": {
             "fillmode": "overlay",
             "size": 10,
             "solidity": 0.2
            },
            "type": "scatter"
           }
          ],
          "scatter3d": [
           {
            "line": {
             "colorbar": {
              "outlinewidth": 0,
              "ticks": ""
             }
            },
            "marker": {
             "colorbar": {
              "outlinewidth": 0,
              "ticks": ""
             }
            },
            "type": "scatter3d"
           }
          ],
          "scattercarpet": [
           {
            "marker": {
             "colorbar": {
              "outlinewidth": 0,
              "ticks": ""
             }
            },
            "type": "scattercarpet"
           }
          ],
          "scattergeo": [
           {
            "marker": {
             "colorbar": {
              "outlinewidth": 0,
              "ticks": ""
             }
            },
            "type": "scattergeo"
           }
          ],
          "scattergl": [
           {
            "marker": {
             "colorbar": {
              "outlinewidth": 0,
              "ticks": ""
             }
            },
            "type": "scattergl"
           }
          ],
          "scattermapbox": [
           {
            "marker": {
             "colorbar": {
              "outlinewidth": 0,
              "ticks": ""
             }
            },
            "type": "scattermapbox"
           }
          ],
          "scatterpolar": [
           {
            "marker": {
             "colorbar": {
              "outlinewidth": 0,
              "ticks": ""
             }
            },
            "type": "scatterpolar"
           }
          ],
          "scatterpolargl": [
           {
            "marker": {
             "colorbar": {
              "outlinewidth": 0,
              "ticks": ""
             }
            },
            "type": "scatterpolargl"
           }
          ],
          "scatterternary": [
           {
            "marker": {
             "colorbar": {
              "outlinewidth": 0,
              "ticks": ""
             }
            },
            "type": "scatterternary"
           }
          ],
          "surface": [
           {
            "colorbar": {
             "outlinewidth": 0,
             "ticks": ""
            },
            "colorscale": [
             [
              0,
              "#0d0887"
             ],
             [
              0.1111111111111111,
              "#46039f"
             ],
             [
              0.2222222222222222,
              "#7201a8"
             ],
             [
              0.3333333333333333,
              "#9c179e"
             ],
             [
              0.4444444444444444,
              "#bd3786"
             ],
             [
              0.5555555555555556,
              "#d8576b"
             ],
             [
              0.6666666666666666,
              "#ed7953"
             ],
             [
              0.7777777777777778,
              "#fb9f3a"
             ],
             [
              0.8888888888888888,
              "#fdca26"
             ],
             [
              1,
              "#f0f921"
             ]
            ],
            "type": "surface"
           }
          ],
          "table": [
           {
            "cells": {
             "fill": {
              "color": "#EBF0F8"
             },
             "line": {
              "color": "white"
             }
            },
            "header": {
             "fill": {
              "color": "#C8D4E3"
             },
             "line": {
              "color": "white"
             }
            },
            "type": "table"
           }
          ]
         },
         "layout": {
          "annotationdefaults": {
           "arrowcolor": "#2a3f5f",
           "arrowhead": 0,
           "arrowwidth": 1
          },
          "autotypenumbers": "strict",
          "coloraxis": {
           "colorbar": {
            "outlinewidth": 0,
            "ticks": ""
           }
          },
          "colorscale": {
           "diverging": [
            [
             0,
             "#8e0152"
            ],
            [
             0.1,
             "#c51b7d"
            ],
            [
             0.2,
             "#de77ae"
            ],
            [
             0.3,
             "#f1b6da"
            ],
            [
             0.4,
             "#fde0ef"
            ],
            [
             0.5,
             "#f7f7f7"
            ],
            [
             0.6,
             "#e6f5d0"
            ],
            [
             0.7,
             "#b8e186"
            ],
            [
             0.8,
             "#7fbc41"
            ],
            [
             0.9,
             "#4d9221"
            ],
            [
             1,
             "#276419"
            ]
           ],
           "sequential": [
            [
             0,
             "#0d0887"
            ],
            [
             0.1111111111111111,
             "#46039f"
            ],
            [
             0.2222222222222222,
             "#7201a8"
            ],
            [
             0.3333333333333333,
             "#9c179e"
            ],
            [
             0.4444444444444444,
             "#bd3786"
            ],
            [
             0.5555555555555556,
             "#d8576b"
            ],
            [
             0.6666666666666666,
             "#ed7953"
            ],
            [
             0.7777777777777778,
             "#fb9f3a"
            ],
            [
             0.8888888888888888,
             "#fdca26"
            ],
            [
             1,
             "#f0f921"
            ]
           ],
           "sequentialminus": [
            [
             0,
             "#0d0887"
            ],
            [
             0.1111111111111111,
             "#46039f"
            ],
            [
             0.2222222222222222,
             "#7201a8"
            ],
            [
             0.3333333333333333,
             "#9c179e"
            ],
            [
             0.4444444444444444,
             "#bd3786"
            ],
            [
             0.5555555555555556,
             "#d8576b"
            ],
            [
             0.6666666666666666,
             "#ed7953"
            ],
            [
             0.7777777777777778,
             "#fb9f3a"
            ],
            [
             0.8888888888888888,
             "#fdca26"
            ],
            [
             1,
             "#f0f921"
            ]
           ]
          },
          "colorway": [
           "#636efa",
           "#EF553B",
           "#00cc96",
           "#ab63fa",
           "#FFA15A",
           "#19d3f3",
           "#FF6692",
           "#B6E880",
           "#FF97FF",
           "#FECB52"
          ],
          "font": {
           "color": "#2a3f5f"
          },
          "geo": {
           "bgcolor": "white",
           "lakecolor": "white",
           "landcolor": "#E5ECF6",
           "showlakes": true,
           "showland": true,
           "subunitcolor": "white"
          },
          "hoverlabel": {
           "align": "left"
          },
          "hovermode": "closest",
          "mapbox": {
           "style": "light"
          },
          "paper_bgcolor": "white",
          "plot_bgcolor": "#E5ECF6",
          "polar": {
           "angularaxis": {
            "gridcolor": "white",
            "linecolor": "white",
            "ticks": ""
           },
           "bgcolor": "#E5ECF6",
           "radialaxis": {
            "gridcolor": "white",
            "linecolor": "white",
            "ticks": ""
           }
          },
          "scene": {
           "xaxis": {
            "backgroundcolor": "#E5ECF6",
            "gridcolor": "white",
            "gridwidth": 2,
            "linecolor": "white",
            "showbackground": true,
            "ticks": "",
            "zerolinecolor": "white"
           },
           "yaxis": {
            "backgroundcolor": "#E5ECF6",
            "gridcolor": "white",
            "gridwidth": 2,
            "linecolor": "white",
            "showbackground": true,
            "ticks": "",
            "zerolinecolor": "white"
           },
           "zaxis": {
            "backgroundcolor": "#E5ECF6",
            "gridcolor": "white",
            "gridwidth": 2,
            "linecolor": "white",
            "showbackground": true,
            "ticks": "",
            "zerolinecolor": "white"
           }
          },
          "shapedefaults": {
           "line": {
            "color": "#2a3f5f"
           }
          },
          "ternary": {
           "aaxis": {
            "gridcolor": "white",
            "linecolor": "white",
            "ticks": ""
           },
           "baxis": {
            "gridcolor": "white",
            "linecolor": "white",
            "ticks": ""
           },
           "bgcolor": "#E5ECF6",
           "caxis": {
            "gridcolor": "white",
            "linecolor": "white",
            "ticks": ""
           }
          },
          "title": {
           "x": 0.05
          },
          "xaxis": {
           "automargin": true,
           "gridcolor": "white",
           "linecolor": "white",
           "ticks": "",
           "title": {
            "standoff": 15
           },
           "zerolinecolor": "white",
           "zerolinewidth": 2
          },
          "yaxis": {
           "automargin": true,
           "gridcolor": "white",
           "linecolor": "white",
           "ticks": "",
           "title": {
            "standoff": 15
           },
           "zerolinecolor": "white",
           "zerolinewidth": 2
          }
         }
        },
        "title": {
         "text": "Changes to Average California Cropland Latitude<br>2008-2023</br>",
         "x": 0.5
        },
        "width": 800,
        "xaxis": {
         "anchor": "y",
         "autorange": true,
         "domain": [
          0,
          1
         ],
         "range": [
          2007.0456130156886,
          2023.9543869843114
         ],
         "title": {
          "text": "Year"
         },
         "type": "linear"
        },
        "yaxis": {
         "anchor": "x",
         "autorange": true,
         "domain": [
          0,
          1
         ],
         "range": [
          20998.202739753346,
          52552.253127166754
         ],
         "title": {
          "text": "Mean Offset"
         },
         "type": "linear"
        }
       }
      },
      "image/png": "[encoded data removed]",
      "text/html": [
       "<div>                            <div id=\"4c9fcb92-0acc-4165-b952-187a5baf35a3\" class=\"plotly-graph-div\" style=\"height:600px; width:800px;\"></div>            <script type=\"text/javascript\">                require([\"plotly\"], function(Plotly) {                    window.PLOTLYENV=window.PLOTLYENV || {};                                    if (document.getElementById(\"4c9fcb92-0acc-4165-b952-187a5baf35a3\")) {                    Plotly.newPlot(                        \"4c9fcb92-0acc-4165-b952-187a5baf35a3\",                        [{\"hovertemplate\":\"crop=Almonds\\u003cbr\\u003eyear=%{x}\\u003cbr\\u003emean_offset=%{y}\\u003cextra\\u003e\\u003c\\u002fextra\\u003e\",\"legendgroup\":\"Almonds\",\"marker\":{\"color\":\"#636efa\",\"symbol\":\"circle\"},\"mode\":\"lines+markers\",\"name\":\"Almonds\",\"orientation\":\"v\",\"showlegend\":true,\"x\":[2008,2013,2018,2023],\"xaxis\":\"x\",\"y\":[32313.90105951878,32709.29939216371,32532.125263544745,32164.844879937365],\"yaxis\":\"y\",\"type\":\"scatter\"},{\"hovertemplate\":\"crop=Carrots\\u003cbr\\u003eyear=%{x}\\u003cbr\\u003emean_offset=%{y}\\u003cextra\\u003e\\u003c\\u002fextra\\u003e\",\"legendgroup\":\"Carrots\",\"marker\":{\"color\":\"#EF553B\",\"symbol\":\"circle\"},\"mode\":\"lines+markers\",\"name\":\"Carrots\",\"orientation\":\"v\",\"showlegend\":true,\"x\":[2008,2013,2018,2023],\"xaxis\":\"x\",\"y\":[42207.236714946484,44703.12261527566,46287.10526250305,47922.54331542627],\"yaxis\":\"y\",\"type\":\"scatter\"},{\"hovertemplate\":\"crop=Cherries\\u003cbr\\u003eyear=%{x}\\u003cbr\\u003emean_offset=%{y}\\u003cextra\\u003e\\u003c\\u002fextra\\u003e\",\"legendgroup\":\"Cherries\",\"marker\":{\"color\":\"#00cc96\",\"symbol\":\"circle\"},\"mode\":\"lines+markers\",\"name\":\"Cherries\",\"orientation\":\"v\",\"showlegend\":true,\"x\":[2008,2013,2018,2023],\"xaxis\":\"x\",\"y\":[31158.64128292348,31271.238458561398,32259.3264486334,32243.446918465525],\"yaxis\":\"y\",\"type\":\"scatter\"},{\"hovertemplate\":\"crop=Citrus\\u003cbr\\u003eyear=%{x}\\u003cbr\\u003emean_offset=%{y}\\u003cextra\\u003e\\u003c\\u002fextra\\u003e\",\"legendgroup\":\"Citrus\",\"marker\":{\"color\":\"#ab63fa\",\"symbol\":\"circle\"},\"mode\":\"lines+markers\",\"name\":\"Citrus\",\"orientation\":\"v\",\"showlegend\":true,\"x\":[2008,2013,2018,2023],\"xaxis\":\"x\",\"y\":[38952.518211426424,49160.34467769604,40117.84660635303,39183.874195497185],\"yaxis\":\"y\",\"type\":\"scatter\"},{\"hovertemplate\":\"crop=Corn\\u003cbr\\u003eyear=%{x}\\u003cbr\\u003emean_offset=%{y}\\u003cextra\\u003e\\u003c\\u002fextra\\u003e\",\"legendgroup\":\"Corn\",\"marker\":{\"color\":\"#FFA15A\",\"symbol\":\"circle\"},\"mode\":\"lines+markers\",\"name\":\"Corn\",\"orientation\":\"v\",\"showlegend\":true,\"x\":[2008,2013,2018,2023],\"xaxis\":\"x\",\"y\":[30829.671710508195,29791.47880773399,31260.655134379696,33104.86231012435],\"yaxis\":\"y\",\"type\":\"scatter\"},{\"hovertemplate\":\"crop=Cotton\\u003cbr\\u003eyear=%{x}\\u003cbr\\u003emean_offset=%{y}\\u003cextra\\u003e\\u003c\\u002fextra\\u003e\",\"legendgroup\":\"Cotton\",\"marker\":{\"color\":\"#19d3f3\",\"symbol\":\"circle\"},\"mode\":\"lines+markers\",\"name\":\"Cotton\",\"orientation\":\"v\",\"showlegend\":true,\"x\":[2008,2013,2018,2023],\"xaxis\":\"x\",\"y\":[36968.00181548464,37401.462947127904,36257.795825304864,37032.08546784838],\"yaxis\":\"y\",\"type\":\"scatter\"},{\"hovertemplate\":\"crop=Grapes\\u003cbr\\u003eyear=%{x}\\u003cbr\\u003emean_offset=%{y}\\u003cextra\\u003e\\u003c\\u002fextra\\u003e\",\"legendgroup\":\"Grapes\",\"marker\":{\"color\":\"#FF6692\",\"symbol\":\"circle\"},\"mode\":\"lines+markers\",\"name\":\"Grapes\",\"orientation\":\"v\",\"showlegend\":true,\"x\":[2008,2013,2018,2023],\"xaxis\":\"x\",\"y\":[33806.91882208478,33314.98959916491,33725.888146099656,33525.52973950862],\"yaxis\":\"y\",\"type\":\"scatter\"},{\"hovertemplate\":\"crop=Lettuce\\u003cbr\\u003eyear=%{x}\\u003cbr\\u003emean_offset=%{y}\\u003cextra\\u003e\\u003c\\u002fextra\\u003e\",\"legendgroup\":\"Lettuce\",\"marker\":{\"color\":\"#B6E880\",\"symbol\":\"circle\"},\"mode\":\"lines+markers\",\"name\":\"Lettuce\",\"orientation\":\"v\",\"showlegend\":true,\"x\":[2008,2013,2018,2023],\"xaxis\":\"x\",\"y\":[39221.127056181576,45251.747878513146,47749.94555327267,50692.81801505132],\"yaxis\":\"y\",\"type\":\"scatter\"},{\"hovertemplate\":\"crop=Onions\\u003cbr\\u003eyear=%{x}\\u003cbr\\u003emean_offset=%{y}\\u003cextra\\u003e\\u003c\\u002fextra\\u003e\",\"legendgroup\":\"Onions\",\"marker\":{\"color\":\"#FF97FF\",\"symbol\":\"circle\"},\"mode\":\"lines+markers\",\"name\":\"Onions\",\"orientation\":\"v\",\"showlegend\":true,\"x\":[2008,2013,2018,2023],\"xaxis\":\"x\",\"y\":[37234.28804602291,38282.97640799918,41605.29029419836,42323.706301926555],\"yaxis\":\"y\",\"type\":\"scatter\"},{\"hovertemplate\":\"crop=Oranges\\u003cbr\\u003eyear=%{x}\\u003cbr\\u003emean_offset=%{y}\\u003cextra\\u003e\\u003c\\u002fextra\\u003e\",\"legendgroup\":\"Oranges\",\"marker\":{\"color\":\"#FECB52\",\"symbol\":\"circle\"},\"mode\":\"lines+markers\",\"name\":\"Oranges\",\"orientation\":\"v\",\"showlegend\":true,\"x\":[2008,2013,2018,2023],\"xaxis\":\"x\",\"y\":[38552.180441033364,36623.48253647401,36761.605841701145,38021.45161034518],\"yaxis\":\"y\",\"type\":\"scatter\"},{\"hovertemplate\":\"crop=Pistachios\\u003cbr\\u003eyear=%{x}\\u003cbr\\u003emean_offset=%{y}\\u003cextra\\u003e\\u003c\\u002fextra\\u003e\",\"legendgroup\":\"Pistachios\",\"marker\":{\"color\":\"#636efa\",\"symbol\":\"circle\"},\"mode\":\"lines+markers\",\"name\":\"Pistachios\",\"orientation\":\"v\",\"showlegend\":true,\"x\":[2008,2013,2018,2023],\"xaxis\":\"x\",\"y\":[36684.046225992475,37124.750373982126,36797.838135556194,36707.57441545008],\"yaxis\":\"y\",\"type\":\"scatter\"},{\"hovertemplate\":\"crop=Rice\\u003cbr\\u003eyear=%{x}\\u003cbr\\u003emean_offset=%{y}\\u003cextra\\u003e\\u003c\\u002fextra\\u003e\",\"legendgroup\":\"Rice\",\"marker\":{\"color\":\"#EF553B\",\"symbol\":\"circle\"},\"mode\":\"lines+markers\",\"name\":\"Rice\",\"orientation\":\"v\",\"showlegend\":true,\"x\":[2008,2013,2018,2023],\"xaxis\":\"x\",\"y\":[22857.637851868778,22980.837597026308,23015.113304668786,23093.704579869318],\"yaxis\":\"y\",\"type\":\"scatter\"},{\"hovertemplate\":\"crop=Strawberries\\u003cbr\\u003eyear=%{x}\\u003cbr\\u003emean_offset=%{y}\\u003cextra\\u003e\\u003c\\u002fextra\\u003e\",\"legendgroup\":\"Strawberries\",\"marker\":{\"color\":\"#00cc96\",\"symbol\":\"circle\"},\"mode\":\"lines+markers\",\"name\":\"Strawberries\",\"orientation\":\"v\",\"showlegend\":true,\"x\":[2008,2013,2018,2023],\"xaxis\":\"x\",\"y\":[37124.5970715749,38811.16075333851,38646.66401426454,34344.10976991615],\"yaxis\":\"y\",\"type\":\"scatter\"},{\"hovertemplate\":\"crop=Tomatoes\\u003cbr\\u003eyear=%{x}\\u003cbr\\u003emean_offset=%{y}\\u003cextra\\u003e\\u003c\\u002fextra\\u003e\",\"legendgroup\":\"Tomatoes\",\"marker\":{\"color\":\"#ab63fa\",\"symbol\":\"circle\"},\"mode\":\"lines+markers\",\"name\":\"Tomatoes\",\"orientation\":\"v\",\"showlegend\":true,\"x\":[2008,2013,2018,2023],\"xaxis\":\"x\",\"y\":[31971.667251003626,31909.426748988502,31729.169155031355,31135.266302302338],\"yaxis\":\"y\",\"type\":\"scatter\"}],                        {\"template\":{\"data\":{\"histogram2dcontour\":[{\"type\":\"histogram2dcontour\",\"colorbar\":{\"outlinewidth\":0,\"ticks\":\"\"},\"colorscale\":[[0.0,\"#0d0887\"],[0.1111111111111111,\"#46039f\"],[0.2222222222222222,\"#7201a8\"],[0.3333333333333333,\"#9c179e\"],[0.4444444444444444,\"#bd3786\"],[0.5555555555555556,\"#d8576b\"],[0.6666666666666666,\"#ed7953\"],[0.7777777777777778,\"#fb9f3a\"],[0.8888888888888888,\"#fdca26\"],[1.0,\"#f0f921\"]]}],\"choropleth\":[{\"type\":\"choropleth\",\"colorbar\":{\"outlinewidth\":0,\"ticks\":\"\"}}],\"histogram2d\":[{\"type\":\"histogram2d\",\"colorbar\":{\"outlinewidth\":0,\"ticks\":\"\"},\"colorscale\":[[0.0,\"#0d0887\"],[0.1111111111111111,\"#46039f\"],[0.2222222222222222,\"#7201a8\"],[0.3333333333333333,\"#9c179e\"],[0.4444444444444444,\"#bd3786\"],[0.5555555555555556,\"#d8576b\"],[0.6666666666666666,\"#ed7953\"],[0.7777777777777778,\"#fb9f3a\"],[0.8888888888888888,\"#fdca26\"],[1.0,\"#f0f921\"]]}],\"heatmap\":[{\"type\":\"heatmap\",\"colorbar\":{\"outlinewidth\":0,\"ticks\":\"\"},\"colorscale\":[[0.0,\"#0d0887\"],[0.1111111111111111,\"#46039f\"],[0.2222222222222222,\"#7201a8\"],[0.3333333333333333,\"#9c179e\"],[0.4444444444444444,\"#bd3786\"],[0.5555555555555556,\"#d8576b\"],[0.6666666666666666,\"#ed7953\"],[0.7777777777777778,\"#fb9f3a\"],[0.8888888888888888,\"#fdca26\"],[1.0,\"#f0f921\"]]}],\"heatmapgl\":[{\"type\":\"heatmapgl\",\"colorbar\":{\"outlinewidth\":0,\"ticks\":\"\"},\"colorscale\":[[0.0,\"#0d0887\"],[0.1111111111111111,\"#46039f\"],[0.2222222222222222,\"#7201a8\"],[0.3333333333333333,\"#9c179e\"],[0.4444444444444444,\"#bd3786\"],[0.5555555555555556,\"#d8576b\"],[0.6666666666666666,\"#ed7953\"],[0.7777777777777778,\"#fb9f3a\"],[0.8888888888888888,\"#fdca26\"],[1.0,\"#f0f921\"]]}],\"contourcarpet\":[{\"type\":\"contourcarpet\",\"colorbar\":{\"outlinewidth\":0,\"ticks\":\"\"}}],\"contour\":[{\"type\":\"contour\",\"colorbar\":{\"outlinewidth\":0,\"ticks\":\"\"},\"colorscale\":[[0.0,\"#0d0887\"],[0.1111111111111111,\"#46039f\"],[0.2222222222222222,\"#7201a8\"],[0.3333333333333333,\"#9c179e\"],[0.4444444444444444,\"#bd3786\"],[0.5555555555555556,\"#d8576b\"],[0.6666666666666666,\"#ed7953\"],[0.7777777777777778,\"#fb9f3a\"],[0.8888888888888888,\"#fdca26\"],[1.0,\"#f0f921\"]]}],\"surface\":[{\"type\":\"surface\",\"colorbar\":{\"outlinewidth\":0,\"ticks\":\"\"},\"colorscale\":[[0.0,\"#0d0887\"],[0.1111111111111111,\"#46039f\"],[0.2222222222222222,\"#7201a8\"],[0.3333333333333333,\"#9c179e\"],[0.4444444444444444,\"#bd3786\"],[0.5555555555555556,\"#d8576b\"],[0.6666666666666666,\"#ed7953\"],[0.7777777777777778,\"#fb9f3a\"],[0.8888888888888888,\"#fdca26\"],[1.0,\"#f0f921\"]]}],\"mesh3d\":[{\"type\":\"mesh3d\",\"colorbar\":{\"outlinewidth\":0,\"ticks\":\"\"}}],\"scatter\":[{\"fillpattern\":{\"fillmode\":\"overlay\",\"size\":10,\"solidity\":0.2},\"type\":\"scatter\"}],\"parcoords\":[{\"type\":\"parcoords\",\"line\":{\"colorbar\":{\"outlinewidth\":0,\"ticks\":\"\"}}}],\"scatterpolargl\":[{\"type\":\"scatterpolargl\",\"marker\":{\"colorbar\":{\"outlinewidth\":0,\"ticks\":\"\"}}}],\"bar\":[{\"error_x\":{\"color\":\"#2a3f5f\"},\"error_y\":{\"color\":\"#2a3f5f\"},\"marker\":{\"line\":{\"color\":\"#E5ECF6\",\"width\":0.5},\"pattern\":{\"fillmode\":\"overlay\",\"size\":10,\"solidity\":0.2}},\"type\":\"bar\"}],\"scattergeo\":[{\"type\":\"scattergeo\",\"marker\":{\"colorbar\":{\"outlinewidth\":0,\"ticks\":\"\"}}}],\"scatterpolar\":[{\"type\":\"scatterpolar\",\"marker\":{\"colorbar\":{\"outlinewidth\":0,\"ticks\":\"\"}}}],\"histogram\":[{\"marker\":{\"pattern\":{\"fillmode\":\"overlay\",\"size\":10,\"solidity\":0.2}},\"type\":\"histogram\"}],\"scattergl\":[{\"type\":\"scattergl\",\"marker\":{\"colorbar\":{\"outlinewidth\":0,\"ticks\":\"\"}}}],\"scatter3d\":[{\"type\":\"scatter3d\",\"line\":{\"colorbar\":{\"outlinewidth\":0,\"ticks\":\"\"}},\"marker\":{\"colorbar\":{\"outlinewidth\":0,\"ticks\":\"\"}}}],\"scattermapbox\":[{\"type\":\"scattermapbox\",\"marker\":{\"colorbar\":{\"outlinewidth\":0,\"ticks\":\"\"}}}],\"scatterternary\":[{\"type\":\"scatterternary\",\"marker\":{\"colorbar\":{\"outlinewidth\":0,\"ticks\":\"\"}}}],\"scattercarpet\":[{\"type\":\"scattercarpet\",\"marker\":{\"colorbar\":{\"outlinewidth\":0,\"ticks\":\"\"}}}],\"carpet\":[{\"aaxis\":{\"endlinecolor\":\"#2a3f5f\",\"gridcolor\":\"white\",\"linecolor\":\"white\",\"minorgridcolor\":\"white\",\"startlinecolor\":\"#2a3f5f\"},\"baxis\":{\"endlinecolor\":\"#2a3f5f\",\"gridcolor\":\"white\",\"linecolor\":\"white\",\"minorgridcolor\":\"white\",\"startlinecolor\":\"#2a3f5f\"},\"type\":\"carpet\"}],\"table\":[{\"cells\":{\"fill\":{\"color\":\"#EBF0F8\"},\"line\":{\"color\":\"white\"}},\"header\":{\"fill\":{\"color\":\"#C8D4E3\"},\"line\":{\"color\":\"white\"}},\"type\":\"table\"}],\"barpolar\":[{\"marker\":{\"line\":{\"color\":\"#E5ECF6\",\"width\":0.5},\"pattern\":{\"fillmode\":\"overlay\",\"size\":10,\"solidity\":0.2}},\"type\":\"barpolar\"}],\"pie\":[{\"automargin\":true,\"type\":\"pie\"}]},\"layout\":{\"autotypenumbers\":\"strict\",\"colorway\":[\"#636efa\",\"#EF553B\",\"#00cc96\",\"#ab63fa\",\"#FFA15A\",\"#19d3f3\",\"#FF6692\",\"#B6E880\",\"#FF97FF\",\"#FECB52\"],\"font\":{\"color\":\"#2a3f5f\"},\"hovermode\":\"closest\",\"hoverlabel\":{\"align\":\"left\"},\"paper_bgcolor\":\"white\",\"plot_bgcolor\":\"#E5ECF6\",\"polar\":{\"bgcolor\":\"#E5ECF6\",\"angularaxis\":{\"gridcolor\":\"white\",\"linecolor\":\"white\",\"ticks\":\"\"},\"radialaxis\":{\"gridcolor\":\"white\",\"linecolor\":\"white\",\"ticks\":\"\"}},\"ternary\":{\"bgcolor\":\"#E5ECF6\",\"aaxis\":{\"gridcolor\":\"white\",\"linecolor\":\"white\",\"ticks\":\"\"},\"baxis\":{\"gridcolor\":\"white\",\"linecolor\":\"white\",\"ticks\":\"\"},\"caxis\":{\"gridcolor\":\"white\",\"linecolor\":\"white\",\"ticks\":\"\"}},\"coloraxis\":{\"colorbar\":{\"outlinewidth\":0,\"ticks\":\"\"}},\"colorscale\":{\"sequential\":[[0.0,\"#0d0887\"],[0.1111111111111111,\"#46039f\"],[0.2222222222222222,\"#7201a8\"],[0.3333333333333333,\"#9c179e\"],[0.4444444444444444,\"#bd3786\"],[0.5555555555555556,\"#d8576b\"],[0.6666666666666666,\"#ed7953\"],[0.7777777777777778,\"#fb9f3a\"],[0.8888888888888888,\"#fdca26\"],[1.0,\"#f0f921\"]],\"sequentialminus\":[[0.0,\"#0d0887\"],[0.1111111111111111,\"#46039f\"],[0.2222222222222222,\"#7201a8\"],[0.3333333333333333,\"#9c179e\"],[0.4444444444444444,\"#bd3786\"],[0.5555555555555556,\"#d8576b\"],[0.6666666666666666,\"#ed7953\"],[0.7777777777777778,\"#fb9f3a\"],[0.8888888888888888,\"#fdca26\"],[1.0,\"#f0f921\"]],\"diverging\":[[0,\"#8e0152\"],[0.1,\"#c51b7d\"],[0.2,\"#de77ae\"],[0.3,\"#f1b6da\"],[0.4,\"#fde0ef\"],[0.5,\"#f7f7f7\"],[0.6,\"#e6f5d0\"],[0.7,\"#b8e186\"],[0.8,\"#7fbc41\"],[0.9,\"#4d9221\"],[1,\"#276419\"]]},\"xaxis\":{\"gridcolor\":\"white\",\"linecolor\":\"white\",\"ticks\":\"\",\"title\":{\"standoff\":15},\"zerolinecolor\":\"white\",\"automargin\":true,\"zerolinewidth\":2},\"yaxis\":{\"gridcolor\":\"white\",\"linecolor\":\"white\",\"ticks\":\"\",\"title\":{\"standoff\":15},\"zerolinecolor\":\"white\",\"automargin\":true,\"zerolinewidth\":2},\"scene\":{\"xaxis\":{\"backgroundcolor\":\"#E5ECF6\",\"gridcolor\":\"white\",\"linecolor\":\"white\",\"showbackground\":true,\"ticks\":\"\",\"zerolinecolor\":\"white\",\"gridwidth\":2},\"yaxis\":{\"backgroundcolor\":\"#E5ECF6\",\"gridcolor\":\"white\",\"linecolor\":\"white\",\"showbackground\":true,\"ticks\":\"\",\"zerolinecolor\":\"white\",\"gridwidth\":2},\"zaxis\":{\"backgroundcolor\":\"#E5ECF6\",\"gridcolor\":\"white\",\"linecolor\":\"white\",\"showbackground\":true,\"ticks\":\"\",\"zerolinecolor\":\"white\",\"gridwidth\":2}},\"shapedefaults\":{\"line\":{\"color\":\"#2a3f5f\"}},\"annotationdefaults\":{\"arrowcolor\":\"#2a3f5f\",\"arrowhead\":0,\"arrowwidth\":1},\"geo\":{\"bgcolor\":\"white\",\"landcolor\":\"#E5ECF6\",\"subunitcolor\":\"white\",\"showland\":true,\"showlakes\":true,\"lakecolor\":\"white\"},\"title\":{\"x\":0.05},\"mapbox\":{\"style\":\"light\"}}},\"xaxis\":{\"anchor\":\"y\",\"domain\":[0.0,1.0],\"title\":{\"text\":\"Year\"}},\"yaxis\":{\"anchor\":\"x\",\"domain\":[0.0,1.0],\"title\":{\"text\":\"Mean Offset\"}},\"legend\":{\"title\":{\"text\":\"crop\"},\"tracegroupgap\":0},\"title\":{\"text\":\"Changes to Average California Cropland Latitude\\u003cbr\\u003e2008-2023\\u003c\\u002fbr\\u003e\",\"x\":0.5},\"height\":600,\"width\":800},                        {\"responsive\": true}                    ).then(function(){\n",
       "                            \n",
       "var gd = document.getElementById('4c9fcb92-0acc-4165-b952-187a5baf35a3');\n",
       "var x = new MutationObserver(function (mutations, observer) {{\n",
       "        var display = window.getComputedStyle(gd).display;\n",
       "        if (!display || display === 'none') {{\n",
       "            console.log([gd, 'removed!']);\n",
       "            Plotly.purge(gd);\n",
       "            observer.disconnect();\n",
       "        }}\n",
       "}});\n",
       "\n",
       "// Listen for the removal of the full notebook cells\n",
       "var notebookContainer = gd.closest('#notebook-container');\n",
       "if (notebookContainer) {{\n",
       "    x.observe(notebookContainer, {childList: true});\n",
       "}}\n",
       "\n",
       "// Listen for the clearing of the current output cell\n",
       "var outputEl = gd.closest('.output');\n",
       "if (outputEl) {{\n",
       "    x.observe(outputEl, {childList: true});\n",
       "}}\n",
       "\n",
       "                        })                };                });            </script>        </div>"
      ]
     },
     "metadata": {},
     "output_type": "display_data"
    }
   ],
   "source": [
    "fig = px.scatter(\n",
    "    full_df,\n",
    "    x='year',\n",
    "    y='mean_offset',\n",
    "    color='crop',\n",
    "    facet_col_wrap=3,\n",
    "    title='Changes to Average California Cropland Latitude<br>2008-2023</br>',\n",
    "    width = 800,\n",
    "    height = 600,\n",
    ")\n",
    "\n",
    "fig.update_layout(\n",
    "    title_x=0.5,\n",
    "    xaxis_title='Year',\n",
    "    yaxis_title='Mean Offset'\n",
    ")\n",
    "\n",
    "fig.update_traces(mode=\"lines+markers\")\n",
    "\n",
    "fig.show()"
   ]
  },
  {
   "cell_type": "markdown",
   "id": "c70603ff-e1f0-44f9-bb51-df67d4f2b1f7",
   "metadata": {},
   "source": [
    "While most of the crops do not seem to be moving especially far, lettuce, carrot, and onion cropland appear to be going on a straightforward trend northward, which is what I would expect. As cool-weather crops they are likely more sensitive to increased temperatures, and being row crops as opposed to tree crops it is easy to move planting to cooler, more northerly fields.\n",
    "\n",
    "Strawberries are the only crop that seems to have moved southward, and I am at a loss to explain why in terms of climate change alone. Likely there are other factors involved (such as water availability) or maybe there was an issue with the cropland data."
   ]
  },
  {
   "cell_type": "code",
   "execution_count": 145,
   "id": "a92de6ac-16b9-4777-bf44-3e1ede80035c",
   "metadata": {},
   "outputs": [
    {
     "data": {
      "application/vnd.plotly.v1+json": {
       "config": {
        "plotlyServerURL": "https://plot.ly"
       },
       "data": [
        {
         "hovertemplate": "crop=Almonds<br>year=%{x}<br>count=%{y}<extra></extra>",
         "legendgroup": "Almonds",
         "marker": {
          "color": "#636efa",
          "symbol": "circle"
         },
         "mode": "lines+markers",
         "name": "Almonds",
         "orientation": "v",
         "showlegend": true,
         "type": "scatter",
         "x": [
          2008,
          2013,
          2018,
          2023
         ],
         "xaxis": "x",
         "y": [
          7074910,
          8622881,
          8780767,
          13311302
         ],
         "yaxis": "y"
        },
        {
         "hovertemplate": "crop=Carrots<br>year=%{x}<br>count=%{y}<extra></extra>",
         "legendgroup": "Carrots",
         "marker": {
          "color": "#EF553B",
          "symbol": "circle"
         },
         "mode": "lines+markers",
         "name": "Carrots",
         "orientation": "v",
         "showlegend": true,
         "type": "scatter",
         "x": [
          2008,
          2013,
          2018,
          2023
         ],
         "xaxis": "x",
         "y": [
          164527,
          134135,
          401862,
          183168
         ],
         "yaxis": "y"
        },
        {
         "hovertemplate": "crop=Cherries<br>year=%{x}<br>count=%{y}<extra></extra>",
         "legendgroup": "Cherries",
         "marker": {
          "color": "#00cc96",
          "symbol": "circle"
         },
         "mode": "lines+markers",
         "name": "Cherries",
         "orientation": "v",
         "showlegend": true,
         "type": "scatter",
         "x": [
          2008,
          2013,
          2018,
          2023
         ],
         "xaxis": "x",
         "y": [
          246063,
          217044,
          312674,
          523619
         ],
         "yaxis": "y"
        },
        {
         "hovertemplate": "crop=Citrus<br>year=%{x}<br>count=%{y}<extra></extra>",
         "legendgroup": "Citrus",
         "marker": {
          "color": "#ab63fa",
          "symbol": "circle"
         },
         "mode": "lines+markers",
         "name": "Citrus",
         "orientation": "v",
         "showlegend": true,
         "type": "scatter",
         "x": [
          2008,
          2013,
          2018,
          2023
         ],
         "xaxis": "x",
         "y": [
          77067,
          412716,
          1169553,
          2044275
         ],
         "yaxis": "y"
        },
        {
         "hovertemplate": "crop=Corn<br>year=%{x}<br>count=%{y}<extra></extra>",
         "legendgroup": "Corn",
         "marker": {
          "color": "#FFA15A",
          "symbol": "circle"
         },
         "mode": "lines+markers",
         "name": "Corn",
         "orientation": "v",
         "showlegend": true,
         "type": "scatter",
         "x": [
          2008,
          2013,
          2018,
          2023
         ],
         "xaxis": "x",
         "y": [
          1851631,
          2089064,
          2097936,
          1459047
         ],
         "yaxis": "y"
        },
        {
         "hovertemplate": "crop=Cotton<br>year=%{x}<br>count=%{y}<extra></extra>",
         "legendgroup": "Cotton",
         "marker": {
          "color": "#19d3f3",
          "symbol": "circle"
         },
         "mode": "lines+markers",
         "name": "Cotton",
         "orientation": "v",
         "showlegend": true,
         "type": "scatter",
         "x": [
          2008,
          2013,
          2018,
          2023
         ],
         "xaxis": "x",
         "y": [
          1957604,
          2136609,
          2126287,
          909301
         ],
         "yaxis": "y"
        },
        {
         "hovertemplate": "crop=Grapes<br>year=%{x}<br>count=%{y}<extra></extra>",
         "legendgroup": "Grapes",
         "marker": {
          "color": "#FF6692",
          "symbol": "circle"
         },
         "mode": "lines+markers",
         "name": "Grapes",
         "orientation": "v",
         "showlegend": true,
         "type": "scatter",
         "x": [
          2008,
          2013,
          2018,
          2023
         ],
         "xaxis": "x",
         "y": [
          5537750,
          6429003,
          5683682,
          6019585
         ],
         "yaxis": "y"
        },
        {
         "hovertemplate": "crop=Lettuce<br>year=%{x}<br>count=%{y}<extra></extra>",
         "legendgroup": "Lettuce",
         "marker": {
          "color": "#B6E880",
          "symbol": "circle"
         },
         "mode": "lines+markers",
         "name": "Lettuce",
         "orientation": "v",
         "showlegend": true,
         "type": "scatter",
         "x": [
          2008,
          2013,
          2018,
          2023
         ],
         "xaxis": "x",
         "y": [
          124685,
          110300,
          183978,
          111751
         ],
         "yaxis": "y"
        },
        {
         "hovertemplate": "crop=Onions<br>year=%{x}<br>count=%{y}<extra></extra>",
         "legendgroup": "Onions",
         "marker": {
          "color": "#FF97FF",
          "symbol": "circle"
         },
         "mode": "lines+markers",
         "name": "Onions",
         "orientation": "v",
         "showlegend": true,
         "type": "scatter",
         "x": [
          2008,
          2013,
          2018,
          2023
         ],
         "xaxis": "x",
         "y": [
          290464,
          225373,
          353469,
          238197
         ],
         "yaxis": "y"
        },
        {
         "hovertemplate": "crop=Oranges<br>year=%{x}<br>count=%{y}<extra></extra>",
         "legendgroup": "Oranges",
         "marker": {
          "color": "#FECB52",
          "symbol": "circle"
         },
         "mode": "lines+markers",
         "name": "Oranges",
         "orientation": "v",
         "showlegend": true,
         "type": "scatter",
         "x": [
          2008,
          2013,
          2018,
          2023
         ],
         "xaxis": "x",
         "y": [
          1361575,
          1277348,
          891213,
          88273
         ],
         "yaxis": "y"
        },
        {
         "hovertemplate": "crop=Pistachios<br>year=%{x}<br>count=%{y}<extra></extra>",
         "legendgroup": "Pistachios",
         "marker": {
          "color": "#636efa",
          "symbol": "circle"
         },
         "mode": "lines+markers",
         "name": "Pistachios",
         "orientation": "v",
         "showlegend": true,
         "type": "scatter",
         "x": [
          2008,
          2013,
          2018,
          2023
         ],
         "xaxis": "x",
         "y": [
          1926427,
          1489376,
          2677753,
          5073476
         ],
         "yaxis": "y"
        },
        {
         "hovertemplate": "crop=Rice<br>year=%{x}<br>count=%{y}<extra></extra>",
         "legendgroup": "Rice",
         "marker": {
          "color": "#EF553B",
          "symbol": "circle"
         },
         "mode": "lines+markers",
         "name": "Rice",
         "orientation": "v",
         "showlegend": true,
         "type": "scatter",
         "x": [
          2008,
          2013,
          2018,
          2023
         ],
         "xaxis": "x",
         "y": [
          4109451,
          4327821,
          3926802,
          4173023
         ],
         "yaxis": "y"
        },
        {
         "hovertemplate": "crop=Strawberries<br>year=%{x}<br>count=%{y}<extra></extra>",
         "legendgroup": "Strawberries",
         "marker": {
          "color": "#00cc96",
          "symbol": "circle"
         },
         "mode": "lines+markers",
         "name": "Strawberries",
         "orientation": "v",
         "showlegend": true,
         "type": "scatter",
         "x": [
          2008,
          2013,
          2018,
          2023
         ],
         "xaxis": "x",
         "y": [
          125938,
          124831,
          232745,
          83839
         ],
         "yaxis": "y"
        },
        {
         "hovertemplate": "crop=Tomatoes<br>year=%{x}<br>count=%{y}<extra></extra>",
         "legendgroup": "Tomatoes",
         "marker": {
          "color": "#ab63fa",
          "symbol": "circle"
         },
         "mode": "lines+markers",
         "name": "Tomatoes",
         "orientation": "v",
         "showlegend": true,
         "type": "scatter",
         "x": [
          2008,
          2013,
          2018,
          2023
         ],
         "xaxis": "x",
         "y": [
          1612654,
          2282262,
          1847465,
          2221220
         ],
         "yaxis": "y"
        }
       ],
       "layout": {
        "height": 600,
        "legend": {
         "title": {
          "text": "crop"
         },
         "tracegroupgap": 0
        },
        "template": {
         "data": {
          "bar": [
           {
            "error_x": {
             "color": "#2a3f5f"
            },
            "error_y": {
             "color": "#2a3f5f"
            },
            "marker": {
             "line": {
              "color": "#E5ECF6",
              "width": 0.5
             },
             "pattern": {
              "fillmode": "overlay",
              "size": 10,
              "solidity": 0.2
             }
            },
            "type": "bar"
           }
          ],
          "barpolar": [
           {
            "marker": {
             "line": {
              "color": "#E5ECF6",
              "width": 0.5
             },
             "pattern": {
              "fillmode": "overlay",
              "size": 10,
              "solidity": 0.2
             }
            },
            "type": "barpolar"
           }
          ],
          "carpet": [
           {
            "aaxis": {
             "endlinecolor": "#2a3f5f",
             "gridcolor": "white",
             "linecolor": "white",
             "minorgridcolor": "white",
             "startlinecolor": "#2a3f5f"
            },
            "baxis": {
             "endlinecolor": "#2a3f5f",
             "gridcolor": "white",
             "linecolor": "white",
             "minorgridcolor": "white",
             "startlinecolor": "#2a3f5f"
            },
            "type": "carpet"
           }
          ],
          "choropleth": [
           {
            "colorbar": {
             "outlinewidth": 0,
             "ticks": ""
            },
            "type": "choropleth"
           }
          ],
          "contour": [
           {
            "colorbar": {
             "outlinewidth": 0,
             "ticks": ""
            },
            "colorscale": [
             [
              0,
              "#0d0887"
             ],
             [
              0.1111111111111111,
              "#46039f"
             ],
             [
              0.2222222222222222,
              "#7201a8"
             ],
             [
              0.3333333333333333,
              "#9c179e"
             ],
             [
              0.4444444444444444,
              "#bd3786"
             ],
             [
              0.5555555555555556,
              "#d8576b"
             ],
             [
              0.6666666666666666,
              "#ed7953"
             ],
             [
              0.7777777777777778,
              "#fb9f3a"
             ],
             [
              0.8888888888888888,
              "#fdca26"
             ],
             [
              1,
              "#f0f921"
             ]
            ],
            "type": "contour"
           }
          ],
          "contourcarpet": [
           {
            "colorbar": {
             "outlinewidth": 0,
             "ticks": ""
            },
            "type": "contourcarpet"
           }
          ],
          "heatmap": [
           {
            "colorbar": {
             "outlinewidth": 0,
             "ticks": ""
            },
            "colorscale": [
             [
              0,
              "#0d0887"
             ],
             [
              0.1111111111111111,
              "#46039f"
             ],
             [
              0.2222222222222222,
              "#7201a8"
             ],
             [
              0.3333333333333333,
              "#9c179e"
             ],
             [
              0.4444444444444444,
              "#bd3786"
             ],
             [
              0.5555555555555556,
              "#d8576b"
             ],
             [
              0.6666666666666666,
              "#ed7953"
             ],
             [
              0.7777777777777778,
              "#fb9f3a"
             ],
             [
              0.8888888888888888,
              "#fdca26"
             ],
             [
              1,
              "#f0f921"
             ]
            ],
            "type": "heatmap"
           }
          ],
          "heatmapgl": [
           {
            "colorbar": {
             "outlinewidth": 0,
             "ticks": ""
            },
            "colorscale": [
             [
              0,
              "#0d0887"
             ],
             [
              0.1111111111111111,
              "#46039f"
             ],
             [
              0.2222222222222222,
              "#7201a8"
             ],
             [
              0.3333333333333333,
              "#9c179e"
             ],
             [
              0.4444444444444444,
              "#bd3786"
             ],
             [
              0.5555555555555556,
              "#d8576b"
             ],
             [
              0.6666666666666666,
              "#ed7953"
             ],
             [
              0.7777777777777778,
              "#fb9f3a"
             ],
             [
              0.8888888888888888,
              "#fdca26"
             ],
             [
              1,
              "#f0f921"
             ]
            ],
            "type": "heatmapgl"
           }
          ],
          "histogram": [
           {
            "marker": {
             "pattern": {
              "fillmode": "overlay",
              "size": 10,
              "solidity": 0.2
             }
            },
            "type": "histogram"
           }
          ],
          "histogram2d": [
           {
            "colorbar": {
             "outlinewidth": 0,
             "ticks": ""
            },
            "colorscale": [
             [
              0,
              "#0d0887"
             ],
             [
              0.1111111111111111,
              "#46039f"
             ],
             [
              0.2222222222222222,
              "#7201a8"
             ],
             [
              0.3333333333333333,
              "#9c179e"
             ],
             [
              0.4444444444444444,
              "#bd3786"
             ],
             [
              0.5555555555555556,
              "#d8576b"
             ],
             [
              0.6666666666666666,
              "#ed7953"
             ],
             [
              0.7777777777777778,
              "#fb9f3a"
             ],
             [
              0.8888888888888888,
              "#fdca26"
             ],
             [
              1,
              "#f0f921"
             ]
            ],
            "type": "histogram2d"
           }
          ],
          "histogram2dcontour": [
           {
            "colorbar": {
             "outlinewidth": 0,
             "ticks": ""
            },
            "colorscale": [
             [
              0,
              "#0d0887"
             ],
             [
              0.1111111111111111,
              "#46039f"
             ],
             [
              0.2222222222222222,
              "#7201a8"
             ],
             [
              0.3333333333333333,
              "#9c179e"
             ],
             [
              0.4444444444444444,
              "#bd3786"
             ],
             [
              0.5555555555555556,
              "#d8576b"
             ],
             [
              0.6666666666666666,
              "#ed7953"
             ],
             [
              0.7777777777777778,
              "#fb9f3a"
             ],
             [
              0.8888888888888888,
              "#fdca26"
             ],
             [
              1,
              "#f0f921"
             ]
            ],
            "type": "histogram2dcontour"
           }
          ],
          "mesh3d": [
           {
            "colorbar": {
             "outlinewidth": 0,
             "ticks": ""
            },
            "type": "mesh3d"
           }
          ],
          "parcoords": [
           {
            "line": {
             "colorbar": {
              "outlinewidth": 0,
              "ticks": ""
             }
            },
            "type": "parcoords"
           }
          ],
          "pie": [
           {
            "automargin": true,
            "type": "pie"
           }
          ],
          "scatter": [
           {
            "fillpattern": {
             "fillmode": "overlay",
             "size": 10,
             "solidity": 0.2
            },
            "type": "scatter"
           }
          ],
          "scatter3d": [
           {
            "line": {
             "colorbar": {
              "outlinewidth": 0,
              "ticks": ""
             }
            },
            "marker": {
             "colorbar": {
              "outlinewidth": 0,
              "ticks": ""
             }
            },
            "type": "scatter3d"
           }
          ],
          "scattercarpet": [
           {
            "marker": {
             "colorbar": {
              "outlinewidth": 0,
              "ticks": ""
             }
            },
            "type": "scattercarpet"
           }
          ],
          "scattergeo": [
           {
            "marker": {
             "colorbar": {
              "outlinewidth": 0,
              "ticks": ""
             }
            },
            "type": "scattergeo"
           }
          ],
          "scattergl": [
           {
            "marker": {
             "colorbar": {
              "outlinewidth": 0,
              "ticks": ""
             }
            },
            "type": "scattergl"
           }
          ],
          "scattermapbox": [
           {
            "marker": {
             "colorbar": {
              "outlinewidth": 0,
              "ticks": ""
             }
            },
            "type": "scattermapbox"
           }
          ],
          "scatterpolar": [
           {
            "marker": {
             "colorbar": {
              "outlinewidth": 0,
              "ticks": ""
             }
            },
            "type": "scatterpolar"
           }
          ],
          "scatterpolargl": [
           {
            "marker": {
             "colorbar": {
              "outlinewidth": 0,
              "ticks": ""
             }
            },
            "type": "scatterpolargl"
           }
          ],
          "scatterternary": [
           {
            "marker": {
             "colorbar": {
              "outlinewidth": 0,
              "ticks": ""
             }
            },
            "type": "scatterternary"
           }
          ],
          "surface": [
           {
            "colorbar": {
             "outlinewidth": 0,
             "ticks": ""
            },
            "colorscale": [
             [
              0,
              "#0d0887"
             ],
             [
              0.1111111111111111,
              "#46039f"
             ],
             [
              0.2222222222222222,
              "#7201a8"
             ],
             [
              0.3333333333333333,
              "#9c179e"
             ],
             [
              0.4444444444444444,
              "#bd3786"
             ],
             [
              0.5555555555555556,
              "#d8576b"
             ],
             [
              0.6666666666666666,
              "#ed7953"
             ],
             [
              0.7777777777777778,
              "#fb9f3a"
             ],
             [
              0.8888888888888888,
              "#fdca26"
             ],
             [
              1,
              "#f0f921"
             ]
            ],
            "type": "surface"
           }
          ],
          "table": [
           {
            "cells": {
             "fill": {
              "color": "#EBF0F8"
             },
             "line": {
              "color": "white"
             }
            },
            "header": {
             "fill": {
              "color": "#C8D4E3"
             },
             "line": {
              "color": "white"
             }
            },
            "type": "table"
           }
          ]
         },
         "layout": {
          "annotationdefaults": {
           "arrowcolor": "#2a3f5f",
           "arrowhead": 0,
           "arrowwidth": 1
          },
          "autotypenumbers": "strict",
          "coloraxis": {
           "colorbar": {
            "outlinewidth": 0,
            "ticks": ""
           }
          },
          "colorscale": {
           "diverging": [
            [
             0,
             "#8e0152"
            ],
            [
             0.1,
             "#c51b7d"
            ],
            [
             0.2,
             "#de77ae"
            ],
            [
             0.3,
             "#f1b6da"
            ],
            [
             0.4,
             "#fde0ef"
            ],
            [
             0.5,
             "#f7f7f7"
            ],
            [
             0.6,
             "#e6f5d0"
            ],
            [
             0.7,
             "#b8e186"
            ],
            [
             0.8,
             "#7fbc41"
            ],
            [
             0.9,
             "#4d9221"
            ],
            [
             1,
             "#276419"
            ]
           ],
           "sequential": [
            [
             0,
             "#0d0887"
            ],
            [
             0.1111111111111111,
             "#46039f"
            ],
            [
             0.2222222222222222,
             "#7201a8"
            ],
            [
             0.3333333333333333,
             "#9c179e"
            ],
            [
             0.4444444444444444,
             "#bd3786"
            ],
            [
             0.5555555555555556,
             "#d8576b"
            ],
            [
             0.6666666666666666,
             "#ed7953"
            ],
            [
             0.7777777777777778,
             "#fb9f3a"
            ],
            [
             0.8888888888888888,
             "#fdca26"
            ],
            [
             1,
             "#f0f921"
            ]
           ],
           "sequentialminus": [
            [
             0,
             "#0d0887"
            ],
            [
             0.1111111111111111,
             "#46039f"
            ],
            [
             0.2222222222222222,
             "#7201a8"
            ],
            [
             0.3333333333333333,
             "#9c179e"
            ],
            [
             0.4444444444444444,
             "#bd3786"
            ],
            [
             0.5555555555555556,
             "#d8576b"
            ],
            [
             0.6666666666666666,
             "#ed7953"
            ],
            [
             0.7777777777777778,
             "#fb9f3a"
            ],
            [
             0.8888888888888888,
             "#fdca26"
            ],
            [
             1,
             "#f0f921"
            ]
           ]
          },
          "colorway": [
           "#636efa",
           "#EF553B",
           "#00cc96",
           "#ab63fa",
           "#FFA15A",
           "#19d3f3",
           "#FF6692",
           "#B6E880",
           "#FF97FF",
           "#FECB52"
          ],
          "font": {
           "color": "#2a3f5f"
          },
          "geo": {
           "bgcolor": "white",
           "lakecolor": "white",
           "landcolor": "#E5ECF6",
           "showlakes": true,
           "showland": true,
           "subunitcolor": "white"
          },
          "hoverlabel": {
           "align": "left"
          },
          "hovermode": "closest",
          "mapbox": {
           "style": "light"
          },
          "paper_bgcolor": "white",
          "plot_bgcolor": "#E5ECF6",
          "polar": {
           "angularaxis": {
            "gridcolor": "white",
            "linecolor": "white",
            "ticks": ""
           },
           "bgcolor": "#E5ECF6",
           "radialaxis": {
            "gridcolor": "white",
            "linecolor": "white",
            "ticks": ""
           }
          },
          "scene": {
           "xaxis": {
            "backgroundcolor": "#E5ECF6",
            "gridcolor": "white",
            "gridwidth": 2,
            "linecolor": "white",
            "showbackground": true,
            "ticks": "",
            "zerolinecolor": "white"
           },
           "yaxis": {
            "backgroundcolor": "#E5ECF6",
            "gridcolor": "white",
            "gridwidth": 2,
            "linecolor": "white",
            "showbackground": true,
            "ticks": "",
            "zerolinecolor": "white"
           },
           "zaxis": {
            "backgroundcolor": "#E5ECF6",
            "gridcolor": "white",
            "gridwidth": 2,
            "linecolor": "white",
            "showbackground": true,
            "ticks": "",
            "zerolinecolor": "white"
           }
          },
          "shapedefaults": {
           "line": {
            "color": "#2a3f5f"
           }
          },
          "ternary": {
           "aaxis": {
            "gridcolor": "white",
            "linecolor": "white",
            "ticks": ""
           },
           "baxis": {
            "gridcolor": "white",
            "linecolor": "white",
            "ticks": ""
           },
           "bgcolor": "#E5ECF6",
           "caxis": {
            "gridcolor": "white",
            "linecolor": "white",
            "ticks": ""
           }
          },
          "title": {
           "x": 0.05
          },
          "xaxis": {
           "automargin": true,
           "gridcolor": "white",
           "linecolor": "white",
           "ticks": "",
           "title": {
            "standoff": 15
           },
           "zerolinecolor": "white",
           "zerolinewidth": 2
          },
          "yaxis": {
           "automargin": true,
           "gridcolor": "white",
           "linecolor": "white",
           "ticks": "",
           "title": {
            "standoff": 15
           },
           "zerolinecolor": "white",
           "zerolinewidth": 2
          }
         }
        },
        "title": {
         "text": "California Cropland Area<br>2008-2023</br>",
         "x": 0.5
        },
        "width": 800,
        "xaxis": {
         "anchor": "y",
         "autorange": true,
         "domain": [
          0,
          1
         ],
         "range": [
          2007.0456130156886,
          2023.9543869843114
         ],
         "title": {
          "text": "Year"
         },
         "type": "linear"
        },
        "yaxis": {
         "anchor": "x",
         "autorange": true,
         "domain": [
          0,
          1
         ],
         "range": [
          -807001.3299595142,
          14195370.329959514
         ],
         "title": {
          "text": "Cropland Area (90m<sup>2</sup>)"
         },
         "type": "linear"
        }
       }
      },
      "image/png": "[encoded data removed]",
      "text/html": [
       "<div>                            <div id=\"a6abc3e8-dbb3-4da7-9104-3e4e914bf6e2\" class=\"plotly-graph-div\" style=\"height:600px; width:800px;\"></div>            <script type=\"text/javascript\">                require([\"plotly\"], function(Plotly) {                    window.PLOTLYENV=window.PLOTLYENV || {};                                    if (document.getElementById(\"a6abc3e8-dbb3-4da7-9104-3e4e914bf6e2\")) {                    Plotly.newPlot(                        \"a6abc3e8-dbb3-4da7-9104-3e4e914bf6e2\",                        [{\"hovertemplate\":\"crop=Almonds\\u003cbr\\u003eyear=%{x}\\u003cbr\\u003ecount=%{y}\\u003cextra\\u003e\\u003c\\u002fextra\\u003e\",\"legendgroup\":\"Almonds\",\"marker\":{\"color\":\"#636efa\",\"symbol\":\"circle\"},\"mode\":\"lines+markers\",\"name\":\"Almonds\",\"orientation\":\"v\",\"showlegend\":true,\"x\":[2008,2013,2018,2023],\"xaxis\":\"x\",\"y\":[7074910,8622881,8780767,13311302],\"yaxis\":\"y\",\"type\":\"scatter\"},{\"hovertemplate\":\"crop=Carrots\\u003cbr\\u003eyear=%{x}\\u003cbr\\u003ecount=%{y}\\u003cextra\\u003e\\u003c\\u002fextra\\u003e\",\"legendgroup\":\"Carrots\",\"marker\":{\"color\":\"#EF553B\",\"symbol\":\"circle\"},\"mode\":\"lines+markers\",\"name\":\"Carrots\",\"orientation\":\"v\",\"showlegend\":true,\"x\":[2008,2013,2018,2023],\"xaxis\":\"x\",\"y\":[164527,134135,401862,183168],\"yaxis\":\"y\",\"type\":\"scatter\"},{\"hovertemplate\":\"crop=Cherries\\u003cbr\\u003eyear=%{x}\\u003cbr\\u003ecount=%{y}\\u003cextra\\u003e\\u003c\\u002fextra\\u003e\",\"legendgroup\":\"Cherries\",\"marker\":{\"color\":\"#00cc96\",\"symbol\":\"circle\"},\"mode\":\"lines+markers\",\"name\":\"Cherries\",\"orientation\":\"v\",\"showlegend\":true,\"x\":[2008,2013,2018,2023],\"xaxis\":\"x\",\"y\":[246063,217044,312674,523619],\"yaxis\":\"y\",\"type\":\"scatter\"},{\"hovertemplate\":\"crop=Citrus\\u003cbr\\u003eyear=%{x}\\u003cbr\\u003ecount=%{y}\\u003cextra\\u003e\\u003c\\u002fextra\\u003e\",\"legendgroup\":\"Citrus\",\"marker\":{\"color\":\"#ab63fa\",\"symbol\":\"circle\"},\"mode\":\"lines+markers\",\"name\":\"Citrus\",\"orientation\":\"v\",\"showlegend\":true,\"x\":[2008,2013,2018,2023],\"xaxis\":\"x\",\"y\":[77067,412716,1169553,2044275],\"yaxis\":\"y\",\"type\":\"scatter\"},{\"hovertemplate\":\"crop=Corn\\u003cbr\\u003eyear=%{x}\\u003cbr\\u003ecount=%{y}\\u003cextra\\u003e\\u003c\\u002fextra\\u003e\",\"legendgroup\":\"Corn\",\"marker\":{\"color\":\"#FFA15A\",\"symbol\":\"circle\"},\"mode\":\"lines+markers\",\"name\":\"Corn\",\"orientation\":\"v\",\"showlegend\":true,\"x\":[2008,2013,2018,2023],\"xaxis\":\"x\",\"y\":[1851631,2089064,2097936,1459047],\"yaxis\":\"y\",\"type\":\"scatter\"},{\"hovertemplate\":\"crop=Cotton\\u003cbr\\u003eyear=%{x}\\u003cbr\\u003ecount=%{y}\\u003cextra\\u003e\\u003c\\u002fextra\\u003e\",\"legendgroup\":\"Cotton\",\"marker\":{\"color\":\"#19d3f3\",\"symbol\":\"circle\"},\"mode\":\"lines+markers\",\"name\":\"Cotton\",\"orientation\":\"v\",\"showlegend\":true,\"x\":[2008,2013,2018,2023],\"xaxis\":\"x\",\"y\":[1957604,2136609,2126287,909301],\"yaxis\":\"y\",\"type\":\"scatter\"},{\"hovertemplate\":\"crop=Grapes\\u003cbr\\u003eyear=%{x}\\u003cbr\\u003ecount=%{y}\\u003cextra\\u003e\\u003c\\u002fextra\\u003e\",\"legendgroup\":\"Grapes\",\"marker\":{\"color\":\"#FF6692\",\"symbol\":\"circle\"},\"mode\":\"lines+markers\",\"name\":\"Grapes\",\"orientation\":\"v\",\"showlegend\":true,\"x\":[2008,2013,2018,2023],\"xaxis\":\"x\",\"y\":[5537750,6429003,5683682,6019585],\"yaxis\":\"y\",\"type\":\"scatter\"},{\"hovertemplate\":\"crop=Lettuce\\u003cbr\\u003eyear=%{x}\\u003cbr\\u003ecount=%{y}\\u003cextra\\u003e\\u003c\\u002fextra\\u003e\",\"legendgroup\":\"Lettuce\",\"marker\":{\"color\":\"#B6E880\",\"symbol\":\"circle\"},\"mode\":\"lines+markers\",\"name\":\"Lettuce\",\"orientation\":\"v\",\"showlegend\":true,\"x\":[2008,2013,2018,2023],\"xaxis\":\"x\",\"y\":[124685,110300,183978,111751],\"yaxis\":\"y\",\"type\":\"scatter\"},{\"hovertemplate\":\"crop=Onions\\u003cbr\\u003eyear=%{x}\\u003cbr\\u003ecount=%{y}\\u003cextra\\u003e\\u003c\\u002fextra\\u003e\",\"legendgroup\":\"Onions\",\"marker\":{\"color\":\"#FF97FF\",\"symbol\":\"circle\"},\"mode\":\"lines+markers\",\"name\":\"Onions\",\"orientation\":\"v\",\"showlegend\":true,\"x\":[2008,2013,2018,2023],\"xaxis\":\"x\",\"y\":[290464,225373,353469,238197],\"yaxis\":\"y\",\"type\":\"scatter\"},{\"hovertemplate\":\"crop=Oranges\\u003cbr\\u003eyear=%{x}\\u003cbr\\u003ecount=%{y}\\u003cextra\\u003e\\u003c\\u002fextra\\u003e\",\"legendgroup\":\"Oranges\",\"marker\":{\"color\":\"#FECB52\",\"symbol\":\"circle\"},\"mode\":\"lines+markers\",\"name\":\"Oranges\",\"orientation\":\"v\",\"showlegend\":true,\"x\":[2008,2013,2018,2023],\"xaxis\":\"x\",\"y\":[1361575,1277348,891213,88273],\"yaxis\":\"y\",\"type\":\"scatter\"},{\"hovertemplate\":\"crop=Pistachios\\u003cbr\\u003eyear=%{x}\\u003cbr\\u003ecount=%{y}\\u003cextra\\u003e\\u003c\\u002fextra\\u003e\",\"legendgroup\":\"Pistachios\",\"marker\":{\"color\":\"#636efa\",\"symbol\":\"circle\"},\"mode\":\"lines+markers\",\"name\":\"Pistachios\",\"orientation\":\"v\",\"showlegend\":true,\"x\":[2008,2013,2018,2023],\"xaxis\":\"x\",\"y\":[1926427,1489376,2677753,5073476],\"yaxis\":\"y\",\"type\":\"scatter\"},{\"hovertemplate\":\"crop=Rice\\u003cbr\\u003eyear=%{x}\\u003cbr\\u003ecount=%{y}\\u003cextra\\u003e\\u003c\\u002fextra\\u003e\",\"legendgroup\":\"Rice\",\"marker\":{\"color\":\"#EF553B\",\"symbol\":\"circle\"},\"mode\":\"lines+markers\",\"name\":\"Rice\",\"orientation\":\"v\",\"showlegend\":true,\"x\":[2008,2013,2018,2023],\"xaxis\":\"x\",\"y\":[4109451,4327821,3926802,4173023],\"yaxis\":\"y\",\"type\":\"scatter\"},{\"hovertemplate\":\"crop=Strawberries\\u003cbr\\u003eyear=%{x}\\u003cbr\\u003ecount=%{y}\\u003cextra\\u003e\\u003c\\u002fextra\\u003e\",\"legendgroup\":\"Strawberries\",\"marker\":{\"color\":\"#00cc96\",\"symbol\":\"circle\"},\"mode\":\"lines+markers\",\"name\":\"Strawberries\",\"orientation\":\"v\",\"showlegend\":true,\"x\":[2008,2013,2018,2023],\"xaxis\":\"x\",\"y\":[125938,124831,232745,83839],\"yaxis\":\"y\",\"type\":\"scatter\"},{\"hovertemplate\":\"crop=Tomatoes\\u003cbr\\u003eyear=%{x}\\u003cbr\\u003ecount=%{y}\\u003cextra\\u003e\\u003c\\u002fextra\\u003e\",\"legendgroup\":\"Tomatoes\",\"marker\":{\"color\":\"#ab63fa\",\"symbol\":\"circle\"},\"mode\":\"lines+markers\",\"name\":\"Tomatoes\",\"orientation\":\"v\",\"showlegend\":true,\"x\":[2008,2013,2018,2023],\"xaxis\":\"x\",\"y\":[1612654,2282262,1847465,2221220],\"yaxis\":\"y\",\"type\":\"scatter\"}],                        {\"template\":{\"data\":{\"histogram2dcontour\":[{\"type\":\"histogram2dcontour\",\"colorbar\":{\"outlinewidth\":0,\"ticks\":\"\"},\"colorscale\":[[0.0,\"#0d0887\"],[0.1111111111111111,\"#46039f\"],[0.2222222222222222,\"#7201a8\"],[0.3333333333333333,\"#9c179e\"],[0.4444444444444444,\"#bd3786\"],[0.5555555555555556,\"#d8576b\"],[0.6666666666666666,\"#ed7953\"],[0.7777777777777778,\"#fb9f3a\"],[0.8888888888888888,\"#fdca26\"],[1.0,\"#f0f921\"]]}],\"choropleth\":[{\"type\":\"choropleth\",\"colorbar\":{\"outlinewidth\":0,\"ticks\":\"\"}}],\"histogram2d\":[{\"type\":\"histogram2d\",\"colorbar\":{\"outlinewidth\":0,\"ticks\":\"\"},\"colorscale\":[[0.0,\"#0d0887\"],[0.1111111111111111,\"#46039f\"],[0.2222222222222222,\"#7201a8\"],[0.3333333333333333,\"#9c179e\"],[0.4444444444444444,\"#bd3786\"],[0.5555555555555556,\"#d8576b\"],[0.6666666666666666,\"#ed7953\"],[0.7777777777777778,\"#fb9f3a\"],[0.8888888888888888,\"#fdca26\"],[1.0,\"#f0f921\"]]}],\"heatmap\":[{\"type\":\"heatmap\",\"colorbar\":{\"outlinewidth\":0,\"ticks\":\"\"},\"colorscale\":[[0.0,\"#0d0887\"],[0.1111111111111111,\"#46039f\"],[0.2222222222222222,\"#7201a8\"],[0.3333333333333333,\"#9c179e\"],[0.4444444444444444,\"#bd3786\"],[0.5555555555555556,\"#d8576b\"],[0.6666666666666666,\"#ed7953\"],[0.7777777777777778,\"#fb9f3a\"],[0.8888888888888888,\"#fdca26\"],[1.0,\"#f0f921\"]]}],\"heatmapgl\":[{\"type\":\"heatmapgl\",\"colorbar\":{\"outlinewidth\":0,\"ticks\":\"\"},\"colorscale\":[[0.0,\"#0d0887\"],[0.1111111111111111,\"#46039f\"],[0.2222222222222222,\"#7201a8\"],[0.3333333333333333,\"#9c179e\"],[0.4444444444444444,\"#bd3786\"],[0.5555555555555556,\"#d8576b\"],[0.6666666666666666,\"#ed7953\"],[0.7777777777777778,\"#fb9f3a\"],[0.8888888888888888,\"#fdca26\"],[1.0,\"#f0f921\"]]}],\"contourcarpet\":[{\"type\":\"contourcarpet\",\"colorbar\":{\"outlinewidth\":0,\"ticks\":\"\"}}],\"contour\":[{\"type\":\"contour\",\"colorbar\":{\"outlinewidth\":0,\"ticks\":\"\"},\"colorscale\":[[0.0,\"#0d0887\"],[0.1111111111111111,\"#46039f\"],[0.2222222222222222,\"#7201a8\"],[0.3333333333333333,\"#9c179e\"],[0.4444444444444444,\"#bd3786\"],[0.5555555555555556,\"#d8576b\"],[0.6666666666666666,\"#ed7953\"],[0.7777777777777778,\"#fb9f3a\"],[0.8888888888888888,\"#fdca26\"],[1.0,\"#f0f921\"]]}],\"surface\":[{\"type\":\"surface\",\"colorbar\":{\"outlinewidth\":0,\"ticks\":\"\"},\"colorscale\":[[0.0,\"#0d0887\"],[0.1111111111111111,\"#46039f\"],[0.2222222222222222,\"#7201a8\"],[0.3333333333333333,\"#9c179e\"],[0.4444444444444444,\"#bd3786\"],[0.5555555555555556,\"#d8576b\"],[0.6666666666666666,\"#ed7953\"],[0.7777777777777778,\"#fb9f3a\"],[0.8888888888888888,\"#fdca26\"],[1.0,\"#f0f921\"]]}],\"mesh3d\":[{\"type\":\"mesh3d\",\"colorbar\":{\"outlinewidth\":0,\"ticks\":\"\"}}],\"scatter\":[{\"fillpattern\":{\"fillmode\":\"overlay\",\"size\":10,\"solidity\":0.2},\"type\":\"scatter\"}],\"parcoords\":[{\"type\":\"parcoords\",\"line\":{\"colorbar\":{\"outlinewidth\":0,\"ticks\":\"\"}}}],\"scatterpolargl\":[{\"type\":\"scatterpolargl\",\"marker\":{\"colorbar\":{\"outlinewidth\":0,\"ticks\":\"\"}}}],\"bar\":[{\"error_x\":{\"color\":\"#2a3f5f\"},\"error_y\":{\"color\":\"#2a3f5f\"},\"marker\":{\"line\":{\"color\":\"#E5ECF6\",\"width\":0.5},\"pattern\":{\"fillmode\":\"overlay\",\"size\":10,\"solidity\":0.2}},\"type\":\"bar\"}],\"scattergeo\":[{\"type\":\"scattergeo\",\"marker\":{\"colorbar\":{\"outlinewidth\":0,\"ticks\":\"\"}}}],\"scatterpolar\":[{\"type\":\"scatterpolar\",\"marker\":{\"colorbar\":{\"outlinewidth\":0,\"ticks\":\"\"}}}],\"histogram\":[{\"marker\":{\"pattern\":{\"fillmode\":\"overlay\",\"size\":10,\"solidity\":0.2}},\"type\":\"histogram\"}],\"scattergl\":[{\"type\":\"scattergl\",\"marker\":{\"colorbar\":{\"outlinewidth\":0,\"ticks\":\"\"}}}],\"scatter3d\":[{\"type\":\"scatter3d\",\"line\":{\"colorbar\":{\"outlinewidth\":0,\"ticks\":\"\"}},\"marker\":{\"colorbar\":{\"outlinewidth\":0,\"ticks\":\"\"}}}],\"scattermapbox\":[{\"type\":\"scattermapbox\",\"marker\":{\"colorbar\":{\"outlinewidth\":0,\"ticks\":\"\"}}}],\"scatterternary\":[{\"type\":\"scatterternary\",\"marker\":{\"colorbar\":{\"outlinewidth\":0,\"ticks\":\"\"}}}],\"scattercarpet\":[{\"type\":\"scattercarpet\",\"marker\":{\"colorbar\":{\"outlinewidth\":0,\"ticks\":\"\"}}}],\"carpet\":[{\"aaxis\":{\"endlinecolor\":\"#2a3f5f\",\"gridcolor\":\"white\",\"linecolor\":\"white\",\"minorgridcolor\":\"white\",\"startlinecolor\":\"#2a3f5f\"},\"baxis\":{\"endlinecolor\":\"#2a3f5f\",\"gridcolor\":\"white\",\"linecolor\":\"white\",\"minorgridcolor\":\"white\",\"startlinecolor\":\"#2a3f5f\"},\"type\":\"carpet\"}],\"table\":[{\"cells\":{\"fill\":{\"color\":\"#EBF0F8\"},\"line\":{\"color\":\"white\"}},\"header\":{\"fill\":{\"color\":\"#C8D4E3\"},\"line\":{\"color\":\"white\"}},\"type\":\"table\"}],\"barpolar\":[{\"marker\":{\"line\":{\"color\":\"#E5ECF6\",\"width\":0.5},\"pattern\":{\"fillmode\":\"overlay\",\"size\":10,\"solidity\":0.2}},\"type\":\"barpolar\"}],\"pie\":[{\"automargin\":true,\"type\":\"pie\"}]},\"layout\":{\"autotypenumbers\":\"strict\",\"colorway\":[\"#636efa\",\"#EF553B\",\"#00cc96\",\"#ab63fa\",\"#FFA15A\",\"#19d3f3\",\"#FF6692\",\"#B6E880\",\"#FF97FF\",\"#FECB52\"],\"font\":{\"color\":\"#2a3f5f\"},\"hovermode\":\"closest\",\"hoverlabel\":{\"align\":\"left\"},\"paper_bgcolor\":\"white\",\"plot_bgcolor\":\"#E5ECF6\",\"polar\":{\"bgcolor\":\"#E5ECF6\",\"angularaxis\":{\"gridcolor\":\"white\",\"linecolor\":\"white\",\"ticks\":\"\"},\"radialaxis\":{\"gridcolor\":\"white\",\"linecolor\":\"white\",\"ticks\":\"\"}},\"ternary\":{\"bgcolor\":\"#E5ECF6\",\"aaxis\":{\"gridcolor\":\"white\",\"linecolor\":\"white\",\"ticks\":\"\"},\"baxis\":{\"gridcolor\":\"white\",\"linecolor\":\"white\",\"ticks\":\"\"},\"caxis\":{\"gridcolor\":\"white\",\"linecolor\":\"white\",\"ticks\":\"\"}},\"coloraxis\":{\"colorbar\":{\"outlinewidth\":0,\"ticks\":\"\"}},\"colorscale\":{\"sequential\":[[0.0,\"#0d0887\"],[0.1111111111111111,\"#46039f\"],[0.2222222222222222,\"#7201a8\"],[0.3333333333333333,\"#9c179e\"],[0.4444444444444444,\"#bd3786\"],[0.5555555555555556,\"#d8576b\"],[0.6666666666666666,\"#ed7953\"],[0.7777777777777778,\"#fb9f3a\"],[0.8888888888888888,\"#fdca26\"],[1.0,\"#f0f921\"]],\"sequentialminus\":[[0.0,\"#0d0887\"],[0.1111111111111111,\"#46039f\"],[0.2222222222222222,\"#7201a8\"],[0.3333333333333333,\"#9c179e\"],[0.4444444444444444,\"#bd3786\"],[0.5555555555555556,\"#d8576b\"],[0.6666666666666666,\"#ed7953\"],[0.7777777777777778,\"#fb9f3a\"],[0.8888888888888888,\"#fdca26\"],[1.0,\"#f0f921\"]],\"diverging\":[[0,\"#8e0152\"],[0.1,\"#c51b7d\"],[0.2,\"#de77ae\"],[0.3,\"#f1b6da\"],[0.4,\"#fde0ef\"],[0.5,\"#f7f7f7\"],[0.6,\"#e6f5d0\"],[0.7,\"#b8e186\"],[0.8,\"#7fbc41\"],[0.9,\"#4d9221\"],[1,\"#276419\"]]},\"xaxis\":{\"gridcolor\":\"white\",\"linecolor\":\"white\",\"ticks\":\"\",\"title\":{\"standoff\":15},\"zerolinecolor\":\"white\",\"automargin\":true,\"zerolinewidth\":2},\"yaxis\":{\"gridcolor\":\"white\",\"linecolor\":\"white\",\"ticks\":\"\",\"title\":{\"standoff\":15},\"zerolinecolor\":\"white\",\"automargin\":true,\"zerolinewidth\":2},\"scene\":{\"xaxis\":{\"backgroundcolor\":\"#E5ECF6\",\"gridcolor\":\"white\",\"linecolor\":\"white\",\"showbackground\":true,\"ticks\":\"\",\"zerolinecolor\":\"white\",\"gridwidth\":2},\"yaxis\":{\"backgroundcolor\":\"#E5ECF6\",\"gridcolor\":\"white\",\"linecolor\":\"white\",\"showbackground\":true,\"ticks\":\"\",\"zerolinecolor\":\"white\",\"gridwidth\":2},\"zaxis\":{\"backgroundcolor\":\"#E5ECF6\",\"gridcolor\":\"white\",\"linecolor\":\"white\",\"showbackground\":true,\"ticks\":\"\",\"zerolinecolor\":\"white\",\"gridwidth\":2}},\"shapedefaults\":{\"line\":{\"color\":\"#2a3f5f\"}},\"annotationdefaults\":{\"arrowcolor\":\"#2a3f5f\",\"arrowhead\":0,\"arrowwidth\":1},\"geo\":{\"bgcolor\":\"white\",\"landcolor\":\"#E5ECF6\",\"subunitcolor\":\"white\",\"showland\":true,\"showlakes\":true,\"lakecolor\":\"white\"},\"title\":{\"x\":0.05},\"mapbox\":{\"style\":\"light\"}}},\"xaxis\":{\"anchor\":\"y\",\"domain\":[0.0,1.0],\"title\":{\"text\":\"Year\"}},\"yaxis\":{\"anchor\":\"x\",\"domain\":[0.0,1.0],\"title\":{\"text\":\"Cropland Area (90m\\u003csup\\u003e2\\u003c\\u002fsup\\u003e)\"}},\"legend\":{\"title\":{\"text\":\"crop\"},\"tracegroupgap\":0},\"title\":{\"text\":\"California Cropland Area\\u003cbr\\u003e2008-2023\\u003c\\u002fbr\\u003e\",\"x\":0.5},\"height\":600,\"width\":800},                        {\"responsive\": true}                    ).then(function(){\n",
       "                            \n",
       "var gd = document.getElementById('a6abc3e8-dbb3-4da7-9104-3e4e914bf6e2');\n",
       "var x = new MutationObserver(function (mutations, observer) {{\n",
       "        var display = window.getComputedStyle(gd).display;\n",
       "        if (!display || display === 'none') {{\n",
       "            console.log([gd, 'removed!']);\n",
       "            Plotly.purge(gd);\n",
       "            observer.disconnect();\n",
       "        }}\n",
       "}});\n",
       "\n",
       "// Listen for the removal of the full notebook cells\n",
       "var notebookContainer = gd.closest('#notebook-container');\n",
       "if (notebookContainer) {{\n",
       "    x.observe(notebookContainer, {childList: true});\n",
       "}}\n",
       "\n",
       "// Listen for the clearing of the current output cell\n",
       "var outputEl = gd.closest('.output');\n",
       "if (outputEl) {{\n",
       "    x.observe(outputEl, {childList: true});\n",
       "}}\n",
       "\n",
       "                        })                };                });            </script>        </div>"
      ]
     },
     "metadata": {},
     "output_type": "display_data"
    }
   ],
   "source": [
    "fig = px.scatter(\n",
    "    full_df[,\n",
    "    x='year',\n",
    "    y='count',\n",
    "    color='crop',\n",
    "    facet_col_wrap=3,\n",
    "    title='California Cropland Area<br>2008-2023</br>',\n",
    "    width = 800,\n",
    "    height = 600,\n",
    ")\n",
    "\n",
    "fig.update_layout(\n",
    "    title_x=0.5,\n",
    "    yaxis_title='Cropland Area (90m<sup>2</sup>)',\n",
    "    xaxis_title='Year',\n",
    ")\n",
    "\n",
    "fig.update_traces(mode=\"lines+markers\")\n",
    "\n",
    "fig.show()"
   ]
  },
  {
   "cell_type": "markdown",
   "id": "84b6e28c-5d70-4bf4-b163-b5a4fa8972f4",
   "metadata": {},
   "source": [
    "The counts add some context to the previous graph. The growth of land dedicated to almonds and pistachios is interesting in that it shows there was ample opportunity to plant more northerly orchards in the past few years, despite them being tree crops and requiring longer periods before being harvestable. This and the lack of pistachio and almond movement in the previous graph indicate that almonds and pistachios have almost certainly not been largely affected by climate change.\n",
    "\n",
    "It is also interesting to see the loss of orange tree cropland in the last 15 years. It could be a result of HLB quarantines causing orange growing to become less profitable, but I suspect the corresponding growth in citrus means the decline is due to oranges now being classified under the broader category."
   ]
  },
  {
   "cell_type": "markdown",
   "id": "def963ea-53d3-498d-b0f5-cbe8d6d3e8b6",
   "metadata": {},
   "source": [
    "# Proposal for further study"
   ]
  },
  {
   "cell_type": "markdown",
   "id": "f1d44f71-4a69-437d-838a-079de361bfc8",
   "metadata": {},
   "source": [
    "To further the project I would like to incorporate more data on California imports and exports. That data would provide the opportunity to analyze whether changes to amounts of cropland have scaled directly with California exports. If they have not it will indicate that new varieties or technologies have increased output, or conversely that climate change or disease has reduced output. Imports and export data is also interesting in of itself for determining how independent California is as far as food goes.\n",
    "\n",
    "Comparing temperature data and production values would create the opportunity to add a predictive element to the project. Water consumption would also be interesting and I wonder if I could predict groundwater depletion based on temperature increase."
   ]
  },
  {
   "cell_type": "markdown",
   "id": "eec156a9-e760-4a5c-9f92-bdfd245a9938",
   "metadata": {},
   "source": [
    "Data Wishlist:\n",
    "- CA food imports/exports and production\n",
    "    - Should include place of origin\n",
    "    - Berkely site: https://guides.lib.berkeley.edu/Agriculture/data\n",
    "    - Comprehensive USDA data: https://quickstats.nass.usda.gov/\n",
    "- Temperature trends\n",
    "    - Overview graph: https://oehha.ca.gov/climate-change/epic-2022/changes-climate/air-temperatures \n",
    "- US/CA agriculture funding\n",
    "- Water usage: has it scaled with crop growth?\n",
    "    - Irrigation: https://www.usgs.gov/data/monthly-crop-irrigation-withdrawals-and-efficiencies-huc12-watershed-years-2000-2020-within\n",
    "    - Public Supply: https://www.usgs.gov/data/public-supply-water-use-reanalysis-2000-2020-period-huc12-month-and-year-conterminous-united\n",
    "    - Thermoelectric Power Plants: https://www.usgs.gov/data/thermoelectric-power-water-use-reanalysis-2008-2020-period-power-plant-month-and-year"
   ]
  }
 ],
 "metadata": {
  "kernelspec": {
   "display_name": "Python 3 (ipykernel)",
   "language": "python",
   "name": "python3"
  },
  "language_info": {
   "codemirror_mode": {
    "name": "ipython",
    "version": 3
   },
   "file_extension": ".py",
   "mimetype": "text/x-python",
   "name": "python",
   "nbconvert_exporter": "python",
   "pygments_lexer": "ipython3",
   "version": "3.12.2"
  }
 },
 "nbformat": 4,
 "nbformat_minor": 5
}
