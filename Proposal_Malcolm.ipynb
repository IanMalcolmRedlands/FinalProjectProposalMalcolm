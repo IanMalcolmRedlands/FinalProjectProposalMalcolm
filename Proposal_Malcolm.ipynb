{
 "cells": [
  {
   "cell_type": "markdown",
   "id": "e7931ca7-39bc-40e2-9304-fadf0074970a",
   "metadata": {},
   "source": [
    "# Introduction/Background\n",
    "\n",
    "- What is the question you hope you can answer?\n",
    "- Why is the question important to you?\n",
    "- What are you hoping to achieve with the project?\n",
    "\n",
    "- "
   ]
  },
  {
   "cell_type": "markdown",
   "id": "7e748121-0657-4b7f-aaf5-78ccce3fe2be",
   "metadata": {},
   "source": [
    "# Data Description\n",
    "\n",
    "- Where did you get your data?\n",
    "- What data is found in your data set?\n",
    "- Are there any ethical concerns with using the data or how the data was obtained?\n",
    "- Is there a public location where the data is freely available? If so where? If not why?"
   ]
  },
  {
   "cell_type": "markdown",
   "id": "0926a5d9-0ba3-4e45-9532-350edc2eb8ec",
   "metadata": {},
   "source": [
    "Wishlist:\n",
    "- CA food imports/exports (with place of origin)\n",
    "- US/CA agriculture funding\n",
    "- CA cropland -- see if latitude shift over time\n",
    "- water usage\n",
    "    - Irrigation: https://www.usgs.gov/data/monthly-crop-irrigation-withdrawals-and-efficiencies-huc12-watershed-years-2000-2020-within\n",
    "    - Public Supply: https://www.usgs.gov/data/public-supply-water-use-reanalysis-2000-2020-period-huc12-month-and-year-conterminous-united\n",
    "    - Thermoelectric Power Plants: https://www.usgs.gov/data/thermoelectric-power-water-use-reanalysis-2008-2020-period-power-plant-month-and-year"
   ]
  },
  {
   "cell_type": "markdown",
   "id": "6574204f-36f7-450d-96a8-748b866e31eb",
   "metadata": {},
   "source": [
    "# Initial Exploratory Data Analysis\n",
    "\n",
    "- Definition of all variables (or explanation for why you are not considering some variables)\n",
    "- Descriptive statistics for the data set, counts of the variables, value counts (frequency tables) for each categorical variable of interest.\n",
    "- Plots that help a reader understand your data.\n",
    "- Initial analysis to answer initial data questions."
   ]
  },
  {
   "cell_type": "markdown",
   "id": "def963ea-53d3-498d-b0f5-cbe8d6d3e8b6",
   "metadata": {},
   "source": [
    "# Proposal for further study.\n",
    "\n",
    "- What larger questions would you like to try to answer?\n",
    "- What predictive analysis do you think might be possible?\n",
    "- Are there any larger impacts that your study might have?"
   ]
  },
  {
   "cell_type": "code",
   "execution_count": null,
   "id": "d7ade7fb-be2e-4ea8-8466-6366b0536da2",
   "metadata": {},
   "outputs": [],
   "source": []
  }
 ],
 "metadata": {
  "kernelspec": {
   "display_name": "Python 3 (ipykernel)",
   "language": "python",
   "name": "python3"
  },
  "language_info": {
   "codemirror_mode": {
    "name": "ipython",
    "version": 3
   },
   "file_extension": ".py",
   "mimetype": "text/x-python",
   "name": "python",
   "nbconvert_exporter": "python",
   "pygments_lexer": "ipython3",
   "version": "3.12.2"
  }
 },
 "nbformat": 4,
 "nbformat_minor": 5
}
